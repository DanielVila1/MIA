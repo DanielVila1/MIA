{
  "cells": [
    {
      "cell_type": "markdown",
      "id": "98303557",
      "metadata": {
        "id": "98303557"
      },
      "source": [
        "## Authors:\n",
        "\n",
        "Daniel Vila de la Cruz\n",
        "\n",
        "Sara Gómez Feás"
      ]
    },
    {
      "cell_type": "markdown",
      "id": "49630c37",
      "metadata": {
        "id": "49630c37"
      },
      "source": [
        "# Introduction"
      ]
    },
    {
      "cell_type": "markdown",
      "id": "52f55739",
      "metadata": {
        "id": "52f55739"
      },
      "source": [
        "The forecasting of energy consumption has become very important for energy providers. Predicting energy consumption allows providers to plan and optimize their resources, avoiding blackouts or brownouts, and improving the reliability and affordability of energy services.\n",
        "\n",
        "The goal of this problem is to predict the energy consumption for each hour based on historical data. This information could be used by an energy provider to act accordingly.\n",
        "\n",
        "This problem falls under the regression category since the target variable, energy consumption, is a continuous numerical variable. We will first use batch learning methods and then compare them with the stream learning approach.\n",
        "\n",
        "The chosen dataset is called Hourly Energy Consumption (https://www.kaggle.com/datasets/robikscube/hourly-energy-consumption?select=AEP_hourly.csv), which contains over 10 years of hourly energy consumption readings from PJM, a regional transmission organization in the United States. There are several companies involved in the organization, but we are going to focus on AEP, which contains 121273 entries. The dataset contains two main features: a datetime indicating the energy reading time, with a precision of hours, and the power consumed in megawatts. The datetime feature is a time-series feature, which is essential for forecasting problems, while the power consumed feature is the target variable."
      ]
    },
    {
      "cell_type": "code",
      "execution_count": null,
      "id": "b96791bd",
      "metadata": {
        "id": "b96791bd"
      },
      "outputs": [],
      "source": [
        "# First let's import the libraries we need for this project\n",
        "import river\n",
        "from rich import print\n",
        "from river import linear_model as river_linear_model\n",
        "from river import stream\n",
        "from river import metrics as river_metrics\n",
        "from river import neighbors\n",
        "from river import stats\n",
        "from river import evaluate\n",
        "from river import drift\n",
        "from river.preprocessing import StandardScaler\n",
        "from river import compose\n",
        "from river import linear_model\n",
        "from river import preprocessing as river_preprocessing\n",
        "from river import tree\n",
        "from river.compose import Pipeline\n",
        "from river.compat import convert_river_to_sklearn\n",
        "\n",
        "from sklearn.linear_model import LogisticRegression\n",
        "from sklearn.metrics import make_scorer, roc_auc_score\n",
        "from sklearn.model_selection import cross_val_score, KFold\n",
        "from sklearn.pipeline import Pipeline\n",
        "from sklearn.preprocessing import StandardScaler\n",
        "from sklearn.decomposition import PCA\n",
        "from sklearn import datasets\n",
        "from sklearn import linear_model\n",
        "from sklearn import metrics\n",
        "from sklearn import model_selection\n",
        "from sklearn import pipeline\n",
        "from sklearn import preprocessing\n",
        "from sklearn.model_selection import train_test_split, cross_val_score\n",
        "from sklearn.linear_model import LinearRegression\n",
        "from sklearn.metrics import mean_absolute_error\n",
        "from sklearn.neighbors import KNeighborsRegressor\n",
        "from sklearn.tree import DecisionTreeRegressor\n",
        "\n",
        "\n",
        "from rich import print\n",
        "import random\n",
        "import csv\n",
        "import datetime\n",
        "from datetime import date, datetime\n",
        "import pandas as pd\n",
        "import seaborn as sns\n",
        "import os\n",
        "import numpy as np\n",
        "\n",
        "import matplotlib.pyplot as plt\n",
        "plt.style.use('ggplot')"
      ]
    },
    {
      "cell_type": "markdown",
      "id": "fc9e9948",
      "metadata": {
        "id": "fc9e9948"
      },
      "source": [
        "# 1. Data preprocessing"
      ]
    },
    {
      "cell_type": "markdown",
      "id": "435d547c",
      "metadata": {
        "id": "435d547c"
      },
      "source": [
        "First, let's load the dataset and see what information it contains and how the data is distributed."
      ]
    },
    {
      "cell_type": "code",
      "execution_count": null,
      "id": "617940b8",
      "metadata": {
        "id": "617940b8"
      },
      "outputs": [],
      "source": [
        "df = pd.read_parquet('dataset/est_hourly.paruqet')\n",
        "df['datetime'] = pd.to_datetime(df.index)"
      ]
    },
    {
      "cell_type": "markdown",
      "id": "2c0a4352",
      "metadata": {
        "id": "2c0a4352"
      },
      "source": [
        "In the original dataset, dates are sorted inconsistently, following an ascending order for year and hour, and descending for month and day. So the first step is to sort properly the data."
      ]
    },
    {
      "cell_type": "code",
      "execution_count": null,
      "id": "e3ac9315",
      "metadata": {
        "id": "e3ac9315"
      },
      "outputs": [],
      "source": [
        "df = df.sort_values('Datetime').reset_index(drop=True)"
      ]
    },
    {
      "cell_type": "code",
      "execution_count": null,
      "id": "34a51f5f",
      "metadata": {
        "id": "34a51f5f",
        "outputId": "046f1ad0-069c-4e1b-89b5-693657cd5a45"
      },
      "outputs": [
        {
          "data": {
            "text/html": [
              "<div>\n",
              "<style scoped>\n",
              "    .dataframe tbody tr th:only-of-type {\n",
              "        vertical-align: middle;\n",
              "    }\n",
              "\n",
              "    .dataframe tbody tr th {\n",
              "        vertical-align: top;\n",
              "    }\n",
              "\n",
              "    .dataframe thead th {\n",
              "        text-align: right;\n",
              "    }\n",
              "</style>\n",
              "<table border=\"1\" class=\"dataframe\">\n",
              "  <thead>\n",
              "    <tr style=\"text-align: right;\">\n",
              "      <th></th>\n",
              "      <th>count</th>\n",
              "      <th>mean</th>\n",
              "      <th>std</th>\n",
              "      <th>min</th>\n",
              "      <th>25%</th>\n",
              "      <th>50%</th>\n",
              "      <th>75%</th>\n",
              "      <th>max</th>\n",
              "    </tr>\n",
              "  </thead>\n",
              "  <tbody>\n",
              "    <tr>\n",
              "      <th>AEP</th>\n",
              "      <td>121273.0</td>\n",
              "      <td>15499.513717</td>\n",
              "      <td>2591.399065</td>\n",
              "      <td>9581.0</td>\n",
              "      <td>13630.0</td>\n",
              "      <td>15310.0</td>\n",
              "      <td>17200.00</td>\n",
              "      <td>25695.0</td>\n",
              "    </tr>\n",
              "    <tr>\n",
              "      <th>COMED</th>\n",
              "      <td>66497.0</td>\n",
              "      <td>11420.152112</td>\n",
              "      <td>2304.139517</td>\n",
              "      <td>7237.0</td>\n",
              "      <td>9780.0</td>\n",
              "      <td>11152.0</td>\n",
              "      <td>12510.00</td>\n",
              "      <td>23753.0</td>\n",
              "    </tr>\n",
              "    <tr>\n",
              "      <th>DAYTON</th>\n",
              "      <td>121275.0</td>\n",
              "      <td>2037.851140</td>\n",
              "      <td>393.403153</td>\n",
              "      <td>982.0</td>\n",
              "      <td>1749.0</td>\n",
              "      <td>2009.0</td>\n",
              "      <td>2279.00</td>\n",
              "      <td>3746.0</td>\n",
              "    </tr>\n",
              "    <tr>\n",
              "      <th>DEOK</th>\n",
              "      <td>57739.0</td>\n",
              "      <td>3105.096486</td>\n",
              "      <td>599.859026</td>\n",
              "      <td>907.0</td>\n",
              "      <td>2687.0</td>\n",
              "      <td>3013.0</td>\n",
              "      <td>3449.00</td>\n",
              "      <td>5445.0</td>\n",
              "    </tr>\n",
              "    <tr>\n",
              "      <th>DOM</th>\n",
              "      <td>116189.0</td>\n",
              "      <td>10949.203625</td>\n",
              "      <td>2413.946569</td>\n",
              "      <td>1253.0</td>\n",
              "      <td>9322.0</td>\n",
              "      <td>10501.0</td>\n",
              "      <td>12378.00</td>\n",
              "      <td>21651.0</td>\n",
              "    </tr>\n",
              "    <tr>\n",
              "      <th>DUQ</th>\n",
              "      <td>119068.0</td>\n",
              "      <td>1658.820296</td>\n",
              "      <td>301.740640</td>\n",
              "      <td>1014.0</td>\n",
              "      <td>1444.0</td>\n",
              "      <td>1630.0</td>\n",
              "      <td>1819.00</td>\n",
              "      <td>3054.0</td>\n",
              "    </tr>\n",
              "    <tr>\n",
              "      <th>EKPC</th>\n",
              "      <td>45334.0</td>\n",
              "      <td>1464.218423</td>\n",
              "      <td>378.868404</td>\n",
              "      <td>514.0</td>\n",
              "      <td>1185.0</td>\n",
              "      <td>1386.0</td>\n",
              "      <td>1699.00</td>\n",
              "      <td>3490.0</td>\n",
              "    </tr>\n",
              "    <tr>\n",
              "      <th>FE</th>\n",
              "      <td>62874.0</td>\n",
              "      <td>7792.159064</td>\n",
              "      <td>1331.268006</td>\n",
              "      <td>0.0</td>\n",
              "      <td>6807.0</td>\n",
              "      <td>7700.0</td>\n",
              "      <td>8556.00</td>\n",
              "      <td>14032.0</td>\n",
              "    </tr>\n",
              "    <tr>\n",
              "      <th>NI</th>\n",
              "      <td>58450.0</td>\n",
              "      <td>11701.682943</td>\n",
              "      <td>2371.498701</td>\n",
              "      <td>7003.0</td>\n",
              "      <td>9954.0</td>\n",
              "      <td>11521.0</td>\n",
              "      <td>12896.75</td>\n",
              "      <td>23631.0</td>\n",
              "    </tr>\n",
              "    <tr>\n",
              "      <th>PJME</th>\n",
              "      <td>145366.0</td>\n",
              "      <td>32080.222831</td>\n",
              "      <td>6464.012166</td>\n",
              "      <td>14544.0</td>\n",
              "      <td>27573.0</td>\n",
              "      <td>31421.0</td>\n",
              "      <td>35650.00</td>\n",
              "      <td>62009.0</td>\n",
              "    </tr>\n",
              "    <tr>\n",
              "      <th>PJMW</th>\n",
              "      <td>143206.0</td>\n",
              "      <td>5602.375089</td>\n",
              "      <td>979.142872</td>\n",
              "      <td>487.0</td>\n",
              "      <td>4907.0</td>\n",
              "      <td>5530.0</td>\n",
              "      <td>6252.00</td>\n",
              "      <td>9594.0</td>\n",
              "    </tr>\n",
              "    <tr>\n",
              "      <th>PJM_Load</th>\n",
              "      <td>32896.0</td>\n",
              "      <td>29766.427408</td>\n",
              "      <td>5849.769954</td>\n",
              "      <td>17461.0</td>\n",
              "      <td>25473.0</td>\n",
              "      <td>29655.0</td>\n",
              "      <td>33073.25</td>\n",
              "      <td>54030.0</td>\n",
              "    </tr>\n",
              "  </tbody>\n",
              "</table>\n",
              "</div>"
            ],
            "text/plain": [
              "             count          mean          std      min      25%      50%  \\\n",
              "AEP       121273.0  15499.513717  2591.399065   9581.0  13630.0  15310.0   \n",
              "COMED      66497.0  11420.152112  2304.139517   7237.0   9780.0  11152.0   \n",
              "DAYTON    121275.0   2037.851140   393.403153    982.0   1749.0   2009.0   \n",
              "DEOK       57739.0   3105.096486   599.859026    907.0   2687.0   3013.0   \n",
              "DOM       116189.0  10949.203625  2413.946569   1253.0   9322.0  10501.0   \n",
              "DUQ       119068.0   1658.820296   301.740640   1014.0   1444.0   1630.0   \n",
              "EKPC       45334.0   1464.218423   378.868404    514.0   1185.0   1386.0   \n",
              "FE         62874.0   7792.159064  1331.268006      0.0   6807.0   7700.0   \n",
              "NI         58450.0  11701.682943  2371.498701   7003.0   9954.0  11521.0   \n",
              "PJME      145366.0  32080.222831  6464.012166  14544.0  27573.0  31421.0   \n",
              "PJMW      143206.0   5602.375089   979.142872    487.0   4907.0   5530.0   \n",
              "PJM_Load   32896.0  29766.427408  5849.769954  17461.0  25473.0  29655.0   \n",
              "\n",
              "               75%      max  \n",
              "AEP       17200.00  25695.0  \n",
              "COMED     12510.00  23753.0  \n",
              "DAYTON     2279.00   3746.0  \n",
              "DEOK       3449.00   5445.0  \n",
              "DOM       12378.00  21651.0  \n",
              "DUQ        1819.00   3054.0  \n",
              "EKPC       1699.00   3490.0  \n",
              "FE         8556.00  14032.0  \n",
              "NI        12896.75  23631.0  \n",
              "PJME      35650.00  62009.0  \n",
              "PJMW       6252.00   9594.0  \n",
              "PJM_Load  33073.25  54030.0  "
            ]
          },
          "execution_count": 91,
          "metadata": {},
          "output_type": "execute_result"
        }
      ],
      "source": [
        "# Description of the dataset\n",
        "df.describe().T"
      ]
    },
    {
      "cell_type": "markdown",
      "id": "5d0716d9",
      "metadata": {
        "id": "5d0716d9"
      },
      "source": [
        "The histogram below shows how the target distribution is almost symmetric and centered around a single value, so the data is balanced.\n"
      ]
    },
    {
      "cell_type": "code",
      "execution_count": null,
      "id": "6dbee0ce",
      "metadata": {
        "id": "6dbee0ce",
        "outputId": "4ff7f64e-ec7b-4a94-ac64-17532dc940cf"
      },
      "outputs": [
        {
          "data": {
            "image/png": "[encoded data removed]",
            "text/plain": [
              "<Figure size 640x480 with 1 Axes>"
            ]
          },
          "metadata": {},
          "output_type": "display_data"
        }
      ],
      "source": [
        "_ = df['AEP'].plot.hist(bins=200)"
      ]
    },
    {
      "cell_type": "markdown",
      "id": "9fdb1768",
      "metadata": {
        "id": "9fdb1768"
      },
      "source": [
        "If we take a look at the data, we see that each sample consists of a DateTime and the corresponding energy consumption. To address the problem that we have presented, the prediction of hourly energy consumption for the AEP company, we must first create new features.\n",
        "\n",
        "First of all, we want to extract the year, month, day and time of consumption independently."
      ]
    },
    {
      "cell_type": "code",
      "execution_count": null,
      "id": "33d20846",
      "metadata": {
        "id": "33d20846"
      },
      "outputs": [],
      "source": [
        "df['year'] = df['datetime'].dt.year\n",
        "df['month'] = df['datetime'].dt.month\n",
        "df['day'] = df['datetime'].dt.day\n",
        "df['hour'] = df['datetime'].dt.hour"
      ]
    },
    {
      "cell_type": "markdown",
      "id": "49bcc4a0",
      "metadata": {
        "id": "49bcc4a0"
      },
      "source": [
        "Due to the cyclical nature of these data, we have considered the sine and cosine of the hour, the day, and the month. This represents the fact that after December it comes January again or the fact that after the last hour of the day the clock \"resets\" and returns to the first hour <a id='hour_dist'></a>."
      ]
    },
    {
      "cell_type": "code",
      "execution_count": null,
      "id": "5bbc5417",
      "metadata": {
        "id": "5bbc5417",
        "outputId": "9955cad9-b581-4c81-d851-a6d89fcfd270"
      },
      "outputs": [
        {
          "data": {
            "image/png": "[encoded data removed]",
            "text/plain": [
              "<Figure size 640x480 with 1 Axes>"
            ]
          },
          "metadata": {},
          "output_type": "display_data"
        }
      ],
      "source": [
        "energy_by_hour = df.groupby('hour')['AEP'].mean()\n",
        "\n",
        "# plot the energy distribution across hours\n",
        "energy_by_hour.plot(kind='bar')\n",
        "plt.title('Energy distribution by hour')\n",
        "plt.xlabel('Hour')\n",
        "plt.ylabel('Total energy')\n",
        "plt.show()"
      ]
    },
    {
      "cell_type": "markdown",
      "id": "b0cb38a7",
      "metadata": {
        "id": "b0cb38a7"
      },
      "source": [
        "Therefore, we have 6 new features."
      ]
    },
    {
      "cell_type": "code",
      "execution_count": null,
      "id": "7d4e3808",
      "metadata": {
        "id": "7d4e3808"
      },
      "outputs": [],
      "source": [
        "df['hour_sin'] = np.sin(2 * np.pi * df['hour'] / 24)\n",
        "df['hour_cos'] = np.cos(2 * np.pi * df['hour'] / 24)\n",
        "\n",
        "df['day_sin'] = np.sin(2 * np.pi * df['day'] / df['datetime'].dt.days_in_month)\n",
        "\n",
        "df['day_cos'] = np.cos(2 * np.pi * df['day'] / df['datetime'].dt.days_in_month)\n",
        "\n",
        "# Check if the year is a leap year\n",
        "if (df['datetime'].dt.is_leap_year.any()):\n",
        "    dYear = 365\n",
        "else:\n",
        "    dYear = 366\n",
        "\n",
        "# Convert the month component to radians, scaled by the number of days\n",
        "df['month_sin'] = np.sin(2 * np.pi * df['month'] / 12 * df['datetime'].dt.days_in_month / dYear)\n",
        "df['month_cos'] = np.cos(2 * np.pi * df['month'] / 12 * df['datetime'].dt.days_in_month / dYear)"
      ]
    },
    {
      "cell_type": "markdown",
      "id": "f5f78832",
      "metadata": {
        "id": "f5f78832"
      },
      "source": [
        "Analyzing the data, it has been seen that there are changes in energy consumption depending on whether or not it is a weekend. In addition, there is also the fact that depending on the time of year (summer, winter, spring...) consumption increases or decreases with the needs of the season. Seeing this, three other new features have been created: 'is_weekend', a boolean variable with value 0 if it is not a weekend and 1 otherwise, 'day_of_week', a categorical variable that takes values between 1 and 7 representing if it is Monday, Tuesday, Wednesday, etc., and 'season', a categorical variable that takes values ​​between 1 and 4 according to the following classification:  1 - winter, 2 - spring, 3 - summer, 4 - autumn.\n"
      ]
    },
    {
      "cell_type": "code",
      "execution_count": null,
      "id": "c5b64f32",
      "metadata": {
        "id": "c5b64f32"
      },
      "outputs": [],
      "source": [
        "seasons = []\n",
        "\n",
        "month = df['month']\n",
        "day = df['day']\n",
        "\n",
        "def get_season(now):\n",
        "    if isinstance(now, datetime):\n",
        "        now = now.date()\n",
        "    now = now.replace(year=Y)\n",
        "    return next(season for season, (start, end) in seasons\n",
        "                if start <= now <= end)\n",
        "\n",
        "def get_seasons(now):\n",
        "    seasons = []\n",
        "    for s in now:\n",
        "        seasons.append(get_season(s))\n",
        "\n",
        "    return seasons\n",
        "\n",
        "Y = 2000\n",
        "\n",
        "# 1: winter; 2: spring; 3: summer; 4: autumn\n",
        "seasons = [(1, (date(Y,  1,  1),  date(Y,  3, 20))),\n",
        "           (2, (date(Y,  3, 21),  date(Y,  6, 20))),\n",
        "           (3, (date(Y,  6, 21),  date(Y,  9, 22))),\n",
        "           (4, (date(Y,  9, 23),  date(Y, 12, 20))),\n",
        "           (1, (date(Y, 12, 21),  date(Y, 12, 31)))]\n",
        "\n",
        "\n",
        "df['season'] = get_seasons(df['datetime'].dt.date)\n",
        "df['date'] = pd.to_datetime(df[['year', 'month', 'day']])\n",
        "\n",
        "df['day_of_week'] = df['date'].dt.dayofweek\n",
        "df['is_weekend'] = df['day_of_week'].isin([5, 6]).astype(int)\n",
        "\n",
        "df.pop('date')\n",
        "aux = df.pop('datetime')\n",
        "df[df.abs() < 1e-15] = 0.0\n",
        "df['datetime'] = aux"
      ]
    },
    {
      "cell_type": "markdown",
      "id": "3205e36a",
      "metadata": {
        "id": "3205e36a"
      },
      "source": [
        "On this graph we can see how during the week, the energy peak starts at 7am, and that during the weekends there is a lower energy consumption."
      ]
    },
    {
      "cell_type": "code",
      "execution_count": null,
      "id": "55b04e63",
      "metadata": {
        "id": "55b04e63",
        "outputId": "4b87f18c-f34d-4103-ad8a-105389270ebd"
      },
      "outputs": [
        {
          "name": "stderr",
          "output_type": "stream",
          "text": [
            "C:\\Users\\sarag\\AppData\\Local\\Temp\\ipykernel_24528\\278418933.py:4: FutureWarning: In a future version of pandas all arguments of DataFrame.pivot will be keyword-only.\n",
            "  energy_matrix = energy_by_day_and_hour.pivot('day_of_week', 'hour', 'AEP')\n"
          ]
        },
        {
          "data": {
            "image/png": "[encoded data removed]",
            "text/plain": [
              "<Figure size 640x480 with 2 Axes>"
            ]
          },
          "metadata": {},
          "output_type": "display_data"
        }
      ],
      "source": [
        "energy_by_day_and_hour = df.groupby(['day_of_week', 'hour'])['AEP'].sum().reset_index()\n",
        "\n",
        "# pivot the data to create a matrix with days of the week as rows and hours as columns\n",
        "energy_matrix = energy_by_day_and_hour.pivot('day_of_week', 'hour', 'AEP')\n",
        "\n",
        "# create a heatmap of the energy distribution across days of the week and hours\n",
        "sns.heatmap(energy_matrix, cmap='Blues')\n",
        "plt.title('Energy distribution by day and hour')\n",
        "plt.xlabel('Hour')\n",
        "plt.ylabel('Day of the week')\n",
        "plt.show()"
      ]
    },
    {
      "cell_type": "code",
      "execution_count": null,
      "id": "818fd75a",
      "metadata": {
        "id": "818fd75a",
        "outputId": "c5de5f3b-8eb4-4a6a-cdac-bfb793239d5e"
      },
      "outputs": [
        {
          "data": {
            "text/html": [
              "<div>\n",
              "<style scoped>\n",
              "    .dataframe tbody tr th:only-of-type {\n",
              "        vertical-align: middle;\n",
              "    }\n",
              "\n",
              "    .dataframe tbody tr th {\n",
              "        vertical-align: top;\n",
              "    }\n",
              "\n",
              "    .dataframe thead th {\n",
              "        text-align: right;\n",
              "    }\n",
              "</style>\n",
              "<table border=\"1\" class=\"dataframe\">\n",
              "  <thead>\n",
              "    <tr style=\"text-align: right;\">\n",
              "      <th></th>\n",
              "      <th>AEP</th>\n",
              "      <th>year</th>\n",
              "      <th>month</th>\n",
              "      <th>day</th>\n",
              "      <th>hour</th>\n",
              "      <th>hour_sin</th>\n",
              "      <th>hour_cos</th>\n",
              "      <th>day_sin</th>\n",
              "      <th>day_cos</th>\n",
              "      <th>month_sin</th>\n",
              "      <th>month_cos</th>\n",
              "      <th>season</th>\n",
              "      <th>day_of_week</th>\n",
              "      <th>is_weekend</th>\n",
              "      <th>datetime</th>\n",
              "    </tr>\n",
              "  </thead>\n",
              "  <tbody>\n",
              "    <tr>\n",
              "      <th>56987</th>\n",
              "      <td>12379.0</td>\n",
              "      <td>2004</td>\n",
              "      <td>10</td>\n",
              "      <td>1</td>\n",
              "      <td>1</td>\n",
              "      <td>0.258819</td>\n",
              "      <td>0.965926</td>\n",
              "      <td>0.201299</td>\n",
              "      <td>0.979530</td>\n",
              "      <td>0.430187</td>\n",
              "      <td>0.902740</td>\n",
              "      <td>4</td>\n",
              "      <td>4</td>\n",
              "      <td>0</td>\n",
              "      <td>2004-10-01 01:00:00</td>\n",
              "    </tr>\n",
              "    <tr>\n",
              "      <th>56988</th>\n",
              "      <td>11935.0</td>\n",
              "      <td>2004</td>\n",
              "      <td>10</td>\n",
              "      <td>1</td>\n",
              "      <td>2</td>\n",
              "      <td>0.500000</td>\n",
              "      <td>0.866025</td>\n",
              "      <td>0.201299</td>\n",
              "      <td>0.979530</td>\n",
              "      <td>0.430187</td>\n",
              "      <td>0.902740</td>\n",
              "      <td>4</td>\n",
              "      <td>4</td>\n",
              "      <td>0</td>\n",
              "      <td>2004-10-01 02:00:00</td>\n",
              "    </tr>\n",
              "    <tr>\n",
              "      <th>56989</th>\n",
              "      <td>11692.0</td>\n",
              "      <td>2004</td>\n",
              "      <td>10</td>\n",
              "      <td>1</td>\n",
              "      <td>3</td>\n",
              "      <td>0.707107</td>\n",
              "      <td>0.707107</td>\n",
              "      <td>0.201299</td>\n",
              "      <td>0.979530</td>\n",
              "      <td>0.430187</td>\n",
              "      <td>0.902740</td>\n",
              "      <td>4</td>\n",
              "      <td>4</td>\n",
              "      <td>0</td>\n",
              "      <td>2004-10-01 03:00:00</td>\n",
              "    </tr>\n",
              "    <tr>\n",
              "      <th>56990</th>\n",
              "      <td>11597.0</td>\n",
              "      <td>2004</td>\n",
              "      <td>10</td>\n",
              "      <td>1</td>\n",
              "      <td>4</td>\n",
              "      <td>0.866025</td>\n",
              "      <td>0.500000</td>\n",
              "      <td>0.201299</td>\n",
              "      <td>0.979530</td>\n",
              "      <td>0.430187</td>\n",
              "      <td>0.902740</td>\n",
              "      <td>4</td>\n",
              "      <td>4</td>\n",
              "      <td>0</td>\n",
              "      <td>2004-10-01 04:00:00</td>\n",
              "    </tr>\n",
              "    <tr>\n",
              "      <th>56991</th>\n",
              "      <td>11681.0</td>\n",
              "      <td>2004</td>\n",
              "      <td>10</td>\n",
              "      <td>1</td>\n",
              "      <td>5</td>\n",
              "      <td>0.965926</td>\n",
              "      <td>0.258819</td>\n",
              "      <td>0.201299</td>\n",
              "      <td>0.979530</td>\n",
              "      <td>0.430187</td>\n",
              "      <td>0.902740</td>\n",
              "      <td>4</td>\n",
              "      <td>4</td>\n",
              "      <td>0</td>\n",
              "      <td>2004-10-01 05:00:00</td>\n",
              "    </tr>\n",
              "    <tr>\n",
              "      <th>...</th>\n",
              "      <td>...</td>\n",
              "      <td>...</td>\n",
              "      <td>...</td>\n",
              "      <td>...</td>\n",
              "      <td>...</td>\n",
              "      <td>...</td>\n",
              "      <td>...</td>\n",
              "      <td>...</td>\n",
              "      <td>...</td>\n",
              "      <td>...</td>\n",
              "      <td>...</td>\n",
              "      <td>...</td>\n",
              "      <td>...</td>\n",
              "      <td>...</td>\n",
              "      <td>...</td>\n",
              "    </tr>\n",
              "    <tr>\n",
              "      <th>178257</th>\n",
              "      <td>17673.0</td>\n",
              "      <td>2018</td>\n",
              "      <td>8</td>\n",
              "      <td>2</td>\n",
              "      <td>20</td>\n",
              "      <td>-0.866025</td>\n",
              "      <td>0.500000</td>\n",
              "      <td>0.394356</td>\n",
              "      <td>0.918958</td>\n",
              "      <td>0.348303</td>\n",
              "      <td>0.937382</td>\n",
              "      <td>3</td>\n",
              "      <td>3</td>\n",
              "      <td>0</td>\n",
              "      <td>2018-08-02 20:00:00</td>\n",
              "    </tr>\n",
              "    <tr>\n",
              "      <th>178258</th>\n",
              "      <td>17303.0</td>\n",
              "      <td>2018</td>\n",
              "      <td>8</td>\n",
              "      <td>2</td>\n",
              "      <td>21</td>\n",
              "      <td>-0.707107</td>\n",
              "      <td>0.707107</td>\n",
              "      <td>0.394356</td>\n",
              "      <td>0.918958</td>\n",
              "      <td>0.348303</td>\n",
              "      <td>0.937382</td>\n",
              "      <td>3</td>\n",
              "      <td>3</td>\n",
              "      <td>0</td>\n",
              "      <td>2018-08-02 21:00:00</td>\n",
              "    </tr>\n",
              "    <tr>\n",
              "      <th>178259</th>\n",
              "      <td>17001.0</td>\n",
              "      <td>2018</td>\n",
              "      <td>8</td>\n",
              "      <td>2</td>\n",
              "      <td>22</td>\n",
              "      <td>-0.500000</td>\n",
              "      <td>0.866025</td>\n",
              "      <td>0.394356</td>\n",
              "      <td>0.918958</td>\n",
              "      <td>0.348303</td>\n",
              "      <td>0.937382</td>\n",
              "      <td>3</td>\n",
              "      <td>3</td>\n",
              "      <td>0</td>\n",
              "      <td>2018-08-02 22:00:00</td>\n",
              "    </tr>\n",
              "    <tr>\n",
              "      <th>178260</th>\n",
              "      <td>15964.0</td>\n",
              "      <td>2018</td>\n",
              "      <td>8</td>\n",
              "      <td>2</td>\n",
              "      <td>23</td>\n",
              "      <td>-0.258819</td>\n",
              "      <td>0.965926</td>\n",
              "      <td>0.394356</td>\n",
              "      <td>0.918958</td>\n",
              "      <td>0.348303</td>\n",
              "      <td>0.937382</td>\n",
              "      <td>3</td>\n",
              "      <td>3</td>\n",
              "      <td>0</td>\n",
              "      <td>2018-08-02 23:00:00</td>\n",
              "    </tr>\n",
              "    <tr>\n",
              "      <th>178261</th>\n",
              "      <td>14809.0</td>\n",
              "      <td>2018</td>\n",
              "      <td>8</td>\n",
              "      <td>3</td>\n",
              "      <td>0</td>\n",
              "      <td>0.000000</td>\n",
              "      <td>1.000000</td>\n",
              "      <td>0.571268</td>\n",
              "      <td>0.820763</td>\n",
              "      <td>0.348303</td>\n",
              "      <td>0.937382</td>\n",
              "      <td>3</td>\n",
              "      <td>4</td>\n",
              "      <td>0</td>\n",
              "      <td>2018-08-03 00:00:00</td>\n",
              "    </tr>\n",
              "  </tbody>\n",
              "</table>\n",
              "<p>121273 rows × 15 columns</p>\n",
              "</div>"
            ],
            "text/plain": [
              "            AEP  year  month  day  hour  hour_sin  hour_cos   day_sin  \\\n",
              "56987   12379.0  2004     10    1     1  0.258819  0.965926  0.201299   \n",
              "56988   11935.0  2004     10    1     2  0.500000  0.866025  0.201299   \n",
              "56989   11692.0  2004     10    1     3  0.707107  0.707107  0.201299   \n",
              "56990   11597.0  2004     10    1     4  0.866025  0.500000  0.201299   \n",
              "56991   11681.0  2004     10    1     5  0.965926  0.258819  0.201299   \n",
              "...         ...   ...    ...  ...   ...       ...       ...       ...   \n",
              "178257  17673.0  2018      8    2    20 -0.866025  0.500000  0.394356   \n",
              "178258  17303.0  2018      8    2    21 -0.707107  0.707107  0.394356   \n",
              "178259  17001.0  2018      8    2    22 -0.500000  0.866025  0.394356   \n",
              "178260  15964.0  2018      8    2    23 -0.258819  0.965926  0.394356   \n",
              "178261  14809.0  2018      8    3     0  0.000000  1.000000  0.571268   \n",
              "\n",
              "         day_cos  month_sin  month_cos  season  day_of_week  is_weekend  \\\n",
              "56987   0.979530   0.430187   0.902740       4            4           0   \n",
              "56988   0.979530   0.430187   0.902740       4            4           0   \n",
              "56989   0.979530   0.430187   0.902740       4            4           0   \n",
              "56990   0.979530   0.430187   0.902740       4            4           0   \n",
              "56991   0.979530   0.430187   0.902740       4            4           0   \n",
              "...          ...        ...        ...     ...          ...         ...   \n",
              "178257  0.918958   0.348303   0.937382       3            3           0   \n",
              "178258  0.918958   0.348303   0.937382       3            3           0   \n",
              "178259  0.918958   0.348303   0.937382       3            3           0   \n",
              "178260  0.918958   0.348303   0.937382       3            3           0   \n",
              "178261  0.820763   0.348303   0.937382       3            4           0   \n",
              "\n",
              "                  datetime  \n",
              "56987  2004-10-01 01:00:00  \n",
              "56988  2004-10-01 02:00:00  \n",
              "56989  2004-10-01 03:00:00  \n",
              "56990  2004-10-01 04:00:00  \n",
              "56991  2004-10-01 05:00:00  \n",
              "...                    ...  \n",
              "178257 2018-08-02 20:00:00  \n",
              "178258 2018-08-02 21:00:00  \n",
              "178259 2018-08-02 22:00:00  \n",
              "178260 2018-08-02 23:00:00  \n",
              "178261 2018-08-03 00:00:00  \n",
              "\n",
              "[121273 rows x 15 columns]"
            ]
          },
          "execution_count": 98,
          "metadata": {},
          "output_type": "execute_result"
        }
      ],
      "source": [
        "# Drop other companies\n",
        "df.pop('COMED')\n",
        "df.pop('DAYTON')\n",
        "df.pop('DEOK')\n",
        "df.pop('DOM')\n",
        "df.pop('DUQ')\n",
        "df.pop('EKPC')\n",
        "df.pop('FE')\n",
        "df.pop('NI')\n",
        "df.pop('PJME')\n",
        "df.pop('PJMW')\n",
        "df.pop('PJM_Load')\n",
        "\n",
        "# Drop uncoded features\n",
        "# df.pop('month')\n",
        "# df.pop('day')\n",
        "# df.pop('hour')\n",
        "\n",
        "# datetime = df.pop('datetime')\n",
        "\n",
        "df.dropna(inplace=True)\n",
        "df"
      ]
    },
    {
      "cell_type": "code",
      "execution_count": null,
      "id": "592090d7",
      "metadata": {
        "id": "592090d7"
      },
      "outputs": [],
      "source": [
        "# Save df to csv\n",
        "df.to_csv('df3.csv')"
      ]
    },
    {
      "cell_type": "markdown",
      "id": "4bf09b00",
      "metadata": {
        "id": "4bf09b00"
      },
      "source": [
        "# 2. Drifts"
      ]
    },
    {
      "cell_type": "markdown",
      "id": "880ee7ef",
      "metadata": {
        "id": "880ee7ef"
      },
      "source": [
        "Since we are looking for a problem to apply flow learning, it makes sense that there would be data drift over time. We use various data drift detectors to see if this is indeed the case."
      ]
    },
    {
      "cell_type": "code",
      "execution_count": null,
      "id": "7a3c0696",
      "metadata": {
        "id": "7a3c0696",
        "outputId": "10c152da-6525-41b5-f408-3ad692b02ec9"
      },
      "outputs": [
        {
          "data": {
            "text/html": [
              "<pre style=\"white-space:pre;overflow-x:auto;line-height:normal;font-family:Menlo,'DejaVu Sans Mono',consolas,'Courier New',monospace\"><span style=\"color: #008080; text-decoration-color: #008080; font-weight: bold\">56987</span>     <span style=\"color: #008080; text-decoration-color: #008080; font-weight: bold\">12379.0</span>\n",
              "<span style=\"color: #008080; text-decoration-color: #008080; font-weight: bold\">56988</span>     <span style=\"color: #008080; text-decoration-color: #008080; font-weight: bold\">11935.0</span>\n",
              "<span style=\"color: #008080; text-decoration-color: #008080; font-weight: bold\">56989</span>     <span style=\"color: #008080; text-decoration-color: #008080; font-weight: bold\">11692.0</span>\n",
              "<span style=\"color: #008080; text-decoration-color: #008080; font-weight: bold\">56990</span>     <span style=\"color: #008080; text-decoration-color: #008080; font-weight: bold\">11597.0</span>\n",
              "<span style=\"color: #008080; text-decoration-color: #008080; font-weight: bold\">56991</span>     <span style=\"color: #008080; text-decoration-color: #008080; font-weight: bold\">11681.0</span>\n",
              "           <span style=\"color: #808000; text-decoration-color: #808000\">...</span>   \n",
              "<span style=\"color: #008080; text-decoration-color: #008080; font-weight: bold\">178257</span>    <span style=\"color: #008080; text-decoration-color: #008080; font-weight: bold\">17673.0</span>\n",
              "<span style=\"color: #008080; text-decoration-color: #008080; font-weight: bold\">178258</span>    <span style=\"color: #008080; text-decoration-color: #008080; font-weight: bold\">17303.0</span>\n",
              "<span style=\"color: #008080; text-decoration-color: #008080; font-weight: bold\">178259</span>    <span style=\"color: #008080; text-decoration-color: #008080; font-weight: bold\">17001.0</span>\n",
              "<span style=\"color: #008080; text-decoration-color: #008080; font-weight: bold\">178260</span>    <span style=\"color: #008080; text-decoration-color: #008080; font-weight: bold\">15964.0</span>\n",
              "<span style=\"color: #008080; text-decoration-color: #008080; font-weight: bold\">178261</span>    <span style=\"color: #008080; text-decoration-color: #008080; font-weight: bold\">14809.0</span>\n",
              "Name: AEP, Length: <span style=\"color: #008080; text-decoration-color: #008080; font-weight: bold\">121273</span>, dtype: float64\n",
              "</pre>\n"
            ],
            "text/plain": [
              "\u001b[1;36m56987\u001b[0m     \u001b[1;36m12379.0\u001b[0m\n",
              "\u001b[1;36m56988\u001b[0m     \u001b[1;36m11935.0\u001b[0m\n",
              "\u001b[1;36m56989\u001b[0m     \u001b[1;36m11692.0\u001b[0m\n",
              "\u001b[1;36m56990\u001b[0m     \u001b[1;36m11597.0\u001b[0m\n",
              "\u001b[1;36m56991\u001b[0m     \u001b[1;36m11681.0\u001b[0m\n",
              "           \u001b[33m...\u001b[0m   \n",
              "\u001b[1;36m178257\u001b[0m    \u001b[1;36m17673.0\u001b[0m\n",
              "\u001b[1;36m178258\u001b[0m    \u001b[1;36m17303.0\u001b[0m\n",
              "\u001b[1;36m178259\u001b[0m    \u001b[1;36m17001.0\u001b[0m\n",
              "\u001b[1;36m178260\u001b[0m    \u001b[1;36m15964.0\u001b[0m\n",
              "\u001b[1;36m178261\u001b[0m    \u001b[1;36m14809.0\u001b[0m\n",
              "Name: AEP, Length: \u001b[1;36m121273\u001b[0m, dtype: float64\n"
            ]
          },
          "metadata": {},
          "output_type": "display_data"
        }
      ],
      "source": [
        "# Let's establish the target (AEP)\n",
        "targets = df['AEP']\n",
        "print(targets)"
      ]
    },
    {
      "cell_type": "markdown",
      "id": "87ca449f",
      "metadata": {
        "id": "87ca449f"
      },
      "source": [
        "## 2.1. Last year (ADWIN)"
      ]
    },
    {
      "cell_type": "markdown",
      "id": "e49fcf27",
      "metadata": {
        "id": "e49fcf27"
      },
      "source": [
        "ADWIN is an adaptive sliding window algorithm that is capable of detecting changes in the mean or variance of the data stream. It uses a sliding window of fixed size and dynamically adapts its size to reflect changes in the statistical properties of the data stream.\n",
        "\n",
        "The ADWIN algorithm was selected because of its ability to adapt to changes in the mean or variance of the data stream, so it can detect changes on data that are gradual over time."
      ]
    },
    {
      "cell_type": "code",
      "execution_count": null,
      "id": "3bceec2c",
      "metadata": {
        "id": "3bceec2c",
        "outputId": "5c0b9e2a-de52-4efe-de2e-edd95f1a6575"
      },
      "outputs": [
        {
          "data": {
            "text/html": [
              "<pre style=\"white-space:pre;overflow-x:auto;line-height:normal;font-family:Menlo,'DejaVu Sans Mono',consolas,'Courier New',monospace\"><span style=\"color: #008080; text-decoration-color: #008080; font-weight: bold\">164366</span>    <span style=\"color: #008080; text-decoration-color: #008080; font-weight: bold\">13240.0</span>\n",
              "<span style=\"color: #008080; text-decoration-color: #008080; font-weight: bold\">164367</span>    <span style=\"color: #008080; text-decoration-color: #008080; font-weight: bold\">12876.0</span>\n",
              "<span style=\"color: #008080; text-decoration-color: #008080; font-weight: bold\">164368</span>    <span style=\"color: #008080; text-decoration-color: #008080; font-weight: bold\">12591.0</span>\n",
              "<span style=\"color: #008080; text-decoration-color: #008080; font-weight: bold\">164369</span>    <span style=\"color: #008080; text-decoration-color: #008080; font-weight: bold\">12487.0</span>\n",
              "<span style=\"color: #008080; text-decoration-color: #008080; font-weight: bold\">164370</span>    <span style=\"color: #008080; text-decoration-color: #008080; font-weight: bold\">12369.0</span>\n",
              "           <span style=\"color: #808000; text-decoration-color: #808000\">...</span>   \n",
              "<span style=\"color: #008080; text-decoration-color: #008080; font-weight: bold\">173121</span>    <span style=\"color: #008080; text-decoration-color: #008080; font-weight: bold\">19608.0</span>\n",
              "<span style=\"color: #008080; text-decoration-color: #008080; font-weight: bold\">173122</span>    <span style=\"color: #008080; text-decoration-color: #008080; font-weight: bold\">19442.0</span>\n",
              "<span style=\"color: #008080; text-decoration-color: #008080; font-weight: bold\">173123</span>    <span style=\"color: #008080; text-decoration-color: #008080; font-weight: bold\">19323.0</span>\n",
              "<span style=\"color: #008080; text-decoration-color: #008080; font-weight: bold\">173124</span>    <span style=\"color: #008080; text-decoration-color: #008080; font-weight: bold\">19092.0</span>\n",
              "<span style=\"color: #008080; text-decoration-color: #008080; font-weight: bold\">173125</span>    <span style=\"color: #008080; text-decoration-color: #008080; font-weight: bold\">18877.0</span>\n",
              "Name: AEP, Length: <span style=\"color: #008080; text-decoration-color: #008080; font-weight: bold\">8760</span>, dtype: float64\n",
              "</pre>\n"
            ],
            "text/plain": [
              "\u001b[1;36m164366\u001b[0m    \u001b[1;36m13240.0\u001b[0m\n",
              "\u001b[1;36m164367\u001b[0m    \u001b[1;36m12876.0\u001b[0m\n",
              "\u001b[1;36m164368\u001b[0m    \u001b[1;36m12591.0\u001b[0m\n",
              "\u001b[1;36m164369\u001b[0m    \u001b[1;36m12487.0\u001b[0m\n",
              "\u001b[1;36m164370\u001b[0m    \u001b[1;36m12369.0\u001b[0m\n",
              "           \u001b[33m...\u001b[0m   \n",
              "\u001b[1;36m173121\u001b[0m    \u001b[1;36m19608.0\u001b[0m\n",
              "\u001b[1;36m173122\u001b[0m    \u001b[1;36m19442.0\u001b[0m\n",
              "\u001b[1;36m173123\u001b[0m    \u001b[1;36m19323.0\u001b[0m\n",
              "\u001b[1;36m173124\u001b[0m    \u001b[1;36m19092.0\u001b[0m\n",
              "\u001b[1;36m173125\u001b[0m    \u001b[1;36m18877.0\u001b[0m\n",
              "Name: AEP, Length: \u001b[1;36m8760\u001b[0m, dtype: float64\n"
            ]
          },
          "metadata": {},
          "output_type": "display_data"
        }
      ],
      "source": [
        "last_year_mask = df['year'] == df['year'].max() - 1\n",
        "\n",
        "last_year_energy = df.loc[last_year_mask, 'AEP']\n",
        "\n",
        "print(last_year_energy)"
      ]
    },
    {
      "cell_type": "code",
      "execution_count": null,
      "id": "4b6c3429",
      "metadata": {
        "id": "4b6c3429",
        "outputId": "1f42d521-06e7-473e-f6c5-07c85218b447"
      },
      "outputs": [
        {
          "data": {
            "text/html": [
              "<pre style=\"white-space:pre;overflow-x:auto;line-height:normal;font-family:Menlo,'DejaVu Sans Mono',consolas,'Courier New',monospace\"><span style=\"color: #008080; text-decoration-color: #008080; font-weight: bold\">164366</span>\n",
              "</pre>\n"
            ],
            "text/plain": [
              "\u001b[1;36m164366\u001b[0m\n"
            ]
          },
          "metadata": {},
          "output_type": "display_data"
        },
        {
          "data": {
            "text/html": [
              "<pre style=\"white-space:pre;overflow-x:auto;line-height:normal;font-family:Menlo,'DejaVu Sans Mono',consolas,'Courier New',monospace\">Change detected at index <span style=\"color: #008080; text-decoration-color: #008080; font-weight: bold\">164493</span>\n",
              "</pre>\n"
            ],
            "text/plain": [
              "Change detected at index \u001b[1;36m164493\u001b[0m\n"
            ]
          },
          "metadata": {},
          "output_type": "display_data"
        },
        {
          "data": {
            "text/html": [
              "<pre style=\"white-space:pre;overflow-x:auto;line-height:normal;font-family:Menlo,'DejaVu Sans Mono',consolas,'Courier New',monospace\">Change detected at index <span style=\"color: #008080; text-decoration-color: #008080; font-weight: bold\">164621</span>\n",
              "</pre>\n"
            ],
            "text/plain": [
              "Change detected at index \u001b[1;36m164621\u001b[0m\n"
            ]
          },
          "metadata": {},
          "output_type": "display_data"
        },
        {
          "data": {
            "text/html": [
              "<pre style=\"white-space:pre;overflow-x:auto;line-height:normal;font-family:Menlo,'DejaVu Sans Mono',consolas,'Courier New',monospace\">Change detected at index <span style=\"color: #008080; text-decoration-color: #008080; font-weight: bold\">164909</span>\n",
              "</pre>\n"
            ],
            "text/plain": [
              "Change detected at index \u001b[1;36m164909\u001b[0m\n"
            ]
          },
          "metadata": {},
          "output_type": "display_data"
        },
        {
          "data": {
            "text/html": [
              "<pre style=\"white-space:pre;overflow-x:auto;line-height:normal;font-family:Menlo,'DejaVu Sans Mono',consolas,'Courier New',monospace\">Change detected at index <span style=\"color: #008080; text-decoration-color: #008080; font-weight: bold\">165069</span>\n",
              "</pre>\n"
            ],
            "text/plain": [
              "Change detected at index \u001b[1;36m165069\u001b[0m\n"
            ]
          },
          "metadata": {},
          "output_type": "display_data"
        },
        {
          "data": {
            "text/html": [
              "<pre style=\"white-space:pre;overflow-x:auto;line-height:normal;font-family:Menlo,'DejaVu Sans Mono',consolas,'Courier New',monospace\">Change detected at index <span style=\"color: #008080; text-decoration-color: #008080; font-weight: bold\">165133</span>\n",
              "</pre>\n"
            ],
            "text/plain": [
              "Change detected at index \u001b[1;36m165133\u001b[0m\n"
            ]
          },
          "metadata": {},
          "output_type": "display_data"
        },
        {
          "data": {
            "text/html": [
              "<pre style=\"white-space:pre;overflow-x:auto;line-height:normal;font-family:Menlo,'DejaVu Sans Mono',consolas,'Courier New',monospace\">Change detected at index <span style=\"color: #008080; text-decoration-color: #008080; font-weight: bold\">165261</span>\n",
              "</pre>\n"
            ],
            "text/plain": [
              "Change detected at index \u001b[1;36m165261\u001b[0m\n"
            ]
          },
          "metadata": {},
          "output_type": "display_data"
        },
        {
          "data": {
            "text/html": [
              "<pre style=\"white-space:pre;overflow-x:auto;line-height:normal;font-family:Menlo,'DejaVu Sans Mono',consolas,'Courier New',monospace\">Change detected at index <span style=\"color: #008080; text-decoration-color: #008080; font-weight: bold\">165325</span>\n",
              "</pre>\n"
            ],
            "text/plain": [
              "Change detected at index \u001b[1;36m165325\u001b[0m\n"
            ]
          },
          "metadata": {},
          "output_type": "display_data"
        },
        {
          "data": {
            "text/html": [
              "<pre style=\"white-space:pre;overflow-x:auto;line-height:normal;font-family:Menlo,'DejaVu Sans Mono',consolas,'Courier New',monospace\">Change detected at index <span style=\"color: #008080; text-decoration-color: #008080; font-weight: bold\">165389</span>\n",
              "</pre>\n"
            ],
            "text/plain": [
              "Change detected at index \u001b[1;36m165389\u001b[0m\n"
            ]
          },
          "metadata": {},
          "output_type": "display_data"
        },
        {
          "data": {
            "text/html": [
              "<pre style=\"white-space:pre;overflow-x:auto;line-height:normal;font-family:Menlo,'DejaVu Sans Mono',consolas,'Courier New',monospace\">Change detected at index <span style=\"color: #008080; text-decoration-color: #008080; font-weight: bold\">165453</span>\n",
              "</pre>\n"
            ],
            "text/plain": [
              "Change detected at index \u001b[1;36m165453\u001b[0m\n"
            ]
          },
          "metadata": {},
          "output_type": "display_data"
        },
        {
          "data": {
            "text/html": [
              "<pre style=\"white-space:pre;overflow-x:auto;line-height:normal;font-family:Menlo,'DejaVu Sans Mono',consolas,'Courier New',monospace\">Change detected at index <span style=\"color: #008080; text-decoration-color: #008080; font-weight: bold\">165549</span>\n",
              "</pre>\n"
            ],
            "text/plain": [
              "Change detected at index \u001b[1;36m165549\u001b[0m\n"
            ]
          },
          "metadata": {},
          "output_type": "display_data"
        },
        {
          "data": {
            "text/html": [
              "<pre style=\"white-space:pre;overflow-x:auto;line-height:normal;font-family:Menlo,'DejaVu Sans Mono',consolas,'Courier New',monospace\">Change detected at index <span style=\"color: #008080; text-decoration-color: #008080; font-weight: bold\">165613</span>\n",
              "</pre>\n"
            ],
            "text/plain": [
              "Change detected at index \u001b[1;36m165613\u001b[0m\n"
            ]
          },
          "metadata": {},
          "output_type": "display_data"
        },
        {
          "data": {
            "text/html": [
              "<pre style=\"white-space:pre;overflow-x:auto;line-height:normal;font-family:Menlo,'DejaVu Sans Mono',consolas,'Courier New',monospace\">Change detected at index <span style=\"color: #008080; text-decoration-color: #008080; font-weight: bold\">165773</span>\n",
              "</pre>\n"
            ],
            "text/plain": [
              "Change detected at index \u001b[1;36m165773\u001b[0m\n"
            ]
          },
          "metadata": {},
          "output_type": "display_data"
        },
        {
          "data": {
            "text/html": [
              "<pre style=\"white-space:pre;overflow-x:auto;line-height:normal;font-family:Menlo,'DejaVu Sans Mono',consolas,'Courier New',monospace\">Change detected at index <span style=\"color: #008080; text-decoration-color: #008080; font-weight: bold\">165837</span>\n",
              "</pre>\n"
            ],
            "text/plain": [
              "Change detected at index \u001b[1;36m165837\u001b[0m\n"
            ]
          },
          "metadata": {},
          "output_type": "display_data"
        },
        {
          "data": {
            "text/html": [
              "<pre style=\"white-space:pre;overflow-x:auto;line-height:normal;font-family:Menlo,'DejaVu Sans Mono',consolas,'Courier New',monospace\">Change detected at index <span style=\"color: #008080; text-decoration-color: #008080; font-weight: bold\">165901</span>\n",
              "</pre>\n"
            ],
            "text/plain": [
              "Change detected at index \u001b[1;36m165901\u001b[0m\n"
            ]
          },
          "metadata": {},
          "output_type": "display_data"
        },
        {
          "data": {
            "text/html": [
              "<pre style=\"white-space:pre;overflow-x:auto;line-height:normal;font-family:Menlo,'DejaVu Sans Mono',consolas,'Courier New',monospace\">Change detected at index <span style=\"color: #008080; text-decoration-color: #008080; font-weight: bold\">166093</span>\n",
              "</pre>\n"
            ],
            "text/plain": [
              "Change detected at index \u001b[1;36m166093\u001b[0m\n"
            ]
          },
          "metadata": {},
          "output_type": "display_data"
        },
        {
          "data": {
            "text/html": [
              "<pre style=\"white-space:pre;overflow-x:auto;line-height:normal;font-family:Menlo,'DejaVu Sans Mono',consolas,'Courier New',monospace\">Change detected at index <span style=\"color: #008080; text-decoration-color: #008080; font-weight: bold\">166221</span>\n",
              "</pre>\n"
            ],
            "text/plain": [
              "Change detected at index \u001b[1;36m166221\u001b[0m\n"
            ]
          },
          "metadata": {},
          "output_type": "display_data"
        },
        {
          "data": {
            "text/html": [
              "<pre style=\"white-space:pre;overflow-x:auto;line-height:normal;font-family:Menlo,'DejaVu Sans Mono',consolas,'Courier New',monospace\">Change detected at index <span style=\"color: #008080; text-decoration-color: #008080; font-weight: bold\">166317</span>\n",
              "</pre>\n"
            ],
            "text/plain": [
              "Change detected at index \u001b[1;36m166317\u001b[0m\n"
            ]
          },
          "metadata": {},
          "output_type": "display_data"
        },
        {
          "data": {
            "text/html": [
              "<pre style=\"white-space:pre;overflow-x:auto;line-height:normal;font-family:Menlo,'DejaVu Sans Mono',consolas,'Courier New',monospace\">Change detected at index <span style=\"color: #008080; text-decoration-color: #008080; font-weight: bold\">166381</span>\n",
              "</pre>\n"
            ],
            "text/plain": [
              "Change detected at index \u001b[1;36m166381\u001b[0m\n"
            ]
          },
          "metadata": {},
          "output_type": "display_data"
        },
        {
          "data": {
            "text/html": [
              "<pre style=\"white-space:pre;overflow-x:auto;line-height:normal;font-family:Menlo,'DejaVu Sans Mono',consolas,'Courier New',monospace\">Change detected at index <span style=\"color: #008080; text-decoration-color: #008080; font-weight: bold\">166477</span>\n",
              "</pre>\n"
            ],
            "text/plain": [
              "Change detected at index \u001b[1;36m166477\u001b[0m\n"
            ]
          },
          "metadata": {},
          "output_type": "display_data"
        },
        {
          "data": {
            "text/html": [
              "<pre style=\"white-space:pre;overflow-x:auto;line-height:normal;font-family:Menlo,'DejaVu Sans Mono',consolas,'Courier New',monospace\">Change detected at index <span style=\"color: #008080; text-decoration-color: #008080; font-weight: bold\">166541</span>\n",
              "</pre>\n"
            ],
            "text/plain": [
              "Change detected at index \u001b[1;36m166541\u001b[0m\n"
            ]
          },
          "metadata": {},
          "output_type": "display_data"
        },
        {
          "data": {
            "text/html": [
              "<pre style=\"white-space:pre;overflow-x:auto;line-height:normal;font-family:Menlo,'DejaVu Sans Mono',consolas,'Courier New',monospace\">Change detected at index <span style=\"color: #008080; text-decoration-color: #008080; font-weight: bold\">166669</span>\n",
              "</pre>\n"
            ],
            "text/plain": [
              "Change detected at index \u001b[1;36m166669\u001b[0m\n"
            ]
          },
          "metadata": {},
          "output_type": "display_data"
        },
        {
          "data": {
            "text/html": [
              "<pre style=\"white-space:pre;overflow-x:auto;line-height:normal;font-family:Menlo,'DejaVu Sans Mono',consolas,'Courier New',monospace\">Change detected at index <span style=\"color: #008080; text-decoration-color: #008080; font-weight: bold\">166733</span>\n",
              "</pre>\n"
            ],
            "text/plain": [
              "Change detected at index \u001b[1;36m166733\u001b[0m\n"
            ]
          },
          "metadata": {},
          "output_type": "display_data"
        },
        {
          "data": {
            "text/html": [
              "<pre style=\"white-space:pre;overflow-x:auto;line-height:normal;font-family:Menlo,'DejaVu Sans Mono',consolas,'Courier New',monospace\">Change detected at index <span style=\"color: #008080; text-decoration-color: #008080; font-weight: bold\">166829</span>\n",
              "</pre>\n"
            ],
            "text/plain": [
              "Change detected at index \u001b[1;36m166829\u001b[0m\n"
            ]
          },
          "metadata": {},
          "output_type": "display_data"
        },
        {
          "data": {
            "text/html": [
              "<pre style=\"white-space:pre;overflow-x:auto;line-height:normal;font-family:Menlo,'DejaVu Sans Mono',consolas,'Courier New',monospace\">Change detected at index <span style=\"color: #008080; text-decoration-color: #008080; font-weight: bold\">166989</span>\n",
              "</pre>\n"
            ],
            "text/plain": [
              "Change detected at index \u001b[1;36m166989\u001b[0m\n"
            ]
          },
          "metadata": {},
          "output_type": "display_data"
        },
        {
          "data": {
            "text/html": [
              "<pre style=\"white-space:pre;overflow-x:auto;line-height:normal;font-family:Menlo,'DejaVu Sans Mono',consolas,'Courier New',monospace\">Change detected at index <span style=\"color: #008080; text-decoration-color: #008080; font-weight: bold\">167053</span>\n",
              "</pre>\n"
            ],
            "text/plain": [
              "Change detected at index \u001b[1;36m167053\u001b[0m\n"
            ]
          },
          "metadata": {},
          "output_type": "display_data"
        },
        {
          "data": {
            "text/html": [
              "<pre style=\"white-space:pre;overflow-x:auto;line-height:normal;font-family:Menlo,'DejaVu Sans Mono',consolas,'Courier New',monospace\">Change detected at index <span style=\"color: #008080; text-decoration-color: #008080; font-weight: bold\">167149</span>\n",
              "</pre>\n"
            ],
            "text/plain": [
              "Change detected at index \u001b[1;36m167149\u001b[0m\n"
            ]
          },
          "metadata": {},
          "output_type": "display_data"
        },
        {
          "data": {
            "text/html": [
              "<pre style=\"white-space:pre;overflow-x:auto;line-height:normal;font-family:Menlo,'DejaVu Sans Mono',consolas,'Courier New',monospace\">Change detected at index <span style=\"color: #008080; text-decoration-color: #008080; font-weight: bold\">167213</span>\n",
              "</pre>\n"
            ],
            "text/plain": [
              "Change detected at index \u001b[1;36m167213\u001b[0m\n"
            ]
          },
          "metadata": {},
          "output_type": "display_data"
        },
        {
          "data": {
            "text/html": [
              "<pre style=\"white-space:pre;overflow-x:auto;line-height:normal;font-family:Menlo,'DejaVu Sans Mono',consolas,'Courier New',monospace\">Change detected at index <span style=\"color: #008080; text-decoration-color: #008080; font-weight: bold\">167629</span>\n",
              "</pre>\n"
            ],
            "text/plain": [
              "Change detected at index \u001b[1;36m167629\u001b[0m\n"
            ]
          },
          "metadata": {},
          "output_type": "display_data"
        },
        {
          "data": {
            "text/html": [
              "<pre style=\"white-space:pre;overflow-x:auto;line-height:normal;font-family:Menlo,'DejaVu Sans Mono',consolas,'Courier New',monospace\">Change detected at index <span style=\"color: #008080; text-decoration-color: #008080; font-weight: bold\">167757</span>\n",
              "</pre>\n"
            ],
            "text/plain": [
              "Change detected at index \u001b[1;36m167757\u001b[0m\n"
            ]
          },
          "metadata": {},
          "output_type": "display_data"
        },
        {
          "data": {
            "text/html": [
              "<pre style=\"white-space:pre;overflow-x:auto;line-height:normal;font-family:Menlo,'DejaVu Sans Mono',consolas,'Courier New',monospace\">Change detected at index <span style=\"color: #008080; text-decoration-color: #008080; font-weight: bold\">168109</span>\n",
              "</pre>\n"
            ],
            "text/plain": [
              "Change detected at index \u001b[1;36m168109\u001b[0m\n"
            ]
          },
          "metadata": {},
          "output_type": "display_data"
        },
        {
          "data": {
            "text/html": [
              "<pre style=\"white-space:pre;overflow-x:auto;line-height:normal;font-family:Menlo,'DejaVu Sans Mono',consolas,'Courier New',monospace\">Change detected at index <span style=\"color: #008080; text-decoration-color: #008080; font-weight: bold\">168301</span>\n",
              "</pre>\n"
            ],
            "text/plain": [
              "Change detected at index \u001b[1;36m168301\u001b[0m\n"
            ]
          },
          "metadata": {},
          "output_type": "display_data"
        },
        {
          "data": {
            "text/html": [
              "<pre style=\"white-space:pre;overflow-x:auto;line-height:normal;font-family:Menlo,'DejaVu Sans Mono',consolas,'Courier New',monospace\">Change detected at index <span style=\"color: #008080; text-decoration-color: #008080; font-weight: bold\">168589</span>\n",
              "</pre>\n"
            ],
            "text/plain": [
              "Change detected at index \u001b[1;36m168589\u001b[0m\n"
            ]
          },
          "metadata": {},
          "output_type": "display_data"
        },
        {
          "data": {
            "text/html": [
              "<pre style=\"white-space:pre;overflow-x:auto;line-height:normal;font-family:Menlo,'DejaVu Sans Mono',consolas,'Courier New',monospace\">Change detected at index <span style=\"color: #008080; text-decoration-color: #008080; font-weight: bold\">168781</span>\n",
              "</pre>\n"
            ],
            "text/plain": [
              "Change detected at index \u001b[1;36m168781\u001b[0m\n"
            ]
          },
          "metadata": {},
          "output_type": "display_data"
        },
        {
          "data": {
            "text/html": [
              "<pre style=\"white-space:pre;overflow-x:auto;line-height:normal;font-family:Menlo,'DejaVu Sans Mono',consolas,'Courier New',monospace\">Change detected at index <span style=\"color: #008080; text-decoration-color: #008080; font-weight: bold\">168941</span>\n",
              "</pre>\n"
            ],
            "text/plain": [
              "Change detected at index \u001b[1;36m168941\u001b[0m\n"
            ]
          },
          "metadata": {},
          "output_type": "display_data"
        },
        {
          "data": {
            "text/html": [
              "<pre style=\"white-space:pre;overflow-x:auto;line-height:normal;font-family:Menlo,'DejaVu Sans Mono',consolas,'Courier New',monospace\">Change detected at index <span style=\"color: #008080; text-decoration-color: #008080; font-weight: bold\">169037</span>\n",
              "</pre>\n"
            ],
            "text/plain": [
              "Change detected at index \u001b[1;36m169037\u001b[0m\n"
            ]
          },
          "metadata": {},
          "output_type": "display_data"
        },
        {
          "data": {
            "text/html": [
              "<pre style=\"white-space:pre;overflow-x:auto;line-height:normal;font-family:Menlo,'DejaVu Sans Mono',consolas,'Courier New',monospace\">Change detected at index <span style=\"color: #008080; text-decoration-color: #008080; font-weight: bold\">169165</span>\n",
              "</pre>\n"
            ],
            "text/plain": [
              "Change detected at index \u001b[1;36m169165\u001b[0m\n"
            ]
          },
          "metadata": {},
          "output_type": "display_data"
        },
        {
          "data": {
            "text/html": [
              "<pre style=\"white-space:pre;overflow-x:auto;line-height:normal;font-family:Menlo,'DejaVu Sans Mono',consolas,'Courier New',monospace\">Change detected at index <span style=\"color: #008080; text-decoration-color: #008080; font-weight: bold\">169229</span>\n",
              "</pre>\n"
            ],
            "text/plain": [
              "Change detected at index \u001b[1;36m169229\u001b[0m\n"
            ]
          },
          "metadata": {},
          "output_type": "display_data"
        },
        {
          "data": {
            "text/html": [
              "<pre style=\"white-space:pre;overflow-x:auto;line-height:normal;font-family:Menlo,'DejaVu Sans Mono',consolas,'Courier New',monospace\">Change detected at index <span style=\"color: #008080; text-decoration-color: #008080; font-weight: bold\">169677</span>\n",
              "</pre>\n"
            ],
            "text/plain": [
              "Change detected at index \u001b[1;36m169677\u001b[0m\n"
            ]
          },
          "metadata": {},
          "output_type": "display_data"
        },
        {
          "data": {
            "text/html": [
              "<pre style=\"white-space:pre;overflow-x:auto;line-height:normal;font-family:Menlo,'DejaVu Sans Mono',consolas,'Courier New',monospace\">Change detected at index <span style=\"color: #008080; text-decoration-color: #008080; font-weight: bold\">169773</span>\n",
              "</pre>\n"
            ],
            "text/plain": [
              "Change detected at index \u001b[1;36m169773\u001b[0m\n"
            ]
          },
          "metadata": {},
          "output_type": "display_data"
        },
        {
          "data": {
            "text/html": [
              "<pre style=\"white-space:pre;overflow-x:auto;line-height:normal;font-family:Menlo,'DejaVu Sans Mono',consolas,'Courier New',monospace\">Change detected at index <span style=\"color: #008080; text-decoration-color: #008080; font-weight: bold\">170061</span>\n",
              "</pre>\n"
            ],
            "text/plain": [
              "Change detected at index \u001b[1;36m170061\u001b[0m\n"
            ]
          },
          "metadata": {},
          "output_type": "display_data"
        },
        {
          "data": {
            "text/html": [
              "<pre style=\"white-space:pre;overflow-x:auto;line-height:normal;font-family:Menlo,'DejaVu Sans Mono',consolas,'Courier New',monospace\">Change detected at index <span style=\"color: #008080; text-decoration-color: #008080; font-weight: bold\">170189</span>\n",
              "</pre>\n"
            ],
            "text/plain": [
              "Change detected at index \u001b[1;36m170189\u001b[0m\n"
            ]
          },
          "metadata": {},
          "output_type": "display_data"
        },
        {
          "data": {
            "text/html": [
              "<pre style=\"white-space:pre;overflow-x:auto;line-height:normal;font-family:Menlo,'DejaVu Sans Mono',consolas,'Courier New',monospace\">Change detected at index <span style=\"color: #008080; text-decoration-color: #008080; font-weight: bold\">170253</span>\n",
              "</pre>\n"
            ],
            "text/plain": [
              "Change detected at index \u001b[1;36m170253\u001b[0m\n"
            ]
          },
          "metadata": {},
          "output_type": "display_data"
        },
        {
          "data": {
            "text/html": [
              "<pre style=\"white-space:pre;overflow-x:auto;line-height:normal;font-family:Menlo,'DejaVu Sans Mono',consolas,'Courier New',monospace\">Change detected at index <span style=\"color: #008080; text-decoration-color: #008080; font-weight: bold\">170317</span>\n",
              "</pre>\n"
            ],
            "text/plain": [
              "Change detected at index \u001b[1;36m170317\u001b[0m\n"
            ]
          },
          "metadata": {},
          "output_type": "display_data"
        },
        {
          "data": {
            "text/html": [
              "<pre style=\"white-space:pre;overflow-x:auto;line-height:normal;font-family:Menlo,'DejaVu Sans Mono',consolas,'Courier New',monospace\">Change detected at index <span style=\"color: #008080; text-decoration-color: #008080; font-weight: bold\">170445</span>\n",
              "</pre>\n"
            ],
            "text/plain": [
              "Change detected at index \u001b[1;36m170445\u001b[0m\n"
            ]
          },
          "metadata": {},
          "output_type": "display_data"
        },
        {
          "data": {
            "text/html": [
              "<pre style=\"white-space:pre;overflow-x:auto;line-height:normal;font-family:Menlo,'DejaVu Sans Mono',consolas,'Courier New',monospace\">Change detected at index <span style=\"color: #008080; text-decoration-color: #008080; font-weight: bold\">170701</span>\n",
              "</pre>\n"
            ],
            "text/plain": [
              "Change detected at index \u001b[1;36m170701\u001b[0m\n"
            ]
          },
          "metadata": {},
          "output_type": "display_data"
        },
        {
          "data": {
            "text/html": [
              "<pre style=\"white-space:pre;overflow-x:auto;line-height:normal;font-family:Menlo,'DejaVu Sans Mono',consolas,'Courier New',monospace\">Change detected at index <span style=\"color: #008080; text-decoration-color: #008080; font-weight: bold\">170765</span>\n",
              "</pre>\n"
            ],
            "text/plain": [
              "Change detected at index \u001b[1;36m170765\u001b[0m\n"
            ]
          },
          "metadata": {},
          "output_type": "display_data"
        },
        {
          "data": {
            "text/html": [
              "<pre style=\"white-space:pre;overflow-x:auto;line-height:normal;font-family:Menlo,'DejaVu Sans Mono',consolas,'Courier New',monospace\">Change detected at index <span style=\"color: #008080; text-decoration-color: #008080; font-weight: bold\">170893</span>\n",
              "</pre>\n"
            ],
            "text/plain": [
              "Change detected at index \u001b[1;36m170893\u001b[0m\n"
            ]
          },
          "metadata": {},
          "output_type": "display_data"
        },
        {
          "data": {
            "text/html": [
              "<pre style=\"white-space:pre;overflow-x:auto;line-height:normal;font-family:Menlo,'DejaVu Sans Mono',consolas,'Courier New',monospace\">Change detected at index <span style=\"color: #008080; text-decoration-color: #008080; font-weight: bold\">170989</span>\n",
              "</pre>\n"
            ],
            "text/plain": [
              "Change detected at index \u001b[1;36m170989\u001b[0m\n"
            ]
          },
          "metadata": {},
          "output_type": "display_data"
        },
        {
          "data": {
            "text/html": [
              "<pre style=\"white-space:pre;overflow-x:auto;line-height:normal;font-family:Menlo,'DejaVu Sans Mono',consolas,'Courier New',monospace\">Change detected at index <span style=\"color: #008080; text-decoration-color: #008080; font-weight: bold\">171245</span>\n",
              "</pre>\n"
            ],
            "text/plain": [
              "Change detected at index \u001b[1;36m171245\u001b[0m\n"
            ]
          },
          "metadata": {},
          "output_type": "display_data"
        },
        {
          "data": {
            "text/html": [
              "<pre style=\"white-space:pre;overflow-x:auto;line-height:normal;font-family:Menlo,'DejaVu Sans Mono',consolas,'Courier New',monospace\">Change detected at index <span style=\"color: #008080; text-decoration-color: #008080; font-weight: bold\">171341</span>\n",
              "</pre>\n"
            ],
            "text/plain": [
              "Change detected at index \u001b[1;36m171341\u001b[0m\n"
            ]
          },
          "metadata": {},
          "output_type": "display_data"
        },
        {
          "data": {
            "text/html": [
              "<pre style=\"white-space:pre;overflow-x:auto;line-height:normal;font-family:Menlo,'DejaVu Sans Mono',consolas,'Courier New',monospace\">Change detected at index <span style=\"color: #008080; text-decoration-color: #008080; font-weight: bold\">171533</span>\n",
              "</pre>\n"
            ],
            "text/plain": [
              "Change detected at index \u001b[1;36m171533\u001b[0m\n"
            ]
          },
          "metadata": {},
          "output_type": "display_data"
        },
        {
          "data": {
            "text/html": [
              "<pre style=\"white-space:pre;overflow-x:auto;line-height:normal;font-family:Menlo,'DejaVu Sans Mono',consolas,'Courier New',monospace\">Change detected at index <span style=\"color: #008080; text-decoration-color: #008080; font-weight: bold\">171693</span>\n",
              "</pre>\n"
            ],
            "text/plain": [
              "Change detected at index \u001b[1;36m171693\u001b[0m\n"
            ]
          },
          "metadata": {},
          "output_type": "display_data"
        },
        {
          "data": {
            "text/html": [
              "<pre style=\"white-space:pre;overflow-x:auto;line-height:normal;font-family:Menlo,'DejaVu Sans Mono',consolas,'Courier New',monospace\">Change detected at index <span style=\"color: #008080; text-decoration-color: #008080; font-weight: bold\">171789</span>\n",
              "</pre>\n"
            ],
            "text/plain": [
              "Change detected at index \u001b[1;36m171789\u001b[0m\n"
            ]
          },
          "metadata": {},
          "output_type": "display_data"
        },
        {
          "data": {
            "text/html": [
              "<pre style=\"white-space:pre;overflow-x:auto;line-height:normal;font-family:Menlo,'DejaVu Sans Mono',consolas,'Courier New',monospace\">Change detected at index <span style=\"color: #008080; text-decoration-color: #008080; font-weight: bold\">171853</span>\n",
              "</pre>\n"
            ],
            "text/plain": [
              "Change detected at index \u001b[1;36m171853\u001b[0m\n"
            ]
          },
          "metadata": {},
          "output_type": "display_data"
        },
        {
          "data": {
            "text/html": [
              "<pre style=\"white-space:pre;overflow-x:auto;line-height:normal;font-family:Menlo,'DejaVu Sans Mono',consolas,'Courier New',monospace\">Change detected at index <span style=\"color: #008080; text-decoration-color: #008080; font-weight: bold\">172013</span>\n",
              "</pre>\n"
            ],
            "text/plain": [
              "Change detected at index \u001b[1;36m172013\u001b[0m\n"
            ]
          },
          "metadata": {},
          "output_type": "display_data"
        },
        {
          "data": {
            "text/html": [
              "<pre style=\"white-space:pre;overflow-x:auto;line-height:normal;font-family:Menlo,'DejaVu Sans Mono',consolas,'Courier New',monospace\">Change detected at index <span style=\"color: #008080; text-decoration-color: #008080; font-weight: bold\">172237</span>\n",
              "</pre>\n"
            ],
            "text/plain": [
              "Change detected at index \u001b[1;36m172237\u001b[0m\n"
            ]
          },
          "metadata": {},
          "output_type": "display_data"
        },
        {
          "data": {
            "text/html": [
              "<pre style=\"white-space:pre;overflow-x:auto;line-height:normal;font-family:Menlo,'DejaVu Sans Mono',consolas,'Courier New',monospace\">Change detected at index <span style=\"color: #008080; text-decoration-color: #008080; font-weight: bold\">172333</span>\n",
              "</pre>\n"
            ],
            "text/plain": [
              "Change detected at index \u001b[1;36m172333\u001b[0m\n"
            ]
          },
          "metadata": {},
          "output_type": "display_data"
        },
        {
          "data": {
            "text/html": [
              "<pre style=\"white-space:pre;overflow-x:auto;line-height:normal;font-family:Menlo,'DejaVu Sans Mono',consolas,'Courier New',monospace\">Change detected at index <span style=\"color: #008080; text-decoration-color: #008080; font-weight: bold\">172525</span>\n",
              "</pre>\n"
            ],
            "text/plain": [
              "Change detected at index \u001b[1;36m172525\u001b[0m\n"
            ]
          },
          "metadata": {},
          "output_type": "display_data"
        },
        {
          "data": {
            "text/html": [
              "<pre style=\"white-space:pre;overflow-x:auto;line-height:normal;font-family:Menlo,'DejaVu Sans Mono',consolas,'Courier New',monospace\">Change detected at index <span style=\"color: #008080; text-decoration-color: #008080; font-weight: bold\">172717</span>\n",
              "</pre>\n"
            ],
            "text/plain": [
              "Change detected at index \u001b[1;36m172717\u001b[0m\n"
            ]
          },
          "metadata": {},
          "output_type": "display_data"
        },
        {
          "data": {
            "text/html": [
              "<pre style=\"white-space:pre;overflow-x:auto;line-height:normal;font-family:Menlo,'DejaVu Sans Mono',consolas,'Courier New',monospace\">Change detected at index <span style=\"color: #008080; text-decoration-color: #008080; font-weight: bold\">172781</span>\n",
              "</pre>\n"
            ],
            "text/plain": [
              "Change detected at index \u001b[1;36m172781\u001b[0m\n"
            ]
          },
          "metadata": {},
          "output_type": "display_data"
        },
        {
          "data": {
            "text/html": [
              "<pre style=\"white-space:pre;overflow-x:auto;line-height:normal;font-family:Menlo,'DejaVu Sans Mono',consolas,'Courier New',monospace\">Change detected at index <span style=\"color: #008080; text-decoration-color: #008080; font-weight: bold\">172973</span>\n",
              "</pre>\n"
            ],
            "text/plain": [
              "Change detected at index \u001b[1;36m172973\u001b[0m\n"
            ]
          },
          "metadata": {},
          "output_type": "display_data"
        },
        {
          "data": {
            "text/html": [
              "<pre style=\"white-space:pre;overflow-x:auto;line-height:normal;font-family:Menlo,'DejaVu Sans Mono',consolas,'Courier New',monospace\">Change detected at index <span style=\"color: #008080; text-decoration-color: #008080; font-weight: bold\">173005</span>\n",
              "</pre>\n"
            ],
            "text/plain": [
              "Change detected at index \u001b[1;36m173005\u001b[0m\n"
            ]
          },
          "metadata": {},
          "output_type": "display_data"
        }
      ],
      "source": [
        "\n",
        "drift_detector = drift.ADWIN()\n",
        "drifts = []\n",
        "\n",
        "\n",
        "print(last_year_energy.index[0])\n",
        "\n",
        "first_idx = last_year_energy.index[0]\n",
        "\n",
        "for i, val in enumerate(last_year_energy):\n",
        "    drift_detector.update(val)   # Data is processed one sample at a time\n",
        "    if drift_detector.drift_detected:\n",
        "        # The drift detector indicates after each sample if there is a drift in the data\n",
        "        print(f'Change detected at index {i+first_idx}')\n",
        "        drifts.append(i+first_idx)\n",
        "        #drift_detector.reset()   # As a best practice, we reset the detector\n"
      ]
    },
    {
      "cell_type": "code",
      "execution_count": null,
      "id": "dcc45cd1",
      "metadata": {
        "id": "dcc45cd1",
        "outputId": "bc82133b-7b77-489d-89b2-27cd1435aa12"
      },
      "outputs": [
        {
          "data": {
            "image/png": "[encoded data removed]",
            "text/plain": [
              "<Figure size 1000x500 with 1 Axes>"
            ]
          },
          "metadata": {},
          "output_type": "display_data"
        }
      ],
      "source": [
        "fig, ax = plt.subplots(figsize=(10, 5))\n",
        "ax.plot(last_year_energy, label='Data')\n",
        "#ax.plot(drifts, last_year_energy[drifts], 'ro', label='Change detected')\n",
        "ax.vlines(drifts, ymin=min(last_year_energy), ymax=max(last_year_energy), colors='b', linewidth=2)\n",
        "\n",
        "ax.legend()\n",
        "ax.set_title('Energy Consumption in the Last Year')\n",
        "\n",
        "#plt.legend()\n",
        "plt.show()"
      ]
    },
    {
      "cell_type": "markdown",
      "id": "a5c294ad",
      "metadata": {
        "id": "a5c294ad"
      },
      "source": [
        "## 2.2. Last year (PageHinkley)"
      ]
    },
    {
      "cell_type": "markdown",
      "id": "6eb0ab2c",
      "metadata": {
        "id": "6eb0ab2c"
      },
      "source": [
        "PageHinkley is a change detection algorithm that is designed to detect abrupt changes in the mean of the data stream. It uses a cumulative sum to detect abrupt changes in the mean of the data stream.\n",
        "\n",
        "The PageHinkley algorithm was selected because of its ability to detect abrupt changes in the mean of the data stream."
      ]
    },
    {
      "cell_type": "code",
      "execution_count": null,
      "id": "63a7162f",
      "metadata": {
        "id": "63a7162f",
        "outputId": "2c0f8f49-d268-4239-9809-a0937d2b0da9"
      },
      "outputs": [
        {
          "data": {
            "text/html": [
              "<pre style=\"white-space:pre;overflow-x:auto;line-height:normal;font-family:Menlo,'DejaVu Sans Mono',consolas,'Courier New',monospace\"><span style=\"color: #008080; text-decoration-color: #008080; font-weight: bold\">164366</span>\n",
              "</pre>\n"
            ],
            "text/plain": [
              "\u001b[1;36m164366\u001b[0m\n"
            ]
          },
          "metadata": {},
          "output_type": "display_data"
        },
        {
          "data": {
            "text/html": [
              "<pre style=\"white-space:pre;overflow-x:auto;line-height:normal;font-family:Menlo,'DejaVu Sans Mono',consolas,'Courier New',monospace\">Change detected at index <span style=\"color: #008080; text-decoration-color: #008080; font-weight: bold\">164395</span>\n",
              "</pre>\n"
            ],
            "text/plain": [
              "Change detected at index \u001b[1;36m164395\u001b[0m\n"
            ]
          },
          "metadata": {},
          "output_type": "display_data"
        },
        {
          "data": {
            "text/html": [
              "<pre style=\"white-space:pre;overflow-x:auto;line-height:normal;font-family:Menlo,'DejaVu Sans Mono',consolas,'Courier New',monospace\">Change detected at index <span style=\"color: #008080; text-decoration-color: #008080; font-weight: bold\">164425</span>\n",
              "</pre>\n"
            ],
            "text/plain": [
              "Change detected at index \u001b[1;36m164425\u001b[0m\n"
            ]
          },
          "metadata": {},
          "output_type": "display_data"
        },
        {
          "data": {
            "text/html": [
              "<pre style=\"white-space:pre;overflow-x:auto;line-height:normal;font-family:Menlo,'DejaVu Sans Mono',consolas,'Courier New',monospace\">Change detected at index <span style=\"color: #008080; text-decoration-color: #008080; font-weight: bold\">164455</span>\n",
              "</pre>\n"
            ],
            "text/plain": [
              "Change detected at index \u001b[1;36m164455\u001b[0m\n"
            ]
          },
          "metadata": {},
          "output_type": "display_data"
        },
        {
          "data": {
            "text/html": [
              "<pre style=\"white-space:pre;overflow-x:auto;line-height:normal;font-family:Menlo,'DejaVu Sans Mono',consolas,'Courier New',monospace\">Change detected at index <span style=\"color: #008080; text-decoration-color: #008080; font-weight: bold\">164485</span>\n",
              "</pre>\n"
            ],
            "text/plain": [
              "Change detected at index \u001b[1;36m164485\u001b[0m\n"
            ]
          },
          "metadata": {},
          "output_type": "display_data"
        },
        {
          "data": {
            "text/html": [
              "<pre style=\"white-space:pre;overflow-x:auto;line-height:normal;font-family:Menlo,'DejaVu Sans Mono',consolas,'Courier New',monospace\">Change detected at index <span style=\"color: #008080; text-decoration-color: #008080; font-weight: bold\">164515</span>\n",
              "</pre>\n"
            ],
            "text/plain": [
              "Change detected at index \u001b[1;36m164515\u001b[0m\n"
            ]
          },
          "metadata": {},
          "output_type": "display_data"
        },
        {
          "data": {
            "text/html": [
              "<pre style=\"white-space:pre;overflow-x:auto;line-height:normal;font-family:Menlo,'DejaVu Sans Mono',consolas,'Courier New',monospace\">Change detected at index <span style=\"color: #008080; text-decoration-color: #008080; font-weight: bold\">164545</span>\n",
              "</pre>\n"
            ],
            "text/plain": [
              "Change detected at index \u001b[1;36m164545\u001b[0m\n"
            ]
          },
          "metadata": {},
          "output_type": "display_data"
        },
        {
          "data": {
            "text/html": [
              "<pre style=\"white-space:pre;overflow-x:auto;line-height:normal;font-family:Menlo,'DejaVu Sans Mono',consolas,'Courier New',monospace\">Change detected at index <span style=\"color: #008080; text-decoration-color: #008080; font-weight: bold\">164575</span>\n",
              "</pre>\n"
            ],
            "text/plain": [
              "Change detected at index \u001b[1;36m164575\u001b[0m\n"
            ]
          },
          "metadata": {},
          "output_type": "display_data"
        },
        {
          "data": {
            "text/html": [
              "<pre style=\"white-space:pre;overflow-x:auto;line-height:normal;font-family:Menlo,'DejaVu Sans Mono',consolas,'Courier New',monospace\">Change detected at index <span style=\"color: #008080; text-decoration-color: #008080; font-weight: bold\">164605</span>\n",
              "</pre>\n"
            ],
            "text/plain": [
              "Change detected at index \u001b[1;36m164605\u001b[0m\n"
            ]
          },
          "metadata": {},
          "output_type": "display_data"
        },
        {
          "data": {
            "text/html": [
              "<pre style=\"white-space:pre;overflow-x:auto;line-height:normal;font-family:Menlo,'DejaVu Sans Mono',consolas,'Courier New',monospace\">Change detected at index <span style=\"color: #008080; text-decoration-color: #008080; font-weight: bold\">164635</span>\n",
              "</pre>\n"
            ],
            "text/plain": [
              "Change detected at index \u001b[1;36m164635\u001b[0m\n"
            ]
          },
          "metadata": {},
          "output_type": "display_data"
        },
        {
          "data": {
            "text/html": [
              "<pre style=\"white-space:pre;overflow-x:auto;line-height:normal;font-family:Menlo,'DejaVu Sans Mono',consolas,'Courier New',monospace\">Change detected at index <span style=\"color: #008080; text-decoration-color: #008080; font-weight: bold\">164665</span>\n",
              "</pre>\n"
            ],
            "text/plain": [
              "Change detected at index \u001b[1;36m164665\u001b[0m\n"
            ]
          },
          "metadata": {},
          "output_type": "display_data"
        },
        {
          "data": {
            "text/html": [
              "<pre style=\"white-space:pre;overflow-x:auto;line-height:normal;font-family:Menlo,'DejaVu Sans Mono',consolas,'Courier New',monospace\">Change detected at index <span style=\"color: #008080; text-decoration-color: #008080; font-weight: bold\">164695</span>\n",
              "</pre>\n"
            ],
            "text/plain": [
              "Change detected at index \u001b[1;36m164695\u001b[0m\n"
            ]
          },
          "metadata": {},
          "output_type": "display_data"
        },
        {
          "data": {
            "text/html": [
              "<pre style=\"white-space:pre;overflow-x:auto;line-height:normal;font-family:Menlo,'DejaVu Sans Mono',consolas,'Courier New',monospace\">Change detected at index <span style=\"color: #008080; text-decoration-color: #008080; font-weight: bold\">164725</span>\n",
              "</pre>\n"
            ],
            "text/plain": [
              "Change detected at index \u001b[1;36m164725\u001b[0m\n"
            ]
          },
          "metadata": {},
          "output_type": "display_data"
        },
        {
          "data": {
            "text/html": [
              "<pre style=\"white-space:pre;overflow-x:auto;line-height:normal;font-family:Menlo,'DejaVu Sans Mono',consolas,'Courier New',monospace\">Change detected at index <span style=\"color: #008080; text-decoration-color: #008080; font-weight: bold\">164755</span>\n",
              "</pre>\n"
            ],
            "text/plain": [
              "Change detected at index \u001b[1;36m164755\u001b[0m\n"
            ]
          },
          "metadata": {},
          "output_type": "display_data"
        },
        {
          "data": {
            "text/html": [
              "<pre style=\"white-space:pre;overflow-x:auto;line-height:normal;font-family:Menlo,'DejaVu Sans Mono',consolas,'Courier New',monospace\">Change detected at index <span style=\"color: #008080; text-decoration-color: #008080; font-weight: bold\">164785</span>\n",
              "</pre>\n"
            ],
            "text/plain": [
              "Change detected at index \u001b[1;36m164785\u001b[0m\n"
            ]
          },
          "metadata": {},
          "output_type": "display_data"
        },
        {
          "data": {
            "text/html": [
              "<pre style=\"white-space:pre;overflow-x:auto;line-height:normal;font-family:Menlo,'DejaVu Sans Mono',consolas,'Courier New',monospace\">Change detected at index <span style=\"color: #008080; text-decoration-color: #008080; font-weight: bold\">164815</span>\n",
              "</pre>\n"
            ],
            "text/plain": [
              "Change detected at index \u001b[1;36m164815\u001b[0m\n"
            ]
          },
          "metadata": {},
          "output_type": "display_data"
        },
        {
          "data": {
            "text/html": [
              "<pre style=\"white-space:pre;overflow-x:auto;line-height:normal;font-family:Menlo,'DejaVu Sans Mono',consolas,'Courier New',monospace\">Change detected at index <span style=\"color: #008080; text-decoration-color: #008080; font-weight: bold\">164845</span>\n",
              "</pre>\n"
            ],
            "text/plain": [
              "Change detected at index \u001b[1;36m164845\u001b[0m\n"
            ]
          },
          "metadata": {},
          "output_type": "display_data"
        },
        {
          "data": {
            "text/html": [
              "<pre style=\"white-space:pre;overflow-x:auto;line-height:normal;font-family:Menlo,'DejaVu Sans Mono',consolas,'Courier New',monospace\">Change detected at index <span style=\"color: #008080; text-decoration-color: #008080; font-weight: bold\">164875</span>\n",
              "</pre>\n"
            ],
            "text/plain": [
              "Change detected at index \u001b[1;36m164875\u001b[0m\n"
            ]
          },
          "metadata": {},
          "output_type": "display_data"
        },
        {
          "data": {
            "text/html": [
              "<pre style=\"white-space:pre;overflow-x:auto;line-height:normal;font-family:Menlo,'DejaVu Sans Mono',consolas,'Courier New',monospace\">Change detected at index <span style=\"color: #008080; text-decoration-color: #008080; font-weight: bold\">164905</span>\n",
              "</pre>\n"
            ],
            "text/plain": [
              "Change detected at index \u001b[1;36m164905\u001b[0m\n"
            ]
          },
          "metadata": {},
          "output_type": "display_data"
        },
        {
          "data": {
            "text/html": [
              "<pre style=\"white-space:pre;overflow-x:auto;line-height:normal;font-family:Menlo,'DejaVu Sans Mono',consolas,'Courier New',monospace\">Change detected at index <span style=\"color: #008080; text-decoration-color: #008080; font-weight: bold\">164935</span>\n",
              "</pre>\n"
            ],
            "text/plain": [
              "Change detected at index \u001b[1;36m164935\u001b[0m\n"
            ]
          },
          "metadata": {},
          "output_type": "display_data"
        },
        {
          "data": {
            "text/html": [
              "<pre style=\"white-space:pre;overflow-x:auto;line-height:normal;font-family:Menlo,'DejaVu Sans Mono',consolas,'Courier New',monospace\">Change detected at index <span style=\"color: #008080; text-decoration-color: #008080; font-weight: bold\">164965</span>\n",
              "</pre>\n"
            ],
            "text/plain": [
              "Change detected at index \u001b[1;36m164965\u001b[0m\n"
            ]
          },
          "metadata": {},
          "output_type": "display_data"
        },
        {
          "data": {
            "text/html": [
              "<pre style=\"white-space:pre;overflow-x:auto;line-height:normal;font-family:Menlo,'DejaVu Sans Mono',consolas,'Courier New',monospace\">Change detected at index <span style=\"color: #008080; text-decoration-color: #008080; font-weight: bold\">164995</span>\n",
              "</pre>\n"
            ],
            "text/plain": [
              "Change detected at index \u001b[1;36m164995\u001b[0m\n"
            ]
          },
          "metadata": {},
          "output_type": "display_data"
        },
        {
          "data": {
            "text/html": [
              "<pre style=\"white-space:pre;overflow-x:auto;line-height:normal;font-family:Menlo,'DejaVu Sans Mono',consolas,'Courier New',monospace\">Change detected at index <span style=\"color: #008080; text-decoration-color: #008080; font-weight: bold\">165025</span>\n",
              "</pre>\n"
            ],
            "text/plain": [
              "Change detected at index \u001b[1;36m165025\u001b[0m\n"
            ]
          },
          "metadata": {},
          "output_type": "display_data"
        },
        {
          "data": {
            "text/html": [
              "<pre style=\"white-space:pre;overflow-x:auto;line-height:normal;font-family:Menlo,'DejaVu Sans Mono',consolas,'Courier New',monospace\">Change detected at index <span style=\"color: #008080; text-decoration-color: #008080; font-weight: bold\">165055</span>\n",
              "</pre>\n"
            ],
            "text/plain": [
              "Change detected at index \u001b[1;36m165055\u001b[0m\n"
            ]
          },
          "metadata": {},
          "output_type": "display_data"
        },
        {
          "data": {
            "text/html": [
              "<pre style=\"white-space:pre;overflow-x:auto;line-height:normal;font-family:Menlo,'DejaVu Sans Mono',consolas,'Courier New',monospace\">Change detected at index <span style=\"color: #008080; text-decoration-color: #008080; font-weight: bold\">165085</span>\n",
              "</pre>\n"
            ],
            "text/plain": [
              "Change detected at index \u001b[1;36m165085\u001b[0m\n"
            ]
          },
          "metadata": {},
          "output_type": "display_data"
        },
        {
          "data": {
            "text/html": [
              "<pre style=\"white-space:pre;overflow-x:auto;line-height:normal;font-family:Menlo,'DejaVu Sans Mono',consolas,'Courier New',monospace\">Change detected at index <span style=\"color: #008080; text-decoration-color: #008080; font-weight: bold\">165115</span>\n",
              "</pre>\n"
            ],
            "text/plain": [
              "Change detected at index \u001b[1;36m165115\u001b[0m\n"
            ]
          },
          "metadata": {},
          "output_type": "display_data"
        },
        {
          "data": {
            "text/html": [
              "<pre style=\"white-space:pre;overflow-x:auto;line-height:normal;font-family:Menlo,'DejaVu Sans Mono',consolas,'Courier New',monospace\">Change detected at index <span style=\"color: #008080; text-decoration-color: #008080; font-weight: bold\">165145</span>\n",
              "</pre>\n"
            ],
            "text/plain": [
              "Change detected at index \u001b[1;36m165145\u001b[0m\n"
            ]
          },
          "metadata": {},
          "output_type": "display_data"
        },
        {
          "data": {
            "text/html": [
              "<pre style=\"white-space:pre;overflow-x:auto;line-height:normal;font-family:Menlo,'DejaVu Sans Mono',consolas,'Courier New',monospace\">Change detected at index <span style=\"color: #008080; text-decoration-color: #008080; font-weight: bold\">165175</span>\n",
              "</pre>\n"
            ],
            "text/plain": [
              "Change detected at index \u001b[1;36m165175\u001b[0m\n"
            ]
          },
          "metadata": {},
          "output_type": "display_data"
        },
        {
          "data": {
            "text/html": [
              "<pre style=\"white-space:pre;overflow-x:auto;line-height:normal;font-family:Menlo,'DejaVu Sans Mono',consolas,'Courier New',monospace\">Change detected at index <span style=\"color: #008080; text-decoration-color: #008080; font-weight: bold\">165205</span>\n",
              "</pre>\n"
            ],
            "text/plain": [
              "Change detected at index \u001b[1;36m165205\u001b[0m\n"
            ]
          },
          "metadata": {},
          "output_type": "display_data"
        },
        {
          "data": {
            "text/html": [
              "<pre style=\"white-space:pre;overflow-x:auto;line-height:normal;font-family:Menlo,'DejaVu Sans Mono',consolas,'Courier New',monospace\">Change detected at index <span style=\"color: #008080; text-decoration-color: #008080; font-weight: bold\">165235</span>\n",
              "</pre>\n"
            ],
            "text/plain": [
              "Change detected at index \u001b[1;36m165235\u001b[0m\n"
            ]
          },
          "metadata": {},
          "output_type": "display_data"
        },
        {
          "data": {
            "text/html": [
              "<pre style=\"white-space:pre;overflow-x:auto;line-height:normal;font-family:Menlo,'DejaVu Sans Mono',consolas,'Courier New',monospace\">Change detected at index <span style=\"color: #008080; text-decoration-color: #008080; font-weight: bold\">165265</span>\n",
              "</pre>\n"
            ],
            "text/plain": [
              "Change detected at index \u001b[1;36m165265\u001b[0m\n"
            ]
          },
          "metadata": {},
          "output_type": "display_data"
        },
        {
          "data": {
            "text/html": [
              "<pre style=\"white-space:pre;overflow-x:auto;line-height:normal;font-family:Menlo,'DejaVu Sans Mono',consolas,'Courier New',monospace\">Change detected at index <span style=\"color: #008080; text-decoration-color: #008080; font-weight: bold\">165295</span>\n",
              "</pre>\n"
            ],
            "text/plain": [
              "Change detected at index \u001b[1;36m165295\u001b[0m\n"
            ]
          },
          "metadata": {},
          "output_type": "display_data"
        },
        {
          "data": {
            "text/html": [
              "<pre style=\"white-space:pre;overflow-x:auto;line-height:normal;font-family:Menlo,'DejaVu Sans Mono',consolas,'Courier New',monospace\">Change detected at index <span style=\"color: #008080; text-decoration-color: #008080; font-weight: bold\">165325</span>\n",
              "</pre>\n"
            ],
            "text/plain": [
              "Change detected at index \u001b[1;36m165325\u001b[0m\n"
            ]
          },
          "metadata": {},
          "output_type": "display_data"
        },
        {
          "data": {
            "text/html": [
              "<pre style=\"white-space:pre;overflow-x:auto;line-height:normal;font-family:Menlo,'DejaVu Sans Mono',consolas,'Courier New',monospace\">Change detected at index <span style=\"color: #008080; text-decoration-color: #008080; font-weight: bold\">165355</span>\n",
              "</pre>\n"
            ],
            "text/plain": [
              "Change detected at index \u001b[1;36m165355\u001b[0m\n"
            ]
          },
          "metadata": {},
          "output_type": "display_data"
        },
        {
          "data": {
            "text/html": [
              "<pre style=\"white-space:pre;overflow-x:auto;line-height:normal;font-family:Menlo,'DejaVu Sans Mono',consolas,'Courier New',monospace\">Change detected at index <span style=\"color: #008080; text-decoration-color: #008080; font-weight: bold\">165385</span>\n",
              "</pre>\n"
            ],
            "text/plain": [
              "Change detected at index \u001b[1;36m165385\u001b[0m\n"
            ]
          },
          "metadata": {},
          "output_type": "display_data"
        },
        {
          "data": {
            "text/html": [
              "<pre style=\"white-space:pre;overflow-x:auto;line-height:normal;font-family:Menlo,'DejaVu Sans Mono',consolas,'Courier New',monospace\">Change detected at index <span style=\"color: #008080; text-decoration-color: #008080; font-weight: bold\">165415</span>\n",
              "</pre>\n"
            ],
            "text/plain": [
              "Change detected at index \u001b[1;36m165415\u001b[0m\n"
            ]
          },
          "metadata": {},
          "output_type": "display_data"
        },
        {
          "data": {
            "text/html": [
              "<pre style=\"white-space:pre;overflow-x:auto;line-height:normal;font-family:Menlo,'DejaVu Sans Mono',consolas,'Courier New',monospace\">Change detected at index <span style=\"color: #008080; text-decoration-color: #008080; font-weight: bold\">165445</span>\n",
              "</pre>\n"
            ],
            "text/plain": [
              "Change detected at index \u001b[1;36m165445\u001b[0m\n"
            ]
          },
          "metadata": {},
          "output_type": "display_data"
        },
        {
          "data": {
            "text/html": [
              "<pre style=\"white-space:pre;overflow-x:auto;line-height:normal;font-family:Menlo,'DejaVu Sans Mono',consolas,'Courier New',monospace\">Change detected at index <span style=\"color: #008080; text-decoration-color: #008080; font-weight: bold\">165475</span>\n",
              "</pre>\n"
            ],
            "text/plain": [
              "Change detected at index \u001b[1;36m165475\u001b[0m\n"
            ]
          },
          "metadata": {},
          "output_type": "display_data"
        },
        {
          "data": {
            "text/html": [
              "<pre style=\"white-space:pre;overflow-x:auto;line-height:normal;font-family:Menlo,'DejaVu Sans Mono',consolas,'Courier New',monospace\">Change detected at index <span style=\"color: #008080; text-decoration-color: #008080; font-weight: bold\">165505</span>\n",
              "</pre>\n"
            ],
            "text/plain": [
              "Change detected at index \u001b[1;36m165505\u001b[0m\n"
            ]
          },
          "metadata": {},
          "output_type": "display_data"
        },
        {
          "data": {
            "text/html": [
              "<pre style=\"white-space:pre;overflow-x:auto;line-height:normal;font-family:Menlo,'DejaVu Sans Mono',consolas,'Courier New',monospace\">Change detected at index <span style=\"color: #008080; text-decoration-color: #008080; font-weight: bold\">165535</span>\n",
              "</pre>\n"
            ],
            "text/plain": [
              "Change detected at index \u001b[1;36m165535\u001b[0m\n"
            ]
          },
          "metadata": {},
          "output_type": "display_data"
        },
        {
          "data": {
            "text/html": [
              "<pre style=\"white-space:pre;overflow-x:auto;line-height:normal;font-family:Menlo,'DejaVu Sans Mono',consolas,'Courier New',monospace\">Change detected at index <span style=\"color: #008080; text-decoration-color: #008080; font-weight: bold\">165565</span>\n",
              "</pre>\n"
            ],
            "text/plain": [
              "Change detected at index \u001b[1;36m165565\u001b[0m\n"
            ]
          },
          "metadata": {},
          "output_type": "display_data"
        },
        {
          "data": {
            "text/html": [
              "<pre style=\"white-space:pre;overflow-x:auto;line-height:normal;font-family:Menlo,'DejaVu Sans Mono',consolas,'Courier New',monospace\">Change detected at index <span style=\"color: #008080; text-decoration-color: #008080; font-weight: bold\">165595</span>\n",
              "</pre>\n"
            ],
            "text/plain": [
              "Change detected at index \u001b[1;36m165595\u001b[0m\n"
            ]
          },
          "metadata": {},
          "output_type": "display_data"
        },
        {
          "data": {
            "text/html": [
              "<pre style=\"white-space:pre;overflow-x:auto;line-height:normal;font-family:Menlo,'DejaVu Sans Mono',consolas,'Courier New',monospace\">Change detected at index <span style=\"color: #008080; text-decoration-color: #008080; font-weight: bold\">165625</span>\n",
              "</pre>\n"
            ],
            "text/plain": [
              "Change detected at index \u001b[1;36m165625\u001b[0m\n"
            ]
          },
          "metadata": {},
          "output_type": "display_data"
        },
        {
          "data": {
            "text/html": [
              "<pre style=\"white-space:pre;overflow-x:auto;line-height:normal;font-family:Menlo,'DejaVu Sans Mono',consolas,'Courier New',monospace\">Change detected at index <span style=\"color: #008080; text-decoration-color: #008080; font-weight: bold\">165655</span>\n",
              "</pre>\n"
            ],
            "text/plain": [
              "Change detected at index \u001b[1;36m165655\u001b[0m\n"
            ]
          },
          "metadata": {},
          "output_type": "display_data"
        },
        {
          "data": {
            "text/html": [
              "<pre style=\"white-space:pre;overflow-x:auto;line-height:normal;font-family:Menlo,'DejaVu Sans Mono',consolas,'Courier New',monospace\">Change detected at index <span style=\"color: #008080; text-decoration-color: #008080; font-weight: bold\">165685</span>\n",
              "</pre>\n"
            ],
            "text/plain": [
              "Change detected at index \u001b[1;36m165685\u001b[0m\n"
            ]
          },
          "metadata": {},
          "output_type": "display_data"
        },
        {
          "data": {
            "text/html": [
              "<pre style=\"white-space:pre;overflow-x:auto;line-height:normal;font-family:Menlo,'DejaVu Sans Mono',consolas,'Courier New',monospace\">Change detected at index <span style=\"color: #008080; text-decoration-color: #008080; font-weight: bold\">165715</span>\n",
              "</pre>\n"
            ],
            "text/plain": [
              "Change detected at index \u001b[1;36m165715\u001b[0m\n"
            ]
          },
          "metadata": {},
          "output_type": "display_data"
        },
        {
          "data": {
            "text/html": [
              "<pre style=\"white-space:pre;overflow-x:auto;line-height:normal;font-family:Menlo,'DejaVu Sans Mono',consolas,'Courier New',monospace\">Change detected at index <span style=\"color: #008080; text-decoration-color: #008080; font-weight: bold\">165745</span>\n",
              "</pre>\n"
            ],
            "text/plain": [
              "Change detected at index \u001b[1;36m165745\u001b[0m\n"
            ]
          },
          "metadata": {},
          "output_type": "display_data"
        },
        {
          "data": {
            "text/html": [
              "<pre style=\"white-space:pre;overflow-x:auto;line-height:normal;font-family:Menlo,'DejaVu Sans Mono',consolas,'Courier New',monospace\">Change detected at index <span style=\"color: #008080; text-decoration-color: #008080; font-weight: bold\">165775</span>\n",
              "</pre>\n"
            ],
            "text/plain": [
              "Change detected at index \u001b[1;36m165775\u001b[0m\n"
            ]
          },
          "metadata": {},
          "output_type": "display_data"
        },
        {
          "data": {
            "text/html": [
              "<pre style=\"white-space:pre;overflow-x:auto;line-height:normal;font-family:Menlo,'DejaVu Sans Mono',consolas,'Courier New',monospace\">Change detected at index <span style=\"color: #008080; text-decoration-color: #008080; font-weight: bold\">165805</span>\n",
              "</pre>\n"
            ],
            "text/plain": [
              "Change detected at index \u001b[1;36m165805\u001b[0m\n"
            ]
          },
          "metadata": {},
          "output_type": "display_data"
        },
        {
          "data": {
            "text/html": [
              "<pre style=\"white-space:pre;overflow-x:auto;line-height:normal;font-family:Menlo,'DejaVu Sans Mono',consolas,'Courier New',monospace\">Change detected at index <span style=\"color: #008080; text-decoration-color: #008080; font-weight: bold\">165835</span>\n",
              "</pre>\n"
            ],
            "text/plain": [
              "Change detected at index \u001b[1;36m165835\u001b[0m\n"
            ]
          },
          "metadata": {},
          "output_type": "display_data"
        },
        {
          "data": {
            "text/html": [
              "<pre style=\"white-space:pre;overflow-x:auto;line-height:normal;font-family:Menlo,'DejaVu Sans Mono',consolas,'Courier New',monospace\">Change detected at index <span style=\"color: #008080; text-decoration-color: #008080; font-weight: bold\">165865</span>\n",
              "</pre>\n"
            ],
            "text/plain": [
              "Change detected at index \u001b[1;36m165865\u001b[0m\n"
            ]
          },
          "metadata": {},
          "output_type": "display_data"
        },
        {
          "data": {
            "text/html": [
              "<pre style=\"white-space:pre;overflow-x:auto;line-height:normal;font-family:Menlo,'DejaVu Sans Mono',consolas,'Courier New',monospace\">Change detected at index <span style=\"color: #008080; text-decoration-color: #008080; font-weight: bold\">165895</span>\n",
              "</pre>\n"
            ],
            "text/plain": [
              "Change detected at index \u001b[1;36m165895\u001b[0m\n"
            ]
          },
          "metadata": {},
          "output_type": "display_data"
        },
        {
          "data": {
            "text/html": [
              "<pre style=\"white-space:pre;overflow-x:auto;line-height:normal;font-family:Menlo,'DejaVu Sans Mono',consolas,'Courier New',monospace\">Change detected at index <span style=\"color: #008080; text-decoration-color: #008080; font-weight: bold\">165925</span>\n",
              "</pre>\n"
            ],
            "text/plain": [
              "Change detected at index \u001b[1;36m165925\u001b[0m\n"
            ]
          },
          "metadata": {},
          "output_type": "display_data"
        },
        {
          "data": {
            "text/html": [
              "<pre style=\"white-space:pre;overflow-x:auto;line-height:normal;font-family:Menlo,'DejaVu Sans Mono',consolas,'Courier New',monospace\">Change detected at index <span style=\"color: #008080; text-decoration-color: #008080; font-weight: bold\">165955</span>\n",
              "</pre>\n"
            ],
            "text/plain": [
              "Change detected at index \u001b[1;36m165955\u001b[0m\n"
            ]
          },
          "metadata": {},
          "output_type": "display_data"
        },
        {
          "data": {
            "text/html": [
              "<pre style=\"white-space:pre;overflow-x:auto;line-height:normal;font-family:Menlo,'DejaVu Sans Mono',consolas,'Courier New',monospace\">Change detected at index <span style=\"color: #008080; text-decoration-color: #008080; font-weight: bold\">165985</span>\n",
              "</pre>\n"
            ],
            "text/plain": [
              "Change detected at index \u001b[1;36m165985\u001b[0m\n"
            ]
          },
          "metadata": {},
          "output_type": "display_data"
        },
        {
          "data": {
            "text/html": [
              "<pre style=\"white-space:pre;overflow-x:auto;line-height:normal;font-family:Menlo,'DejaVu Sans Mono',consolas,'Courier New',monospace\">Change detected at index <span style=\"color: #008080; text-decoration-color: #008080; font-weight: bold\">166015</span>\n",
              "</pre>\n"
            ],
            "text/plain": [
              "Change detected at index \u001b[1;36m166015\u001b[0m\n"
            ]
          },
          "metadata": {},
          "output_type": "display_data"
        },
        {
          "data": {
            "text/html": [
              "<pre style=\"white-space:pre;overflow-x:auto;line-height:normal;font-family:Menlo,'DejaVu Sans Mono',consolas,'Courier New',monospace\">Change detected at index <span style=\"color: #008080; text-decoration-color: #008080; font-weight: bold\">166045</span>\n",
              "</pre>\n"
            ],
            "text/plain": [
              "Change detected at index \u001b[1;36m166045\u001b[0m\n"
            ]
          },
          "metadata": {},
          "output_type": "display_data"
        },
        {
          "data": {
            "text/html": [
              "<pre style=\"white-space:pre;overflow-x:auto;line-height:normal;font-family:Menlo,'DejaVu Sans Mono',consolas,'Courier New',monospace\">Change detected at index <span style=\"color: #008080; text-decoration-color: #008080; font-weight: bold\">166075</span>\n",
              "</pre>\n"
            ],
            "text/plain": [
              "Change detected at index \u001b[1;36m166075\u001b[0m\n"
            ]
          },
          "metadata": {},
          "output_type": "display_data"
        },
        {
          "data": {
            "text/html": [
              "<pre style=\"white-space:pre;overflow-x:auto;line-height:normal;font-family:Menlo,'DejaVu Sans Mono',consolas,'Courier New',monospace\">Change detected at index <span style=\"color: #008080; text-decoration-color: #008080; font-weight: bold\">166105</span>\n",
              "</pre>\n"
            ],
            "text/plain": [
              "Change detected at index \u001b[1;36m166105\u001b[0m\n"
            ]
          },
          "metadata": {},
          "output_type": "display_data"
        },
        {
          "data": {
            "text/html": [
              "<pre style=\"white-space:pre;overflow-x:auto;line-height:normal;font-family:Menlo,'DejaVu Sans Mono',consolas,'Courier New',monospace\">Change detected at index <span style=\"color: #008080; text-decoration-color: #008080; font-weight: bold\">166135</span>\n",
              "</pre>\n"
            ],
            "text/plain": [
              "Change detected at index \u001b[1;36m166135\u001b[0m\n"
            ]
          },
          "metadata": {},
          "output_type": "display_data"
        },
        {
          "data": {
            "text/html": [
              "<pre style=\"white-space:pre;overflow-x:auto;line-height:normal;font-family:Menlo,'DejaVu Sans Mono',consolas,'Courier New',monospace\">Change detected at index <span style=\"color: #008080; text-decoration-color: #008080; font-weight: bold\">166165</span>\n",
              "</pre>\n"
            ],
            "text/plain": [
              "Change detected at index \u001b[1;36m166165\u001b[0m\n"
            ]
          },
          "metadata": {},
          "output_type": "display_data"
        },
        {
          "data": {
            "text/html": [
              "<pre style=\"white-space:pre;overflow-x:auto;line-height:normal;font-family:Menlo,'DejaVu Sans Mono',consolas,'Courier New',monospace\">Change detected at index <span style=\"color: #008080; text-decoration-color: #008080; font-weight: bold\">166195</span>\n",
              "</pre>\n"
            ],
            "text/plain": [
              "Change detected at index \u001b[1;36m166195\u001b[0m\n"
            ]
          },
          "metadata": {},
          "output_type": "display_data"
        },
        {
          "data": {
            "text/html": [
              "<pre style=\"white-space:pre;overflow-x:auto;line-height:normal;font-family:Menlo,'DejaVu Sans Mono',consolas,'Courier New',monospace\">Change detected at index <span style=\"color: #008080; text-decoration-color: #008080; font-weight: bold\">166225</span>\n",
              "</pre>\n"
            ],
            "text/plain": [
              "Change detected at index \u001b[1;36m166225\u001b[0m\n"
            ]
          },
          "metadata": {},
          "output_type": "display_data"
        },
        {
          "data": {
            "text/html": [
              "<pre style=\"white-space:pre;overflow-x:auto;line-height:normal;font-family:Menlo,'DejaVu Sans Mono',consolas,'Courier New',monospace\">Change detected at index <span style=\"color: #008080; text-decoration-color: #008080; font-weight: bold\">166255</span>\n",
              "</pre>\n"
            ],
            "text/plain": [
              "Change detected at index \u001b[1;36m166255\u001b[0m\n"
            ]
          },
          "metadata": {},
          "output_type": "display_data"
        },
        {
          "data": {
            "text/html": [
              "<pre style=\"white-space:pre;overflow-x:auto;line-height:normal;font-family:Menlo,'DejaVu Sans Mono',consolas,'Courier New',monospace\">Change detected at index <span style=\"color: #008080; text-decoration-color: #008080; font-weight: bold\">166285</span>\n",
              "</pre>\n"
            ],
            "text/plain": [
              "Change detected at index \u001b[1;36m166285\u001b[0m\n"
            ]
          },
          "metadata": {},
          "output_type": "display_data"
        },
        {
          "data": {
            "text/html": [
              "<pre style=\"white-space:pre;overflow-x:auto;line-height:normal;font-family:Menlo,'DejaVu Sans Mono',consolas,'Courier New',monospace\">Change detected at index <span style=\"color: #008080; text-decoration-color: #008080; font-weight: bold\">166315</span>\n",
              "</pre>\n"
            ],
            "text/plain": [
              "Change detected at index \u001b[1;36m166315\u001b[0m\n"
            ]
          },
          "metadata": {},
          "output_type": "display_data"
        },
        {
          "data": {
            "text/html": [
              "<pre style=\"white-space:pre;overflow-x:auto;line-height:normal;font-family:Menlo,'DejaVu Sans Mono',consolas,'Courier New',monospace\">Change detected at index <span style=\"color: #008080; text-decoration-color: #008080; font-weight: bold\">166345</span>\n",
              "</pre>\n"
            ],
            "text/plain": [
              "Change detected at index \u001b[1;36m166345\u001b[0m\n"
            ]
          },
          "metadata": {},
          "output_type": "display_data"
        },
        {
          "data": {
            "text/html": [
              "<pre style=\"white-space:pre;overflow-x:auto;line-height:normal;font-family:Menlo,'DejaVu Sans Mono',consolas,'Courier New',monospace\">Change detected at index <span style=\"color: #008080; text-decoration-color: #008080; font-weight: bold\">166375</span>\n",
              "</pre>\n"
            ],
            "text/plain": [
              "Change detected at index \u001b[1;36m166375\u001b[0m\n"
            ]
          },
          "metadata": {},
          "output_type": "display_data"
        },
        {
          "data": {
            "text/html": [
              "<pre style=\"white-space:pre;overflow-x:auto;line-height:normal;font-family:Menlo,'DejaVu Sans Mono',consolas,'Courier New',monospace\">Change detected at index <span style=\"color: #008080; text-decoration-color: #008080; font-weight: bold\">166405</span>\n",
              "</pre>\n"
            ],
            "text/plain": [
              "Change detected at index \u001b[1;36m166405\u001b[0m\n"
            ]
          },
          "metadata": {},
          "output_type": "display_data"
        },
        {
          "data": {
            "text/html": [
              "<pre style=\"white-space:pre;overflow-x:auto;line-height:normal;font-family:Menlo,'DejaVu Sans Mono',consolas,'Courier New',monospace\">Change detected at index <span style=\"color: #008080; text-decoration-color: #008080; font-weight: bold\">166435</span>\n",
              "</pre>\n"
            ],
            "text/plain": [
              "Change detected at index \u001b[1;36m166435\u001b[0m\n"
            ]
          },
          "metadata": {},
          "output_type": "display_data"
        },
        {
          "data": {
            "text/html": [
              "<pre style=\"white-space:pre;overflow-x:auto;line-height:normal;font-family:Menlo,'DejaVu Sans Mono',consolas,'Courier New',monospace\">Change detected at index <span style=\"color: #008080; text-decoration-color: #008080; font-weight: bold\">166465</span>\n",
              "</pre>\n"
            ],
            "text/plain": [
              "Change detected at index \u001b[1;36m166465\u001b[0m\n"
            ]
          },
          "metadata": {},
          "output_type": "display_data"
        },
        {
          "data": {
            "text/html": [
              "<pre style=\"white-space:pre;overflow-x:auto;line-height:normal;font-family:Menlo,'DejaVu Sans Mono',consolas,'Courier New',monospace\">Change detected at index <span style=\"color: #008080; text-decoration-color: #008080; font-weight: bold\">166495</span>\n",
              "</pre>\n"
            ],
            "text/plain": [
              "Change detected at index \u001b[1;36m166495\u001b[0m\n"
            ]
          },
          "metadata": {},
          "output_type": "display_data"
        },
        {
          "data": {
            "text/html": [
              "<pre style=\"white-space:pre;overflow-x:auto;line-height:normal;font-family:Menlo,'DejaVu Sans Mono',consolas,'Courier New',monospace\">Change detected at index <span style=\"color: #008080; text-decoration-color: #008080; font-weight: bold\">166525</span>\n",
              "</pre>\n"
            ],
            "text/plain": [
              "Change detected at index \u001b[1;36m166525\u001b[0m\n"
            ]
          },
          "metadata": {},
          "output_type": "display_data"
        },
        {
          "data": {
            "text/html": [
              "<pre style=\"white-space:pre;overflow-x:auto;line-height:normal;font-family:Menlo,'DejaVu Sans Mono',consolas,'Courier New',monospace\">Change detected at index <span style=\"color: #008080; text-decoration-color: #008080; font-weight: bold\">166555</span>\n",
              "</pre>\n"
            ],
            "text/plain": [
              "Change detected at index \u001b[1;36m166555\u001b[0m\n"
            ]
          },
          "metadata": {},
          "output_type": "display_data"
        },
        {
          "data": {
            "text/html": [
              "<pre style=\"white-space:pre;overflow-x:auto;line-height:normal;font-family:Menlo,'DejaVu Sans Mono',consolas,'Courier New',monospace\">Change detected at index <span style=\"color: #008080; text-decoration-color: #008080; font-weight: bold\">166585</span>\n",
              "</pre>\n"
            ],
            "text/plain": [
              "Change detected at index \u001b[1;36m166585\u001b[0m\n"
            ]
          },
          "metadata": {},
          "output_type": "display_data"
        },
        {
          "data": {
            "text/html": [
              "<pre style=\"white-space:pre;overflow-x:auto;line-height:normal;font-family:Menlo,'DejaVu Sans Mono',consolas,'Courier New',monospace\">Change detected at index <span style=\"color: #008080; text-decoration-color: #008080; font-weight: bold\">166615</span>\n",
              "</pre>\n"
            ],
            "text/plain": [
              "Change detected at index \u001b[1;36m166615\u001b[0m\n"
            ]
          },
          "metadata": {},
          "output_type": "display_data"
        },
        {
          "data": {
            "text/html": [
              "<pre style=\"white-space:pre;overflow-x:auto;line-height:normal;font-family:Menlo,'DejaVu Sans Mono',consolas,'Courier New',monospace\">Change detected at index <span style=\"color: #008080; text-decoration-color: #008080; font-weight: bold\">166645</span>\n",
              "</pre>\n"
            ],
            "text/plain": [
              "Change detected at index \u001b[1;36m166645\u001b[0m\n"
            ]
          },
          "metadata": {},
          "output_type": "display_data"
        },
        {
          "data": {
            "text/html": [
              "<pre style=\"white-space:pre;overflow-x:auto;line-height:normal;font-family:Menlo,'DejaVu Sans Mono',consolas,'Courier New',monospace\">Change detected at index <span style=\"color: #008080; text-decoration-color: #008080; font-weight: bold\">166675</span>\n",
              "</pre>\n"
            ],
            "text/plain": [
              "Change detected at index \u001b[1;36m166675\u001b[0m\n"
            ]
          },
          "metadata": {},
          "output_type": "display_data"
        },
        {
          "data": {
            "text/html": [
              "<pre style=\"white-space:pre;overflow-x:auto;line-height:normal;font-family:Menlo,'DejaVu Sans Mono',consolas,'Courier New',monospace\">Change detected at index <span style=\"color: #008080; text-decoration-color: #008080; font-weight: bold\">166705</span>\n",
              "</pre>\n"
            ],
            "text/plain": [
              "Change detected at index \u001b[1;36m166705\u001b[0m\n"
            ]
          },
          "metadata": {},
          "output_type": "display_data"
        },
        {
          "data": {
            "text/html": [
              "<pre style=\"white-space:pre;overflow-x:auto;line-height:normal;font-family:Menlo,'DejaVu Sans Mono',consolas,'Courier New',monospace\">Change detected at index <span style=\"color: #008080; text-decoration-color: #008080; font-weight: bold\">166735</span>\n",
              "</pre>\n"
            ],
            "text/plain": [
              "Change detected at index \u001b[1;36m166735\u001b[0m\n"
            ]
          },
          "metadata": {},
          "output_type": "display_data"
        },
        {
          "data": {
            "text/html": [
              "<pre style=\"white-space:pre;overflow-x:auto;line-height:normal;font-family:Menlo,'DejaVu Sans Mono',consolas,'Courier New',monospace\">Change detected at index <span style=\"color: #008080; text-decoration-color: #008080; font-weight: bold\">166765</span>\n",
              "</pre>\n"
            ],
            "text/plain": [
              "Change detected at index \u001b[1;36m166765\u001b[0m\n"
            ]
          },
          "metadata": {},
          "output_type": "display_data"
        },
        {
          "data": {
            "text/html": [
              "<pre style=\"white-space:pre;overflow-x:auto;line-height:normal;font-family:Menlo,'DejaVu Sans Mono',consolas,'Courier New',monospace\">Change detected at index <span style=\"color: #008080; text-decoration-color: #008080; font-weight: bold\">166795</span>\n",
              "</pre>\n"
            ],
            "text/plain": [
              "Change detected at index \u001b[1;36m166795\u001b[0m\n"
            ]
          },
          "metadata": {},
          "output_type": "display_data"
        },
        {
          "data": {
            "text/html": [
              "<pre style=\"white-space:pre;overflow-x:auto;line-height:normal;font-family:Menlo,'DejaVu Sans Mono',consolas,'Courier New',monospace\">Change detected at index <span style=\"color: #008080; text-decoration-color: #008080; font-weight: bold\">166825</span>\n",
              "</pre>\n"
            ],
            "text/plain": [
              "Change detected at index \u001b[1;36m166825\u001b[0m\n"
            ]
          },
          "metadata": {},
          "output_type": "display_data"
        },
        {
          "data": {
            "text/html": [
              "<pre style=\"white-space:pre;overflow-x:auto;line-height:normal;font-family:Menlo,'DejaVu Sans Mono',consolas,'Courier New',monospace\">Change detected at index <span style=\"color: #008080; text-decoration-color: #008080; font-weight: bold\">166855</span>\n",
              "</pre>\n"
            ],
            "text/plain": [
              "Change detected at index \u001b[1;36m166855\u001b[0m\n"
            ]
          },
          "metadata": {},
          "output_type": "display_data"
        },
        {
          "data": {
            "text/html": [
              "<pre style=\"white-space:pre;overflow-x:auto;line-height:normal;font-family:Menlo,'DejaVu Sans Mono',consolas,'Courier New',monospace\">Change detected at index <span style=\"color: #008080; text-decoration-color: #008080; font-weight: bold\">166885</span>\n",
              "</pre>\n"
            ],
            "text/plain": [
              "Change detected at index \u001b[1;36m166885\u001b[0m\n"
            ]
          },
          "metadata": {},
          "output_type": "display_data"
        },
        {
          "data": {
            "text/html": [
              "<pre style=\"white-space:pre;overflow-x:auto;line-height:normal;font-family:Menlo,'DejaVu Sans Mono',consolas,'Courier New',monospace\">Change detected at index <span style=\"color: #008080; text-decoration-color: #008080; font-weight: bold\">166915</span>\n",
              "</pre>\n"
            ],
            "text/plain": [
              "Change detected at index \u001b[1;36m166915\u001b[0m\n"
            ]
          },
          "metadata": {},
          "output_type": "display_data"
        },
        {
          "data": {
            "text/html": [
              "<pre style=\"white-space:pre;overflow-x:auto;line-height:normal;font-family:Menlo,'DejaVu Sans Mono',consolas,'Courier New',monospace\">Change detected at index <span style=\"color: #008080; text-decoration-color: #008080; font-weight: bold\">166945</span>\n",
              "</pre>\n"
            ],
            "text/plain": [
              "Change detected at index \u001b[1;36m166945\u001b[0m\n"
            ]
          },
          "metadata": {},
          "output_type": "display_data"
        },
        {
          "data": {
            "text/html": [
              "<pre style=\"white-space:pre;overflow-x:auto;line-height:normal;font-family:Menlo,'DejaVu Sans Mono',consolas,'Courier New',monospace\">Change detected at index <span style=\"color: #008080; text-decoration-color: #008080; font-weight: bold\">166975</span>\n",
              "</pre>\n"
            ],
            "text/plain": [
              "Change detected at index \u001b[1;36m166975\u001b[0m\n"
            ]
          },
          "metadata": {},
          "output_type": "display_data"
        },
        {
          "data": {
            "text/html": [
              "<pre style=\"white-space:pre;overflow-x:auto;line-height:normal;font-family:Menlo,'DejaVu Sans Mono',consolas,'Courier New',monospace\">Change detected at index <span style=\"color: #008080; text-decoration-color: #008080; font-weight: bold\">167005</span>\n",
              "</pre>\n"
            ],
            "text/plain": [
              "Change detected at index \u001b[1;36m167005\u001b[0m\n"
            ]
          },
          "metadata": {},
          "output_type": "display_data"
        },
        {
          "data": {
            "text/html": [
              "<pre style=\"white-space:pre;overflow-x:auto;line-height:normal;font-family:Menlo,'DejaVu Sans Mono',consolas,'Courier New',monospace\">Change detected at index <span style=\"color: #008080; text-decoration-color: #008080; font-weight: bold\">167035</span>\n",
              "</pre>\n"
            ],
            "text/plain": [
              "Change detected at index \u001b[1;36m167035\u001b[0m\n"
            ]
          },
          "metadata": {},
          "output_type": "display_data"
        },
        {
          "data": {
            "text/html": [
              "<pre style=\"white-space:pre;overflow-x:auto;line-height:normal;font-family:Menlo,'DejaVu Sans Mono',consolas,'Courier New',monospace\">Change detected at index <span style=\"color: #008080; text-decoration-color: #008080; font-weight: bold\">167065</span>\n",
              "</pre>\n"
            ],
            "text/plain": [
              "Change detected at index \u001b[1;36m167065\u001b[0m\n"
            ]
          },
          "metadata": {},
          "output_type": "display_data"
        },
        {
          "data": {
            "text/html": [
              "<pre style=\"white-space:pre;overflow-x:auto;line-height:normal;font-family:Menlo,'DejaVu Sans Mono',consolas,'Courier New',monospace\">Change detected at index <span style=\"color: #008080; text-decoration-color: #008080; font-weight: bold\">167095</span>\n",
              "</pre>\n"
            ],
            "text/plain": [
              "Change detected at index \u001b[1;36m167095\u001b[0m\n"
            ]
          },
          "metadata": {},
          "output_type": "display_data"
        },
        {
          "data": {
            "text/html": [
              "<pre style=\"white-space:pre;overflow-x:auto;line-height:normal;font-family:Menlo,'DejaVu Sans Mono',consolas,'Courier New',monospace\">Change detected at index <span style=\"color: #008080; text-decoration-color: #008080; font-weight: bold\">167125</span>\n",
              "</pre>\n"
            ],
            "text/plain": [
              "Change detected at index \u001b[1;36m167125\u001b[0m\n"
            ]
          },
          "metadata": {},
          "output_type": "display_data"
        },
        {
          "data": {
            "text/html": [
              "<pre style=\"white-space:pre;overflow-x:auto;line-height:normal;font-family:Menlo,'DejaVu Sans Mono',consolas,'Courier New',monospace\">Change detected at index <span style=\"color: #008080; text-decoration-color: #008080; font-weight: bold\">167155</span>\n",
              "</pre>\n"
            ],
            "text/plain": [
              "Change detected at index \u001b[1;36m167155\u001b[0m\n"
            ]
          },
          "metadata": {},
          "output_type": "display_data"
        },
        {
          "data": {
            "text/html": [
              "<pre style=\"white-space:pre;overflow-x:auto;line-height:normal;font-family:Menlo,'DejaVu Sans Mono',consolas,'Courier New',monospace\">Change detected at index <span style=\"color: #008080; text-decoration-color: #008080; font-weight: bold\">167185</span>\n",
              "</pre>\n"
            ],
            "text/plain": [
              "Change detected at index \u001b[1;36m167185\u001b[0m\n"
            ]
          },
          "metadata": {},
          "output_type": "display_data"
        },
        {
          "data": {
            "text/html": [
              "<pre style=\"white-space:pre;overflow-x:auto;line-height:normal;font-family:Menlo,'DejaVu Sans Mono',consolas,'Courier New',monospace\">Change detected at index <span style=\"color: #008080; text-decoration-color: #008080; font-weight: bold\">167215</span>\n",
              "</pre>\n"
            ],
            "text/plain": [
              "Change detected at index \u001b[1;36m167215\u001b[0m\n"
            ]
          },
          "metadata": {},
          "output_type": "display_data"
        },
        {
          "data": {
            "text/html": [
              "<pre style=\"white-space:pre;overflow-x:auto;line-height:normal;font-family:Menlo,'DejaVu Sans Mono',consolas,'Courier New',monospace\">Change detected at index <span style=\"color: #008080; text-decoration-color: #008080; font-weight: bold\">167245</span>\n",
              "</pre>\n"
            ],
            "text/plain": [
              "Change detected at index \u001b[1;36m167245\u001b[0m\n"
            ]
          },
          "metadata": {},
          "output_type": "display_data"
        },
        {
          "data": {
            "text/html": [
              "<pre style=\"white-space:pre;overflow-x:auto;line-height:normal;font-family:Menlo,'DejaVu Sans Mono',consolas,'Courier New',monospace\">Change detected at index <span style=\"color: #008080; text-decoration-color: #008080; font-weight: bold\">167275</span>\n",
              "</pre>\n"
            ],
            "text/plain": [
              "Change detected at index \u001b[1;36m167275\u001b[0m\n"
            ]
          },
          "metadata": {},
          "output_type": "display_data"
        },
        {
          "data": {
            "text/html": [
              "<pre style=\"white-space:pre;overflow-x:auto;line-height:normal;font-family:Menlo,'DejaVu Sans Mono',consolas,'Courier New',monospace\">Change detected at index <span style=\"color: #008080; text-decoration-color: #008080; font-weight: bold\">167305</span>\n",
              "</pre>\n"
            ],
            "text/plain": [
              "Change detected at index \u001b[1;36m167305\u001b[0m\n"
            ]
          },
          "metadata": {},
          "output_type": "display_data"
        },
        {
          "data": {
            "text/html": [
              "<pre style=\"white-space:pre;overflow-x:auto;line-height:normal;font-family:Menlo,'DejaVu Sans Mono',consolas,'Courier New',monospace\">Change detected at index <span style=\"color: #008080; text-decoration-color: #008080; font-weight: bold\">167335</span>\n",
              "</pre>\n"
            ],
            "text/plain": [
              "Change detected at index \u001b[1;36m167335\u001b[0m\n"
            ]
          },
          "metadata": {},
          "output_type": "display_data"
        },
        {
          "data": {
            "text/html": [
              "<pre style=\"white-space:pre;overflow-x:auto;line-height:normal;font-family:Menlo,'DejaVu Sans Mono',consolas,'Courier New',monospace\">Change detected at index <span style=\"color: #008080; text-decoration-color: #008080; font-weight: bold\">167365</span>\n",
              "</pre>\n"
            ],
            "text/plain": [
              "Change detected at index \u001b[1;36m167365\u001b[0m\n"
            ]
          },
          "metadata": {},
          "output_type": "display_data"
        },
        {
          "data": {
            "text/html": [
              "<pre style=\"white-space:pre;overflow-x:auto;line-height:normal;font-family:Menlo,'DejaVu Sans Mono',consolas,'Courier New',monospace\">Change detected at index <span style=\"color: #008080; text-decoration-color: #008080; font-weight: bold\">167395</span>\n",
              "</pre>\n"
            ],
            "text/plain": [
              "Change detected at index \u001b[1;36m167395\u001b[0m\n"
            ]
          },
          "metadata": {},
          "output_type": "display_data"
        },
        {
          "data": {
            "text/html": [
              "<pre style=\"white-space:pre;overflow-x:auto;line-height:normal;font-family:Menlo,'DejaVu Sans Mono',consolas,'Courier New',monospace\">Change detected at index <span style=\"color: #008080; text-decoration-color: #008080; font-weight: bold\">167425</span>\n",
              "</pre>\n"
            ],
            "text/plain": [
              "Change detected at index \u001b[1;36m167425\u001b[0m\n"
            ]
          },
          "metadata": {},
          "output_type": "display_data"
        },
        {
          "data": {
            "text/html": [
              "<pre style=\"white-space:pre;overflow-x:auto;line-height:normal;font-family:Menlo,'DejaVu Sans Mono',consolas,'Courier New',monospace\">Change detected at index <span style=\"color: #008080; text-decoration-color: #008080; font-weight: bold\">167455</span>\n",
              "</pre>\n"
            ],
            "text/plain": [
              "Change detected at index \u001b[1;36m167455\u001b[0m\n"
            ]
          },
          "metadata": {},
          "output_type": "display_data"
        },
        {
          "data": {
            "text/html": [
              "<pre style=\"white-space:pre;overflow-x:auto;line-height:normal;font-family:Menlo,'DejaVu Sans Mono',consolas,'Courier New',monospace\">Change detected at index <span style=\"color: #008080; text-decoration-color: #008080; font-weight: bold\">167485</span>\n",
              "</pre>\n"
            ],
            "text/plain": [
              "Change detected at index \u001b[1;36m167485\u001b[0m\n"
            ]
          },
          "metadata": {},
          "output_type": "display_data"
        },
        {
          "data": {
            "text/html": [
              "<pre style=\"white-space:pre;overflow-x:auto;line-height:normal;font-family:Menlo,'DejaVu Sans Mono',consolas,'Courier New',monospace\">Change detected at index <span style=\"color: #008080; text-decoration-color: #008080; font-weight: bold\">167515</span>\n",
              "</pre>\n"
            ],
            "text/plain": [
              "Change detected at index \u001b[1;36m167515\u001b[0m\n"
            ]
          },
          "metadata": {},
          "output_type": "display_data"
        },
        {
          "data": {
            "text/html": [
              "<pre style=\"white-space:pre;overflow-x:auto;line-height:normal;font-family:Menlo,'DejaVu Sans Mono',consolas,'Courier New',monospace\">Change detected at index <span style=\"color: #008080; text-decoration-color: #008080; font-weight: bold\">167545</span>\n",
              "</pre>\n"
            ],
            "text/plain": [
              "Change detected at index \u001b[1;36m167545\u001b[0m\n"
            ]
          },
          "metadata": {},
          "output_type": "display_data"
        },
        {
          "data": {
            "text/html": [
              "<pre style=\"white-space:pre;overflow-x:auto;line-height:normal;font-family:Menlo,'DejaVu Sans Mono',consolas,'Courier New',monospace\">Change detected at index <span style=\"color: #008080; text-decoration-color: #008080; font-weight: bold\">167575</span>\n",
              "</pre>\n"
            ],
            "text/plain": [
              "Change detected at index \u001b[1;36m167575\u001b[0m\n"
            ]
          },
          "metadata": {},
          "output_type": "display_data"
        },
        {
          "data": {
            "text/html": [
              "<pre style=\"white-space:pre;overflow-x:auto;line-height:normal;font-family:Menlo,'DejaVu Sans Mono',consolas,'Courier New',monospace\">Change detected at index <span style=\"color: #008080; text-decoration-color: #008080; font-weight: bold\">167605</span>\n",
              "</pre>\n"
            ],
            "text/plain": [
              "Change detected at index \u001b[1;36m167605\u001b[0m\n"
            ]
          },
          "metadata": {},
          "output_type": "display_data"
        },
        {
          "data": {
            "text/html": [
              "<pre style=\"white-space:pre;overflow-x:auto;line-height:normal;font-family:Menlo,'DejaVu Sans Mono',consolas,'Courier New',monospace\">Change detected at index <span style=\"color: #008080; text-decoration-color: #008080; font-weight: bold\">167635</span>\n",
              "</pre>\n"
            ],
            "text/plain": [
              "Change detected at index \u001b[1;36m167635\u001b[0m\n"
            ]
          },
          "metadata": {},
          "output_type": "display_data"
        },
        {
          "data": {
            "text/html": [
              "<pre style=\"white-space:pre;overflow-x:auto;line-height:normal;font-family:Menlo,'DejaVu Sans Mono',consolas,'Courier New',monospace\">Change detected at index <span style=\"color: #008080; text-decoration-color: #008080; font-weight: bold\">167665</span>\n",
              "</pre>\n"
            ],
            "text/plain": [
              "Change detected at index \u001b[1;36m167665\u001b[0m\n"
            ]
          },
          "metadata": {},
          "output_type": "display_data"
        },
        {
          "data": {
            "text/html": [
              "<pre style=\"white-space:pre;overflow-x:auto;line-height:normal;font-family:Menlo,'DejaVu Sans Mono',consolas,'Courier New',monospace\">Change detected at index <span style=\"color: #008080; text-decoration-color: #008080; font-weight: bold\">167695</span>\n",
              "</pre>\n"
            ],
            "text/plain": [
              "Change detected at index \u001b[1;36m167695\u001b[0m\n"
            ]
          },
          "metadata": {},
          "output_type": "display_data"
        },
        {
          "data": {
            "text/html": [
              "<pre style=\"white-space:pre;overflow-x:auto;line-height:normal;font-family:Menlo,'DejaVu Sans Mono',consolas,'Courier New',monospace\">Change detected at index <span style=\"color: #008080; text-decoration-color: #008080; font-weight: bold\">167725</span>\n",
              "</pre>\n"
            ],
            "text/plain": [
              "Change detected at index \u001b[1;36m167725\u001b[0m\n"
            ]
          },
          "metadata": {},
          "output_type": "display_data"
        },
        {
          "data": {
            "text/html": [
              "<pre style=\"white-space:pre;overflow-x:auto;line-height:normal;font-family:Menlo,'DejaVu Sans Mono',consolas,'Courier New',monospace\">Change detected at index <span style=\"color: #008080; text-decoration-color: #008080; font-weight: bold\">167755</span>\n",
              "</pre>\n"
            ],
            "text/plain": [
              "Change detected at index \u001b[1;36m167755\u001b[0m\n"
            ]
          },
          "metadata": {},
          "output_type": "display_data"
        },
        {
          "data": {
            "text/html": [
              "<pre style=\"white-space:pre;overflow-x:auto;line-height:normal;font-family:Menlo,'DejaVu Sans Mono',consolas,'Courier New',monospace\">Change detected at index <span style=\"color: #008080; text-decoration-color: #008080; font-weight: bold\">167785</span>\n",
              "</pre>\n"
            ],
            "text/plain": [
              "Change detected at index \u001b[1;36m167785\u001b[0m\n"
            ]
          },
          "metadata": {},
          "output_type": "display_data"
        },
        {
          "data": {
            "text/html": [
              "<pre style=\"white-space:pre;overflow-x:auto;line-height:normal;font-family:Menlo,'DejaVu Sans Mono',consolas,'Courier New',monospace\">Change detected at index <span style=\"color: #008080; text-decoration-color: #008080; font-weight: bold\">167815</span>\n",
              "</pre>\n"
            ],
            "text/plain": [
              "Change detected at index \u001b[1;36m167815\u001b[0m\n"
            ]
          },
          "metadata": {},
          "output_type": "display_data"
        },
        {
          "data": {
            "text/html": [
              "<pre style=\"white-space:pre;overflow-x:auto;line-height:normal;font-family:Menlo,'DejaVu Sans Mono',consolas,'Courier New',monospace\">Change detected at index <span style=\"color: #008080; text-decoration-color: #008080; font-weight: bold\">167845</span>\n",
              "</pre>\n"
            ],
            "text/plain": [
              "Change detected at index \u001b[1;36m167845\u001b[0m\n"
            ]
          },
          "metadata": {},
          "output_type": "display_data"
        },
        {
          "data": {
            "text/html": [
              "<pre style=\"white-space:pre;overflow-x:auto;line-height:normal;font-family:Menlo,'DejaVu Sans Mono',consolas,'Courier New',monospace\">Change detected at index <span style=\"color: #008080; text-decoration-color: #008080; font-weight: bold\">167875</span>\n",
              "</pre>\n"
            ],
            "text/plain": [
              "Change detected at index \u001b[1;36m167875\u001b[0m\n"
            ]
          },
          "metadata": {},
          "output_type": "display_data"
        },
        {
          "data": {
            "text/html": [
              "<pre style=\"white-space:pre;overflow-x:auto;line-height:normal;font-family:Menlo,'DejaVu Sans Mono',consolas,'Courier New',monospace\">Change detected at index <span style=\"color: #008080; text-decoration-color: #008080; font-weight: bold\">167905</span>\n",
              "</pre>\n"
            ],
            "text/plain": [
              "Change detected at index \u001b[1;36m167905\u001b[0m\n"
            ]
          },
          "metadata": {},
          "output_type": "display_data"
        },
        {
          "data": {
            "text/html": [
              "<pre style=\"white-space:pre;overflow-x:auto;line-height:normal;font-family:Menlo,'DejaVu Sans Mono',consolas,'Courier New',monospace\">Change detected at index <span style=\"color: #008080; text-decoration-color: #008080; font-weight: bold\">167935</span>\n",
              "</pre>\n"
            ],
            "text/plain": [
              "Change detected at index \u001b[1;36m167935\u001b[0m\n"
            ]
          },
          "metadata": {},
          "output_type": "display_data"
        },
        {
          "data": {
            "text/html": [
              "<pre style=\"white-space:pre;overflow-x:auto;line-height:normal;font-family:Menlo,'DejaVu Sans Mono',consolas,'Courier New',monospace\">Change detected at index <span style=\"color: #008080; text-decoration-color: #008080; font-weight: bold\">167965</span>\n",
              "</pre>\n"
            ],
            "text/plain": [
              "Change detected at index \u001b[1;36m167965\u001b[0m\n"
            ]
          },
          "metadata": {},
          "output_type": "display_data"
        },
        {
          "data": {
            "text/html": [
              "<pre style=\"white-space:pre;overflow-x:auto;line-height:normal;font-family:Menlo,'DejaVu Sans Mono',consolas,'Courier New',monospace\">Change detected at index <span style=\"color: #008080; text-decoration-color: #008080; font-weight: bold\">167995</span>\n",
              "</pre>\n"
            ],
            "text/plain": [
              "Change detected at index \u001b[1;36m167995\u001b[0m\n"
            ]
          },
          "metadata": {},
          "output_type": "display_data"
        },
        {
          "data": {
            "text/html": [
              "<pre style=\"white-space:pre;overflow-x:auto;line-height:normal;font-family:Menlo,'DejaVu Sans Mono',consolas,'Courier New',monospace\">Change detected at index <span style=\"color: #008080; text-decoration-color: #008080; font-weight: bold\">168025</span>\n",
              "</pre>\n"
            ],
            "text/plain": [
              "Change detected at index \u001b[1;36m168025\u001b[0m\n"
            ]
          },
          "metadata": {},
          "output_type": "display_data"
        },
        {
          "data": {
            "text/html": [
              "<pre style=\"white-space:pre;overflow-x:auto;line-height:normal;font-family:Menlo,'DejaVu Sans Mono',consolas,'Courier New',monospace\">Change detected at index <span style=\"color: #008080; text-decoration-color: #008080; font-weight: bold\">168055</span>\n",
              "</pre>\n"
            ],
            "text/plain": [
              "Change detected at index \u001b[1;36m168055\u001b[0m\n"
            ]
          },
          "metadata": {},
          "output_type": "display_data"
        },
        {
          "data": {
            "text/html": [
              "<pre style=\"white-space:pre;overflow-x:auto;line-height:normal;font-family:Menlo,'DejaVu Sans Mono',consolas,'Courier New',monospace\">Change detected at index <span style=\"color: #008080; text-decoration-color: #008080; font-weight: bold\">168085</span>\n",
              "</pre>\n"
            ],
            "text/plain": [
              "Change detected at index \u001b[1;36m168085\u001b[0m\n"
            ]
          },
          "metadata": {},
          "output_type": "display_data"
        },
        {
          "data": {
            "text/html": [
              "<pre style=\"white-space:pre;overflow-x:auto;line-height:normal;font-family:Menlo,'DejaVu Sans Mono',consolas,'Courier New',monospace\">Change detected at index <span style=\"color: #008080; text-decoration-color: #008080; font-weight: bold\">168115</span>\n",
              "</pre>\n"
            ],
            "text/plain": [
              "Change detected at index \u001b[1;36m168115\u001b[0m\n"
            ]
          },
          "metadata": {},
          "output_type": "display_data"
        },
        {
          "data": {
            "text/html": [
              "<pre style=\"white-space:pre;overflow-x:auto;line-height:normal;font-family:Menlo,'DejaVu Sans Mono',consolas,'Courier New',monospace\">Change detected at index <span style=\"color: #008080; text-decoration-color: #008080; font-weight: bold\">168145</span>\n",
              "</pre>\n"
            ],
            "text/plain": [
              "Change detected at index \u001b[1;36m168145\u001b[0m\n"
            ]
          },
          "metadata": {},
          "output_type": "display_data"
        },
        {
          "data": {
            "text/html": [
              "<pre style=\"white-space:pre;overflow-x:auto;line-height:normal;font-family:Menlo,'DejaVu Sans Mono',consolas,'Courier New',monospace\">Change detected at index <span style=\"color: #008080; text-decoration-color: #008080; font-weight: bold\">168175</span>\n",
              "</pre>\n"
            ],
            "text/plain": [
              "Change detected at index \u001b[1;36m168175\u001b[0m\n"
            ]
          },
          "metadata": {},
          "output_type": "display_data"
        },
        {
          "data": {
            "text/html": [
              "<pre style=\"white-space:pre;overflow-x:auto;line-height:normal;font-family:Menlo,'DejaVu Sans Mono',consolas,'Courier New',monospace\">Change detected at index <span style=\"color: #008080; text-decoration-color: #008080; font-weight: bold\">168205</span>\n",
              "</pre>\n"
            ],
            "text/plain": [
              "Change detected at index \u001b[1;36m168205\u001b[0m\n"
            ]
          },
          "metadata": {},
          "output_type": "display_data"
        },
        {
          "data": {
            "text/html": [
              "<pre style=\"white-space:pre;overflow-x:auto;line-height:normal;font-family:Menlo,'DejaVu Sans Mono',consolas,'Courier New',monospace\">Change detected at index <span style=\"color: #008080; text-decoration-color: #008080; font-weight: bold\">168235</span>\n",
              "</pre>\n"
            ],
            "text/plain": [
              "Change detected at index \u001b[1;36m168235\u001b[0m\n"
            ]
          },
          "metadata": {},
          "output_type": "display_data"
        },
        {
          "data": {
            "text/html": [
              "<pre style=\"white-space:pre;overflow-x:auto;line-height:normal;font-family:Menlo,'DejaVu Sans Mono',consolas,'Courier New',monospace\">Change detected at index <span style=\"color: #008080; text-decoration-color: #008080; font-weight: bold\">168265</span>\n",
              "</pre>\n"
            ],
            "text/plain": [
              "Change detected at index \u001b[1;36m168265\u001b[0m\n"
            ]
          },
          "metadata": {},
          "output_type": "display_data"
        },
        {
          "data": {
            "text/html": [
              "<pre style=\"white-space:pre;overflow-x:auto;line-height:normal;font-family:Menlo,'DejaVu Sans Mono',consolas,'Courier New',monospace\">Change detected at index <span style=\"color: #008080; text-decoration-color: #008080; font-weight: bold\">168295</span>\n",
              "</pre>\n"
            ],
            "text/plain": [
              "Change detected at index \u001b[1;36m168295\u001b[0m\n"
            ]
          },
          "metadata": {},
          "output_type": "display_data"
        },
        {
          "data": {
            "text/html": [
              "<pre style=\"white-space:pre;overflow-x:auto;line-height:normal;font-family:Menlo,'DejaVu Sans Mono',consolas,'Courier New',monospace\">Change detected at index <span style=\"color: #008080; text-decoration-color: #008080; font-weight: bold\">168325</span>\n",
              "</pre>\n"
            ],
            "text/plain": [
              "Change detected at index \u001b[1;36m168325\u001b[0m\n"
            ]
          },
          "metadata": {},
          "output_type": "display_data"
        },
        {
          "data": {
            "text/html": [
              "<pre style=\"white-space:pre;overflow-x:auto;line-height:normal;font-family:Menlo,'DejaVu Sans Mono',consolas,'Courier New',monospace\">Change detected at index <span style=\"color: #008080; text-decoration-color: #008080; font-weight: bold\">168355</span>\n",
              "</pre>\n"
            ],
            "text/plain": [
              "Change detected at index \u001b[1;36m168355\u001b[0m\n"
            ]
          },
          "metadata": {},
          "output_type": "display_data"
        },
        {
          "data": {
            "text/html": [
              "<pre style=\"white-space:pre;overflow-x:auto;line-height:normal;font-family:Menlo,'DejaVu Sans Mono',consolas,'Courier New',monospace\">Change detected at index <span style=\"color: #008080; text-decoration-color: #008080; font-weight: bold\">168385</span>\n",
              "</pre>\n"
            ],
            "text/plain": [
              "Change detected at index \u001b[1;36m168385\u001b[0m\n"
            ]
          },
          "metadata": {},
          "output_type": "display_data"
        },
        {
          "data": {
            "text/html": [
              "<pre style=\"white-space:pre;overflow-x:auto;line-height:normal;font-family:Menlo,'DejaVu Sans Mono',consolas,'Courier New',monospace\">Change detected at index <span style=\"color: #008080; text-decoration-color: #008080; font-weight: bold\">168415</span>\n",
              "</pre>\n"
            ],
            "text/plain": [
              "Change detected at index \u001b[1;36m168415\u001b[0m\n"
            ]
          },
          "metadata": {},
          "output_type": "display_data"
        },
        {
          "data": {
            "text/html": [
              "<pre style=\"white-space:pre;overflow-x:auto;line-height:normal;font-family:Menlo,'DejaVu Sans Mono',consolas,'Courier New',monospace\">Change detected at index <span style=\"color: #008080; text-decoration-color: #008080; font-weight: bold\">168445</span>\n",
              "</pre>\n"
            ],
            "text/plain": [
              "Change detected at index \u001b[1;36m168445\u001b[0m\n"
            ]
          },
          "metadata": {},
          "output_type": "display_data"
        },
        {
          "data": {
            "text/html": [
              "<pre style=\"white-space:pre;overflow-x:auto;line-height:normal;font-family:Menlo,'DejaVu Sans Mono',consolas,'Courier New',monospace\">Change detected at index <span style=\"color: #008080; text-decoration-color: #008080; font-weight: bold\">168475</span>\n",
              "</pre>\n"
            ],
            "text/plain": [
              "Change detected at index \u001b[1;36m168475\u001b[0m\n"
            ]
          },
          "metadata": {},
          "output_type": "display_data"
        },
        {
          "data": {
            "text/html": [
              "<pre style=\"white-space:pre;overflow-x:auto;line-height:normal;font-family:Menlo,'DejaVu Sans Mono',consolas,'Courier New',monospace\">Change detected at index <span style=\"color: #008080; text-decoration-color: #008080; font-weight: bold\">168505</span>\n",
              "</pre>\n"
            ],
            "text/plain": [
              "Change detected at index \u001b[1;36m168505\u001b[0m\n"
            ]
          },
          "metadata": {},
          "output_type": "display_data"
        },
        {
          "data": {
            "text/html": [
              "<pre style=\"white-space:pre;overflow-x:auto;line-height:normal;font-family:Menlo,'DejaVu Sans Mono',consolas,'Courier New',monospace\">Change detected at index <span style=\"color: #008080; text-decoration-color: #008080; font-weight: bold\">168535</span>\n",
              "</pre>\n"
            ],
            "text/plain": [
              "Change detected at index \u001b[1;36m168535\u001b[0m\n"
            ]
          },
          "metadata": {},
          "output_type": "display_data"
        },
        {
          "data": {
            "text/html": [
              "<pre style=\"white-space:pre;overflow-x:auto;line-height:normal;font-family:Menlo,'DejaVu Sans Mono',consolas,'Courier New',monospace\">Change detected at index <span style=\"color: #008080; text-decoration-color: #008080; font-weight: bold\">168565</span>\n",
              "</pre>\n"
            ],
            "text/plain": [
              "Change detected at index \u001b[1;36m168565\u001b[0m\n"
            ]
          },
          "metadata": {},
          "output_type": "display_data"
        },
        {
          "data": {
            "text/html": [
              "<pre style=\"white-space:pre;overflow-x:auto;line-height:normal;font-family:Menlo,'DejaVu Sans Mono',consolas,'Courier New',monospace\">Change detected at index <span style=\"color: #008080; text-decoration-color: #008080; font-weight: bold\">168595</span>\n",
              "</pre>\n"
            ],
            "text/plain": [
              "Change detected at index \u001b[1;36m168595\u001b[0m\n"
            ]
          },
          "metadata": {},
          "output_type": "display_data"
        },
        {
          "data": {
            "text/html": [
              "<pre style=\"white-space:pre;overflow-x:auto;line-height:normal;font-family:Menlo,'DejaVu Sans Mono',consolas,'Courier New',monospace\">Change detected at index <span style=\"color: #008080; text-decoration-color: #008080; font-weight: bold\">168625</span>\n",
              "</pre>\n"
            ],
            "text/plain": [
              "Change detected at index \u001b[1;36m168625\u001b[0m\n"
            ]
          },
          "metadata": {},
          "output_type": "display_data"
        },
        {
          "data": {
            "text/html": [
              "<pre style=\"white-space:pre;overflow-x:auto;line-height:normal;font-family:Menlo,'DejaVu Sans Mono',consolas,'Courier New',monospace\">Change detected at index <span style=\"color: #008080; text-decoration-color: #008080; font-weight: bold\">168655</span>\n",
              "</pre>\n"
            ],
            "text/plain": [
              "Change detected at index \u001b[1;36m168655\u001b[0m\n"
            ]
          },
          "metadata": {},
          "output_type": "display_data"
        },
        {
          "data": {
            "text/html": [
              "<pre style=\"white-space:pre;overflow-x:auto;line-height:normal;font-family:Menlo,'DejaVu Sans Mono',consolas,'Courier New',monospace\">Change detected at index <span style=\"color: #008080; text-decoration-color: #008080; font-weight: bold\">168685</span>\n",
              "</pre>\n"
            ],
            "text/plain": [
              "Change detected at index \u001b[1;36m168685\u001b[0m\n"
            ]
          },
          "metadata": {},
          "output_type": "display_data"
        },
        {
          "data": {
            "text/html": [
              "<pre style=\"white-space:pre;overflow-x:auto;line-height:normal;font-family:Menlo,'DejaVu Sans Mono',consolas,'Courier New',monospace\">Change detected at index <span style=\"color: #008080; text-decoration-color: #008080; font-weight: bold\">168715</span>\n",
              "</pre>\n"
            ],
            "text/plain": [
              "Change detected at index \u001b[1;36m168715\u001b[0m\n"
            ]
          },
          "metadata": {},
          "output_type": "display_data"
        },
        {
          "data": {
            "text/html": [
              "<pre style=\"white-space:pre;overflow-x:auto;line-height:normal;font-family:Menlo,'DejaVu Sans Mono',consolas,'Courier New',monospace\">Change detected at index <span style=\"color: #008080; text-decoration-color: #008080; font-weight: bold\">168745</span>\n",
              "</pre>\n"
            ],
            "text/plain": [
              "Change detected at index \u001b[1;36m168745\u001b[0m\n"
            ]
          },
          "metadata": {},
          "output_type": "display_data"
        },
        {
          "data": {
            "text/html": [
              "<pre style=\"white-space:pre;overflow-x:auto;line-height:normal;font-family:Menlo,'DejaVu Sans Mono',consolas,'Courier New',monospace\">Change detected at index <span style=\"color: #008080; text-decoration-color: #008080; font-weight: bold\">168775</span>\n",
              "</pre>\n"
            ],
            "text/plain": [
              "Change detected at index \u001b[1;36m168775\u001b[0m\n"
            ]
          },
          "metadata": {},
          "output_type": "display_data"
        },
        {
          "data": {
            "text/html": [
              "<pre style=\"white-space:pre;overflow-x:auto;line-height:normal;font-family:Menlo,'DejaVu Sans Mono',consolas,'Courier New',monospace\">Change detected at index <span style=\"color: #008080; text-decoration-color: #008080; font-weight: bold\">168805</span>\n",
              "</pre>\n"
            ],
            "text/plain": [
              "Change detected at index \u001b[1;36m168805\u001b[0m\n"
            ]
          },
          "metadata": {},
          "output_type": "display_data"
        },
        {
          "data": {
            "text/html": [
              "<pre style=\"white-space:pre;overflow-x:auto;line-height:normal;font-family:Menlo,'DejaVu Sans Mono',consolas,'Courier New',monospace\">Change detected at index <span style=\"color: #008080; text-decoration-color: #008080; font-weight: bold\">168835</span>\n",
              "</pre>\n"
            ],
            "text/plain": [
              "Change detected at index \u001b[1;36m168835\u001b[0m\n"
            ]
          },
          "metadata": {},
          "output_type": "display_data"
        },
        {
          "data": {
            "text/html": [
              "<pre style=\"white-space:pre;overflow-x:auto;line-height:normal;font-family:Menlo,'DejaVu Sans Mono',consolas,'Courier New',monospace\">Change detected at index <span style=\"color: #008080; text-decoration-color: #008080; font-weight: bold\">168865</span>\n",
              "</pre>\n"
            ],
            "text/plain": [
              "Change detected at index \u001b[1;36m168865\u001b[0m\n"
            ]
          },
          "metadata": {},
          "output_type": "display_data"
        },
        {
          "data": {
            "text/html": [
              "<pre style=\"white-space:pre;overflow-x:auto;line-height:normal;font-family:Menlo,'DejaVu Sans Mono',consolas,'Courier New',monospace\">Change detected at index <span style=\"color: #008080; text-decoration-color: #008080; font-weight: bold\">168895</span>\n",
              "</pre>\n"
            ],
            "text/plain": [
              "Change detected at index \u001b[1;36m168895\u001b[0m\n"
            ]
          },
          "metadata": {},
          "output_type": "display_data"
        },
        {
          "data": {
            "text/html": [
              "<pre style=\"white-space:pre;overflow-x:auto;line-height:normal;font-family:Menlo,'DejaVu Sans Mono',consolas,'Courier New',monospace\">Change detected at index <span style=\"color: #008080; text-decoration-color: #008080; font-weight: bold\">168925</span>\n",
              "</pre>\n"
            ],
            "text/plain": [
              "Change detected at index \u001b[1;36m168925\u001b[0m\n"
            ]
          },
          "metadata": {},
          "output_type": "display_data"
        },
        {
          "data": {
            "text/html": [
              "<pre style=\"white-space:pre;overflow-x:auto;line-height:normal;font-family:Menlo,'DejaVu Sans Mono',consolas,'Courier New',monospace\">Change detected at index <span style=\"color: #008080; text-decoration-color: #008080; font-weight: bold\">168955</span>\n",
              "</pre>\n"
            ],
            "text/plain": [
              "Change detected at index \u001b[1;36m168955\u001b[0m\n"
            ]
          },
          "metadata": {},
          "output_type": "display_data"
        },
        {
          "data": {
            "text/html": [
              "<pre style=\"white-space:pre;overflow-x:auto;line-height:normal;font-family:Menlo,'DejaVu Sans Mono',consolas,'Courier New',monospace\">Change detected at index <span style=\"color: #008080; text-decoration-color: #008080; font-weight: bold\">168985</span>\n",
              "</pre>\n"
            ],
            "text/plain": [
              "Change detected at index \u001b[1;36m168985\u001b[0m\n"
            ]
          },
          "metadata": {},
          "output_type": "display_data"
        },
        {
          "data": {
            "text/html": [
              "<pre style=\"white-space:pre;overflow-x:auto;line-height:normal;font-family:Menlo,'DejaVu Sans Mono',consolas,'Courier New',monospace\">Change detected at index <span style=\"color: #008080; text-decoration-color: #008080; font-weight: bold\">169015</span>\n",
              "</pre>\n"
            ],
            "text/plain": [
              "Change detected at index \u001b[1;36m169015\u001b[0m\n"
            ]
          },
          "metadata": {},
          "output_type": "display_data"
        },
        {
          "data": {
            "text/html": [
              "<pre style=\"white-space:pre;overflow-x:auto;line-height:normal;font-family:Menlo,'DejaVu Sans Mono',consolas,'Courier New',monospace\">Change detected at index <span style=\"color: #008080; text-decoration-color: #008080; font-weight: bold\">169045</span>\n",
              "</pre>\n"
            ],
            "text/plain": [
              "Change detected at index \u001b[1;36m169045\u001b[0m\n"
            ]
          },
          "metadata": {},
          "output_type": "display_data"
        },
        {
          "data": {
            "text/html": [
              "<pre style=\"white-space:pre;overflow-x:auto;line-height:normal;font-family:Menlo,'DejaVu Sans Mono',consolas,'Courier New',monospace\">Change detected at index <span style=\"color: #008080; text-decoration-color: #008080; font-weight: bold\">169075</span>\n",
              "</pre>\n"
            ],
            "text/plain": [
              "Change detected at index \u001b[1;36m169075\u001b[0m\n"
            ]
          },
          "metadata": {},
          "output_type": "display_data"
        },
        {
          "data": {
            "text/html": [
              "<pre style=\"white-space:pre;overflow-x:auto;line-height:normal;font-family:Menlo,'DejaVu Sans Mono',consolas,'Courier New',monospace\">Change detected at index <span style=\"color: #008080; text-decoration-color: #008080; font-weight: bold\">169105</span>\n",
              "</pre>\n"
            ],
            "text/plain": [
              "Change detected at index \u001b[1;36m169105\u001b[0m\n"
            ]
          },
          "metadata": {},
          "output_type": "display_data"
        },
        {
          "data": {
            "text/html": [
              "<pre style=\"white-space:pre;overflow-x:auto;line-height:normal;font-family:Menlo,'DejaVu Sans Mono',consolas,'Courier New',monospace\">Change detected at index <span style=\"color: #008080; text-decoration-color: #008080; font-weight: bold\">169135</span>\n",
              "</pre>\n"
            ],
            "text/plain": [
              "Change detected at index \u001b[1;36m169135\u001b[0m\n"
            ]
          },
          "metadata": {},
          "output_type": "display_data"
        },
        {
          "data": {
            "text/html": [
              "<pre style=\"white-space:pre;overflow-x:auto;line-height:normal;font-family:Menlo,'DejaVu Sans Mono',consolas,'Courier New',monospace\">Change detected at index <span style=\"color: #008080; text-decoration-color: #008080; font-weight: bold\">169165</span>\n",
              "</pre>\n"
            ],
            "text/plain": [
              "Change detected at index \u001b[1;36m169165\u001b[0m\n"
            ]
          },
          "metadata": {},
          "output_type": "display_data"
        },
        {
          "data": {
            "text/html": [
              "<pre style=\"white-space:pre;overflow-x:auto;line-height:normal;font-family:Menlo,'DejaVu Sans Mono',consolas,'Courier New',monospace\">Change detected at index <span style=\"color: #008080; text-decoration-color: #008080; font-weight: bold\">169195</span>\n",
              "</pre>\n"
            ],
            "text/plain": [
              "Change detected at index \u001b[1;36m169195\u001b[0m\n"
            ]
          },
          "metadata": {},
          "output_type": "display_data"
        },
        {
          "data": {
            "text/html": [
              "<pre style=\"white-space:pre;overflow-x:auto;line-height:normal;font-family:Menlo,'DejaVu Sans Mono',consolas,'Courier New',monospace\">Change detected at index <span style=\"color: #008080; text-decoration-color: #008080; font-weight: bold\">169225</span>\n",
              "</pre>\n"
            ],
            "text/plain": [
              "Change detected at index \u001b[1;36m169225\u001b[0m\n"
            ]
          },
          "metadata": {},
          "output_type": "display_data"
        },
        {
          "data": {
            "text/html": [
              "<pre style=\"white-space:pre;overflow-x:auto;line-height:normal;font-family:Menlo,'DejaVu Sans Mono',consolas,'Courier New',monospace\">Change detected at index <span style=\"color: #008080; text-decoration-color: #008080; font-weight: bold\">169255</span>\n",
              "</pre>\n"
            ],
            "text/plain": [
              "Change detected at index \u001b[1;36m169255\u001b[0m\n"
            ]
          },
          "metadata": {},
          "output_type": "display_data"
        },
        {
          "data": {
            "text/html": [
              "<pre style=\"white-space:pre;overflow-x:auto;line-height:normal;font-family:Menlo,'DejaVu Sans Mono',consolas,'Courier New',monospace\">Change detected at index <span style=\"color: #008080; text-decoration-color: #008080; font-weight: bold\">169285</span>\n",
              "</pre>\n"
            ],
            "text/plain": [
              "Change detected at index \u001b[1;36m169285\u001b[0m\n"
            ]
          },
          "metadata": {},
          "output_type": "display_data"
        },
        {
          "data": {
            "text/html": [
              "<pre style=\"white-space:pre;overflow-x:auto;line-height:normal;font-family:Menlo,'DejaVu Sans Mono',consolas,'Courier New',monospace\">Change detected at index <span style=\"color: #008080; text-decoration-color: #008080; font-weight: bold\">169315</span>\n",
              "</pre>\n"
            ],
            "text/plain": [
              "Change detected at index \u001b[1;36m169315\u001b[0m\n"
            ]
          },
          "metadata": {},
          "output_type": "display_data"
        },
        {
          "data": {
            "text/html": [
              "<pre style=\"white-space:pre;overflow-x:auto;line-height:normal;font-family:Menlo,'DejaVu Sans Mono',consolas,'Courier New',monospace\">Change detected at index <span style=\"color: #008080; text-decoration-color: #008080; font-weight: bold\">169345</span>\n",
              "</pre>\n"
            ],
            "text/plain": [
              "Change detected at index \u001b[1;36m169345\u001b[0m\n"
            ]
          },
          "metadata": {},
          "output_type": "display_data"
        },
        {
          "data": {
            "text/html": [
              "<pre style=\"white-space:pre;overflow-x:auto;line-height:normal;font-family:Menlo,'DejaVu Sans Mono',consolas,'Courier New',monospace\">Change detected at index <span style=\"color: #008080; text-decoration-color: #008080; font-weight: bold\">169375</span>\n",
              "</pre>\n"
            ],
            "text/plain": [
              "Change detected at index \u001b[1;36m169375\u001b[0m\n"
            ]
          },
          "metadata": {},
          "output_type": "display_data"
        },
        {
          "data": {
            "text/html": [
              "<pre style=\"white-space:pre;overflow-x:auto;line-height:normal;font-family:Menlo,'DejaVu Sans Mono',consolas,'Courier New',monospace\">Change detected at index <span style=\"color: #008080; text-decoration-color: #008080; font-weight: bold\">169405</span>\n",
              "</pre>\n"
            ],
            "text/plain": [
              "Change detected at index \u001b[1;36m169405\u001b[0m\n"
            ]
          },
          "metadata": {},
          "output_type": "display_data"
        },
        {
          "data": {
            "text/html": [
              "<pre style=\"white-space:pre;overflow-x:auto;line-height:normal;font-family:Menlo,'DejaVu Sans Mono',consolas,'Courier New',monospace\">Change detected at index <span style=\"color: #008080; text-decoration-color: #008080; font-weight: bold\">169435</span>\n",
              "</pre>\n"
            ],
            "text/plain": [
              "Change detected at index \u001b[1;36m169435\u001b[0m\n"
            ]
          },
          "metadata": {},
          "output_type": "display_data"
        },
        {
          "data": {
            "text/html": [
              "<pre style=\"white-space:pre;overflow-x:auto;line-height:normal;font-family:Menlo,'DejaVu Sans Mono',consolas,'Courier New',monospace\">Change detected at index <span style=\"color: #008080; text-decoration-color: #008080; font-weight: bold\">169465</span>\n",
              "</pre>\n"
            ],
            "text/plain": [
              "Change detected at index \u001b[1;36m169465\u001b[0m\n"
            ]
          },
          "metadata": {},
          "output_type": "display_data"
        },
        {
          "data": {
            "text/html": [
              "<pre style=\"white-space:pre;overflow-x:auto;line-height:normal;font-family:Menlo,'DejaVu Sans Mono',consolas,'Courier New',monospace\">Change detected at index <span style=\"color: #008080; text-decoration-color: #008080; font-weight: bold\">169495</span>\n",
              "</pre>\n"
            ],
            "text/plain": [
              "Change detected at index \u001b[1;36m169495\u001b[0m\n"
            ]
          },
          "metadata": {},
          "output_type": "display_data"
        },
        {
          "data": {
            "text/html": [
              "<pre style=\"white-space:pre;overflow-x:auto;line-height:normal;font-family:Menlo,'DejaVu Sans Mono',consolas,'Courier New',monospace\">Change detected at index <span style=\"color: #008080; text-decoration-color: #008080; font-weight: bold\">169525</span>\n",
              "</pre>\n"
            ],
            "text/plain": [
              "Change detected at index \u001b[1;36m169525\u001b[0m\n"
            ]
          },
          "metadata": {},
          "output_type": "display_data"
        },
        {
          "data": {
            "text/html": [
              "<pre style=\"white-space:pre;overflow-x:auto;line-height:normal;font-family:Menlo,'DejaVu Sans Mono',consolas,'Courier New',monospace\">Change detected at index <span style=\"color: #008080; text-decoration-color: #008080; font-weight: bold\">169555</span>\n",
              "</pre>\n"
            ],
            "text/plain": [
              "Change detected at index \u001b[1;36m169555\u001b[0m\n"
            ]
          },
          "metadata": {},
          "output_type": "display_data"
        },
        {
          "data": {
            "text/html": [
              "<pre style=\"white-space:pre;overflow-x:auto;line-height:normal;font-family:Menlo,'DejaVu Sans Mono',consolas,'Courier New',monospace\">Change detected at index <span style=\"color: #008080; text-decoration-color: #008080; font-weight: bold\">169585</span>\n",
              "</pre>\n"
            ],
            "text/plain": [
              "Change detected at index \u001b[1;36m169585\u001b[0m\n"
            ]
          },
          "metadata": {},
          "output_type": "display_data"
        },
        {
          "data": {
            "text/html": [
              "<pre style=\"white-space:pre;overflow-x:auto;line-height:normal;font-family:Menlo,'DejaVu Sans Mono',consolas,'Courier New',monospace\">Change detected at index <span style=\"color: #008080; text-decoration-color: #008080; font-weight: bold\">169615</span>\n",
              "</pre>\n"
            ],
            "text/plain": [
              "Change detected at index \u001b[1;36m169615\u001b[0m\n"
            ]
          },
          "metadata": {},
          "output_type": "display_data"
        },
        {
          "data": {
            "text/html": [
              "<pre style=\"white-space:pre;overflow-x:auto;line-height:normal;font-family:Menlo,'DejaVu Sans Mono',consolas,'Courier New',monospace\">Change detected at index <span style=\"color: #008080; text-decoration-color: #008080; font-weight: bold\">169645</span>\n",
              "</pre>\n"
            ],
            "text/plain": [
              "Change detected at index \u001b[1;36m169645\u001b[0m\n"
            ]
          },
          "metadata": {},
          "output_type": "display_data"
        },
        {
          "data": {
            "text/html": [
              "<pre style=\"white-space:pre;overflow-x:auto;line-height:normal;font-family:Menlo,'DejaVu Sans Mono',consolas,'Courier New',monospace\">Change detected at index <span style=\"color: #008080; text-decoration-color: #008080; font-weight: bold\">169675</span>\n",
              "</pre>\n"
            ],
            "text/plain": [
              "Change detected at index \u001b[1;36m169675\u001b[0m\n"
            ]
          },
          "metadata": {},
          "output_type": "display_data"
        },
        {
          "data": {
            "text/html": [
              "<pre style=\"white-space:pre;overflow-x:auto;line-height:normal;font-family:Menlo,'DejaVu Sans Mono',consolas,'Courier New',monospace\">Change detected at index <span style=\"color: #008080; text-decoration-color: #008080; font-weight: bold\">169705</span>\n",
              "</pre>\n"
            ],
            "text/plain": [
              "Change detected at index \u001b[1;36m169705\u001b[0m\n"
            ]
          },
          "metadata": {},
          "output_type": "display_data"
        },
        {
          "data": {
            "text/html": [
              "<pre style=\"white-space:pre;overflow-x:auto;line-height:normal;font-family:Menlo,'DejaVu Sans Mono',consolas,'Courier New',monospace\">Change detected at index <span style=\"color: #008080; text-decoration-color: #008080; font-weight: bold\">169735</span>\n",
              "</pre>\n"
            ],
            "text/plain": [
              "Change detected at index \u001b[1;36m169735\u001b[0m\n"
            ]
          },
          "metadata": {},
          "output_type": "display_data"
        },
        {
          "data": {
            "text/html": [
              "<pre style=\"white-space:pre;overflow-x:auto;line-height:normal;font-family:Menlo,'DejaVu Sans Mono',consolas,'Courier New',monospace\">Change detected at index <span style=\"color: #008080; text-decoration-color: #008080; font-weight: bold\">169765</span>\n",
              "</pre>\n"
            ],
            "text/plain": [
              "Change detected at index \u001b[1;36m169765\u001b[0m\n"
            ]
          },
          "metadata": {},
          "output_type": "display_data"
        },
        {
          "data": {
            "text/html": [
              "<pre style=\"white-space:pre;overflow-x:auto;line-height:normal;font-family:Menlo,'DejaVu Sans Mono',consolas,'Courier New',monospace\">Change detected at index <span style=\"color: #008080; text-decoration-color: #008080; font-weight: bold\">169795</span>\n",
              "</pre>\n"
            ],
            "text/plain": [
              "Change detected at index \u001b[1;36m169795\u001b[0m\n"
            ]
          },
          "metadata": {},
          "output_type": "display_data"
        },
        {
          "data": {
            "text/html": [
              "<pre style=\"white-space:pre;overflow-x:auto;line-height:normal;font-family:Menlo,'DejaVu Sans Mono',consolas,'Courier New',monospace\">Change detected at index <span style=\"color: #008080; text-decoration-color: #008080; font-weight: bold\">169825</span>\n",
              "</pre>\n"
            ],
            "text/plain": [
              "Change detected at index \u001b[1;36m169825\u001b[0m\n"
            ]
          },
          "metadata": {},
          "output_type": "display_data"
        },
        {
          "data": {
            "text/html": [
              "<pre style=\"white-space:pre;overflow-x:auto;line-height:normal;font-family:Menlo,'DejaVu Sans Mono',consolas,'Courier New',monospace\">Change detected at index <span style=\"color: #008080; text-decoration-color: #008080; font-weight: bold\">169855</span>\n",
              "</pre>\n"
            ],
            "text/plain": [
              "Change detected at index \u001b[1;36m169855\u001b[0m\n"
            ]
          },
          "metadata": {},
          "output_type": "display_data"
        },
        {
          "data": {
            "text/html": [
              "<pre style=\"white-space:pre;overflow-x:auto;line-height:normal;font-family:Menlo,'DejaVu Sans Mono',consolas,'Courier New',monospace\">Change detected at index <span style=\"color: #008080; text-decoration-color: #008080; font-weight: bold\">169885</span>\n",
              "</pre>\n"
            ],
            "text/plain": [
              "Change detected at index \u001b[1;36m169885\u001b[0m\n"
            ]
          },
          "metadata": {},
          "output_type": "display_data"
        },
        {
          "data": {
            "text/html": [
              "<pre style=\"white-space:pre;overflow-x:auto;line-height:normal;font-family:Menlo,'DejaVu Sans Mono',consolas,'Courier New',monospace\">Change detected at index <span style=\"color: #008080; text-decoration-color: #008080; font-weight: bold\">169915</span>\n",
              "</pre>\n"
            ],
            "text/plain": [
              "Change detected at index \u001b[1;36m169915\u001b[0m\n"
            ]
          },
          "metadata": {},
          "output_type": "display_data"
        },
        {
          "data": {
            "text/html": [
              "<pre style=\"white-space:pre;overflow-x:auto;line-height:normal;font-family:Menlo,'DejaVu Sans Mono',consolas,'Courier New',monospace\">Change detected at index <span style=\"color: #008080; text-decoration-color: #008080; font-weight: bold\">169945</span>\n",
              "</pre>\n"
            ],
            "text/plain": [
              "Change detected at index \u001b[1;36m169945\u001b[0m\n"
            ]
          },
          "metadata": {},
          "output_type": "display_data"
        },
        {
          "data": {
            "text/html": [
              "<pre style=\"white-space:pre;overflow-x:auto;line-height:normal;font-family:Menlo,'DejaVu Sans Mono',consolas,'Courier New',monospace\">Change detected at index <span style=\"color: #008080; text-decoration-color: #008080; font-weight: bold\">169975</span>\n",
              "</pre>\n"
            ],
            "text/plain": [
              "Change detected at index \u001b[1;36m169975\u001b[0m\n"
            ]
          },
          "metadata": {},
          "output_type": "display_data"
        },
        {
          "data": {
            "text/html": [
              "<pre style=\"white-space:pre;overflow-x:auto;line-height:normal;font-family:Menlo,'DejaVu Sans Mono',consolas,'Courier New',monospace\">Change detected at index <span style=\"color: #008080; text-decoration-color: #008080; font-weight: bold\">170005</span>\n",
              "</pre>\n"
            ],
            "text/plain": [
              "Change detected at index \u001b[1;36m170005\u001b[0m\n"
            ]
          },
          "metadata": {},
          "output_type": "display_data"
        },
        {
          "data": {
            "text/html": [
              "<pre style=\"white-space:pre;overflow-x:auto;line-height:normal;font-family:Menlo,'DejaVu Sans Mono',consolas,'Courier New',monospace\">Change detected at index <span style=\"color: #008080; text-decoration-color: #008080; font-weight: bold\">170035</span>\n",
              "</pre>\n"
            ],
            "text/plain": [
              "Change detected at index \u001b[1;36m170035\u001b[0m\n"
            ]
          },
          "metadata": {},
          "output_type": "display_data"
        },
        {
          "data": {
            "text/html": [
              "<pre style=\"white-space:pre;overflow-x:auto;line-height:normal;font-family:Menlo,'DejaVu Sans Mono',consolas,'Courier New',monospace\">Change detected at index <span style=\"color: #008080; text-decoration-color: #008080; font-weight: bold\">170065</span>\n",
              "</pre>\n"
            ],
            "text/plain": [
              "Change detected at index \u001b[1;36m170065\u001b[0m\n"
            ]
          },
          "metadata": {},
          "output_type": "display_data"
        },
        {
          "data": {
            "text/html": [
              "<pre style=\"white-space:pre;overflow-x:auto;line-height:normal;font-family:Menlo,'DejaVu Sans Mono',consolas,'Courier New',monospace\">Change detected at index <span style=\"color: #008080; text-decoration-color: #008080; font-weight: bold\">170095</span>\n",
              "</pre>\n"
            ],
            "text/plain": [
              "Change detected at index \u001b[1;36m170095\u001b[0m\n"
            ]
          },
          "metadata": {},
          "output_type": "display_data"
        },
        {
          "data": {
            "text/html": [
              "<pre style=\"white-space:pre;overflow-x:auto;line-height:normal;font-family:Menlo,'DejaVu Sans Mono',consolas,'Courier New',monospace\">Change detected at index <span style=\"color: #008080; text-decoration-color: #008080; font-weight: bold\">170125</span>\n",
              "</pre>\n"
            ],
            "text/plain": [
              "Change detected at index \u001b[1;36m170125\u001b[0m\n"
            ]
          },
          "metadata": {},
          "output_type": "display_data"
        },
        {
          "data": {
            "text/html": [
              "<pre style=\"white-space:pre;overflow-x:auto;line-height:normal;font-family:Menlo,'DejaVu Sans Mono',consolas,'Courier New',monospace\">Change detected at index <span style=\"color: #008080; text-decoration-color: #008080; font-weight: bold\">170155</span>\n",
              "</pre>\n"
            ],
            "text/plain": [
              "Change detected at index \u001b[1;36m170155\u001b[0m\n"
            ]
          },
          "metadata": {},
          "output_type": "display_data"
        },
        {
          "data": {
            "text/html": [
              "<pre style=\"white-space:pre;overflow-x:auto;line-height:normal;font-family:Menlo,'DejaVu Sans Mono',consolas,'Courier New',monospace\">Change detected at index <span style=\"color: #008080; text-decoration-color: #008080; font-weight: bold\">170185</span>\n",
              "</pre>\n"
            ],
            "text/plain": [
              "Change detected at index \u001b[1;36m170185\u001b[0m\n"
            ]
          },
          "metadata": {},
          "output_type": "display_data"
        },
        {
          "data": {
            "text/html": [
              "<pre style=\"white-space:pre;overflow-x:auto;line-height:normal;font-family:Menlo,'DejaVu Sans Mono',consolas,'Courier New',monospace\">Change detected at index <span style=\"color: #008080; text-decoration-color: #008080; font-weight: bold\">170215</span>\n",
              "</pre>\n"
            ],
            "text/plain": [
              "Change detected at index \u001b[1;36m170215\u001b[0m\n"
            ]
          },
          "metadata": {},
          "output_type": "display_data"
        },
        {
          "data": {
            "text/html": [
              "<pre style=\"white-space:pre;overflow-x:auto;line-height:normal;font-family:Menlo,'DejaVu Sans Mono',consolas,'Courier New',monospace\">Change detected at index <span style=\"color: #008080; text-decoration-color: #008080; font-weight: bold\">170245</span>\n",
              "</pre>\n"
            ],
            "text/plain": [
              "Change detected at index \u001b[1;36m170245\u001b[0m\n"
            ]
          },
          "metadata": {},
          "output_type": "display_data"
        },
        {
          "data": {
            "text/html": [
              "<pre style=\"white-space:pre;overflow-x:auto;line-height:normal;font-family:Menlo,'DejaVu Sans Mono',consolas,'Courier New',monospace\">Change detected at index <span style=\"color: #008080; text-decoration-color: #008080; font-weight: bold\">170275</span>\n",
              "</pre>\n"
            ],
            "text/plain": [
              "Change detected at index \u001b[1;36m170275\u001b[0m\n"
            ]
          },
          "metadata": {},
          "output_type": "display_data"
        },
        {
          "data": {
            "text/html": [
              "<pre style=\"white-space:pre;overflow-x:auto;line-height:normal;font-family:Menlo,'DejaVu Sans Mono',consolas,'Courier New',monospace\">Change detected at index <span style=\"color: #008080; text-decoration-color: #008080; font-weight: bold\">170305</span>\n",
              "</pre>\n"
            ],
            "text/plain": [
              "Change detected at index \u001b[1;36m170305\u001b[0m\n"
            ]
          },
          "metadata": {},
          "output_type": "display_data"
        },
        {
          "data": {
            "text/html": [
              "<pre style=\"white-space:pre;overflow-x:auto;line-height:normal;font-family:Menlo,'DejaVu Sans Mono',consolas,'Courier New',monospace\">Change detected at index <span style=\"color: #008080; text-decoration-color: #008080; font-weight: bold\">170335</span>\n",
              "</pre>\n"
            ],
            "text/plain": [
              "Change detected at index \u001b[1;36m170335\u001b[0m\n"
            ]
          },
          "metadata": {},
          "output_type": "display_data"
        },
        {
          "data": {
            "text/html": [
              "<pre style=\"white-space:pre;overflow-x:auto;line-height:normal;font-family:Menlo,'DejaVu Sans Mono',consolas,'Courier New',monospace\">Change detected at index <span style=\"color: #008080; text-decoration-color: #008080; font-weight: bold\">170365</span>\n",
              "</pre>\n"
            ],
            "text/plain": [
              "Change detected at index \u001b[1;36m170365\u001b[0m\n"
            ]
          },
          "metadata": {},
          "output_type": "display_data"
        },
        {
          "data": {
            "text/html": [
              "<pre style=\"white-space:pre;overflow-x:auto;line-height:normal;font-family:Menlo,'DejaVu Sans Mono',consolas,'Courier New',monospace\">Change detected at index <span style=\"color: #008080; text-decoration-color: #008080; font-weight: bold\">170395</span>\n",
              "</pre>\n"
            ],
            "text/plain": [
              "Change detected at index \u001b[1;36m170395\u001b[0m\n"
            ]
          },
          "metadata": {},
          "output_type": "display_data"
        },
        {
          "data": {
            "text/html": [
              "<pre style=\"white-space:pre;overflow-x:auto;line-height:normal;font-family:Menlo,'DejaVu Sans Mono',consolas,'Courier New',monospace\">Change detected at index <span style=\"color: #008080; text-decoration-color: #008080; font-weight: bold\">170425</span>\n",
              "</pre>\n"
            ],
            "text/plain": [
              "Change detected at index \u001b[1;36m170425\u001b[0m\n"
            ]
          },
          "metadata": {},
          "output_type": "display_data"
        },
        {
          "data": {
            "text/html": [
              "<pre style=\"white-space:pre;overflow-x:auto;line-height:normal;font-family:Menlo,'DejaVu Sans Mono',consolas,'Courier New',monospace\">Change detected at index <span style=\"color: #008080; text-decoration-color: #008080; font-weight: bold\">170455</span>\n",
              "</pre>\n"
            ],
            "text/plain": [
              "Change detected at index \u001b[1;36m170455\u001b[0m\n"
            ]
          },
          "metadata": {},
          "output_type": "display_data"
        },
        {
          "data": {
            "text/html": [
              "<pre style=\"white-space:pre;overflow-x:auto;line-height:normal;font-family:Menlo,'DejaVu Sans Mono',consolas,'Courier New',monospace\">Change detected at index <span style=\"color: #008080; text-decoration-color: #008080; font-weight: bold\">170485</span>\n",
              "</pre>\n"
            ],
            "text/plain": [
              "Change detected at index \u001b[1;36m170485\u001b[0m\n"
            ]
          },
          "metadata": {},
          "output_type": "display_data"
        },
        {
          "data": {
            "text/html": [
              "<pre style=\"white-space:pre;overflow-x:auto;line-height:normal;font-family:Menlo,'DejaVu Sans Mono',consolas,'Courier New',monospace\">Change detected at index <span style=\"color: #008080; text-decoration-color: #008080; font-weight: bold\">170515</span>\n",
              "</pre>\n"
            ],
            "text/plain": [
              "Change detected at index \u001b[1;36m170515\u001b[0m\n"
            ]
          },
          "metadata": {},
          "output_type": "display_data"
        },
        {
          "data": {
            "text/html": [
              "<pre style=\"white-space:pre;overflow-x:auto;line-height:normal;font-family:Menlo,'DejaVu Sans Mono',consolas,'Courier New',monospace\">Change detected at index <span style=\"color: #008080; text-decoration-color: #008080; font-weight: bold\">170545</span>\n",
              "</pre>\n"
            ],
            "text/plain": [
              "Change detected at index \u001b[1;36m170545\u001b[0m\n"
            ]
          },
          "metadata": {},
          "output_type": "display_data"
        },
        {
          "data": {
            "text/html": [
              "<pre style=\"white-space:pre;overflow-x:auto;line-height:normal;font-family:Menlo,'DejaVu Sans Mono',consolas,'Courier New',monospace\">Change detected at index <span style=\"color: #008080; text-decoration-color: #008080; font-weight: bold\">170575</span>\n",
              "</pre>\n"
            ],
            "text/plain": [
              "Change detected at index \u001b[1;36m170575\u001b[0m\n"
            ]
          },
          "metadata": {},
          "output_type": "display_data"
        },
        {
          "data": {
            "text/html": [
              "<pre style=\"white-space:pre;overflow-x:auto;line-height:normal;font-family:Menlo,'DejaVu Sans Mono',consolas,'Courier New',monospace\">Change detected at index <span style=\"color: #008080; text-decoration-color: #008080; font-weight: bold\">170605</span>\n",
              "</pre>\n"
            ],
            "text/plain": [
              "Change detected at index \u001b[1;36m170605\u001b[0m\n"
            ]
          },
          "metadata": {},
          "output_type": "display_data"
        },
        {
          "data": {
            "text/html": [
              "<pre style=\"white-space:pre;overflow-x:auto;line-height:normal;font-family:Menlo,'DejaVu Sans Mono',consolas,'Courier New',monospace\">Change detected at index <span style=\"color: #008080; text-decoration-color: #008080; font-weight: bold\">170635</span>\n",
              "</pre>\n"
            ],
            "text/plain": [
              "Change detected at index \u001b[1;36m170635\u001b[0m\n"
            ]
          },
          "metadata": {},
          "output_type": "display_data"
        },
        {
          "data": {
            "text/html": [
              "<pre style=\"white-space:pre;overflow-x:auto;line-height:normal;font-family:Menlo,'DejaVu Sans Mono',consolas,'Courier New',monospace\">Change detected at index <span style=\"color: #008080; text-decoration-color: #008080; font-weight: bold\">170665</span>\n",
              "</pre>\n"
            ],
            "text/plain": [
              "Change detected at index \u001b[1;36m170665\u001b[0m\n"
            ]
          },
          "metadata": {},
          "output_type": "display_data"
        },
        {
          "data": {
            "text/html": [
              "<pre style=\"white-space:pre;overflow-x:auto;line-height:normal;font-family:Menlo,'DejaVu Sans Mono',consolas,'Courier New',monospace\">Change detected at index <span style=\"color: #008080; text-decoration-color: #008080; font-weight: bold\">170695</span>\n",
              "</pre>\n"
            ],
            "text/plain": [
              "Change detected at index \u001b[1;36m170695\u001b[0m\n"
            ]
          },
          "metadata": {},
          "output_type": "display_data"
        },
        {
          "data": {
            "text/html": [
              "<pre style=\"white-space:pre;overflow-x:auto;line-height:normal;font-family:Menlo,'DejaVu Sans Mono',consolas,'Courier New',monospace\">Change detected at index <span style=\"color: #008080; text-decoration-color: #008080; font-weight: bold\">170725</span>\n",
              "</pre>\n"
            ],
            "text/plain": [
              "Change detected at index \u001b[1;36m170725\u001b[0m\n"
            ]
          },
          "metadata": {},
          "output_type": "display_data"
        },
        {
          "data": {
            "text/html": [
              "<pre style=\"white-space:pre;overflow-x:auto;line-height:normal;font-family:Menlo,'DejaVu Sans Mono',consolas,'Courier New',monospace\">Change detected at index <span style=\"color: #008080; text-decoration-color: #008080; font-weight: bold\">170755</span>\n",
              "</pre>\n"
            ],
            "text/plain": [
              "Change detected at index \u001b[1;36m170755\u001b[0m\n"
            ]
          },
          "metadata": {},
          "output_type": "display_data"
        },
        {
          "data": {
            "text/html": [
              "<pre style=\"white-space:pre;overflow-x:auto;line-height:normal;font-family:Menlo,'DejaVu Sans Mono',consolas,'Courier New',monospace\">Change detected at index <span style=\"color: #008080; text-decoration-color: #008080; font-weight: bold\">170785</span>\n",
              "</pre>\n"
            ],
            "text/plain": [
              "Change detected at index \u001b[1;36m170785\u001b[0m\n"
            ]
          },
          "metadata": {},
          "output_type": "display_data"
        },
        {
          "data": {
            "text/html": [
              "<pre style=\"white-space:pre;overflow-x:auto;line-height:normal;font-family:Menlo,'DejaVu Sans Mono',consolas,'Courier New',monospace\">Change detected at index <span style=\"color: #008080; text-decoration-color: #008080; font-weight: bold\">170815</span>\n",
              "</pre>\n"
            ],
            "text/plain": [
              "Change detected at index \u001b[1;36m170815\u001b[0m\n"
            ]
          },
          "metadata": {},
          "output_type": "display_data"
        },
        {
          "data": {
            "text/html": [
              "<pre style=\"white-space:pre;overflow-x:auto;line-height:normal;font-family:Menlo,'DejaVu Sans Mono',consolas,'Courier New',monospace\">Change detected at index <span style=\"color: #008080; text-decoration-color: #008080; font-weight: bold\">170845</span>\n",
              "</pre>\n"
            ],
            "text/plain": [
              "Change detected at index \u001b[1;36m170845\u001b[0m\n"
            ]
          },
          "metadata": {},
          "output_type": "display_data"
        },
        {
          "data": {
            "text/html": [
              "<pre style=\"white-space:pre;overflow-x:auto;line-height:normal;font-family:Menlo,'DejaVu Sans Mono',consolas,'Courier New',monospace\">Change detected at index <span style=\"color: #008080; text-decoration-color: #008080; font-weight: bold\">170875</span>\n",
              "</pre>\n"
            ],
            "text/plain": [
              "Change detected at index \u001b[1;36m170875\u001b[0m\n"
            ]
          },
          "metadata": {},
          "output_type": "display_data"
        },
        {
          "data": {
            "text/html": [
              "<pre style=\"white-space:pre;overflow-x:auto;line-height:normal;font-family:Menlo,'DejaVu Sans Mono',consolas,'Courier New',monospace\">Change detected at index <span style=\"color: #008080; text-decoration-color: #008080; font-weight: bold\">170905</span>\n",
              "</pre>\n"
            ],
            "text/plain": [
              "Change detected at index \u001b[1;36m170905\u001b[0m\n"
            ]
          },
          "metadata": {},
          "output_type": "display_data"
        },
        {
          "data": {
            "text/html": [
              "<pre style=\"white-space:pre;overflow-x:auto;line-height:normal;font-family:Menlo,'DejaVu Sans Mono',consolas,'Courier New',monospace\">Change detected at index <span style=\"color: #008080; text-decoration-color: #008080; font-weight: bold\">170935</span>\n",
              "</pre>\n"
            ],
            "text/plain": [
              "Change detected at index \u001b[1;36m170935\u001b[0m\n"
            ]
          },
          "metadata": {},
          "output_type": "display_data"
        },
        {
          "data": {
            "text/html": [
              "<pre style=\"white-space:pre;overflow-x:auto;line-height:normal;font-family:Menlo,'DejaVu Sans Mono',consolas,'Courier New',monospace\">Change detected at index <span style=\"color: #008080; text-decoration-color: #008080; font-weight: bold\">170965</span>\n",
              "</pre>\n"
            ],
            "text/plain": [
              "Change detected at index \u001b[1;36m170965\u001b[0m\n"
            ]
          },
          "metadata": {},
          "output_type": "display_data"
        },
        {
          "data": {
            "text/html": [
              "<pre style=\"white-space:pre;overflow-x:auto;line-height:normal;font-family:Menlo,'DejaVu Sans Mono',consolas,'Courier New',monospace\">Change detected at index <span style=\"color: #008080; text-decoration-color: #008080; font-weight: bold\">170995</span>\n",
              "</pre>\n"
            ],
            "text/plain": [
              "Change detected at index \u001b[1;36m170995\u001b[0m\n"
            ]
          },
          "metadata": {},
          "output_type": "display_data"
        },
        {
          "data": {
            "text/html": [
              "<pre style=\"white-space:pre;overflow-x:auto;line-height:normal;font-family:Menlo,'DejaVu Sans Mono',consolas,'Courier New',monospace\">Change detected at index <span style=\"color: #008080; text-decoration-color: #008080; font-weight: bold\">171025</span>\n",
              "</pre>\n"
            ],
            "text/plain": [
              "Change detected at index \u001b[1;36m171025\u001b[0m\n"
            ]
          },
          "metadata": {},
          "output_type": "display_data"
        },
        {
          "data": {
            "text/html": [
              "<pre style=\"white-space:pre;overflow-x:auto;line-height:normal;font-family:Menlo,'DejaVu Sans Mono',consolas,'Courier New',monospace\">Change detected at index <span style=\"color: #008080; text-decoration-color: #008080; font-weight: bold\">171055</span>\n",
              "</pre>\n"
            ],
            "text/plain": [
              "Change detected at index \u001b[1;36m171055\u001b[0m\n"
            ]
          },
          "metadata": {},
          "output_type": "display_data"
        },
        {
          "data": {
            "text/html": [
              "<pre style=\"white-space:pre;overflow-x:auto;line-height:normal;font-family:Menlo,'DejaVu Sans Mono',consolas,'Courier New',monospace\">Change detected at index <span style=\"color: #008080; text-decoration-color: #008080; font-weight: bold\">171085</span>\n",
              "</pre>\n"
            ],
            "text/plain": [
              "Change detected at index \u001b[1;36m171085\u001b[0m\n"
            ]
          },
          "metadata": {},
          "output_type": "display_data"
        },
        {
          "data": {
            "text/html": [
              "<pre style=\"white-space:pre;overflow-x:auto;line-height:normal;font-family:Menlo,'DejaVu Sans Mono',consolas,'Courier New',monospace\">Change detected at index <span style=\"color: #008080; text-decoration-color: #008080; font-weight: bold\">171115</span>\n",
              "</pre>\n"
            ],
            "text/plain": [
              "Change detected at index \u001b[1;36m171115\u001b[0m\n"
            ]
          },
          "metadata": {},
          "output_type": "display_data"
        },
        {
          "data": {
            "text/html": [
              "<pre style=\"white-space:pre;overflow-x:auto;line-height:normal;font-family:Menlo,'DejaVu Sans Mono',consolas,'Courier New',monospace\">Change detected at index <span style=\"color: #008080; text-decoration-color: #008080; font-weight: bold\">171145</span>\n",
              "</pre>\n"
            ],
            "text/plain": [
              "Change detected at index \u001b[1;36m171145\u001b[0m\n"
            ]
          },
          "metadata": {},
          "output_type": "display_data"
        },
        {
          "data": {
            "text/html": [
              "<pre style=\"white-space:pre;overflow-x:auto;line-height:normal;font-family:Menlo,'DejaVu Sans Mono',consolas,'Courier New',monospace\">Change detected at index <span style=\"color: #008080; text-decoration-color: #008080; font-weight: bold\">171175</span>\n",
              "</pre>\n"
            ],
            "text/plain": [
              "Change detected at index \u001b[1;36m171175\u001b[0m\n"
            ]
          },
          "metadata": {},
          "output_type": "display_data"
        },
        {
          "data": {
            "text/html": [
              "<pre style=\"white-space:pre;overflow-x:auto;line-height:normal;font-family:Menlo,'DejaVu Sans Mono',consolas,'Courier New',monospace\">Change detected at index <span style=\"color: #008080; text-decoration-color: #008080; font-weight: bold\">171205</span>\n",
              "</pre>\n"
            ],
            "text/plain": [
              "Change detected at index \u001b[1;36m171205\u001b[0m\n"
            ]
          },
          "metadata": {},
          "output_type": "display_data"
        },
        {
          "data": {
            "text/html": [
              "<pre style=\"white-space:pre;overflow-x:auto;line-height:normal;font-family:Menlo,'DejaVu Sans Mono',consolas,'Courier New',monospace\">Change detected at index <span style=\"color: #008080; text-decoration-color: #008080; font-weight: bold\">171235</span>\n",
              "</pre>\n"
            ],
            "text/plain": [
              "Change detected at index \u001b[1;36m171235\u001b[0m\n"
            ]
          },
          "metadata": {},
          "output_type": "display_data"
        },
        {
          "data": {
            "text/html": [
              "<pre style=\"white-space:pre;overflow-x:auto;line-height:normal;font-family:Menlo,'DejaVu Sans Mono',consolas,'Courier New',monospace\">Change detected at index <span style=\"color: #008080; text-decoration-color: #008080; font-weight: bold\">171265</span>\n",
              "</pre>\n"
            ],
            "text/plain": [
              "Change detected at index \u001b[1;36m171265\u001b[0m\n"
            ]
          },
          "metadata": {},
          "output_type": "display_data"
        },
        {
          "data": {
            "text/html": [
              "<pre style=\"white-space:pre;overflow-x:auto;line-height:normal;font-family:Menlo,'DejaVu Sans Mono',consolas,'Courier New',monospace\">Change detected at index <span style=\"color: #008080; text-decoration-color: #008080; font-weight: bold\">171295</span>\n",
              "</pre>\n"
            ],
            "text/plain": [
              "Change detected at index \u001b[1;36m171295\u001b[0m\n"
            ]
          },
          "metadata": {},
          "output_type": "display_data"
        },
        {
          "data": {
            "text/html": [
              "<pre style=\"white-space:pre;overflow-x:auto;line-height:normal;font-family:Menlo,'DejaVu Sans Mono',consolas,'Courier New',monospace\">Change detected at index <span style=\"color: #008080; text-decoration-color: #008080; font-weight: bold\">171325</span>\n",
              "</pre>\n"
            ],
            "text/plain": [
              "Change detected at index \u001b[1;36m171325\u001b[0m\n"
            ]
          },
          "metadata": {},
          "output_type": "display_data"
        },
        {
          "data": {
            "text/html": [
              "<pre style=\"white-space:pre;overflow-x:auto;line-height:normal;font-family:Menlo,'DejaVu Sans Mono',consolas,'Courier New',monospace\">Change detected at index <span style=\"color: #008080; text-decoration-color: #008080; font-weight: bold\">171355</span>\n",
              "</pre>\n"
            ],
            "text/plain": [
              "Change detected at index \u001b[1;36m171355\u001b[0m\n"
            ]
          },
          "metadata": {},
          "output_type": "display_data"
        },
        {
          "data": {
            "text/html": [
              "<pre style=\"white-space:pre;overflow-x:auto;line-height:normal;font-family:Menlo,'DejaVu Sans Mono',consolas,'Courier New',monospace\">Change detected at index <span style=\"color: #008080; text-decoration-color: #008080; font-weight: bold\">171385</span>\n",
              "</pre>\n"
            ],
            "text/plain": [
              "Change detected at index \u001b[1;36m171385\u001b[0m\n"
            ]
          },
          "metadata": {},
          "output_type": "display_data"
        },
        {
          "data": {
            "text/html": [
              "<pre style=\"white-space:pre;overflow-x:auto;line-height:normal;font-family:Menlo,'DejaVu Sans Mono',consolas,'Courier New',monospace\">Change detected at index <span style=\"color: #008080; text-decoration-color: #008080; font-weight: bold\">171415</span>\n",
              "</pre>\n"
            ],
            "text/plain": [
              "Change detected at index \u001b[1;36m171415\u001b[0m\n"
            ]
          },
          "metadata": {},
          "output_type": "display_data"
        },
        {
          "data": {
            "text/html": [
              "<pre style=\"white-space:pre;overflow-x:auto;line-height:normal;font-family:Menlo,'DejaVu Sans Mono',consolas,'Courier New',monospace\">Change detected at index <span style=\"color: #008080; text-decoration-color: #008080; font-weight: bold\">171445</span>\n",
              "</pre>\n"
            ],
            "text/plain": [
              "Change detected at index \u001b[1;36m171445\u001b[0m\n"
            ]
          },
          "metadata": {},
          "output_type": "display_data"
        },
        {
          "data": {
            "text/html": [
              "<pre style=\"white-space:pre;overflow-x:auto;line-height:normal;font-family:Menlo,'DejaVu Sans Mono',consolas,'Courier New',monospace\">Change detected at index <span style=\"color: #008080; text-decoration-color: #008080; font-weight: bold\">171475</span>\n",
              "</pre>\n"
            ],
            "text/plain": [
              "Change detected at index \u001b[1;36m171475\u001b[0m\n"
            ]
          },
          "metadata": {},
          "output_type": "display_data"
        },
        {
          "data": {
            "text/html": [
              "<pre style=\"white-space:pre;overflow-x:auto;line-height:normal;font-family:Menlo,'DejaVu Sans Mono',consolas,'Courier New',monospace\">Change detected at index <span style=\"color: #008080; text-decoration-color: #008080; font-weight: bold\">171505</span>\n",
              "</pre>\n"
            ],
            "text/plain": [
              "Change detected at index \u001b[1;36m171505\u001b[0m\n"
            ]
          },
          "metadata": {},
          "output_type": "display_data"
        },
        {
          "data": {
            "text/html": [
              "<pre style=\"white-space:pre;overflow-x:auto;line-height:normal;font-family:Menlo,'DejaVu Sans Mono',consolas,'Courier New',monospace\">Change detected at index <span style=\"color: #008080; text-decoration-color: #008080; font-weight: bold\">171535</span>\n",
              "</pre>\n"
            ],
            "text/plain": [
              "Change detected at index \u001b[1;36m171535\u001b[0m\n"
            ]
          },
          "metadata": {},
          "output_type": "display_data"
        },
        {
          "data": {
            "text/html": [
              "<pre style=\"white-space:pre;overflow-x:auto;line-height:normal;font-family:Menlo,'DejaVu Sans Mono',consolas,'Courier New',monospace\">Change detected at index <span style=\"color: #008080; text-decoration-color: #008080; font-weight: bold\">171565</span>\n",
              "</pre>\n"
            ],
            "text/plain": [
              "Change detected at index \u001b[1;36m171565\u001b[0m\n"
            ]
          },
          "metadata": {},
          "output_type": "display_data"
        },
        {
          "data": {
            "text/html": [
              "<pre style=\"white-space:pre;overflow-x:auto;line-height:normal;font-family:Menlo,'DejaVu Sans Mono',consolas,'Courier New',monospace\">Change detected at index <span style=\"color: #008080; text-decoration-color: #008080; font-weight: bold\">171595</span>\n",
              "</pre>\n"
            ],
            "text/plain": [
              "Change detected at index \u001b[1;36m171595\u001b[0m\n"
            ]
          },
          "metadata": {},
          "output_type": "display_data"
        },
        {
          "data": {
            "text/html": [
              "<pre style=\"white-space:pre;overflow-x:auto;line-height:normal;font-family:Menlo,'DejaVu Sans Mono',consolas,'Courier New',monospace\">Change detected at index <span style=\"color: #008080; text-decoration-color: #008080; font-weight: bold\">171625</span>\n",
              "</pre>\n"
            ],
            "text/plain": [
              "Change detected at index \u001b[1;36m171625\u001b[0m\n"
            ]
          },
          "metadata": {},
          "output_type": "display_data"
        },
        {
          "data": {
            "text/html": [
              "<pre style=\"white-space:pre;overflow-x:auto;line-height:normal;font-family:Menlo,'DejaVu Sans Mono',consolas,'Courier New',monospace\">Change detected at index <span style=\"color: #008080; text-decoration-color: #008080; font-weight: bold\">171655</span>\n",
              "</pre>\n"
            ],
            "text/plain": [
              "Change detected at index \u001b[1;36m171655\u001b[0m\n"
            ]
          },
          "metadata": {},
          "output_type": "display_data"
        },
        {
          "data": {
            "text/html": [
              "<pre style=\"white-space:pre;overflow-x:auto;line-height:normal;font-family:Menlo,'DejaVu Sans Mono',consolas,'Courier New',monospace\">Change detected at index <span style=\"color: #008080; text-decoration-color: #008080; font-weight: bold\">171685</span>\n",
              "</pre>\n"
            ],
            "text/plain": [
              "Change detected at index \u001b[1;36m171685\u001b[0m\n"
            ]
          },
          "metadata": {},
          "output_type": "display_data"
        },
        {
          "data": {
            "text/html": [
              "<pre style=\"white-space:pre;overflow-x:auto;line-height:normal;font-family:Menlo,'DejaVu Sans Mono',consolas,'Courier New',monospace\">Change detected at index <span style=\"color: #008080; text-decoration-color: #008080; font-weight: bold\">171715</span>\n",
              "</pre>\n"
            ],
            "text/plain": [
              "Change detected at index \u001b[1;36m171715\u001b[0m\n"
            ]
          },
          "metadata": {},
          "output_type": "display_data"
        },
        {
          "data": {
            "text/html": [
              "<pre style=\"white-space:pre;overflow-x:auto;line-height:normal;font-family:Menlo,'DejaVu Sans Mono',consolas,'Courier New',monospace\">Change detected at index <span style=\"color: #008080; text-decoration-color: #008080; font-weight: bold\">171745</span>\n",
              "</pre>\n"
            ],
            "text/plain": [
              "Change detected at index \u001b[1;36m171745\u001b[0m\n"
            ]
          },
          "metadata": {},
          "output_type": "display_data"
        },
        {
          "data": {
            "text/html": [
              "<pre style=\"white-space:pre;overflow-x:auto;line-height:normal;font-family:Menlo,'DejaVu Sans Mono',consolas,'Courier New',monospace\">Change detected at index <span style=\"color: #008080; text-decoration-color: #008080; font-weight: bold\">171775</span>\n",
              "</pre>\n"
            ],
            "text/plain": [
              "Change detected at index \u001b[1;36m171775\u001b[0m\n"
            ]
          },
          "metadata": {},
          "output_type": "display_data"
        },
        {
          "data": {
            "text/html": [
              "<pre style=\"white-space:pre;overflow-x:auto;line-height:normal;font-family:Menlo,'DejaVu Sans Mono',consolas,'Courier New',monospace\">Change detected at index <span style=\"color: #008080; text-decoration-color: #008080; font-weight: bold\">171805</span>\n",
              "</pre>\n"
            ],
            "text/plain": [
              "Change detected at index \u001b[1;36m171805\u001b[0m\n"
            ]
          },
          "metadata": {},
          "output_type": "display_data"
        },
        {
          "data": {
            "text/html": [
              "<pre style=\"white-space:pre;overflow-x:auto;line-height:normal;font-family:Menlo,'DejaVu Sans Mono',consolas,'Courier New',monospace\">Change detected at index <span style=\"color: #008080; text-decoration-color: #008080; font-weight: bold\">171835</span>\n",
              "</pre>\n"
            ],
            "text/plain": [
              "Change detected at index \u001b[1;36m171835\u001b[0m\n"
            ]
          },
          "metadata": {},
          "output_type": "display_data"
        },
        {
          "data": {
            "text/html": [
              "<pre style=\"white-space:pre;overflow-x:auto;line-height:normal;font-family:Menlo,'DejaVu Sans Mono',consolas,'Courier New',monospace\">Change detected at index <span style=\"color: #008080; text-decoration-color: #008080; font-weight: bold\">171865</span>\n",
              "</pre>\n"
            ],
            "text/plain": [
              "Change detected at index \u001b[1;36m171865\u001b[0m\n"
            ]
          },
          "metadata": {},
          "output_type": "display_data"
        },
        {
          "data": {
            "text/html": [
              "<pre style=\"white-space:pre;overflow-x:auto;line-height:normal;font-family:Menlo,'DejaVu Sans Mono',consolas,'Courier New',monospace\">Change detected at index <span style=\"color: #008080; text-decoration-color: #008080; font-weight: bold\">171895</span>\n",
              "</pre>\n"
            ],
            "text/plain": [
              "Change detected at index \u001b[1;36m171895\u001b[0m\n"
            ]
          },
          "metadata": {},
          "output_type": "display_data"
        },
        {
          "data": {
            "text/html": [
              "<pre style=\"white-space:pre;overflow-x:auto;line-height:normal;font-family:Menlo,'DejaVu Sans Mono',consolas,'Courier New',monospace\">Change detected at index <span style=\"color: #008080; text-decoration-color: #008080; font-weight: bold\">171925</span>\n",
              "</pre>\n"
            ],
            "text/plain": [
              "Change detected at index \u001b[1;36m171925\u001b[0m\n"
            ]
          },
          "metadata": {},
          "output_type": "display_data"
        },
        {
          "data": {
            "text/html": [
              "<pre style=\"white-space:pre;overflow-x:auto;line-height:normal;font-family:Menlo,'DejaVu Sans Mono',consolas,'Courier New',monospace\">Change detected at index <span style=\"color: #008080; text-decoration-color: #008080; font-weight: bold\">171955</span>\n",
              "</pre>\n"
            ],
            "text/plain": [
              "Change detected at index \u001b[1;36m171955\u001b[0m\n"
            ]
          },
          "metadata": {},
          "output_type": "display_data"
        },
        {
          "data": {
            "text/html": [
              "<pre style=\"white-space:pre;overflow-x:auto;line-height:normal;font-family:Menlo,'DejaVu Sans Mono',consolas,'Courier New',monospace\">Change detected at index <span style=\"color: #008080; text-decoration-color: #008080; font-weight: bold\">171985</span>\n",
              "</pre>\n"
            ],
            "text/plain": [
              "Change detected at index \u001b[1;36m171985\u001b[0m\n"
            ]
          },
          "metadata": {},
          "output_type": "display_data"
        },
        {
          "data": {
            "text/html": [
              "<pre style=\"white-space:pre;overflow-x:auto;line-height:normal;font-family:Menlo,'DejaVu Sans Mono',consolas,'Courier New',monospace\">Change detected at index <span style=\"color: #008080; text-decoration-color: #008080; font-weight: bold\">172015</span>\n",
              "</pre>\n"
            ],
            "text/plain": [
              "Change detected at index \u001b[1;36m172015\u001b[0m\n"
            ]
          },
          "metadata": {},
          "output_type": "display_data"
        },
        {
          "data": {
            "text/html": [
              "<pre style=\"white-space:pre;overflow-x:auto;line-height:normal;font-family:Menlo,'DejaVu Sans Mono',consolas,'Courier New',monospace\">Change detected at index <span style=\"color: #008080; text-decoration-color: #008080; font-weight: bold\">172045</span>\n",
              "</pre>\n"
            ],
            "text/plain": [
              "Change detected at index \u001b[1;36m172045\u001b[0m\n"
            ]
          },
          "metadata": {},
          "output_type": "display_data"
        },
        {
          "data": {
            "text/html": [
              "<pre style=\"white-space:pre;overflow-x:auto;line-height:normal;font-family:Menlo,'DejaVu Sans Mono',consolas,'Courier New',monospace\">Change detected at index <span style=\"color: #008080; text-decoration-color: #008080; font-weight: bold\">172075</span>\n",
              "</pre>\n"
            ],
            "text/plain": [
              "Change detected at index \u001b[1;36m172075\u001b[0m\n"
            ]
          },
          "metadata": {},
          "output_type": "display_data"
        },
        {
          "data": {
            "text/html": [
              "<pre style=\"white-space:pre;overflow-x:auto;line-height:normal;font-family:Menlo,'DejaVu Sans Mono',consolas,'Courier New',monospace\">Change detected at index <span style=\"color: #008080; text-decoration-color: #008080; font-weight: bold\">172105</span>\n",
              "</pre>\n"
            ],
            "text/plain": [
              "Change detected at index \u001b[1;36m172105\u001b[0m\n"
            ]
          },
          "metadata": {},
          "output_type": "display_data"
        },
        {
          "data": {
            "text/html": [
              "<pre style=\"white-space:pre;overflow-x:auto;line-height:normal;font-family:Menlo,'DejaVu Sans Mono',consolas,'Courier New',monospace\">Change detected at index <span style=\"color: #008080; text-decoration-color: #008080; font-weight: bold\">172135</span>\n",
              "</pre>\n"
            ],
            "text/plain": [
              "Change detected at index \u001b[1;36m172135\u001b[0m\n"
            ]
          },
          "metadata": {},
          "output_type": "display_data"
        },
        {
          "data": {
            "text/html": [
              "<pre style=\"white-space:pre;overflow-x:auto;line-height:normal;font-family:Menlo,'DejaVu Sans Mono',consolas,'Courier New',monospace\">Change detected at index <span style=\"color: #008080; text-decoration-color: #008080; font-weight: bold\">172165</span>\n",
              "</pre>\n"
            ],
            "text/plain": [
              "Change detected at index \u001b[1;36m172165\u001b[0m\n"
            ]
          },
          "metadata": {},
          "output_type": "display_data"
        },
        {
          "data": {
            "text/html": [
              "<pre style=\"white-space:pre;overflow-x:auto;line-height:normal;font-family:Menlo,'DejaVu Sans Mono',consolas,'Courier New',monospace\">Change detected at index <span style=\"color: #008080; text-decoration-color: #008080; font-weight: bold\">172195</span>\n",
              "</pre>\n"
            ],
            "text/plain": [
              "Change detected at index \u001b[1;36m172195\u001b[0m\n"
            ]
          },
          "metadata": {},
          "output_type": "display_data"
        },
        {
          "data": {
            "text/html": [
              "<pre style=\"white-space:pre;overflow-x:auto;line-height:normal;font-family:Menlo,'DejaVu Sans Mono',consolas,'Courier New',monospace\">Change detected at index <span style=\"color: #008080; text-decoration-color: #008080; font-weight: bold\">172225</span>\n",
              "</pre>\n"
            ],
            "text/plain": [
              "Change detected at index \u001b[1;36m172225\u001b[0m\n"
            ]
          },
          "metadata": {},
          "output_type": "display_data"
        },
        {
          "data": {
            "text/html": [
              "<pre style=\"white-space:pre;overflow-x:auto;line-height:normal;font-family:Menlo,'DejaVu Sans Mono',consolas,'Courier New',monospace\">Change detected at index <span style=\"color: #008080; text-decoration-color: #008080; font-weight: bold\">172255</span>\n",
              "</pre>\n"
            ],
            "text/plain": [
              "Change detected at index \u001b[1;36m172255\u001b[0m\n"
            ]
          },
          "metadata": {},
          "output_type": "display_data"
        },
        {
          "data": {
            "text/html": [
              "<pre style=\"white-space:pre;overflow-x:auto;line-height:normal;font-family:Menlo,'DejaVu Sans Mono',consolas,'Courier New',monospace\">Change detected at index <span style=\"color: #008080; text-decoration-color: #008080; font-weight: bold\">172285</span>\n",
              "</pre>\n"
            ],
            "text/plain": [
              "Change detected at index \u001b[1;36m172285\u001b[0m\n"
            ]
          },
          "metadata": {},
          "output_type": "display_data"
        },
        {
          "data": {
            "text/html": [
              "<pre style=\"white-space:pre;overflow-x:auto;line-height:normal;font-family:Menlo,'DejaVu Sans Mono',consolas,'Courier New',monospace\">Change detected at index <span style=\"color: #008080; text-decoration-color: #008080; font-weight: bold\">172315</span>\n",
              "</pre>\n"
            ],
            "text/plain": [
              "Change detected at index \u001b[1;36m172315\u001b[0m\n"
            ]
          },
          "metadata": {},
          "output_type": "display_data"
        },
        {
          "data": {
            "text/html": [
              "<pre style=\"white-space:pre;overflow-x:auto;line-height:normal;font-family:Menlo,'DejaVu Sans Mono',consolas,'Courier New',monospace\">Change detected at index <span style=\"color: #008080; text-decoration-color: #008080; font-weight: bold\">172345</span>\n",
              "</pre>\n"
            ],
            "text/plain": [
              "Change detected at index \u001b[1;36m172345\u001b[0m\n"
            ]
          },
          "metadata": {},
          "output_type": "display_data"
        },
        {
          "data": {
            "text/html": [
              "<pre style=\"white-space:pre;overflow-x:auto;line-height:normal;font-family:Menlo,'DejaVu Sans Mono',consolas,'Courier New',monospace\">Change detected at index <span style=\"color: #008080; text-decoration-color: #008080; font-weight: bold\">172375</span>\n",
              "</pre>\n"
            ],
            "text/plain": [
              "Change detected at index \u001b[1;36m172375\u001b[0m\n"
            ]
          },
          "metadata": {},
          "output_type": "display_data"
        },
        {
          "data": {
            "text/html": [
              "<pre style=\"white-space:pre;overflow-x:auto;line-height:normal;font-family:Menlo,'DejaVu Sans Mono',consolas,'Courier New',monospace\">Change detected at index <span style=\"color: #008080; text-decoration-color: #008080; font-weight: bold\">172405</span>\n",
              "</pre>\n"
            ],
            "text/plain": [
              "Change detected at index \u001b[1;36m172405\u001b[0m\n"
            ]
          },
          "metadata": {},
          "output_type": "display_data"
        },
        {
          "data": {
            "text/html": [
              "<pre style=\"white-space:pre;overflow-x:auto;line-height:normal;font-family:Menlo,'DejaVu Sans Mono',consolas,'Courier New',monospace\">Change detected at index <span style=\"color: #008080; text-decoration-color: #008080; font-weight: bold\">172435</span>\n",
              "</pre>\n"
            ],
            "text/plain": [
              "Change detected at index \u001b[1;36m172435\u001b[0m\n"
            ]
          },
          "metadata": {},
          "output_type": "display_data"
        },
        {
          "data": {
            "text/html": [
              "<pre style=\"white-space:pre;overflow-x:auto;line-height:normal;font-family:Menlo,'DejaVu Sans Mono',consolas,'Courier New',monospace\">Change detected at index <span style=\"color: #008080; text-decoration-color: #008080; font-weight: bold\">172465</span>\n",
              "</pre>\n"
            ],
            "text/plain": [
              "Change detected at index \u001b[1;36m172465\u001b[0m\n"
            ]
          },
          "metadata": {},
          "output_type": "display_data"
        },
        {
          "data": {
            "text/html": [
              "<pre style=\"white-space:pre;overflow-x:auto;line-height:normal;font-family:Menlo,'DejaVu Sans Mono',consolas,'Courier New',monospace\">Change detected at index <span style=\"color: #008080; text-decoration-color: #008080; font-weight: bold\">172495</span>\n",
              "</pre>\n"
            ],
            "text/plain": [
              "Change detected at index \u001b[1;36m172495\u001b[0m\n"
            ]
          },
          "metadata": {},
          "output_type": "display_data"
        },
        {
          "data": {
            "text/html": [
              "<pre style=\"white-space:pre;overflow-x:auto;line-height:normal;font-family:Menlo,'DejaVu Sans Mono',consolas,'Courier New',monospace\">Change detected at index <span style=\"color: #008080; text-decoration-color: #008080; font-weight: bold\">172525</span>\n",
              "</pre>\n"
            ],
            "text/plain": [
              "Change detected at index \u001b[1;36m172525\u001b[0m\n"
            ]
          },
          "metadata": {},
          "output_type": "display_data"
        },
        {
          "data": {
            "text/html": [
              "<pre style=\"white-space:pre;overflow-x:auto;line-height:normal;font-family:Menlo,'DejaVu Sans Mono',consolas,'Courier New',monospace\">Change detected at index <span style=\"color: #008080; text-decoration-color: #008080; font-weight: bold\">172555</span>\n",
              "</pre>\n"
            ],
            "text/plain": [
              "Change detected at index \u001b[1;36m172555\u001b[0m\n"
            ]
          },
          "metadata": {},
          "output_type": "display_data"
        },
        {
          "data": {
            "text/html": [
              "<pre style=\"white-space:pre;overflow-x:auto;line-height:normal;font-family:Menlo,'DejaVu Sans Mono',consolas,'Courier New',monospace\">Change detected at index <span style=\"color: #008080; text-decoration-color: #008080; font-weight: bold\">172585</span>\n",
              "</pre>\n"
            ],
            "text/plain": [
              "Change detected at index \u001b[1;36m172585\u001b[0m\n"
            ]
          },
          "metadata": {},
          "output_type": "display_data"
        },
        {
          "data": {
            "text/html": [
              "<pre style=\"white-space:pre;overflow-x:auto;line-height:normal;font-family:Menlo,'DejaVu Sans Mono',consolas,'Courier New',monospace\">Change detected at index <span style=\"color: #008080; text-decoration-color: #008080; font-weight: bold\">172615</span>\n",
              "</pre>\n"
            ],
            "text/plain": [
              "Change detected at index \u001b[1;36m172615\u001b[0m\n"
            ]
          },
          "metadata": {},
          "output_type": "display_data"
        },
        {
          "data": {
            "text/html": [
              "<pre style=\"white-space:pre;overflow-x:auto;line-height:normal;font-family:Menlo,'DejaVu Sans Mono',consolas,'Courier New',monospace\">Change detected at index <span style=\"color: #008080; text-decoration-color: #008080; font-weight: bold\">172645</span>\n",
              "</pre>\n"
            ],
            "text/plain": [
              "Change detected at index \u001b[1;36m172645\u001b[0m\n"
            ]
          },
          "metadata": {},
          "output_type": "display_data"
        },
        {
          "data": {
            "text/html": [
              "<pre style=\"white-space:pre;overflow-x:auto;line-height:normal;font-family:Menlo,'DejaVu Sans Mono',consolas,'Courier New',monospace\">Change detected at index <span style=\"color: #008080; text-decoration-color: #008080; font-weight: bold\">172675</span>\n",
              "</pre>\n"
            ],
            "text/plain": [
              "Change detected at index \u001b[1;36m172675\u001b[0m\n"
            ]
          },
          "metadata": {},
          "output_type": "display_data"
        },
        {
          "data": {
            "text/html": [
              "<pre style=\"white-space:pre;overflow-x:auto;line-height:normal;font-family:Menlo,'DejaVu Sans Mono',consolas,'Courier New',monospace\">Change detected at index <span style=\"color: #008080; text-decoration-color: #008080; font-weight: bold\">172705</span>\n",
              "</pre>\n"
            ],
            "text/plain": [
              "Change detected at index \u001b[1;36m172705\u001b[0m\n"
            ]
          },
          "metadata": {},
          "output_type": "display_data"
        },
        {
          "data": {
            "text/html": [
              "<pre style=\"white-space:pre;overflow-x:auto;line-height:normal;font-family:Menlo,'DejaVu Sans Mono',consolas,'Courier New',monospace\">Change detected at index <span style=\"color: #008080; text-decoration-color: #008080; font-weight: bold\">172735</span>\n",
              "</pre>\n"
            ],
            "text/plain": [
              "Change detected at index \u001b[1;36m172735\u001b[0m\n"
            ]
          },
          "metadata": {},
          "output_type": "display_data"
        },
        {
          "data": {
            "text/html": [
              "<pre style=\"white-space:pre;overflow-x:auto;line-height:normal;font-family:Menlo,'DejaVu Sans Mono',consolas,'Courier New',monospace\">Change detected at index <span style=\"color: #008080; text-decoration-color: #008080; font-weight: bold\">172765</span>\n",
              "</pre>\n"
            ],
            "text/plain": [
              "Change detected at index \u001b[1;36m172765\u001b[0m\n"
            ]
          },
          "metadata": {},
          "output_type": "display_data"
        },
        {
          "data": {
            "text/html": [
              "<pre style=\"white-space:pre;overflow-x:auto;line-height:normal;font-family:Menlo,'DejaVu Sans Mono',consolas,'Courier New',monospace\">Change detected at index <span style=\"color: #008080; text-decoration-color: #008080; font-weight: bold\">172795</span>\n",
              "</pre>\n"
            ],
            "text/plain": [
              "Change detected at index \u001b[1;36m172795\u001b[0m\n"
            ]
          },
          "metadata": {},
          "output_type": "display_data"
        },
        {
          "data": {
            "text/html": [
              "<pre style=\"white-space:pre;overflow-x:auto;line-height:normal;font-family:Menlo,'DejaVu Sans Mono',consolas,'Courier New',monospace\">Change detected at index <span style=\"color: #008080; text-decoration-color: #008080; font-weight: bold\">172825</span>\n",
              "</pre>\n"
            ],
            "text/plain": [
              "Change detected at index \u001b[1;36m172825\u001b[0m\n"
            ]
          },
          "metadata": {},
          "output_type": "display_data"
        },
        {
          "data": {
            "text/html": [
              "<pre style=\"white-space:pre;overflow-x:auto;line-height:normal;font-family:Menlo,'DejaVu Sans Mono',consolas,'Courier New',monospace\">Change detected at index <span style=\"color: #008080; text-decoration-color: #008080; font-weight: bold\">172855</span>\n",
              "</pre>\n"
            ],
            "text/plain": [
              "Change detected at index \u001b[1;36m172855\u001b[0m\n"
            ]
          },
          "metadata": {},
          "output_type": "display_data"
        },
        {
          "data": {
            "text/html": [
              "<pre style=\"white-space:pre;overflow-x:auto;line-height:normal;font-family:Menlo,'DejaVu Sans Mono',consolas,'Courier New',monospace\">Change detected at index <span style=\"color: #008080; text-decoration-color: #008080; font-weight: bold\">172885</span>\n",
              "</pre>\n"
            ],
            "text/plain": [
              "Change detected at index \u001b[1;36m172885\u001b[0m\n"
            ]
          },
          "metadata": {},
          "output_type": "display_data"
        },
        {
          "data": {
            "text/html": [
              "<pre style=\"white-space:pre;overflow-x:auto;line-height:normal;font-family:Menlo,'DejaVu Sans Mono',consolas,'Courier New',monospace\">Change detected at index <span style=\"color: #008080; text-decoration-color: #008080; font-weight: bold\">172915</span>\n",
              "</pre>\n"
            ],
            "text/plain": [
              "Change detected at index \u001b[1;36m172915\u001b[0m\n"
            ]
          },
          "metadata": {},
          "output_type": "display_data"
        },
        {
          "data": {
            "text/html": [
              "<pre style=\"white-space:pre;overflow-x:auto;line-height:normal;font-family:Menlo,'DejaVu Sans Mono',consolas,'Courier New',monospace\">Change detected at index <span style=\"color: #008080; text-decoration-color: #008080; font-weight: bold\">172945</span>\n",
              "</pre>\n"
            ],
            "text/plain": [
              "Change detected at index \u001b[1;36m172945\u001b[0m\n"
            ]
          },
          "metadata": {},
          "output_type": "display_data"
        },
        {
          "data": {
            "text/html": [
              "<pre style=\"white-space:pre;overflow-x:auto;line-height:normal;font-family:Menlo,'DejaVu Sans Mono',consolas,'Courier New',monospace\">Change detected at index <span style=\"color: #008080; text-decoration-color: #008080; font-weight: bold\">172975</span>\n",
              "</pre>\n"
            ],
            "text/plain": [
              "Change detected at index \u001b[1;36m172975\u001b[0m\n"
            ]
          },
          "metadata": {},
          "output_type": "display_data"
        },
        {
          "data": {
            "text/html": [
              "<pre style=\"white-space:pre;overflow-x:auto;line-height:normal;font-family:Menlo,'DejaVu Sans Mono',consolas,'Courier New',monospace\">Change detected at index <span style=\"color: #008080; text-decoration-color: #008080; font-weight: bold\">173005</span>\n",
              "</pre>\n"
            ],
            "text/plain": [
              "Change detected at index \u001b[1;36m173005\u001b[0m\n"
            ]
          },
          "metadata": {},
          "output_type": "display_data"
        },
        {
          "data": {
            "text/html": [
              "<pre style=\"white-space:pre;overflow-x:auto;line-height:normal;font-family:Menlo,'DejaVu Sans Mono',consolas,'Courier New',monospace\">Change detected at index <span style=\"color: #008080; text-decoration-color: #008080; font-weight: bold\">173035</span>\n",
              "</pre>\n"
            ],
            "text/plain": [
              "Change detected at index \u001b[1;36m173035\u001b[0m\n"
            ]
          },
          "metadata": {},
          "output_type": "display_data"
        },
        {
          "data": {
            "text/html": [
              "<pre style=\"white-space:pre;overflow-x:auto;line-height:normal;font-family:Menlo,'DejaVu Sans Mono',consolas,'Courier New',monospace\">Change detected at index <span style=\"color: #008080; text-decoration-color: #008080; font-weight: bold\">173065</span>\n",
              "</pre>\n"
            ],
            "text/plain": [
              "Change detected at index \u001b[1;36m173065\u001b[0m\n"
            ]
          },
          "metadata": {},
          "output_type": "display_data"
        },
        {
          "data": {
            "text/html": [
              "<pre style=\"white-space:pre;overflow-x:auto;line-height:normal;font-family:Menlo,'DejaVu Sans Mono',consolas,'Courier New',monospace\">Change detected at index <span style=\"color: #008080; text-decoration-color: #008080; font-weight: bold\">173095</span>\n",
              "</pre>\n"
            ],
            "text/plain": [
              "Change detected at index \u001b[1;36m173095\u001b[0m\n"
            ]
          },
          "metadata": {},
          "output_type": "display_data"
        },
        {
          "data": {
            "text/html": [
              "<pre style=\"white-space:pre;overflow-x:auto;line-height:normal;font-family:Menlo,'DejaVu Sans Mono',consolas,'Courier New',monospace\">Change detected at index <span style=\"color: #008080; text-decoration-color: #008080; font-weight: bold\">173125</span>\n",
              "</pre>\n"
            ],
            "text/plain": [
              "Change detected at index \u001b[1;36m173125\u001b[0m\n"
            ]
          },
          "metadata": {},
          "output_type": "display_data"
        }
      ],
      "source": [
        "drift_detector = drift.PageHinkley()\n",
        "drifts = []\n",
        "\n",
        "\n",
        "print(last_year_energy.index[0])\n",
        "\n",
        "first_idx = last_year_energy.index[0]\n",
        "\n",
        "for i, val in enumerate(last_year_energy):\n",
        "    drift_detector.update(val)   # Data is processed one sample at a time\n",
        "    if drift_detector.drift_detected:\n",
        "        # The drift detector indicates after each sample if there is a drift in the data\n",
        "        print(f'Change detected at index {i+first_idx}')\n",
        "        drifts.append(i+first_idx)\n",
        "        #drift_detector.reset()   # As a best practice, we reset the detector"
      ]
    },
    {
      "cell_type": "code",
      "execution_count": null,
      "id": "5a56ffaa",
      "metadata": {
        "id": "5a56ffaa",
        "outputId": "9213ce7e-1744-4426-8b19-22b986b04369"
      },
      "outputs": [
        {
          "data": {
            "image/png": "[encoded data removed]",
            "text/plain": [
              "<Figure size 1000x500 with 1 Axes>"
            ]
          },
          "metadata": {},
          "output_type": "display_data"
        }
      ],
      "source": [
        "fig, ax = plt.subplots(figsize=(10, 5))\n",
        "ax.plot(last_year_energy, label='Data')\n",
        "#ax.plot(drifts, last_year_energy[drifts], 'ro', label='Change detected')\n",
        "ax.vlines(drifts, ymin=min(last_year_energy), ymax=max(last_year_energy), colors='b', linewidth=1)\n",
        "\n",
        "ax.legend()\n",
        "ax.set_title('Energy Consumption in the Last Year')\n",
        "\n",
        "#plt.legend()\n",
        "plt.show()"
      ]
    },
    {
      "cell_type": "markdown",
      "id": "ee7d3882",
      "metadata": {
        "id": "ee7d3882"
      },
      "source": [
        "As we can see, when using ADWIN and PageHinkley multiple drifts appear, so the dataset is suitable for online learning, since we are trying to detect patterns over time."
      ]
    },
    {
      "cell_type": "markdown",
      "id": "79fbaba9",
      "metadata": {
        "id": "79fbaba9"
      },
      "source": [
        "# 3. Batch Learning"
      ]
    },
    {
      "cell_type": "markdown",
      "id": "9dec708e",
      "metadata": {
        "id": "9dec708e"
      },
      "source": [
        "In a first approach, we will use batch learning models.\n",
        "\n",
        "To do this, for each model considered, we have divided the dataset into a training set and a test set, allocating 20% ​​of the data to the latter set."
      ]
    },
    {
      "cell_type": "code",
      "execution_count": null,
      "id": "02e376ac",
      "metadata": {
        "id": "02e376ac"
      },
      "outputs": [],
      "source": [
        "def load_dataset():\n",
        "    dataset_copy = df.copy()\n",
        "    dataset_copy.pop('datetime')\n",
        "    dataset = dataset_copy.loc[:, dataset_copy.columns != 'AEP']\n",
        "    target = dataset_copy['AEP']\n",
        "    dataset = stream.iter_pandas(dataset, target)\n",
        "    return dataset\n",
        "\n",
        "def load_batch_data():\n",
        "    dataset_copy = df.copy()\n",
        "    dataset_copy.pop('datetime')\n",
        "    dataset = dataset_copy.loc[:, dataset_copy.columns != 'AEP']\n",
        "    target = dataset_copy['AEP']\n",
        "    return dataset, target"
      ]
    },
    {
      "cell_type": "markdown",
      "id": "fcb62778",
      "metadata": {
        "id": "fcb62778"
      },
      "source": [
        "In the cell below we can see an example of what a sample of the model would look like, where you can see the created features mentioned in the corresponding section."
      ]
    },
    {
      "cell_type": "code",
      "execution_count": null,
      "id": "b11d6f48",
      "metadata": {
        "id": "b11d6f48",
        "outputId": "33751c27-4357-4232-97b2-d0b104e06e0c"
      },
      "outputs": [
        {
          "data": {
            "text/html": [
              "<pre style=\"white-space:pre;overflow-x:auto;line-height:normal;font-family:Menlo,'DejaVu Sans Mono',consolas,'Courier New',monospace\"><span style=\"font-weight: bold\">{</span>\n",
              "    <span style=\"color: #008000; text-decoration-color: #008000\">'year'</span>: <span style=\"color: #008080; text-decoration-color: #008080; font-weight: bold\">2004.0</span>,\n",
              "    <span style=\"color: #008000; text-decoration-color: #008000\">'month'</span>: <span style=\"color: #008080; text-decoration-color: #008080; font-weight: bold\">10.0</span>,\n",
              "    <span style=\"color: #008000; text-decoration-color: #008000\">'day'</span>: <span style=\"color: #008080; text-decoration-color: #008080; font-weight: bold\">1.0</span>,\n",
              "    <span style=\"color: #008000; text-decoration-color: #008000\">'hour'</span>: <span style=\"color: #008080; text-decoration-color: #008080; font-weight: bold\">1.0</span>,\n",
              "    <span style=\"color: #008000; text-decoration-color: #008000\">'hour_sin'</span>: <span style=\"color: #008080; text-decoration-color: #008080; font-weight: bold\">0.25881904510252074</span>,\n",
              "    <span style=\"color: #008000; text-decoration-color: #008000\">'hour_cos'</span>: <span style=\"color: #008080; text-decoration-color: #008080; font-weight: bold\">0.9659258262890683</span>,\n",
              "    <span style=\"color: #008000; text-decoration-color: #008000\">'day_sin'</span>: <span style=\"color: #008080; text-decoration-color: #008080; font-weight: bold\">0.20129852008866006</span>,\n",
              "    <span style=\"color: #008000; text-decoration-color: #008000\">'day_cos'</span>: <span style=\"color: #008080; text-decoration-color: #008080; font-weight: bold\">0.9795299412524945</span>,\n",
              "    <span style=\"color: #008000; text-decoration-color: #008000\">'month_sin'</span>: <span style=\"color: #008080; text-decoration-color: #008080; font-weight: bold\">0.4301873756029155</span>,\n",
              "    <span style=\"color: #008000; text-decoration-color: #008000\">'month_cos'</span>: <span style=\"color: #008080; text-decoration-color: #008080; font-weight: bold\">0.9027396201961427</span>,\n",
              "    <span style=\"color: #008000; text-decoration-color: #008000\">'season'</span>: <span style=\"color: #008080; text-decoration-color: #008080; font-weight: bold\">4.0</span>,\n",
              "    <span style=\"color: #008000; text-decoration-color: #008000\">'day_of_week'</span>: <span style=\"color: #008080; text-decoration-color: #008080; font-weight: bold\">4.0</span>,\n",
              "    <span style=\"color: #008000; text-decoration-color: #008000\">'is_weekend'</span>: <span style=\"color: #008080; text-decoration-color: #008080; font-weight: bold\">0.0</span>\n",
              "<span style=\"font-weight: bold\">}</span>\n",
              "<span style=\"color: #008080; text-decoration-color: #008080; font-weight: bold\">12379.0</span>\n",
              "</pre>\n"
            ],
            "text/plain": [
              "\u001b[1m{\u001b[0m\n",
              "    \u001b[32m'year'\u001b[0m: \u001b[1;36m2004.0\u001b[0m,\n",
              "    \u001b[32m'month'\u001b[0m: \u001b[1;36m10.0\u001b[0m,\n",
              "    \u001b[32m'day'\u001b[0m: \u001b[1;36m1.0\u001b[0m,\n",
              "    \u001b[32m'hour'\u001b[0m: \u001b[1;36m1.0\u001b[0m,\n",
              "    \u001b[32m'hour_sin'\u001b[0m: \u001b[1;36m0.25881904510252074\u001b[0m,\n",
              "    \u001b[32m'hour_cos'\u001b[0m: \u001b[1;36m0.9659258262890683\u001b[0m,\n",
              "    \u001b[32m'day_sin'\u001b[0m: \u001b[1;36m0.20129852008866006\u001b[0m,\n",
              "    \u001b[32m'day_cos'\u001b[0m: \u001b[1;36m0.9795299412524945\u001b[0m,\n",
              "    \u001b[32m'month_sin'\u001b[0m: \u001b[1;36m0.4301873756029155\u001b[0m,\n",
              "    \u001b[32m'month_cos'\u001b[0m: \u001b[1;36m0.9027396201961427\u001b[0m,\n",
              "    \u001b[32m'season'\u001b[0m: \u001b[1;36m4.0\u001b[0m,\n",
              "    \u001b[32m'day_of_week'\u001b[0m: \u001b[1;36m4.0\u001b[0m,\n",
              "    \u001b[32m'is_weekend'\u001b[0m: \u001b[1;36m0.0\u001b[0m\n",
              "\u001b[1m}\u001b[0m\n",
              "\u001b[1;36m12379.0\u001b[0m\n"
            ]
          },
          "metadata": {},
          "output_type": "display_data"
        }
      ],
      "source": [
        "dataset = load_dataset()\n",
        "for xi, yi in dataset:\n",
        "    print(xi, yi)\n",
        "    break"
      ]
    },
    {
      "cell_type": "markdown",
      "id": "e119f210",
      "metadata": {
        "id": "e119f210"
      },
      "source": [
        "## 3.1. KNN Regressor"
      ]
    },
    {
      "cell_type": "markdown",
      "id": "f8dfe30f",
      "metadata": {
        "id": "f8dfe30f"
      },
      "source": [
        "The first model considered is a KNN regressor with k=5. As previously mentioned, 20% of the data has been allocated to the test set, using it later to evaluate the model's predictions calculating the mean absolute error, which is the metric selected to evaluate the model's performance. This metric has been selected to be able to see the error of the prediction with respect to the actual value (target) and because it is more interpretable. In addition, 10-fold cross-validation has been applied, therefore, the MAE for each of the folds was calculated and then the averaged was considered.\n",
        "\n",
        "This process, separating train and test sets and using 10-fold cross-validation, is the one followed for all the batch learning models that are going to be presented in this notebook."
      ]
    },
    {
      "cell_type": "code",
      "execution_count": null,
      "id": "e1c75400",
      "metadata": {
        "id": "e1c75400",
        "outputId": "d6be3e38-c23d-43ce-b68b-d9a27b1521a4"
      },
      "outputs": [
        {
          "data": {
            "text/html": [
              "<style>#sk-container-id-13 {color: black;background-color: white;}#sk-container-id-13 pre{padding: 0;}#sk-container-id-13 div.sk-toggleable {background-color: white;}#sk-container-id-13 label.sk-toggleable__label {cursor: pointer;display: block;width: 100%;margin-bottom: 0;padding: 0.3em;box-sizing: border-box;text-align: center;}#sk-container-id-13 label.sk-toggleable__label-arrow:before {content: \"▸\";float: left;margin-right: 0.25em;color: #696969;}#sk-container-id-13 label.sk-toggleable__label-arrow:hover:before {color: black;}#sk-container-id-13 div.sk-estimator:hover label.sk-toggleable__label-arrow:before {color: black;}#sk-container-id-13 div.sk-toggleable__content {max-height: 0;max-width: 0;overflow: hidden;text-align: left;background-color: #f0f8ff;}#sk-container-id-13 div.sk-toggleable__content pre {margin: 0.2em;color: black;border-radius: 0.25em;background-color: #f0f8ff;}#sk-container-id-13 input.sk-toggleable__control:checked~div.sk-toggleable__content {max-height: 200px;max-width: 100%;overflow: auto;}#sk-container-id-13 input.sk-toggleable__control:checked~label.sk-toggleable__label-arrow:before {content: \"▾\";}#sk-container-id-13 div.sk-estimator input.sk-toggleable__control:checked~label.sk-toggleable__label {background-color: #d4ebff;}#sk-container-id-13 div.sk-label input.sk-toggleable__control:checked~label.sk-toggleable__label {background-color: #d4ebff;}#sk-container-id-13 input.sk-hidden--visually {border: 0;clip: rect(1px 1px 1px 1px);clip: rect(1px, 1px, 1px, 1px);height: 1px;margin: -1px;overflow: hidden;padding: 0;position: absolute;width: 1px;}#sk-container-id-13 div.sk-estimator {font-family: monospace;background-color: #f0f8ff;border: 1px dotted black;border-radius: 0.25em;box-sizing: border-box;margin-bottom: 0.5em;}#sk-container-id-13 div.sk-estimator:hover {background-color: #d4ebff;}#sk-container-id-13 div.sk-parallel-item::after {content: \"\";width: 100%;border-bottom: 1px solid gray;flex-grow: 1;}#sk-container-id-13 div.sk-label:hover label.sk-toggleable__label {background-color: #d4ebff;}#sk-container-id-13 div.sk-serial::before {content: \"\";position: absolute;border-left: 1px solid gray;box-sizing: border-box;top: 0;bottom: 0;left: 50%;z-index: 0;}#sk-container-id-13 div.sk-serial {display: flex;flex-direction: column;align-items: center;background-color: white;padding-right: 0.2em;padding-left: 0.2em;position: relative;}#sk-container-id-13 div.sk-item {position: relative;z-index: 1;}#sk-container-id-13 div.sk-parallel {display: flex;align-items: stretch;justify-content: center;background-color: white;position: relative;}#sk-container-id-13 div.sk-item::before, #sk-container-id-13 div.sk-parallel-item::before {content: \"\";position: absolute;border-left: 1px solid gray;box-sizing: border-box;top: 0;bottom: 0;left: 50%;z-index: -1;}#sk-container-id-13 div.sk-parallel-item {display: flex;flex-direction: column;z-index: 1;position: relative;background-color: white;}#sk-container-id-13 div.sk-parallel-item:first-child::after {align-self: flex-end;width: 50%;}#sk-container-id-13 div.sk-parallel-item:last-child::after {align-self: flex-start;width: 50%;}#sk-container-id-13 div.sk-parallel-item:only-child::after {width: 0;}#sk-container-id-13 div.sk-dashed-wrapped {border: 1px dashed gray;margin: 0 0.4em 0.5em 0.4em;box-sizing: border-box;padding-bottom: 0.4em;background-color: white;}#sk-container-id-13 div.sk-label label {font-family: monospace;font-weight: bold;display: inline-block;line-height: 1.2em;}#sk-container-id-13 div.sk-label-container {text-align: center;}#sk-container-id-13 div.sk-container {/* jupyter's `normalize.less` sets `[hidden] { display: none; }` but bootstrap.min.css set `[hidden] { display: none !important; }` so we also need the `!important` here to be able to override the default hidden behavior on the sphinx rendered scikit-learn.org. See: https://github.com/scikit-learn/scikit-learn/issues/21755 */display: inline-block !important;position: relative;}#sk-container-id-13 div.sk-text-repr-fallback {display: none;}</style><div id=\"sk-container-id-13\" class=\"sk-top-container\"><div class=\"sk-text-repr-fallback\"><pre>KNeighborsRegressor()</pre><b>In a Jupyter environment, please rerun this cell to show the HTML representation or trust the notebook. <br />On GitHub, the HTML representation is unable to render, please try loading this page with nbviewer.org.</b></div><div class=\"sk-container\" hidden><div class=\"sk-item\"><div class=\"sk-estimator sk-toggleable\"><input class=\"sk-toggleable__control sk-hidden--visually\" id=\"sk-estimator-id-23\" type=\"checkbox\" checked><label for=\"sk-estimator-id-23\" class=\"sk-toggleable__label sk-toggleable__label-arrow\">KNeighborsRegressor</label><div class=\"sk-toggleable__content\"><pre>KNeighborsRegressor()</pre></div></div></div></div></div>"
            ],
            "text/plain": [
              "KNeighborsRegressor()"
            ]
          },
          "execution_count": 108,
          "metadata": {},
          "output_type": "execute_result"
        }
      ],
      "source": [
        "dataset = load_dataset()\n",
        "X, y = load_batch_data()\n",
        "\n",
        "X_train, X_test, y_train, y_test = train_test_split(X, y, test_size=0.2, random_state=42)\n",
        "\n",
        "model = KNeighborsRegressor()\n",
        "model.fit(X_train, y_train)"
      ]
    },
    {
      "cell_type": "code",
      "execution_count": null,
      "id": "ac70c013",
      "metadata": {
        "id": "ac70c013",
        "outputId": "56bf4408-9a81-4ce4-d323-10824a85a427"
      },
      "outputs": [
        {
          "data": {
            "text/html": [
              "<pre style=\"white-space:pre;overflow-x:auto;line-height:normal;font-family:Menlo,'DejaVu Sans Mono',consolas,'Courier New',monospace\">MAE scores: <span style=\"font-weight: bold\">[</span><span style=\"color: #008080; text-decoration-color: #008080; font-weight: bold\">1210.74683377</span> <span style=\"color: #008080; text-decoration-color: #008080; font-weight: bold\">1322.29511873</span> <span style=\"color: #008080; text-decoration-color: #008080; font-weight: bold\">1540.67323549</span> <span style=\"color: #008080; text-decoration-color: #008080; font-weight: bold\">1474.7401006</span>  <span style=\"color: #008080; text-decoration-color: #008080; font-weight: bold\">1255.92171188</span>\n",
              " <span style=\"color: #008080; text-decoration-color: #008080; font-weight: bold\">1241.24469366</span> <span style=\"color: #008080; text-decoration-color: #008080; font-weight: bold\">1268.83570545</span> <span style=\"color: #008080; text-decoration-color: #008080; font-weight: bold\">1312.76538303</span> <span style=\"color: #008080; text-decoration-color: #008080; font-weight: bold\">1496.49641296</span> <span style=\"color: #008080; text-decoration-color: #008080; font-weight: bold\">1258.80260576</span><span style=\"font-weight: bold\">]</span>\n",
              "</pre>\n"
            ],
            "text/plain": [
              "MAE scores: \u001b[1m[\u001b[0m\u001b[1;36m1210.74683377\u001b[0m \u001b[1;36m1322.29511873\u001b[0m \u001b[1;36m1540.67323549\u001b[0m \u001b[1;36m1474.7401006\u001b[0m  \u001b[1;36m1255.92171188\u001b[0m\n",
              " \u001b[1;36m1241.24469366\u001b[0m \u001b[1;36m1268.83570545\u001b[0m \u001b[1;36m1312.76538303\u001b[0m \u001b[1;36m1496.49641296\u001b[0m \u001b[1;36m1258.80260576\u001b[0m\u001b[1m]\u001b[0m\n"
            ]
          },
          "metadata": {},
          "output_type": "display_data"
        },
        {
          "data": {
            "text/html": [
              "<pre style=\"white-space:pre;overflow-x:auto;line-height:normal;font-family:Menlo,'DejaVu Sans Mono',consolas,'Courier New',monospace\">Mean MAE: <span style=\"color: #008080; text-decoration-color: #008080; font-weight: bold\">1338.252180133685</span>\n",
              "</pre>\n"
            ],
            "text/plain": [
              "Mean MAE: \u001b[1;36m1338.252180133685\u001b[0m\n"
            ]
          },
          "metadata": {},
          "output_type": "display_data"
        },
        {
          "data": {
            "text/html": [
              "<pre style=\"white-space:pre;overflow-x:auto;line-height:normal;font-family:Menlo,'DejaVu Sans Mono',consolas,'Courier New',monospace\">Test MAE: <span style=\"color: #008080; text-decoration-color: #008080; font-weight: bold\">707.6287775716347</span>\n",
              "</pre>\n"
            ],
            "text/plain": [
              "Test MAE: \u001b[1;36m707.6287775716347\u001b[0m\n"
            ]
          },
          "metadata": {},
          "output_type": "display_data"
        }
      ],
      "source": [
        "scores = cross_val_score(model, X, y, cv=10, scoring='neg_mean_absolute_error')\n",
        "mae_scores = -scores\n",
        "print('MAE scores:', mae_scores)\n",
        "print('Mean MAE:', np.mean(mae_scores))\n",
        "\n",
        "# Make predictions on the test set\n",
        "y_pred = model.predict(X_test)\n",
        "\n",
        "# Evaluate the model on the test set using MAE\n",
        "knn_batch = mean_absolute_error(y_test, y_pred)\n",
        "print('Test MAE:', knn_batch)"
      ]
    },
    {
      "cell_type": "markdown",
      "id": "3b3f4a71",
      "metadata": {
        "id": "3b3f4a71"
      },
      "source": [
        "## 3.2. Linear Regression"
      ]
    },
    {
      "cell_type": "markdown",
      "id": "1737f62e",
      "metadata": {
        "id": "1737f62e"
      },
      "source": [
        "Next, we have considered a linear regression model with a learning rate of 0.01. We have also added to the pipeline a zero-mean normalization of the data by removing the mean and scaling to unit variance."
      ]
    },
    {
      "cell_type": "code",
      "execution_count": null,
      "id": "b7bf46a3",
      "metadata": {
        "id": "b7bf46a3",
        "outputId": "565e33d1-ca27-4be6-d8b0-0a9b293288fe"
      },
      "outputs": [
        {
          "data": {
            "text/html": [
              "<style>#sk-container-id-14 {color: black;background-color: white;}#sk-container-id-14 pre{padding: 0;}#sk-container-id-14 div.sk-toggleable {background-color: white;}#sk-container-id-14 label.sk-toggleable__label {cursor: pointer;display: block;width: 100%;margin-bottom: 0;padding: 0.3em;box-sizing: border-box;text-align: center;}#sk-container-id-14 label.sk-toggleable__label-arrow:before {content: \"▸\";float: left;margin-right: 0.25em;color: #696969;}#sk-container-id-14 label.sk-toggleable__label-arrow:hover:before {color: black;}#sk-container-id-14 div.sk-estimator:hover label.sk-toggleable__label-arrow:before {color: black;}#sk-container-id-14 div.sk-toggleable__content {max-height: 0;max-width: 0;overflow: hidden;text-align: left;background-color: #f0f8ff;}#sk-container-id-14 div.sk-toggleable__content pre {margin: 0.2em;color: black;border-radius: 0.25em;background-color: #f0f8ff;}#sk-container-id-14 input.sk-toggleable__control:checked~div.sk-toggleable__content {max-height: 200px;max-width: 100%;overflow: auto;}#sk-container-id-14 input.sk-toggleable__control:checked~label.sk-toggleable__label-arrow:before {content: \"▾\";}#sk-container-id-14 div.sk-estimator input.sk-toggleable__control:checked~label.sk-toggleable__label {background-color: #d4ebff;}#sk-container-id-14 div.sk-label input.sk-toggleable__control:checked~label.sk-toggleable__label {background-color: #d4ebff;}#sk-container-id-14 input.sk-hidden--visually {border: 0;clip: rect(1px 1px 1px 1px);clip: rect(1px, 1px, 1px, 1px);height: 1px;margin: -1px;overflow: hidden;padding: 0;position: absolute;width: 1px;}#sk-container-id-14 div.sk-estimator {font-family: monospace;background-color: #f0f8ff;border: 1px dotted black;border-radius: 0.25em;box-sizing: border-box;margin-bottom: 0.5em;}#sk-container-id-14 div.sk-estimator:hover {background-color: #d4ebff;}#sk-container-id-14 div.sk-parallel-item::after {content: \"\";width: 100%;border-bottom: 1px solid gray;flex-grow: 1;}#sk-container-id-14 div.sk-label:hover label.sk-toggleable__label {background-color: #d4ebff;}#sk-container-id-14 div.sk-serial::before {content: \"\";position: absolute;border-left: 1px solid gray;box-sizing: border-box;top: 0;bottom: 0;left: 50%;z-index: 0;}#sk-container-id-14 div.sk-serial {display: flex;flex-direction: column;align-items: center;background-color: white;padding-right: 0.2em;padding-left: 0.2em;position: relative;}#sk-container-id-14 div.sk-item {position: relative;z-index: 1;}#sk-container-id-14 div.sk-parallel {display: flex;align-items: stretch;justify-content: center;background-color: white;position: relative;}#sk-container-id-14 div.sk-item::before, #sk-container-id-14 div.sk-parallel-item::before {content: \"\";position: absolute;border-left: 1px solid gray;box-sizing: border-box;top: 0;bottom: 0;left: 50%;z-index: -1;}#sk-container-id-14 div.sk-parallel-item {display: flex;flex-direction: column;z-index: 1;position: relative;background-color: white;}#sk-container-id-14 div.sk-parallel-item:first-child::after {align-self: flex-end;width: 50%;}#sk-container-id-14 div.sk-parallel-item:last-child::after {align-self: flex-start;width: 50%;}#sk-container-id-14 div.sk-parallel-item:only-child::after {width: 0;}#sk-container-id-14 div.sk-dashed-wrapped {border: 1px dashed gray;margin: 0 0.4em 0.5em 0.4em;box-sizing: border-box;padding-bottom: 0.4em;background-color: white;}#sk-container-id-14 div.sk-label label {font-family: monospace;font-weight: bold;display: inline-block;line-height: 1.2em;}#sk-container-id-14 div.sk-label-container {text-align: center;}#sk-container-id-14 div.sk-container {/* jupyter's `normalize.less` sets `[hidden] { display: none; }` but bootstrap.min.css set `[hidden] { display: none !important; }` so we also need the `!important` here to be able to override the default hidden behavior on the sphinx rendered scikit-learn.org. See: https://github.com/scikit-learn/scikit-learn/issues/21755 */display: inline-block !important;position: relative;}#sk-container-id-14 div.sk-text-repr-fallback {display: none;}</style><div id=\"sk-container-id-14\" class=\"sk-top-container\"><div class=\"sk-text-repr-fallback\"><pre>Pipeline(steps=[(&#x27;scale&#x27;, StandardScaler()), (&#x27;lin_reg&#x27;, LinearRegression())])</pre><b>In a Jupyter environment, please rerun this cell to show the HTML representation or trust the notebook. <br />On GitHub, the HTML representation is unable to render, please try loading this page with nbviewer.org.</b></div><div class=\"sk-container\" hidden><div class=\"sk-item sk-dashed-wrapped\"><div class=\"sk-label-container\"><div class=\"sk-label sk-toggleable\"><input class=\"sk-toggleable__control sk-hidden--visually\" id=\"sk-estimator-id-24\" type=\"checkbox\" ><label for=\"sk-estimator-id-24\" class=\"sk-toggleable__label sk-toggleable__label-arrow\">Pipeline</label><div class=\"sk-toggleable__content\"><pre>Pipeline(steps=[(&#x27;scale&#x27;, StandardScaler()), (&#x27;lin_reg&#x27;, LinearRegression())])</pre></div></div></div><div class=\"sk-serial\"><div class=\"sk-item\"><div class=\"sk-estimator sk-toggleable\"><input class=\"sk-toggleable__control sk-hidden--visually\" id=\"sk-estimator-id-25\" type=\"checkbox\" ><label for=\"sk-estimator-id-25\" class=\"sk-toggleable__label sk-toggleable__label-arrow\">StandardScaler</label><div class=\"sk-toggleable__content\"><pre>StandardScaler()</pre></div></div></div><div class=\"sk-item\"><div class=\"sk-estimator sk-toggleable\"><input class=\"sk-toggleable__control sk-hidden--visually\" id=\"sk-estimator-id-26\" type=\"checkbox\" ><label for=\"sk-estimator-id-26\" class=\"sk-toggleable__label sk-toggleable__label-arrow\">LinearRegression</label><div class=\"sk-toggleable__content\"><pre>LinearRegression()</pre></div></div></div></div></div></div></div>"
            ],
            "text/plain": [
              "Pipeline(steps=[('scale', StandardScaler()), ('lin_reg', LinearRegression())])"
            ]
          },
          "execution_count": 110,
          "metadata": {},
          "output_type": "execute_result"
        }
      ],
      "source": [
        "dataset = load_dataset()\n",
        "X, y = load_batch_data()\n",
        "\n",
        "# Define the steps of the model\n",
        "model = pipeline.Pipeline([\n",
        "    ('scale', preprocessing.StandardScaler()),\n",
        "    ('lin_reg', linear_model.LinearRegression())\n",
        "])\n",
        "\n",
        "X_train, X_test, y_train, y_test = train_test_split(X, y, test_size=0.2, random_state=42)\n",
        "model.fit(X_train, y_train)"
      ]
    },
    {
      "cell_type": "code",
      "execution_count": null,
      "id": "4c66df55",
      "metadata": {
        "id": "4c66df55",
        "outputId": "07e32dde-d48f-46c2-ceac-cf899d199b39"
      },
      "outputs": [
        {
          "data": {
            "text/html": [
              "<pre style=\"white-space:pre;overflow-x:auto;line-height:normal;font-family:Menlo,'DejaVu Sans Mono',consolas,'Courier New',monospace\">MAE scores: <span style=\"font-weight: bold\">[</span><span style=\"color: #008080; text-decoration-color: #008080; font-weight: bold\">1760.89155364</span> <span style=\"color: #008080; text-decoration-color: #008080; font-weight: bold\">1585.1939655</span>  <span style=\"color: #008080; text-decoration-color: #008080; font-weight: bold\">1666.71354655</span> <span style=\"color: #008080; text-decoration-color: #008080; font-weight: bold\">1656.8797265</span>  <span style=\"color: #008080; text-decoration-color: #008080; font-weight: bold\">1767.2797079</span>\n",
              " <span style=\"color: #008080; text-decoration-color: #008080; font-weight: bold\">1458.94226412</span> <span style=\"color: #008080; text-decoration-color: #008080; font-weight: bold\">1591.98548269</span> <span style=\"color: #008080; text-decoration-color: #008080; font-weight: bold\">1565.99888228</span> <span style=\"color: #008080; text-decoration-color: #008080; font-weight: bold\">1797.41226099</span> <span style=\"color: #008080; text-decoration-color: #008080; font-weight: bold\">1549.35948622</span><span style=\"font-weight: bold\">]</span>\n",
              "</pre>\n"
            ],
            "text/plain": [
              "MAE scores: \u001b[1m[\u001b[0m\u001b[1;36m1760.89155364\u001b[0m \u001b[1;36m1585.1939655\u001b[0m  \u001b[1;36m1666.71354655\u001b[0m \u001b[1;36m1656.8797265\u001b[0m  \u001b[1;36m1767.2797079\u001b[0m\n",
              " \u001b[1;36m1458.94226412\u001b[0m \u001b[1;36m1591.98548269\u001b[0m \u001b[1;36m1565.99888228\u001b[0m \u001b[1;36m1797.41226099\u001b[0m \u001b[1;36m1549.35948622\u001b[0m\u001b[1m]\u001b[0m\n"
            ]
          },
          "metadata": {},
          "output_type": "display_data"
        },
        {
          "data": {
            "text/html": [
              "<pre style=\"white-space:pre;overflow-x:auto;line-height:normal;font-family:Menlo,'DejaVu Sans Mono',consolas,'Courier New',monospace\">Mean MAE: <span style=\"color: #008080; text-decoration-color: #008080; font-weight: bold\">1640.0656876406888</span>\n",
              "</pre>\n"
            ],
            "text/plain": [
              "Mean MAE: \u001b[1;36m1640.0656876406888\u001b[0m\n"
            ]
          },
          "metadata": {},
          "output_type": "display_data"
        },
        {
          "data": {
            "text/html": [
              "<pre style=\"white-space:pre;overflow-x:auto;line-height:normal;font-family:Menlo,'DejaVu Sans Mono',consolas,'Courier New',monospace\">Test MAE: <span style=\"color: #008080; text-decoration-color: #008080; font-weight: bold\">1609.956541724155</span>\n",
              "</pre>\n"
            ],
            "text/plain": [
              "Test MAE: \u001b[1;36m1609.956541724155\u001b[0m\n"
            ]
          },
          "metadata": {},
          "output_type": "display_data"
        }
      ],
      "source": [
        "scores = cross_val_score(model, X, y, cv=10, scoring='neg_mean_absolute_error')\n",
        "mae_scores = -scores\n",
        "print('MAE scores:', mae_scores)\n",
        "print('Mean MAE:', np.mean(mae_scores))\n",
        "\n",
        "# Make predictions on the test set\n",
        "y_pred = model.predict(X_test)\n",
        "\n",
        "# Evaluate the model on the test set using MAE\n",
        "lin_batch = mean_absolute_error(y_test, y_pred)\n",
        "print('Test MAE:', lin_batch)"
      ]
    },
    {
      "cell_type": "markdown",
      "id": "7aeef27d",
      "metadata": {
        "id": "7aeef27d"
      },
      "source": [
        "## 3.3. Decission Tree Regressor"
      ]
    },
    {
      "cell_type": "markdown",
      "id": "8ba060b3",
      "metadata": {
        "id": "8ba060b3"
      },
      "source": [
        "Finally, we have used a decision tree regressor, again previously applying zero-mean normalization to the data."
      ]
    },
    {
      "cell_type": "code",
      "execution_count": null,
      "id": "03111446",
      "metadata": {
        "id": "03111446",
        "outputId": "c8e5ecf8-6c74-4ab8-e892-126a31af3ae9"
      },
      "outputs": [
        {
          "data": {
            "text/html": [
              "<style>#sk-container-id-15 {color: black;background-color: white;}#sk-container-id-15 pre{padding: 0;}#sk-container-id-15 div.sk-toggleable {background-color: white;}#sk-container-id-15 label.sk-toggleable__label {cursor: pointer;display: block;width: 100%;margin-bottom: 0;padding: 0.3em;box-sizing: border-box;text-align: center;}#sk-container-id-15 label.sk-toggleable__label-arrow:before {content: \"▸\";float: left;margin-right: 0.25em;color: #696969;}#sk-container-id-15 label.sk-toggleable__label-arrow:hover:before {color: black;}#sk-container-id-15 div.sk-estimator:hover label.sk-toggleable__label-arrow:before {color: black;}#sk-container-id-15 div.sk-toggleable__content {max-height: 0;max-width: 0;overflow: hidden;text-align: left;background-color: #f0f8ff;}#sk-container-id-15 div.sk-toggleable__content pre {margin: 0.2em;color: black;border-radius: 0.25em;background-color: #f0f8ff;}#sk-container-id-15 input.sk-toggleable__control:checked~div.sk-toggleable__content {max-height: 200px;max-width: 100%;overflow: auto;}#sk-container-id-15 input.sk-toggleable__control:checked~label.sk-toggleable__label-arrow:before {content: \"▾\";}#sk-container-id-15 div.sk-estimator input.sk-toggleable__control:checked~label.sk-toggleable__label {background-color: #d4ebff;}#sk-container-id-15 div.sk-label input.sk-toggleable__control:checked~label.sk-toggleable__label {background-color: #d4ebff;}#sk-container-id-15 input.sk-hidden--visually {border: 0;clip: rect(1px 1px 1px 1px);clip: rect(1px, 1px, 1px, 1px);height: 1px;margin: -1px;overflow: hidden;padding: 0;position: absolute;width: 1px;}#sk-container-id-15 div.sk-estimator {font-family: monospace;background-color: #f0f8ff;border: 1px dotted black;border-radius: 0.25em;box-sizing: border-box;margin-bottom: 0.5em;}#sk-container-id-15 div.sk-estimator:hover {background-color: #d4ebff;}#sk-container-id-15 div.sk-parallel-item::after {content: \"\";width: 100%;border-bottom: 1px solid gray;flex-grow: 1;}#sk-container-id-15 div.sk-label:hover label.sk-toggleable__label {background-color: #d4ebff;}#sk-container-id-15 div.sk-serial::before {content: \"\";position: absolute;border-left: 1px solid gray;box-sizing: border-box;top: 0;bottom: 0;left: 50%;z-index: 0;}#sk-container-id-15 div.sk-serial {display: flex;flex-direction: column;align-items: center;background-color: white;padding-right: 0.2em;padding-left: 0.2em;position: relative;}#sk-container-id-15 div.sk-item {position: relative;z-index: 1;}#sk-container-id-15 div.sk-parallel {display: flex;align-items: stretch;justify-content: center;background-color: white;position: relative;}#sk-container-id-15 div.sk-item::before, #sk-container-id-15 div.sk-parallel-item::before {content: \"\";position: absolute;border-left: 1px solid gray;box-sizing: border-box;top: 0;bottom: 0;left: 50%;z-index: -1;}#sk-container-id-15 div.sk-parallel-item {display: flex;flex-direction: column;z-index: 1;position: relative;background-color: white;}#sk-container-id-15 div.sk-parallel-item:first-child::after {align-self: flex-end;width: 50%;}#sk-container-id-15 div.sk-parallel-item:last-child::after {align-self: flex-start;width: 50%;}#sk-container-id-15 div.sk-parallel-item:only-child::after {width: 0;}#sk-container-id-15 div.sk-dashed-wrapped {border: 1px dashed gray;margin: 0 0.4em 0.5em 0.4em;box-sizing: border-box;padding-bottom: 0.4em;background-color: white;}#sk-container-id-15 div.sk-label label {font-family: monospace;font-weight: bold;display: inline-block;line-height: 1.2em;}#sk-container-id-15 div.sk-label-container {text-align: center;}#sk-container-id-15 div.sk-container {/* jupyter's `normalize.less` sets `[hidden] { display: none; }` but bootstrap.min.css set `[hidden] { display: none !important; }` so we also need the `!important` here to be able to override the default hidden behavior on the sphinx rendered scikit-learn.org. See: https://github.com/scikit-learn/scikit-learn/issues/21755 */display: inline-block !important;position: relative;}#sk-container-id-15 div.sk-text-repr-fallback {display: none;}</style><div id=\"sk-container-id-15\" class=\"sk-top-container\"><div class=\"sk-text-repr-fallback\"><pre>Pipeline(steps=[(&#x27;scale&#x27;, StandardScaler()), (&#x27;dt&#x27;, DecisionTreeRegressor())])</pre><b>In a Jupyter environment, please rerun this cell to show the HTML representation or trust the notebook. <br />On GitHub, the HTML representation is unable to render, please try loading this page with nbviewer.org.</b></div><div class=\"sk-container\" hidden><div class=\"sk-item sk-dashed-wrapped\"><div class=\"sk-label-container\"><div class=\"sk-label sk-toggleable\"><input class=\"sk-toggleable__control sk-hidden--visually\" id=\"sk-estimator-id-27\" type=\"checkbox\" ><label for=\"sk-estimator-id-27\" class=\"sk-toggleable__label sk-toggleable__label-arrow\">Pipeline</label><div class=\"sk-toggleable__content\"><pre>Pipeline(steps=[(&#x27;scale&#x27;, StandardScaler()), (&#x27;dt&#x27;, DecisionTreeRegressor())])</pre></div></div></div><div class=\"sk-serial\"><div class=\"sk-item\"><div class=\"sk-estimator sk-toggleable\"><input class=\"sk-toggleable__control sk-hidden--visually\" id=\"sk-estimator-id-28\" type=\"checkbox\" ><label for=\"sk-estimator-id-28\" class=\"sk-toggleable__label sk-toggleable__label-arrow\">StandardScaler</label><div class=\"sk-toggleable__content\"><pre>StandardScaler()</pre></div></div></div><div class=\"sk-item\"><div class=\"sk-estimator sk-toggleable\"><input class=\"sk-toggleable__control sk-hidden--visually\" id=\"sk-estimator-id-29\" type=\"checkbox\" ><label for=\"sk-estimator-id-29\" class=\"sk-toggleable__label sk-toggleable__label-arrow\">DecisionTreeRegressor</label><div class=\"sk-toggleable__content\"><pre>DecisionTreeRegressor()</pre></div></div></div></div></div></div></div>"
            ],
            "text/plain": [
              "Pipeline(steps=[('scale', StandardScaler()), ('dt', DecisionTreeRegressor())])"
            ]
          },
          "execution_count": 112,
          "metadata": {},
          "output_type": "execute_result"
        }
      ],
      "source": [
        "dataset = load_dataset()\n",
        "X, y = load_batch_data()\n",
        "\n",
        "# Define the steps of the model\n",
        "model = pipeline.Pipeline([\n",
        "    ('scale', preprocessing.StandardScaler()),\n",
        "    ('dt', DecisionTreeRegressor())\n",
        "])\n",
        "\n",
        "X_train, X_test, y_train, y_test = train_test_split(X, y, test_size=0.2, random_state=42)\n",
        "model.fit(X_train, y_train)"
      ]
    },
    {
      "cell_type": "code",
      "execution_count": null,
      "id": "46238e31",
      "metadata": {
        "id": "46238e31",
        "outputId": "a000822f-f339-49ca-b743-1fc646cdbb86"
      },
      "outputs": [
        {
          "data": {
            "text/html": [
              "<pre style=\"white-space:pre;overflow-x:auto;line-height:normal;font-family:Menlo,'DejaVu Sans Mono',consolas,'Courier New',monospace\">MAE scores: <span style=\"font-weight: bold\">[</span><span style=\"color: #008080; text-decoration-color: #008080; font-weight: bold\">1381.25667876</span> <span style=\"color: #008080; text-decoration-color: #008080; font-weight: bold\">1336.90014842</span> <span style=\"color: #008080; text-decoration-color: #008080; font-weight: bold\">1593.58261873</span> <span style=\"color: #008080; text-decoration-color: #008080; font-weight: bold\">1589.16764245</span> <span style=\"color: #008080; text-decoration-color: #008080; font-weight: bold\">1423.27616063</span>\n",
              " <span style=\"color: #008080; text-decoration-color: #008080; font-weight: bold\">1356.51579121</span> <span style=\"color: #008080; text-decoration-color: #008080; font-weight: bold\">1333.23930073</span> <span style=\"color: #008080; text-decoration-color: #008080; font-weight: bold\">1323.63453451</span> <span style=\"color: #008080; text-decoration-color: #008080; font-weight: bold\">1566.16723015</span> <span style=\"color: #008080; text-decoration-color: #008080; font-weight: bold\">1394.21093428</span><span style=\"font-weight: bold\">]</span>\n",
              "</pre>\n"
            ],
            "text/plain": [
              "MAE scores: \u001b[1m[\u001b[0m\u001b[1;36m1381.25667876\u001b[0m \u001b[1;36m1336.90014842\u001b[0m \u001b[1;36m1593.58261873\u001b[0m \u001b[1;36m1589.16764245\u001b[0m \u001b[1;36m1423.27616063\u001b[0m\n",
              " \u001b[1;36m1356.51579121\u001b[0m \u001b[1;36m1333.23930073\u001b[0m \u001b[1;36m1323.63453451\u001b[0m \u001b[1;36m1566.16723015\u001b[0m \u001b[1;36m1394.21093428\u001b[0m\u001b[1m]\u001b[0m\n"
            ]
          },
          "metadata": {},
          "output_type": "display_data"
        },
        {
          "data": {
            "text/html": [
              "<pre style=\"white-space:pre;overflow-x:auto;line-height:normal;font-family:Menlo,'DejaVu Sans Mono',consolas,'Courier New',monospace\">Mean MAE: <span style=\"color: #008080; text-decoration-color: #008080; font-weight: bold\">1429.7951039874174</span>\n",
              "</pre>\n"
            ],
            "text/plain": [
              "Mean MAE: \u001b[1;36m1429.7951039874174\u001b[0m\n"
            ]
          },
          "metadata": {},
          "output_type": "display_data"
        },
        {
          "data": {
            "text/html": [
              "<pre style=\"white-space:pre;overflow-x:auto;line-height:normal;font-family:Menlo,'DejaVu Sans Mono',consolas,'Courier New',monospace\">Test MAE: <span style=\"color: #008080; text-decoration-color: #008080; font-weight: bold\">451.5203050917337</span>\n",
              "</pre>\n"
            ],
            "text/plain": [
              "Test MAE: \u001b[1;36m451.5203050917337\u001b[0m\n"
            ]
          },
          "metadata": {},
          "output_type": "display_data"
        }
      ],
      "source": [
        "scores = cross_val_score(model, X, y, cv=10, scoring='neg_mean_absolute_error')\n",
        "mae_scores = -scores\n",
        "print('MAE scores:', mae_scores)\n",
        "print('Mean MAE:', np.mean(mae_scores))\n",
        "\n",
        "# Make predictions on the test set\n",
        "y_pred = model.predict(X_test)\n",
        "\n",
        "# Evaluate the model on the test set using MAE\n",
        "dt = mean_absolute_error(y_test, y_pred)\n",
        "print('Test MAE:', dt)"
      ]
    },
    {
      "cell_type": "markdown",
      "id": "86ff1ad3",
      "metadata": {
        "id": "86ff1ad3"
      },
      "source": [
        "As we can see in the results, the KNN regressor presents the best MAE average, followed by the decision tree regressor, which also presents the lowest error for the test evaluation. The linear regression model seems the worst of the three."
      ]
    },
    {
      "cell_type": "markdown",
      "id": "07cf5f38",
      "metadata": {
        "id": "07cf5f38"
      },
      "source": [
        "# 4. Stream Learning"
      ]
    },
    {
      "cell_type": "markdown",
      "id": "59344b14",
      "metadata": {
        "id": "59344b14"
      },
      "source": [
        "Let us now approach the problem from the point of view of stream learning.\n",
        "\n",
        "In this case, a test set has not been separated since it is not necessary; the model uses the entire dataset both to train and to evaluate its performance. This is because the model is updated as new data arrives, which is the advantage of using stream models, that they adapt to possible changes over time without the need to retrain the model from scratch."
      ]
    },
    {
      "cell_type": "markdown",
      "id": "2f6b7dc1",
      "metadata": {
        "id": "2f6b7dc1"
      },
      "source": [
        "## 4.1. KNN Regressor"
      ]
    },
    {
      "cell_type": "markdown",
      "id": "d5518280",
      "metadata": {
        "id": "d5518280"
      },
      "source": [
        "The first model considered is a KNN regressor with k=5 and a window size of 1000. One approach has been run normalizing the data and another without. As we can see in the results, the error obtained is practically the same for both cases, therefore this comparison is not very relevant."
      ]
    },
    {
      "cell_type": "markdown",
      "id": "d37f559a",
      "metadata": {
        "id": "d37f559a"
      },
      "source": [
        "### 4.1.1. KNN Regressor without normalization"
      ]
    },
    {
      "cell_type": "code",
      "execution_count": null,
      "id": "357a39ef",
      "metadata": {
        "id": "357a39ef",
        "outputId": "c8da463a-9c92-46f0-c897-26ba8513718f"
      },
      "outputs": [
        {
          "data": {
            "text/html": [
              "<pre style=\"white-space:pre;overflow-x:auto;line-height:normal;font-family:Menlo,'DejaVu Sans Mono',consolas,'Courier New',monospace\">MAE: <span style=\"color: #008080; text-decoration-color: #008080; font-weight: bold\">737.461242</span>\n",
              "</pre>\n"
            ],
            "text/plain": [
              "MAE: \u001b[1;36m737.461242\u001b[0m\n"
            ]
          },
          "metadata": {},
          "output_type": "display_data"
        }
      ],
      "source": [
        "dataset = load_dataset()\n",
        "\n",
        "model = neighbors.KNNRegressor()\n",
        "knn_stream = river_metrics.MAE()\n",
        "\n",
        "for sample, target in dataset:\n",
        "    prediction = model.predict_one(sample)\n",
        "    knn_stream.update(target, prediction)\n",
        "    model.learn_one(sample, target)\n",
        "\n",
        "print(knn_stream)"
      ]
    },
    {
      "cell_type": "markdown",
      "id": "e66e1d77",
      "metadata": {
        "id": "e66e1d77"
      },
      "source": [
        "### 4.1.1. KNN Regressor with normalization"
      ]
    },
    {
      "cell_type": "code",
      "execution_count": null,
      "id": "510b7f68",
      "metadata": {
        "id": "510b7f68",
        "outputId": "987a1a30-c658-4126-dc9d-b39bb8d9ef29"
      },
      "outputs": [
        {
          "data": {
            "text/html": [
              "<pre style=\"white-space:pre;overflow-x:auto;line-height:normal;font-family:Menlo,'DejaVu Sans Mono',consolas,'Courier New',monospace\">MAE: <span style=\"color: #008080; text-decoration-color: #008080; font-weight: bold\">737.338002</span>\n",
              "</pre>\n"
            ],
            "text/plain": [
              "MAE: \u001b[1;36m737.338002\u001b[0m\n"
            ]
          },
          "metadata": {},
          "output_type": "display_data"
        }
      ],
      "source": [
        "dataset = load_dataset()\n",
        "\n",
        "model = ( river_preprocessing.Normalizer() |\n",
        "         neighbors.KNNRegressor()\n",
        ")\n",
        "metric = river_metrics.MAE()\n",
        "\n",
        "for sample, target in dataset:\n",
        "    prediction = model.predict_one(sample)\n",
        "    metric.update(target, prediction)\n",
        "    model.learn_one(sample, target)\n",
        "\n",
        "print(metric)"
      ]
    },
    {
      "cell_type": "markdown",
      "id": "2de3e706",
      "metadata": {
        "id": "2de3e706"
      },
      "source": [
        "## 4.2. Linear Regression"
      ]
    },
    {
      "cell_type": "markdown",
      "id": "62eb44b4",
      "metadata": {
        "id": "62eb44b4"
      },
      "source": [
        "### 4.2.1. Linear regression without normalization"
      ]
    },
    {
      "cell_type": "markdown",
      "id": "c96fffd3",
      "metadata": {
        "id": "c96fffd3"
      },
      "source": [
        "First, we consider a linear regression model to approach the problem. However, as can be seen in the output below, the error obtained is quite large, considerably higher than those obtained so far. For this reason, it has also been considered adding normalization to the pipeline in order to improve the performance of the model (see 4.2.2.)."
      ]
    },
    {
      "cell_type": "code",
      "execution_count": null,
      "id": "4982979e",
      "metadata": {
        "id": "4982979e",
        "outputId": "5a22d8ab-cf80-462f-c2f6-2b6b9c903202"
      },
      "outputs": [
        {
          "data": {
            "text/html": [
              "<pre style=\"white-space:pre;overflow-x:auto;line-height:normal;font-family:Menlo,'DejaVu Sans Mono',consolas,'Courier New',monospace\">MAE: <span style=\"color: #008080; text-decoration-color: #008080; font-weight: bold\">20</span>,<span style=\"color: #008080; text-decoration-color: #008080; font-weight: bold\">225</span>,<span style=\"color: #008080; text-decoration-color: #008080; font-weight: bold\">948</span>,<span style=\"color: #008080; text-decoration-color: #008080; font-weight: bold\">483</span>,<span style=\"color: #008080; text-decoration-color: #008080; font-weight: bold\">387</span>,<span style=\"color: #008080; text-decoration-color: #008080; font-weight: bold\">692</span>.\n",
              "</pre>\n"
            ],
            "text/plain": [
              "MAE: \u001b[1;36m20\u001b[0m,\u001b[1;36m225\u001b[0m,\u001b[1;36m948\u001b[0m,\u001b[1;36m483\u001b[0m,\u001b[1;36m387\u001b[0m,\u001b[1;36m692\u001b[0m.\n"
            ]
          },
          "metadata": {},
          "output_type": "display_data"
        }
      ],
      "source": [
        "dataset = load_dataset()\n",
        "\n",
        "model = river_linear_model.LinearRegression()\n",
        "metric = river_metrics.MAE()\n",
        "\n",
        "for sample, target in dataset:\n",
        "    prediction = model.predict_one(sample)\n",
        "    metric.update(target, prediction)\n",
        "    model.learn_one(sample, target)\n",
        "\n",
        "print(metric)"
      ]
    },
    {
      "cell_type": "markdown",
      "id": "ab03a67f",
      "metadata": {
        "id": "ab03a67f"
      },
      "source": [
        "### 4.2.2. Linear regression with normalization"
      ]
    },
    {
      "cell_type": "markdown",
      "id": "ec50db70",
      "metadata": {
        "id": "ec50db70"
      },
      "source": [
        "Normalizing the data effectively improves the quality of the predictions made by the model. This can be attributed to the fact that the model is very sensitive to the data, giving for example too much weight to the 'year' input when receiving a value of 2000 when in reality it is one of the less relevant features."
      ]
    },
    {
      "cell_type": "code",
      "execution_count": null,
      "id": "6c9f0143",
      "metadata": {
        "id": "6c9f0143",
        "outputId": "efab913d-f419-4c6f-9745-bb4860dcaefd"
      },
      "outputs": [
        {
          "data": {
            "text/html": [
              "<pre style=\"white-space:pre;overflow-x:auto;line-height:normal;font-family:Menlo,'DejaVu Sans Mono',consolas,'Courier New',monospace\">MAE: <span style=\"color: #008080; text-decoration-color: #008080; font-weight: bold\">1</span>,<span style=\"color: #008080; text-decoration-color: #008080; font-weight: bold\">484.070427</span>\n",
              "</pre>\n"
            ],
            "text/plain": [
              "MAE: \u001b[1;36m1\u001b[0m,\u001b[1;36m484.070427\u001b[0m\n"
            ]
          },
          "metadata": {},
          "output_type": "display_data"
        }
      ],
      "source": [
        "dataset = load_dataset()\n",
        "\n",
        "model = (\n",
        "    river_preprocessing.Normalizer() |\n",
        "    river_linear_model.LinearRegression()\n",
        ")\n",
        "\n",
        "lin_stream = river_metrics.MAE()\n",
        "\n",
        "for sample, target in dataset:\n",
        "    prediction = model.predict_one(sample)\n",
        "    lin_stream.update(target, prediction)\n",
        "    model.learn_one(sample, target)\n",
        "\n",
        "print(lin_stream)"
      ]
    },
    {
      "cell_type": "markdown",
      "id": "f27d0de6",
      "metadata": {
        "id": "f27d0de6"
      },
      "source": [
        "## 4.3. Hoeffding Tree Regressor"
      ]
    },
    {
      "cell_type": "markdown",
      "id": "43218dfb",
      "metadata": {
        "id": "43218dfb"
      },
      "source": [
        "Finally, we have used a Hoeffding tree regressor with a grace period of 100."
      ]
    },
    {
      "cell_type": "code",
      "execution_count": null,
      "id": "284ea7d3",
      "metadata": {
        "id": "284ea7d3",
        "outputId": "97bf0d21-06da-4eb1-e15f-d04650cb4cbf"
      },
      "outputs": [
        {
          "data": {
            "text/plain": [
              "MAE: 1,678.43943"
            ]
          },
          "execution_count": 118,
          "metadata": {},
          "output_type": "execute_result"
        }
      ],
      "source": [
        "dataset = load_dataset()\n",
        "\n",
        "model = (\n",
        "    river_preprocessing.StandardScaler() |\n",
        "    tree.HoeffdingTreeRegressor(\n",
        "        grace_period=100,\n",
        "        model_selector_decay=0.9\n",
        "    )\n",
        ")\n",
        "\n",
        "hoeff = river_metrics.MAE()\n",
        "evaluate.progressive_val_score(dataset, model, hoeff)"
      ]
    },
    {
      "cell_type": "markdown",
      "id": "2457a73a",
      "metadata": {
        "id": "2457a73a"
      },
      "source": [
        "In this case, the KNN regressor presents by far the best results. Although the linear regressor seemed the worst of all the models considered, when applying normalization we obtained an error similar to that of the Hoeffding tree, even better."
      ]
    },
    {
      "cell_type": "markdown",
      "id": "54f74b5c",
      "metadata": {
        "id": "54f74b5c"
      },
      "source": [
        "# 5. Conclusions"
      ]
    },
    {
      "cell_type": "markdown",
      "id": "2390c8bd",
      "metadata": {
        "id": "2390c8bd"
      },
      "source": [
        "In the cell below you can see a graph that represents the absolute mean error obtained for each of the models, both batch and stream learning."
      ]
    },
    {
      "cell_type": "code",
      "execution_count": null,
      "id": "d3aebb33",
      "metadata": {
        "id": "d3aebb33",
        "outputId": "0dfb2829-5700-4e6e-ecec-872ea59c5668"
      },
      "outputs": [
        {
          "data": {
            "image/png": "[encoded data removed]",
            "text/plain": [
              "<Figure size 640x480 with 1 Axes>"
            ]
          },
          "metadata": {},
          "output_type": "display_data"
        }
      ],
      "source": [
        "x1 = ['KNN Regressor', 'Linear Regression', 'Decission Tree']\n",
        "y1 = [707.62, 1609.95, 451.52]\n",
        "x2 = ['KNN Regressor', 'Linear Regression', 'Hoeffding Tree Regressor']\n",
        "y2 = [737.46, 1484.07, 1678.43]\n",
        "plt.scatter(x1, y1, marker='o', color='red', label='Batch')\n",
        "plt.scatter(x2, y2, marker='o', color='blue', label='Stream')\n",
        "plt.xlabel('Models')\n",
        "plt.ylabel('MAE')\n",
        "plt.legend()\n",
        "plt.show()"
      ]
    },
    {
      "cell_type": "markdown",
      "id": "7c658fb3",
      "metadata": {
        "id": "7c658fb3"
      },
      "source": [
        "In general, we have been able to see the advantage of stream learning, since it allows us to update the model as new data arrives without the need to retrain the model from scratch.\n",
        "However, for this problem, batch learning models have been able to give us better results."
      ]
    },
    {
      "cell_type": "markdown",
      "id": "71d01051",
      "metadata": {
        "id": "71d01051"
      },
      "source": [
        "As you could see in the data preprocessing section, in the [hourly energy distribution figure](#hour_dist), there are no significant changes between hours. The changes in energy consumption are rather gradual throughout the day, except for the jump in consumption that exists between 6-7 or 7-8 in the morning, the rest of the day presents more uniform consumption. It is possible that for this reason the models are not capable of predicting consumption for this period of time. However, as an idea for future work, considering larger time frames (such as weeks or months) could lead to an improvement in the performance of the models."
      ]
    },
    {
      "cell_type": "markdown",
      "id": "d7ec72da",
      "metadata": {
        "id": "d7ec72da"
      },
      "source": [
        "Also, by defining a larger window size, so that the model stores more of the last observed samples (more memory), it is possible that the predictions would be more accurate and therefore the model error would be less."
      ]
    }
  ],
  "metadata": {
    "kernelspec": {
      "display_name": "Python 3 (ipykernel)",
      "language": "python",
      "name": "python3"
    },
    "language_info": {
      "codemirror_mode": {
        "name": "ipython",
        "version": 3
      },
      "file_extension": ".py",
      "mimetype": "text/x-python",
      "name": "python",
      "nbconvert_exporter": "python",
      "pygments_lexer": "ipython3",
      "version": "3.9.13"
    },
    "vscode": {
      "interpreter": {
        "hash": "63f42335261bf3433127417e13f4e6b230448940df141cf2b0c134989ac08ad0"
      }
    },
    "colab": {
      "provenance": []
    }
  },
  "nbformat": 4,
  "nbformat_minor": 5
}