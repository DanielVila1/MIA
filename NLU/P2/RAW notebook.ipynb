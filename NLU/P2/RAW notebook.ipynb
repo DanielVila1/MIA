{
  "cells": [
    {
      "cell_type": "code",
      "execution_count": 8,
      "metadata": {
        "id": "EHTXjdUPy6B-"
      },
      "outputs": [],
      "source": [
        "import csv\n",
        "import numpy as np\n",
        "\n",
        "import tensorflow as tf\n",
        "from tensorflow import keras\n",
        "from keras import layers, models, optimizers, regularizers\n",
        "from keras.models import Sequential\n",
        "from keras.preprocessing.text import Tokenizer\n",
        "from keras.utils import plot_model\n",
        "\n",
        "from sklearn.preprocessing import LabelEncoder, OrdinalEncoder\n",
        "from keras.layers import Dense, LSTM, InputLayer, Bidirectional, TimeDistributed, Embedding, Activation, Concatenate\n",
        "from keras.optimizers import Adam"
      ]
    },
    {
      "cell_type": "code",
      "execution_count": 9,
      "metadata": {},
      "outputs": [],
      "source": [
        "import sys\n",
        "from data import ProcessData\n"
      ]
    },
    {
      "cell_type": "code",
      "execution_count": 10,
      "metadata": {
        "colab": {
          "base_uri": "https://localhost:8080/"
        },
        "id": "GoqMygeDy6CA",
        "outputId": "241d8e5a-7d13-4e5e-c84c-5991a6e55694"
      },
      "outputs": [],
      "source": [
        "# Training\n",
        "en_training_path = keras.utils.get_file(\n",
        "    \"en_ewt-ud-train.conllu\",\n",
        "    \"https://github.com/UniversalDependencies/UD_English-EWT/raw/master/en_ewt-ud-train.conllu\")\n",
        "en_training_txt = open(en_training_path,encoding=\"utf8\")\n",
        "en_training_data=en_training_txt.read()\n",
        "\n",
        "en_training_lines = en_training_data.split(\"\\n\")\n",
        "\n",
        "# Validation\n",
        "en_validation_path = keras.utils.get_file(\n",
        "    \"en_ewt-ud-dev.conllu\",\n",
        "    \"https://github.com/UniversalDependencies/UD_English-EWT/raw/master/en_ewt-ud-dev.conllu\")\n",
        "en_validation_txt = open(en_validation_path,encoding=\"utf8\")\n",
        "en_validation_data = en_validation_txt.read()\n",
        "\n",
        "en_validation_lines = en_validation_data.split(\"\\n\")\n",
        "\n",
        "\n",
        "# Test\n",
        "en_test_path = keras.utils.get_file(\n",
        "    \"en_ewt-ud-test.conllu\",\n",
        "    \"https://github.com/UniversalDependencies/UD_English-EWT/raw/master/en_ewt-ud-test.conllu\")\n",
        "en_test_txt = open(en_test_path,encoding=\"utf8\")\n",
        "en_test_data = en_test_txt.read()\n",
        "\n",
        "en_test_lines = en_test_data.split(\"\\n\")"
      ]
    },
    {
      "cell_type": "code",
      "execution_count": 11,
      "metadata": {
        "id": "2ksX1QVMy6CA"
      },
      "outputs": [],
      "source": [
        "def preprocess_data(text_lines):\n",
        "  inputs = []\n",
        "  aux_inputs = [['0', 'ROOT', 'ROOT', '', '']]\n",
        "  d=[]\n",
        "  # we obtain the inputs and the targets -- words and its tags\n",
        "  for i in text_lines:\n",
        "    if i.startswith('#'):  # we are not interested in this lines of the data\n",
        "      continue\n",
        "    if len(i) == 0:\n",
        "      inputs.append(aux_inputs)\n",
        "      aux_inputs = [['0', 'ROOT', 'ROOT', '', '']]\n",
        "      continue\n",
        "    aux0 = i.split(\"\\t\")[0]\n",
        "    if (\"-\" in aux0) or (\".\" in aux0):  # we ignore the lines with the contractions of the language\n",
        "      continue\n",
        "    aux_ = i.split(\"\\t\")\n",
        "    d.append(aux_[0]) # word id\n",
        "    d.append(aux_[1]) # word\n",
        "    d.append(aux_[3]) # UPOS\n",
        "    d.append(aux_[6]) # head id\n",
        "    d.append(aux_[7]) # dependency label\n",
        "    aux_inputs.append(d)\n",
        "    d=[]\n",
        "  return inputs"
      ]
    },
    {
      "cell_type": "code",
      "execution_count": 12,
      "metadata": {
        "id": "g9E7wwPey6CB"
      },
      "outputs": [],
      "source": [
        "inputs=preprocess_data(en_training_lines)\n",
        "validation_inputs=preprocess_data(en_validation_lines)"
      ]
    },
    {
      "cell_type": "code",
      "execution_count": 13,
      "metadata": {
        "id": "z4H_2cdvy6CB"
      },
      "outputs": [],
      "source": [
        "# Eliminate the non-projective trees\n",
        "def preprocess_tree(text_lines):\n",
        "  tree_inputs = []\n",
        "  aux_inputs = []\n",
        "  d=[]\n",
        "  # we obtain the inputs and the targets -- words and its tags\n",
        "  for i in text_lines:\n",
        "    if i.startswith('#'):  # we are not interested in this lines of the data\n",
        "      continue\n",
        "    if len(i) == 0:\n",
        "      tree_inputs.append(aux_inputs)\n",
        "      aux_inputs = []\n",
        "      continue\n",
        "    aux0 = i.split(\"\\t\")[0]\n",
        "    if (\"-\" in aux0) or (\".\" in aux0):  # we ignore the lines with the contractions of the language\n",
        "      continue\n",
        "    aux_ = i.split(\"\\t\")\n",
        "    d.append(aux_[0])\n",
        "    d.append(aux_[6])\n",
        "    aux_inputs.append(d)\n",
        "    d=[]\n",
        "  return tree_inputs"
      ]
    },
    {
      "cell_type": "code",
      "execution_count": 14,
      "metadata": {
        "id": "Oj0moAw4y6CB"
      },
      "outputs": [],
      "source": [
        "tree_inputs=preprocess_tree(en_training_lines)\n",
        "validation_tree_inputs=preprocess_tree(en_validation_lines)"
      ]
    },
    {
      "cell_type": "code",
      "execution_count": 15,
      "metadata": {
        "id": "XhTfdYNdy6CC"
      },
      "outputs": [],
      "source": [
        "def is_projective(arcs: list):\n",
        "    \"\"\"\n",
        "    Determines if a dependency tree has crossing arcs or not.\n",
        "    Parameters:\n",
        "    arcs (list): A list of tuples of the form (headid, dependentid, coding\n",
        "    the arcs of the sentence, e.g, [(0,3), (1,4), …]\n",
        "    Returns:\n",
        "    A boolean: True if the tree is projective, False otherwise\n",
        "    \"\"\"\n",
        "    for (i,j) in arcs:\n",
        "        for (k,l) in arcs:\n",
        "            if (i,j) != (k,l) and min(i,j) < min(k,l) < max(i,j) < max(k,l):\n",
        "                return False\n",
        "    return True"
      ]
    },
    {
      "cell_type": "code",
      "execution_count": 16,
      "metadata": {
        "colab": {
          "base_uri": "https://localhost:8080/"
        },
        "id": "AxCo2de97OiR",
        "outputId": "a25701f5-457b-482d-9c84-b6f731c56d42"
      },
      "outputs": [
        {
          "data": {
            "text/plain": [
              "[['1', '0'],\n",
              " ['2', '1'],\n",
              " ['3', '1'],\n",
              " ['4', '1'],\n",
              " ['5', '6'],\n",
              " ['6', '7'],\n",
              " ['7', '1'],\n",
              " ['8', '7'],\n",
              " ['9', '8'],\n",
              " ['10', '8'],\n",
              " ['11', '8'],\n",
              " ['12', '8'],\n",
              " ['13', '8'],\n",
              " ['14', '15'],\n",
              " ['15', '8'],\n",
              " ['16', '18'],\n",
              " ['17', '18'],\n",
              " ['18', '15'],\n",
              " ['19', '21'],\n",
              " ['20', '21'],\n",
              " ['21', '18'],\n",
              " ['22', '23'],\n",
              " ['23', '21'],\n",
              " ['24', '21'],\n",
              " ['25', '28'],\n",
              " ['26', '28'],\n",
              " ['27', '28'],\n",
              " ['28', '21'],\n",
              " ['29', '1']]"
            ]
          },
          "execution_count": 16,
          "metadata": {},
          "output_type": "execute_result"
        }
      ],
      "source": [
        "tree_inputs[0]"
      ]
    },
    {
      "cell_type": "code",
      "execution_count": 17,
      "metadata": {
        "id": "uf1pYQhpy6CC"
      },
      "outputs": [],
      "source": [
        "# Boolean list that says if a tree if projective or not\n",
        "tree=[]\n",
        "inputs2=[]\n",
        "for idx, sentence in enumerate(tree_inputs):\n",
        "    if is_projective(sentence):\n",
        "        tree.append(sentence)\n",
        "        inputs2.append(inputs[idx])\n",
        "        \n",
        "        \n",
        "#############################################\n",
        "\n",
        "validation_tree=[]\n",
        "validation_inputs2=[]\n",
        "for idx, sentence in enumerate(validation_tree_inputs):\n",
        "    if is_projective(sentence):\n",
        "        validation_tree.append(sentence)\n",
        "        validation_inputs2.append(validation_inputs[idx])"
      ]
    },
    {
      "cell_type": "code",
      "execution_count": 18,
      "metadata": {
        "id": "LtmezRX5JcPP"
      },
      "outputs": [],
      "source": [
        "inputs_=[]\n",
        "aux= []\n",
        "for sentence in inputs2:\n",
        "  d=[]\n",
        "  for word in sentence:\n",
        "    d.append(word[1])\n",
        "    d.append(word[2])\n",
        "    aux.append(d)\n",
        "    d=[]\n",
        "  inputs_.append(aux)\n",
        "  aux=[]\n",
        "  \n",
        "###############################################\n",
        "  \n",
        "validation_inputs_=[]\n",
        "aux= []\n",
        "for sentence in validation_inputs2:\n",
        "  d=[]\n",
        "  for word in sentence:\n",
        "    d.append(word[1])\n",
        "    d.append(word[2])\n",
        "    aux.append(d)\n",
        "    d=[]\n",
        "  validation_inputs_.append(aux)\n",
        "  aux=[]\n",
        "  "
      ]
    },
    {
      "cell_type": "code",
      "execution_count": 20,
      "metadata": {
        "id": "rY9uGtNfy6CD"
      },
      "outputs": [],
      "source": [
        "def get_tokenizer_inputs(inputs):\n",
        "  tokenizer_inputs = []\n",
        "  encoderUPOS_inputs = []\n",
        "  encoderDEPREL_inputs = []\n",
        "  for i in inputs:\n",
        "    for y in i:\n",
        "      tokenizer_inputs.append(y[1])\n",
        "      encoderUPOS_inputs.append(y[2])\n",
        "      encoderDEPREL_inputs.append(y[4])\n",
        "      \n",
        "  return tokenizer_inputs, encoderUPOS_inputs, encoderDEPREL_inputs"
      ]
    },
    {
      "cell_type": "code",
      "execution_count": 21,
      "metadata": {
        "colab": {
          "base_uri": "https://localhost:8080/"
        },
        "id": "KiArs7obZbIp",
        "outputId": "9dcc5344-41b9-476e-a2f4-7446c217e5a3"
      },
      "outputs": [
        {
          "data": {
            "text/plain": [
              "['1', '[', 'PUNCT', '10', 'punct']"
            ]
          },
          "execution_count": 21,
          "metadata": {},
          "output_type": "execute_result"
        }
      ],
      "source": [
        "inputs2[0][1]"
      ]
    },
    {
      "cell_type": "code",
      "execution_count": 22,
      "metadata": {
        "id": "hnQME3Sr-y4o"
      },
      "outputs": [],
      "source": [
        "def preprocess_oracle(text_lines):\n",
        "  oracle_inputs = []\n",
        "  aux_inputs = [['0', '', '']]\n",
        "  d=[]\n",
        "  # we obtain the inputs and the targets -- words and its tags\n",
        "  for i in text_lines:\n",
        "    if i.startswith('#'):  # we are not interested in this lines of the data\n",
        "      continue\n",
        "    if len(i) == 0:\n",
        "      oracle_inputs.append(aux_inputs)\n",
        "      aux_inputs = [['0', '', '']]\n",
        "      continue\n",
        "    aux0 = i.split(\"\\t\")[0]\n",
        "    if (\"-\" in aux0) or (\".\" in aux0):  # we ignore the lines with the contractions of the language\n",
        "      continue\n",
        "    aux_ = i.split(\"\\t\")\n",
        "    d.append(aux_[0])\n",
        "    d.append(aux_[6])\n",
        "    d.append(aux_[7])\n",
        "    aux_inputs.append(d)\n",
        "    d=[]\n",
        "  return oracle_inputs"
      ]
    },
    {
      "cell_type": "code",
      "execution_count": 23,
      "metadata": {
        "id": "mURJyOaq5ByG"
      },
      "outputs": [],
      "source": [
        "oracle_inputs=preprocess_oracle(en_training_lines)\n",
        "validation_oracle_inputs=preprocess_oracle(en_validation_lines)"
      ]
    },
    {
      "cell_type": "code",
      "execution_count": 24,
      "metadata": {
        "id": "WgUnX01W8f6F"
      },
      "outputs": [],
      "source": [
        "oracle_=[]\n",
        "for idx, sentence in enumerate(tree_inputs):\n",
        "    if is_projective(sentence):\n",
        "        oracle_.append(oracle_inputs[idx]) \n",
        "        \n",
        "#############################################\n",
        "\n",
        "validation_oracle_=[]\n",
        "for idx, sentence in enumerate(validation_tree_inputs):\n",
        "    if is_projective(sentence):\n",
        "        validation_oracle_.append(validation_oracle_inputs[idx]) "
      ]
    },
    {
      "cell_type": "code",
      "execution_count": 25,
      "metadata": {
        "id": "vcsoEUIL1iFB"
      },
      "outputs": [],
      "source": [
        "\"\"\"\n",
        "Definitions\n",
        "\n",
        "-\tσ: stack of tokens\n",
        "-\tβ: buffer of tokens\n",
        "-\tA: dependency arcs (i,l,j)\n",
        "\t-\t\ti: head\n",
        "\t-\t\tl: dependency type of j\n",
        "\t-\t\tj: dependent\n",
        "\n",
        "-\tσ|i: stack with top i and tail σ\n",
        "-\tj|β: buffer with head j and tail β\n",
        "\n",
        "\"\"\"\n",
        "\n",
        "# *!* Comprobar orden de i,j\n",
        "\n",
        "\n",
        "###################################################################\n",
        "#\t\t\tCREATE INITIAL STATE\n",
        "###################################################################\n",
        "\n",
        "def create_initial_state(sentence):\n",
        "  # [σ, β, A] = [[ROOT], [w1, w2, ...]., {}]\n",
        "\n",
        "  alpha = [0]\n",
        "  betha = list(range(1,len(sentence)))\n",
        "  A = []\n",
        "  return [alpha, betha, A]\n",
        "\n",
        "###################################################################\n",
        "#\t\t\tCHECK IF TRANSITION IS VALID\n",
        "###################################################################\n",
        "\n",
        "def LA_is_valid(state):\n",
        "\t# σ|i\n",
        "\ti = state[0][-1]\n",
        "\t#j|β\n",
        "\tj = state[1][0]\n",
        "\t# ¬[i = 0]\n",
        "\tif i == 0:\n",
        "\t\treturn False\n",
        "\t# ¬∃k∃l [(k, l , i) ∈ A]\n",
        "\tfor s in state[2]:\n",
        "\t\tif s[2] == i:\n",
        "\t\t\treturn False\n",
        "\treturn True\n",
        "\t\n",
        "def RA_is_valid(state):\n",
        "\t# σ|i\n",
        "\ti = state[0][-1]\n",
        "\t#j|β\n",
        "\tj = state[1][0]\n",
        "\t# ¬∃k∃l [(k, l , j) ∈ A]\n",
        "\tfor s in state[2]:\n",
        "\t\tif s[2] == j:\n",
        "\t\t\treturn False\n",
        "\treturn True\n",
        "\n",
        "def REDUCE_is_valid(state):\n",
        "\t# σ|i\n",
        "\ti = state[0][-1]\n",
        "\t# ∃k∃l[(k, l, i) ∈ A]\n",
        "\tfor s in state[2]:\n",
        "\t\tif s[2] == i:\n",
        "\t\t\treturn True\n",
        "\treturn False\n",
        "\n",
        "###################################################################\n",
        "#\t\t\tPERFORM TRANSITION IS VALID\n",
        "###################################################################\n",
        "\n",
        "def apply_LA(state,sentence):\n",
        "\t# (σ|i, j|β, A) ⇒ (σ, j|β, A∪{(j, l, i)})\n",
        "\t# A element ()\n",
        "\ti=state[0][-1]\n",
        "\tj=state[1][0]\n",
        "\t# Add a dependency arc (j, l, i) to A, where i is the node on top of the \n",
        "\t# stack σ and j is the first node in the buffer β\n",
        "\tstate[2].append((state[1][0], sentence[i][2], state[0][-1]))\n",
        "\t# pop the stack σ\n",
        "\tstate[0].pop(-1)\n",
        "\treturn state\n",
        "\n",
        "\n",
        "def apply_RA(state,sentence):\n",
        "\t# (σ|i, j|β, A) ⇒ (σ|i|j,β, A∪{(i, l, j)})\n",
        "\t# *!* l ????\n",
        "\ti=state[0][-1]\n",
        "\tj = state[1][0]\n",
        "\t# Add a dependency arc (i, l, j) to A, where i is the node on top of the \n",
        "\t# stack σ and j is the first node in the buffer β\n",
        "\tstate[2].append((state[0][-1], sentence[j][2], state[1][0]))\n",
        "\t# remove the first node j in the buffer β and push it on top of the stack σ\n",
        "\tstate[0].append(j)\n",
        "\tstate[1].pop(0)\n",
        "\treturn state\n",
        "\n",
        "def apply_REDUCE(state):\n",
        "\t# (σ|i,β, A) ⇒ (σ,β, A)\n",
        "\t# pops the stack \n",
        "\tstate[0].pop(-1)\n",
        "\treturn state\n",
        "\n",
        "def apply_SHIFT(state):\n",
        "\t# remove the first node i in the buffer β and pushes it on top of the stack σ\n",
        "\ti=state[1][0]\n",
        "\tstate[1].pop(0)\n",
        "\tstate[0].append(i)\n",
        "\treturn state"
      ]
    },
    {
      "cell_type": "code",
      "execution_count": 26,
      "metadata": {
        "id": "QQFGvo1UZbIq"
      },
      "outputs": [],
      "source": [
        "def is_final_state(state):\n",
        "    if state[1]==[]:\n",
        "        return True\n",
        "    else:\n",
        "        return False"
      ]
    },
    {
      "cell_type": "code",
      "execution_count": 27,
      "metadata": {
        "id": "ZwH8g2qiZbIr"
      },
      "outputs": [],
      "source": [
        "# determinate if all children of the stack top are already in the state \n",
        "def has_all_children(stack_top,state, sentence):\n",
        "    children_sentence = sum([str(stack_top) in t for t in sentence])\n",
        "    children_state = sum([(stack_top) in t for t in state[2]])\n",
        "    if children_sentence==children_state:\n",
        "        return True\n",
        "    else:\n",
        "        return False"
      ]
    },
    {
      "cell_type": "code",
      "execution_count": 28,
      "metadata": {
        "id": "-7XFzw1AXeLg"
      },
      "outputs": [],
      "source": [
        "def oracle(state,sentence):\n",
        "\t#   s,b = top_word_from_stack, top_word_from_buffer\n",
        "\ts = state[0][-1] \n",
        "\tb = state[1][0]  \n",
        "\n",
        "\tif LA_is_valid(state) and int(sentence[s][1])==b:\n",
        "\t\treturn 'LA'\n",
        "\telif RA_is_valid(state) and int(sentence[b][1])==s:\n",
        "\t\treturn 'RA'\n",
        "\telif REDUCE_is_valid(state) and has_all_children(s,state,sentence):\n",
        "\t\treturn 'REDUCE'\n",
        "\telse :\n",
        "\t\treturn 'SHIFT'"
      ]
    },
    {
      "cell_type": "code",
      "execution_count": 29,
      "metadata": {
        "id": "xBe-EFvNXhJo"
      },
      "outputs": [],
      "source": [
        "def parse(sentence):\n",
        "\t# sentence [\"word id\", \"head id\", \"dependency label\"]\n",
        "\tstate = create_initial_state(sentence) \n",
        "\twhile not is_final_state(state):\n",
        "\t\tt=oracle(state,sentence)\n",
        "\t\t# Left Arc\n",
        "\t\tif t==\"LA\":\n",
        "\t\t\tstate=apply_LA(state,sentence)\n",
        "\t\t# Right arc\n",
        "\t\telif t==\"RA\":\n",
        "\t\t\tstate=apply_RA(state,sentence)\n",
        "\t\t#Reduce\n",
        "\t\telif t==\"REDUCE\":\n",
        "\t\t\tstate=apply_REDUCE(state)\n",
        "\t\t#SHIFT\n",
        "\t\telse:\n",
        "\t\t\tstate=apply_SHIFT(state)\n",
        "\t\t# print(t)\n",
        "\t\t# print(state)\n",
        "\treturn state"
      ]
    },
    {
      "cell_type": "code",
      "execution_count": 30,
      "metadata": {
        "colab": {
          "base_uri": "https://localhost:8080/"
        },
        "id": "UIV4wo0V4wPR",
        "outputId": "15602f4f-50a5-4cec-be11-b17a2928e676"
      },
      "outputs": [
        {
          "data": {
            "text/plain": [
              "[[0, 8, 9],\n",
              " [],\n",
              " [(4, 'nmod:poss', 3),\n",
              "  (4, 'case', 2),\n",
              "  (8, 'advmod', 7),\n",
              "  (8, 'cop', 6),\n",
              "  (8, 'nsubj', 5),\n",
              "  (8, 'obl', 4),\n",
              "  (8, 'cc', 1),\n",
              "  (0, 'root', 8),\n",
              "  (8, 'punct', 9)]]"
            ]
          },
          "execution_count": 30,
          "metadata": {},
          "output_type": "execute_result"
        }
      ],
      "source": [
        "# But in my view it is highly significant.\n",
        "sentence=oracle_[2]\n",
        "parse(sentence)"
      ]
    },
    {
      "cell_type": "code",
      "execution_count": 31,
      "metadata": {
        "colab": {
          "base_uri": "https://localhost:8080/"
        },
        "id": "c2nZrIfw5St3",
        "outputId": "65a3b225-9fd5-4e31-c8db-0d4fc2625217"
      },
      "outputs": [
        {
          "data": {
            "text/plain": [
              "[[0, 1, 3, 5],\n",
              " [],\n",
              " [(0, 'root', 1),\n",
              "  (3, 'det', 2),\n",
              "  (1, 'dobj', 3),\n",
              "  (5, 'case', 4),\n",
              "  (3, 'nmod', 5)]]"
            ]
          },
          "execution_count": 31,
          "metadata": {},
          "output_type": "execute_result"
        }
      ],
      "source": [
        "# Book the flight through Houston.\n",
        "sentence=[['0','',''],['1','0','root'],['2','3','det'],['3','1','dobj'],['4','5','case'],['5','3','nmod']]\n",
        "parse(sentence)\n"
      ]
    },
    {
      "cell_type": "code",
      "execution_count": 32,
      "metadata": {
        "colab": {
          "base_uri": "https://localhost:8080/"
        },
        "id": "AWzgcCeO5VAd",
        "outputId": "5825b120-d4d8-4943-b22a-02dea030bcdd"
      },
      "outputs": [
        {
          "data": {
            "text/plain": [
              "[[0, 3, 9],\n",
              " [],\n",
              " [(2, 'nmod', 1),\n",
              "  (3, 'sbj', 2),\n",
              "  (0, 'root', 3),\n",
              "  (5, 'nmod', 4),\n",
              "  (3, 'obj', 5),\n",
              "  (5, 'nmod', 6),\n",
              "  (8, 'nmod', 7),\n",
              "  (6, 'pmod', 8),\n",
              "  (3, 'p', 9)]]"
            ]
          },
          "execution_count": 32,
          "metadata": {},
          "output_type": "execute_result"
        }
      ],
      "source": [
        "# Economic news had little effect on financial markets.\n",
        "sentence=[['0','',''],['1','2','nmod'],['2','3','sbj'],['3','0','root'],['4','5','nmod'],['5','3','obj'],['6','5','nmod'],['7','8','nmod'],['8','6','pmod'],['9','3','p']]\n",
        "parse(sentence)"
      ]
    },
    {
      "cell_type": "code",
      "execution_count": 33,
      "metadata": {
        "colab": {
          "base_uri": "https://localhost:8080/"
        },
        "id": "njuz_mqB5XCa",
        "outputId": "f7f7a602-3d8a-464b-a320-6a565967e3e6"
      },
      "outputs": [
        {
          "data": {
            "text/plain": [
              "[[0, 2, 5],\n",
              " [],\n",
              " [(2, 'propn', 1),\n",
              "  (0, 'root', 2),\n",
              "  (5, 'adj', 4),\n",
              "  (5, 'det', 3),\n",
              "  (2, 'verb', 5)]]"
            ]
          },
          "execution_count": 33,
          "metadata": {},
          "output_type": "execute_result"
        }
      ],
      "source": [
        "# John ate a green apple.\n",
        "sentence=[['0','',''],['1','2','propn'],['2','0','root'],['3','5','det'],['4','5','adj'],['5','2','verb']]\n",
        "parse(sentence)"
      ]
    },
    {
      "cell_type": "code",
      "execution_count": 34,
      "metadata": {
        "id": "fY9FQLsq5asF"
      },
      "outputs": [],
      "source": [
        "outputs=[]\n",
        "for sentence in oracle_:\n",
        "    t=parse(sentence)\n",
        "    outputs.append(t[2])\n",
        "    \n",
        "##############################\n",
        "\n",
        "validation_outputs=[]\n",
        "for sentence in validation_oracle_:\n",
        "    t=parse(sentence)\n",
        "    validation_outputs.append(t[2])"
      ]
    },
    {
      "cell_type": "code",
      "execution_count": 35,
      "metadata": {
        "colab": {
          "base_uri": "https://localhost:8080/"
        },
        "id": "jMYF5tiOHWBK",
        "outputId": "e004f0fd-6413-4ca2-812a-a25f824af676"
      },
      "outputs": [
        {
          "name": "stdout",
          "output_type": "stream",
          "text": [
            "[['ROOT', 'ROOT'], ['His', 'PRON'], ['mother', 'NOUN'], ['was', 'AUX'], ['also', 'ADV'], ['killed', 'VERB'], ['in', 'ADP'], ['the', 'DET'], ['attack', 'NOUN'], ['.', 'PUNCT']]\n",
            "\n",
            "[(2, 'nmod:poss', 1), (5, 'advmod', 4), (5, 'aux:pass', 3), (5, 'nsubj:pass', 2), (0, 'root', 5), (8, 'det', 7), (8, 'case', 6), (5, 'obl', 8), (5, 'punct', 9)]\n"
          ]
        }
      ],
      "source": [
        "print(inputs_[1])\n",
        "print()\n",
        "print(outputs[1])\n"
      ]
    },
    {
      "cell_type": "code",
      "execution_count": 36,
      "metadata": {
        "id": "wPJ3A-ZE5eFY"
      },
      "outputs": [],
      "source": [
        "tokenizer_inputs, encoderUPOS_inputs, encoderDEPREL_inputs = get_tokenizer_inputs(inputs2)\n",
        "val_tokenizer_inputs, val_encoderUPOS_inputs, val_encoderDEPREL_inputs = get_tokenizer_inputs(validation_inputs2)\n",
        "\n",
        "tokenizer = Tokenizer(filters='',lower=False, oov_token='UNK') \n",
        "tokenizer.fit_on_texts(tokenizer_inputs)\n",
        "\n",
        "encoderUPOS = LabelEncoder()\n",
        "encoderUPOS = encoderUPOS.fit(encoderUPOS_inputs)\n",
        "\n",
        "tokenizer2 = Tokenizer(filters='',lower=False, oov_token='None')\n",
        "tokenizer2.fit_on_texts(encoderDEPREL_inputs)\n",
        "\n",
        "encoderDEPREL = LabelEncoder()\n",
        "encoderDEPREL = encoderDEPREL.fit(encoderDEPREL_inputs + ['None'] + ['flat:foreign'])"
      ]
    },
    {
      "cell_type": "code",
      "execution_count": 37,
      "metadata": {
        "id": "KAnNNPrt55FT"
      },
      "outputs": [
        {
          "data": {
            "text/plain": [
              "{'LA': 0, 'RA': 1, 'SHIFT': 2, 'REDUCE': 3}"
            ]
          },
          "execution_count": 37,
          "metadata": {},
          "output_type": "execute_result"
        }
      ],
      "source": [
        "word_dic=tokenizer.index_word\n",
        "relation_dic=encoderDEPREL.classes_\n",
        "pos_dic=encoderUPOS.classes_\n",
        "\n",
        "action_dic = dict()\n",
        "action_dic['LA']=0\n",
        "action_dic['RA']=1\n",
        "action_dic['SHIFT']=2\n",
        "action_dic['REDUCE']=3\n",
        "\n",
        "action_dic"
      ]
    },
    {
      "cell_type": "code",
      "execution_count": 38,
      "metadata": {
        "colab": {
          "base_uri": "https://localhost:8080/"
        },
        "id": "E26UgDixKzz8",
        "outputId": "e4ec9198-7c92-4dff-b5d1-675edd8e8664"
      },
      "outputs": [
        {
          "name": "stdout",
          "output_type": "stream",
          "text": [
            "[['ROOT', 'ROOT'], ['But', 'CCONJ'], ['in', 'ADP'], ['my', 'PRON'], ['view', 'NOUN'], ['it', 'PRON'], ['is', 'AUX'], ['highly', 'ADV'], ['significant', 'ADJ'], ['.', 'PUNCT']]\n",
            "\n",
            "[(4, 'nmod:poss', 3), (4, 'case', 2), (8, 'advmod', 7), (8, 'cop', 6), (8, 'nsubj', 5), (8, 'obl', 4), (8, 'cc', 1), (0, 'root', 8), (8, 'punct', 9)]\n"
          ]
        }
      ],
      "source": [
        "print(inputs_[2])\n",
        "print()\n",
        "print(outputs[2])"
      ]
    },
    {
      "cell_type": "code",
      "execution_count": 39,
      "metadata": {
        "id": "9oPa3maX6Mz0"
      },
      "outputs": [],
      "source": [
        "# But in my view it is highly significant.\n",
        "state=[[0, 1, 4, 5, 6, 7], [8, 9], [(4, 'nmod:poss', 3), (4, 'case', 2)]] # next prediction should be LA"
      ]
    },
    {
      "cell_type": "code",
      "execution_count": 40,
      "metadata": {
        "id": "3uS4eLCk684z"
      },
      "outputs": [],
      "source": [
        "# INPUTS = sequence of features (words and /or universal PoS tags) from the n==2 top elements in the stack and the buffer\n",
        "#            WORD || POS TAG\n",
        "## stack\n",
        "#              is || AUX\n",
        "#          highly || ADV\n",
        "\n",
        "## buffer\n",
        "#     significant || ADJ\n",
        "#               . || PUNCT\n",
        "\n",
        "#################\n",
        "# STACK INPUTS = [[is highly, AUX,ADV]]\n",
        "# BUFFER INPUTS = [[significant . , ADJ,PUNCT]]\n",
        "\n",
        "# STACK ids =  [[11 278], [3  2]]\n",
        "# BUFFER ids = [[2359  3], [0  12]]"
      ]
    },
    {
      "cell_type": "code",
      "execution_count": 41,
      "metadata": {
        "id": "q6Z7PlQz6yHP"
      },
      "outputs": [],
      "source": [
        "# TARGETS = transition to be applied and dependency label (if any) \n",
        "###  TRANSITION || DEPENDENCY LABEL\n",
        "###      LA     ||       advmod\n",
        "\n",
        "###################################\n",
        "# OUTPUT = [ LA , advmod]\n",
        "\n",
        "# OUTPUT_TRANSITION = 0\n",
        "# OUTPUT_RELATION = 5"
      ]
    },
    {
      "cell_type": "code",
      "execution_count": 42,
      "metadata": {
        "id": "t1Y6Ufls7JiY"
      },
      "outputs": [],
      "source": [
        "emb_dim=30\n",
        "n=2  # number of words taken from the stack/buffer\n",
        "num_features=2"
      ]
    },
    {
      "cell_type": "code",
      "execution_count": 43,
      "metadata": {
        "colab": {
          "base_uri": "https://localhost:8080/"
        },
        "id": "CNZhWdxU9Hj7",
        "outputId": "670341e1-9188-4467-f9ea-1002956e75e1"
      },
      "outputs": [
        {
          "name": "stdout",
          "output_type": "stream",
          "text": [
            "Model: \"model\"\n",
            "__________________________________________________________________________________________________\n",
            " Layer (type)                   Output Shape         Param #     Connected to                     \n",
            "==================================================================================================\n",
            " Stack_Input (InputLayer)       [(None, 2)]          0           []                               \n",
            "                                                                                                  \n",
            " Buffer_Input (InputLayer)      [(None, 2)]          0           []                               \n",
            "                                                                                                  \n",
            " Stack_Embedding (Embedding)    (None, 2, 30)        60          ['Stack_Input[0][0]']            \n",
            "                                                                                                  \n",
            " Buffer_Embedding (Embedding)   (None, 2, 30)        60          ['Buffer_Input[0][0]']           \n",
            "                                                                                                  \n",
            " Concatenate (Concatenate)      (None, 4, 30)        0           ['Stack_Embedding[0][0]',        \n",
            "                                                                  'Buffer_Embedding[0][0]']       \n",
            "                                                                                                  \n",
            " reshape (Reshape)              (None, 4, 30)        0           ['Concatenate[0][0]']            \n",
            "                                                                                                  \n",
            " Transition_Output (Dense)      (None, 4, 4)         124         ['reshape[0][0]']                \n",
            "                                                                                                  \n",
            " Relation_Output (Dense)        (None, 4, 51)        1581        ['reshape[0][0]']                \n",
            "                                                                                                  \n",
            "==================================================================================================\n",
            "Total params: 1,825\n",
            "Trainable params: 1,825\n",
            "Non-trainable params: 0\n",
            "__________________________________________________________________________________________________\n"
          ]
        }
      ],
      "source": [
        "model=Sequential()\n",
        "stack_input=tf.keras.layers.Input(shape=(n,),name='Stack_Input')\n",
        "buffer_input=tf.keras.layers.Input(shape=(n,),name='Buffer_Input')\n",
        "\n",
        "stack_emb=tf.keras.layers.Embedding(num_features, emb_dim, name='Stack_Embedding')(stack_input)\n",
        "buffer_emb=tf.keras.layers.Embedding(num_features, emb_dim, name='Buffer_Embedding')(buffer_input)\n",
        "\n",
        "concatenated_embeddings= tf.keras.layers.Concatenate(axis=1,name='Concatenate')([stack_emb, buffer_emb])\n",
        "\n",
        "features=tf.keras.layers.Reshape((2*n,emb_dim))(concatenated_embeddings)\n",
        "\n",
        "relation_output = tf.keras.layers.Dense(len(encoderDEPREL.classes_), activation='softmax', name='Relation_Output')(features) # 49 relations (nmod:poss, case, advmod, etc.\n",
        "transition_output = tf.keras.layers.Dense(len(action_dic), activation='softmax', name='Transition_Output')(features) # 4 actions (LA, RA, SHIFT, REDUCE)\n",
        "\n",
        "my_parser=keras.Model(inputs = [stack_input, buffer_input], outputs = [transition_output, relation_output])\n",
        "\n",
        "my_parser.summary()"
      ]
    },
    {
      "cell_type": "code",
      "execution_count": 44,
      "metadata": {
        "colab": {
          "base_uri": "https://localhost:8080/",
          "height": 533
        },
        "id": "AT-nXhMi_26x",
        "outputId": "2a68f011-e305-4742-806b-725e0c8547c6"
      },
      "outputs": [
        {
          "data": {
            "image/png": "[encoded data removed]",
            "text/plain": [
              "<IPython.core.display.Image object>"
            ]
          },
          "execution_count": 44,
          "metadata": {},
          "output_type": "execute_result"
        }
      ],
      "source": [
        "tf.keras.utils.plot_model(my_parser, show_shapes=True, show_layer_names=True)"
      ]
    },
    {
      "cell_type": "code",
      "execution_count": 45,
      "metadata": {
        "id": "PowvyMAJCxw0"
      },
      "outputs": [],
      "source": [
        "my_parser.compile(loss='categorical_crossentropy', optimizer='adam', metrics=['accuracy'])"
      ]
    },
    {
      "cell_type": "code",
      "execution_count": 46,
      "metadata": {
        "id": "itGuRysuEdBb"
      },
      "outputs": [],
      "source": [
        "# my_parser.fit(x=[stack_inputs,buffer_inputs],y=[transition_outputs,relation_outputs],epochs=10)"
      ]
    },
    {
      "cell_type": "code",
      "execution_count": 47,
      "metadata": {},
      "outputs": [
        {
          "data": {
            "text/plain": [
              "[[1], [11], [278]]"
            ]
          },
          "execution_count": 47,
          "metadata": {},
          "output_type": "execute_result"
        }
      ],
      "source": [
        "top_s = ['EMPTY', 'is', 'highly']\n",
        "tokenizer.texts_to_sequences(top_s)"
      ]
    },
    {
      "cell_type": "markdown",
      "metadata": {
        "id": "a0yrSCKECdty"
      },
      "source": [
        "# Training data"
      ]
    },
    {
      "cell_type": "code",
      "execution_count": 48,
      "metadata": {},
      "outputs": [],
      "source": [
        "def parse_train(sentence,input):\n",
        "    state = create_initial_state(sentence) \n",
        "    stack_inputs=[]\n",
        "    buffer_inputs=[]\n",
        "    actions_t=[]\n",
        "    relations_t=[]\n",
        "    \n",
        "    while not is_final_state(state):\n",
        "        relation_aux = False\n",
        "        t=oracle(state,sentence)\n",
        "        if len(state[0]) < 2:\n",
        "            top_stack = ['EMPTY', state[0][-1]]\n",
        "            top_s = ['EMPTY', input[state[0][-1]][0]]\n",
        "        else:\n",
        "            top_stack = [state[0][-2], state[0][-1]]\n",
        "            top_s = [input[state[0][-2]][0], input[state[0][-1]][0]]\n",
        "        if len(state[1]) < 2:\n",
        "            top_buffer = [state[1][0], 'EMPTY']\n",
        "            top_b=[input[state[1][0]][0], 'EMPTY']\n",
        "        else:\n",
        "            top_buffer = [state[1][0], state[1][1]]\n",
        "            top_b=[input[state[1][0]][0], input[state[1][1]][0]]\n",
        "            \n",
        "        if t==\"LA\":\n",
        "            relation_aux = True\n",
        "            state=apply_LA(state,sentence)\n",
        "        elif t==\"RA\":\n",
        "            relation_aux = True\n",
        "            state=apply_RA(state,sentence)\n",
        "        elif t==\"REDUCE\":\n",
        "            state=apply_REDUCE(state)\n",
        "        else:\n",
        "            state=apply_SHIFT(state)\n",
        "            \n",
        "        if relation_aux:\n",
        "            relation = state[2][-1][1]\n",
        "        else:\n",
        "            relation = 'None'\n",
        "            \n",
        "        stack_inputs.append(top_s)\n",
        "        buffer_inputs.append(top_b)\n",
        "        actions_t.append(t)\n",
        "        relations_t.append(relation)\n",
        "    \n",
        "    return stack_inputs, buffer_inputs, actions_t, relations_t"
      ]
    },
    {
      "cell_type": "code",
      "execution_count": 49,
      "metadata": {},
      "outputs": [
        {
          "name": "stdout",
          "output_type": "stream",
          "text": [
            "[['EMPTY', 'ROOT'], ['ROOT', 'But'], ['But', 'in'], ['in', 'my'], ['But', 'in'], ['ROOT', 'But'], ['But', 'view'], ['view', 'it'], ['it', 'is'], ['is', 'highly'], ['it', 'is'], ['view', 'it'], ['But', 'view'], ['ROOT', 'But'], ['EMPTY', 'ROOT'], ['ROOT', 'significant']]\n",
            "\n",
            "[['But', 'in'], ['in', 'my'], ['my', 'view'], ['view', 'it'], ['view', 'it'], ['view', 'it'], ['it', 'is'], ['is', 'highly'], ['highly', 'significant'], ['significant', '.'], ['significant', '.'], ['significant', '.'], ['significant', '.'], ['significant', '.'], ['significant', '.'], ['.', 'EMPTY']]\n",
            "\n",
            "['SHIFT', 'SHIFT', 'SHIFT', 'LA', 'LA', 'SHIFT', 'SHIFT', 'SHIFT', 'SHIFT', 'LA', 'LA', 'LA', 'LA', 'LA', 'RA', 'RA']\n",
            "\n",
            "['None', 'None', 'None', 'nmod:poss', 'case', 'None', 'None', 'None', 'None', 'advmod', 'cop', 'nsubj', 'obl', 'cc', 'root', 'punct']\n"
          ]
        }
      ],
      "source": [
        "stack_inputs, buffer_inputs, actions_t, relations_t=parse_train(oracle_[2],inputs_[2])\n",
        "print(stack_inputs)\n",
        "print()\n",
        "print(buffer_inputs)\n",
        "print()\n",
        "print(actions_t)\n",
        "print()\n",
        "print(relations_t)"
      ]
    },
    {
      "cell_type": "code",
      "execution_count": 50,
      "metadata": {
        "id": "_OHVc8-vCxqK"
      },
      "outputs": [],
      "source": [
        "# Parse storing info for training\n",
        "\n",
        "def parse(sentence):\n",
        "\t# sentence [\"word id\", \"head id\", \"dependency label\"]\n",
        "\tstate = create_initial_state(sentence) \n",
        "\ttrain_input = []\n",
        "\ttrain_output = []\n",
        "\n",
        "\t#\t\tstack\t\t\t\t\tbuffer\t\t\t\taction\t\trelation\n",
        "\t# [s[0][-2], s[0][-1]],\t\t[s[1][0], s[1][1]],\t\tt,\t\t\ts[2][-1][1],       \n",
        "\n",
        "\t# hay que pasar las relaciones a numero\n",
        "\n",
        "\t# if len(s[0]) < 2:\n",
        "\t#\t['EMPTY', s[0][-1]]\n",
        "\t# if len(s[1]) < 2:\n",
        "\t#\t[s[1][0], 'EMPTY']  ?\n",
        "    \n",
        "\twhile not is_final_state(state):\n",
        "        \n",
        "\t\t# Only add the relation when its Left or Right arc\n",
        "\t\trelation_aux = False\n",
        "\n",
        "\t\tt=oracle(state,sentence)\n",
        "\n",
        "\t\tif len(state[0]) < 2:\n",
        "\t\t\ttop_stack = ['EMPTY', state[0][-1]]\n",
        "\t\telse:\n",
        "\t\t\ttop_stack = [state[0][-2], state[0][-1]]\n",
        "\n",
        "\t\tif len(state[1]) < 2:\n",
        "\t\t\ttop_buffer = [state[1][0], 'EMPTY']\n",
        "\t\telse:\n",
        "\t\t\ttop_buffer = [state[1][0], state[1][1]]\n",
        "\n",
        "\t\t# Left Arc\n",
        "\t\tif t==\"LA\":\n",
        "\t\t\trelation_aux = True\n",
        "\t\t\tstate=apply_LA(state,sentence)\n",
        "\t\t# Right arc\n",
        "\t\telif t==\"RA\":\n",
        "\t\t\trelation_aux = True\n",
        "\t\t\tstate=apply_RA(state,sentence)\n",
        "\t\t#Reduce\n",
        "\t\telif t==\"REDUCE\":\n",
        "\t\t\tstate=apply_REDUCE(state)\n",
        "\t\t#SHIFT\n",
        "\t\telse:\n",
        "\t\t\tstate=apply_SHIFT(state)\n",
        "\n",
        "\t\tif relation_aux:\n",
        "\t\t\trelation = state[2][-1][1]\n",
        "\t\telse:\n",
        "\t\t\trelation = None\n",
        "\t\ttrain_input.append([top_stack, top_buffer])\n",
        "\t\ttrain_output.append([t, relation])\n",
        "\t\t\n",
        "\treturn state, train_input, train_output"
      ]
    },
    {
      "cell_type": "code",
      "execution_count": 51,
      "metadata": {
        "id": "fX9-2jOLC5bi"
      },
      "outputs": [],
      "source": [
        "sentence=oracle_[2]\n",
        "final_state, train_input, train_output = parse(sentence)"
      ]
    },
    {
      "cell_type": "code",
      "execution_count": 52,
      "metadata": {
        "colab": {
          "base_uri": "https://localhost:8080/"
        },
        "id": "apNXjupSC6PA",
        "outputId": "9b4a8119-e19a-4ca4-c5e4-ef2dd26bf096"
      },
      "outputs": [
        {
          "name": "stdout",
          "output_type": "stream",
          "text": [
            "[[['EMPTY', 0], [1, 2]], [[0, 1], [2, 3]], [[1, 2], [3, 4]], [[2, 3], [4, 5]], [[1, 2], [4, 5]], [[0, 1], [4, 5]], [[1, 4], [5, 6]], [[4, 5], [6, 7]], [[5, 6], [7, 8]], [[6, 7], [8, 9]], [[5, 6], [8, 9]], [[4, 5], [8, 9]], [[1, 4], [8, 9]], [[0, 1], [8, 9]], [['EMPTY', 0], [8, 9]], [[0, 8], [9, 'EMPTY']]]\n",
            "\n",
            "[['SHIFT', None], ['SHIFT', None], ['SHIFT', None], ['LA', 'nmod:poss'], ['LA', 'case'], ['SHIFT', None], ['SHIFT', None], ['SHIFT', None], ['SHIFT', None], ['LA', 'advmod'], ['LA', 'cop'], ['LA', 'nsubj'], ['LA', 'obl'], ['LA', 'cc'], ['RA', 'root'], ['RA', 'punct']]\n"
          ]
        }
      ],
      "source": [
        "print(train_input)\n",
        "print()\n",
        "print(train_output)"
      ]
    },
    {
      "cell_type": "code",
      "execution_count": 53,
      "metadata": {
        "id": "NQwBUlJuC70Z"
      },
      "outputs": [],
      "source": [
        "training_inputs = []\n",
        "training_outputs = []\n",
        "\n",
        "for sentence in oracle_:\n",
        "    final_state, train_input, train_output = parse(sentence)\n",
        "    training_inputs.append(train_input)\n",
        "    training_outputs.append(train_output)"
      ]
    },
    {
      "cell_type": "code",
      "execution_count": 54,
      "metadata": {},
      "outputs": [],
      "source": [
        "stack_inputs = []\n",
        "buffer_inputs = []\n",
        "action_outputs = []\n",
        "relation_outputs = []\n",
        "\n",
        "for idx in range(len(oracle_)):\n",
        "    stack_input, buffer_input, actions_t, relations_t=parse_train(oracle_[idx],inputs_[idx])\n",
        "\n",
        "    stack_inputs.append(tokenizer.texts_to_sequences(stack_input))\n",
        "    buffer_inputs.append(tokenizer.texts_to_sequences(buffer_input))\n",
        "    action_outputs.append([action_dic.get(t) for t in actions_t])\n",
        "    relation_outputs.append(encoderDEPREL.transform(relations_t))\n",
        "    \n",
        "###############################################################################################\n",
        "\n",
        "val_stack_inputs = []\n",
        "val_buffer_inputs = []\n",
        "val_action_outputs = []\n",
        "val_relation_outputs = []\n",
        "\n",
        "for idx in range(len(validation_oracle_)):\n",
        "    stack_input, buffer_input, actions_t, relations_t=parse_train(validation_oracle_[idx],validation_inputs_[idx])\n",
        "\n",
        "    val_stack_inputs.append(tokenizer.texts_to_sequences(stack_input))\n",
        "    val_buffer_inputs.append(tokenizer.texts_to_sequences(buffer_input))\n",
        "    val_action_outputs.append([action_dic.get(t) for t in actions_t])\n",
        "    val_relation_outputs.append(encoderDEPREL.transform(relations_t))"
      ]
    },
    {
      "cell_type": "code",
      "execution_count": 55,
      "metadata": {},
      "outputs": [],
      "source": [
        "words_stack=[]\n",
        "for i in stack_inputs:\n",
        "    for j in i:\n",
        "        words_stack.append(j)\n",
        "        \n",
        "words_buffer=[]\n",
        "for i in buffer_inputs:\n",
        "    for j in i:\n",
        "        words_buffer.append(j)\n",
        "        \n",
        "actions_out=[]\n",
        "for i in action_outputs:\n",
        "    for j in i:\n",
        "        actions_out.append(j)\n",
        "        \n",
        "relations_out=[]\n",
        "for i in relation_outputs:\n",
        "    for j in i:\n",
        "        relations_out.append(j)\n",
        "        \n",
        "#############################################\n",
        "\n",
        "val_words_stack=[]\n",
        "for i in val_stack_inputs:\n",
        "    for j in i:\n",
        "        val_words_stack.append(j)\n",
        "        \n",
        "val_words_buffer=[]\n",
        "for i in val_buffer_inputs:\n",
        "    for j in i:\n",
        "        val_words_buffer.append(j)\n",
        "        \n",
        "val_actions_out=[]\n",
        "for i in val_action_outputs:\n",
        "    for j in i:\n",
        "        val_actions_out.append(j)\n",
        "        \n",
        "val_relations_out=[]\n",
        "for i in val_relation_outputs:\n",
        "    for j in i:\n",
        "        val_relations_out.append(j)"
      ]
    },
    {
      "cell_type": "code",
      "execution_count": 74,
      "metadata": {},
      "outputs": [
        {
          "data": {
            "text/plain": [
              "[[297, 70],\n",
              " [70, 2356],\n",
              " [2356, 18],\n",
              " [2356, 18],\n",
              " [18, 8],\n",
              " [8, 2357],\n",
              " [2357, 2358],\n",
              " [2358, 28],\n",
              " [2358, 28],\n",
              " [2358, 28],\n",
              " [2358, 28],\n",
              " [28, 25],\n",
              " [28, 25],\n",
              " [25, 1348],\n",
              " [1348, 188],\n",
              " [1348, 188],\n",
              " [1348, 188],\n",
              " [1348, 188],\n",
              " [1348, 188],\n",
              " [188, 1349],\n",
              " [1349, 17],\n",
              " [1349, 17],\n",
              " [17, 219],\n",
              " [17, 219],\n",
              " [219, 7],\n",
              " [219, 7],\n",
              " [7, 255],\n",
              " [255, 3],\n",
              " [255, 3],\n",
              " [3, 277],\n",
              " [3, 277],\n",
              " [3, 277],\n",
              " [277, 1],\n",
              " [277, 1]]"
            ]
          },
          "execution_count": 74,
          "metadata": {},
          "output_type": "execute_result"
        }
      ],
      "source": [
        "buffer_inputs[0]"
      ]
    },
    {
      "cell_type": "code",
      "execution_count": 56,
      "metadata": {},
      "outputs": [],
      "source": [
        "targets_padded = tf.keras.preprocessing.sequence.pad_sequences(action_outputs, maxlen=128, padding=\"post\")  \n",
        "action_ids= tf.keras.utils.to_categorical(targets_padded, 4) \n",
        "\n",
        "####################################################\n",
        "\n",
        "val_targets_padded = tf.keras.preprocessing.sequence.pad_sequences(val_action_outputs, maxlen=128, padding=\"post\")  \n",
        "val_action_ids= tf.keras.utils.to_categorical(val_targets_padded, 4)"
      ]
    },
    {
      "cell_type": "code",
      "execution_count": 57,
      "metadata": {},
      "outputs": [],
      "source": [
        "targets_padded = tf.keras.preprocessing.sequence.pad_sequences(relation_outputs, maxlen=128, padding=\"post\")  \n",
        "relation_ids= tf.keras.utils.to_categorical(targets_padded, len(encoderDEPREL.classes_))\n",
        "\n",
        "#####################################################################\n",
        "\n",
        "val_targets_padded = tf.keras.preprocessing.sequence.pad_sequences(val_relation_outputs, maxlen=128, padding=\"post\")  \n",
        "val_relation_ids= tf.keras.utils.to_categorical(val_targets_padded, len(encoderDEPREL.classes_))"
      ]
    },
    {
      "cell_type": "code",
      "execution_count": 58,
      "metadata": {
        "colab": {
          "base_uri": "https://localhost:8080/",
          "height": 435
        },
        "id": "lwjHP0PlDAxc",
        "outputId": "7593ee08-9df1-4f53-fb4e-49235a9ac5fc"
      },
      "outputs": [],
      "source": [
        "stack_ids = tf.keras.preprocessing.sequence.pad_sequences(stack_inputs, maxlen=128, padding=\"post\") \n",
        "buffer_ids = tf.keras.preprocessing.sequence.pad_sequences(buffer_inputs, maxlen=128, padding=\"post\") \n",
        "\n",
        "#####################################################################################################\n",
        "\n",
        "val_stack_ids = tf.keras.preprocessing.sequence.pad_sequences(val_stack_inputs, maxlen=128, padding=\"post\") \n",
        "val_buffer_ids = tf.keras.preprocessing.sequence.pad_sequences(val_buffer_inputs, maxlen=128, padding=\"post\") "
      ]
    },
    {
      "cell_type": "code",
      "execution_count": 59,
      "metadata": {},
      "outputs": [],
      "source": [
        "n=2\n",
        "num_features=1"
      ]
    },
    {
      "cell_type": "code",
      "execution_count": 60,
      "metadata": {},
      "outputs": [
        {
          "name": "stdout",
          "output_type": "stream",
          "text": [
            "Model: \"model_1\"\n",
            "__________________________________________________________________________________________________\n",
            " Layer (type)                   Output Shape         Param #     Connected to                     \n",
            "==================================================================================================\n",
            " Stack_Input (InputLayer)       [(None, 128, 2)]     0           []                               \n",
            "                                                                                                  \n",
            " Buffer_Input (InputLayer)      [(None, 128, 2)]     0           []                               \n",
            "                                                                                                  \n",
            " Stack_Embedding (Embedding)    (None, 128, 2, 30)   192240      ['Stack_Input[0][0]']            \n",
            "                                                                                                  \n",
            " Buffer_Embedding (Embedding)   (None, 128, 2, 30)   192240      ['Buffer_Input[0][0]']           \n",
            "                                                                                                  \n",
            " time_distributed (TimeDistribu  (None, 128, 30)     7320        ['Stack_Embedding[0][0]']        \n",
            " ted)                                                                                             \n",
            "                                                                                                  \n",
            " time_distributed_1 (TimeDistri  (None, 128, 30)     7320        ['Buffer_Embedding[0][0]']       \n",
            " buted)                                                                                           \n",
            "                                                                                                  \n",
            " Concatenate (Concatenate)      (None, 128, 60)      0           ['time_distributed[0][0]',       \n",
            "                                                                  'time_distributed_1[0][0]']     \n",
            "                                                                                                  \n",
            " Transition_Output (Dense)      (None, 128, 4)       244         ['Concatenate[0][0]']            \n",
            "                                                                                                  \n",
            " Relation_Output (Dense)        (None, 128, 51)      3111        ['Concatenate[0][0]']            \n",
            "                                                                                                  \n",
            "==================================================================================================\n",
            "Total params: 402,475\n",
            "Trainable params: 402,475\n",
            "Non-trainable params: 0\n",
            "__________________________________________________________________________________________________\n"
          ]
        }
      ],
      "source": [
        "model=Sequential()\n",
        "stack_input=tf.keras.layers.Input(shape=(128,n),name='Stack_Input')\n",
        "buffer_input=tf.keras.layers.Input(shape=(128,n),name='Buffer_Input')\n",
        "\n",
        "stack_emb=tf.keras.layers.Embedding(len(tokenizer.word_index)+1, emb_dim, mask_zero=True, name='Stack_Embedding')(stack_input)\n",
        "buffer_emb=tf.keras.layers.Embedding(len(tokenizer.word_index)+1, emb_dim, mask_zero=True, name='Buffer_Embedding')(buffer_input)\n",
        "\n",
        "x=tf.keras.layers.TimeDistributed(tf.keras.layers.LSTM(emb_dim,return_sequences=False))(stack_emb)\n",
        "y=tf.keras.layers.TimeDistributed(tf.keras.layers.LSTM(emb_dim,return_sequences=False,))(buffer_emb)\n",
        "concatenated_embeddings= tf.keras.layers.Concatenate(name='Concatenate')([x, y])\n",
        "\n",
        "# features=tf.keras.layers.Reshape((2*n,emb_dim))(concatenated_embeddings)\n",
        "\n",
        "relation_output = tf.keras.layers.Dense(len(encoderDEPREL.classes_), activation='softmax', name='Relation_Output')(concatenated_embeddings) # 50 relations (nmod:poss, case, advmod, etc.\n",
        "transition_output = tf.keras.layers.Dense(len(action_dic), activation='softmax', name='Transition_Output')(concatenated_embeddings) # 4 actions (LA, RA, SHIFT, REDUCE)\n",
        "\n",
        "my_parser=keras.Model(inputs = [stack_input, buffer_input], outputs = [transition_output, relation_output])\n",
        "\n",
        "my_parser.summary()"
      ]
    },
    {
      "cell_type": "code",
      "execution_count": 61,
      "metadata": {},
      "outputs": [
        {
          "data": {
            "image/png": "[encoded data removed]",
            "text/plain": [
              "<IPython.core.display.Image object>"
            ]
          },
          "execution_count": 61,
          "metadata": {},
          "output_type": "execute_result"
        }
      ],
      "source": [
        "tf.keras.utils.plot_model(my_parser, show_shapes=True, show_layer_names=True)"
      ]
    },
    {
      "cell_type": "code",
      "execution_count": 62,
      "metadata": {},
      "outputs": [
        {
          "data": {
            "text/plain": [
              "(4775, 128, 4)"
            ]
          },
          "execution_count": 62,
          "metadata": {},
          "output_type": "execute_result"
        }
      ],
      "source": [
        "action_ids.shape"
      ]
    },
    {
      "cell_type": "code",
      "execution_count": 63,
      "metadata": {},
      "outputs": [],
      "source": [
        "my_parser.compile(loss='categorical_crossentropy', optimizer='adam', metrics=['accuracy'])"
      ]
    },
    {
      "cell_type": "code",
      "execution_count": 64,
      "metadata": {},
      "outputs": [
        {
          "name": "stdout",
          "output_type": "stream",
          "text": [
            "(1068, 128, 2)\n",
            "(1068, 128, 2)\n",
            "(1068, 128, 4)\n",
            "(1068, 128, 51)\n"
          ]
        }
      ],
      "source": [
        "print(val_stack_ids.shape)\n",
        "print(val_buffer_ids.shape)\n",
        "print(val_action_ids.shape)\n",
        "print(val_relation_ids.shape)"
      ]
    },
    {
      "cell_type": "code",
      "execution_count": 65,
      "metadata": {},
      "outputs": [
        {
          "name": "stdout",
          "output_type": "stream",
          "text": [
            "Epoch 1/10\n",
            "150/150 [==============================] - 17s 65ms/step - loss: 4.1058 - Transition_Output_loss: 1.1538 - Relation_Output_loss: 2.9520 - Transition_Output_accuracy: 0.4643 - Relation_Output_accuracy: 0.3940 - val_loss: 3.4022 - val_Transition_Output_loss: 1.1464 - val_Relation_Output_loss: 2.2558 - val_Transition_Output_accuracy: 0.5866 - val_Relation_Output_accuracy: 0.4304\n",
            "Epoch 2/10\n",
            "150/150 [==============================] - 8s 53ms/step - loss: 2.3958 - Transition_Output_loss: 0.6176 - Relation_Output_loss: 1.7781 - Transition_Output_accuracy: 0.7767 - Relation_Output_accuracy: 0.5474 - val_loss: 3.1423 - val_Transition_Output_loss: 1.1494 - val_Relation_Output_loss: 1.9929 - val_Transition_Output_accuracy: 0.6646 - val_Relation_Output_accuracy: 0.5040\n",
            "Epoch 3/10\n",
            "150/150 [==============================] - 8s 52ms/step - loss: 1.7574 - Transition_Output_loss: 0.3811 - Relation_Output_loss: 1.3763 - Transition_Output_accuracy: 0.8624 - Relation_Output_accuracy: 0.6390 - val_loss: 2.9948 - val_Transition_Output_loss: 1.1733 - val_Relation_Output_loss: 1.8215 - val_Transition_Output_accuracy: 0.6843 - val_Relation_Output_accuracy: 0.5492\n",
            "Epoch 4/10\n",
            "150/150 [==============================] - 8s 51ms/step - loss: 1.4122 - Transition_Output_loss: 0.2849 - Relation_Output_loss: 1.1273 - Transition_Output_accuracy: 0.9036 - Relation_Output_accuracy: 0.7030 - val_loss: 2.9180 - val_Transition_Output_loss: 1.1837 - val_Relation_Output_loss: 1.7343 - val_Transition_Output_accuracy: 0.6918 - val_Relation_Output_accuracy: 0.5856\n",
            "Epoch 5/10\n",
            "150/150 [==============================] - 8s 51ms/step - loss: 1.1958 - Transition_Output_loss: 0.2332 - Relation_Output_loss: 0.9625 - Transition_Output_accuracy: 0.9215 - Relation_Output_accuracy: 0.7461 - val_loss: 2.8902 - val_Transition_Output_loss: 1.2019 - val_Relation_Output_loss: 1.6883 - val_Transition_Output_accuracy: 0.6972 - val_Relation_Output_accuracy: 0.6142\n",
            "Epoch 6/10\n",
            "150/150 [==============================] - 8s 51ms/step - loss: 1.0292 - Transition_Output_loss: 0.2037 - Relation_Output_loss: 0.8255 - Transition_Output_accuracy: 0.9340 - Relation_Output_accuracy: 0.7801 - val_loss: 2.8992 - val_Transition_Output_loss: 1.2444 - val_Relation_Output_loss: 1.6549 - val_Transition_Output_accuracy: 0.6990 - val_Relation_Output_accuracy: 0.6264\n",
            "Epoch 7/10\n",
            "150/150 [==============================] - 8s 52ms/step - loss: 0.8991 - Transition_Output_loss: 0.1847 - Relation_Output_loss: 0.7144 - Transition_Output_accuracy: 0.9399 - Relation_Output_accuracy: 0.8068 - val_loss: 2.9167 - val_Transition_Output_loss: 1.2778 - val_Relation_Output_loss: 1.6389 - val_Transition_Output_accuracy: 0.7007 - val_Relation_Output_accuracy: 0.6370\n",
            "Epoch 8/10\n",
            "150/150 [==============================] - 8s 51ms/step - loss: 0.7974 - Transition_Output_loss: 0.1683 - Relation_Output_loss: 0.6291 - Transition_Output_accuracy: 0.9457 - Relation_Output_accuracy: 0.8323 - val_loss: 2.9956 - val_Transition_Output_loss: 1.3532 - val_Relation_Output_loss: 1.6423 - val_Transition_Output_accuracy: 0.6989 - val_Relation_Output_accuracy: 0.6416\n",
            "Epoch 9/10\n",
            "150/150 [==============================] - 8s 52ms/step - loss: 0.7166 - Transition_Output_loss: 0.1566 - Relation_Output_loss: 0.5600 - Transition_Output_accuracy: 0.9495 - Relation_Output_accuracy: 0.8531 - val_loss: 3.0697 - val_Transition_Output_loss: 1.3907 - val_Relation_Output_loss: 1.6790 - val_Transition_Output_accuracy: 0.7015 - val_Relation_Output_accuracy: 0.6450\n",
            "Epoch 10/10\n",
            "150/150 [==============================] - 8s 51ms/step - loss: 0.6513 - Transition_Output_loss: 0.1471 - Relation_Output_loss: 0.5042 - Transition_Output_accuracy: 0.9528 - Relation_Output_accuracy: 0.8698 - val_loss: 3.1763 - val_Transition_Output_loss: 1.4423 - val_Relation_Output_loss: 1.7340 - val_Transition_Output_accuracy: 0.6991 - val_Relation_Output_accuracy: 0.6424\n"
          ]
        },
        {
          "data": {
            "text/plain": [
              "<keras.callbacks.History at 0x1f3935a73a0>"
            ]
          },
          "execution_count": 65,
          "metadata": {},
          "output_type": "execute_result"
        }
      ],
      "source": [
        "my_parser.fit(x=[stack_ids, buffer_ids],y=[action_ids, relation_ids],validation_data=([val_stack_ids,val_buffer_ids],[val_action_ids, val_relation_ids]),epochs=10)\n",
        "# my_parser.fit(x=[stack_ids, buffer_ids],y=[action_ids, relation_ids],epochs=10)"
      ]
    },
    {
      "cell_type": "code",
      "execution_count": 66,
      "metadata": {},
      "outputs": [],
      "source": [
        "actions_ids2= tf.keras.utils.to_categorical(actions_out, 4) \n",
        "relations_ids2= tf.keras.utils.to_categorical(relations_out, len(encoderDEPREL.classes_))\n",
        "words_stack2=np.asarray(words_stack)\n",
        "words_buffer2=np.asarray(words_buffer)\n",
        "\n",
        "#############################################################################################\n",
        "\n",
        "val_actions_ids2= tf.keras.utils.to_categorical(val_actions_out, 4) \n",
        "val_relations_ids2= tf.keras.utils.to_categorical(val_relations_out, len(encoderDEPREL.classes_))\n",
        "val_words_stack2=np.asarray(val_words_stack)\n",
        "val_words_buffer2=np.asarray(val_words_buffer)\n"
      ]
    },
    {
      "cell_type": "code",
      "execution_count": 67,
      "metadata": {},
      "outputs": [
        {
          "name": "stdout",
          "output_type": "stream",
          "text": [
            "Model: \"model_2\"\n",
            "__________________________________________________________________________________________________\n",
            " Layer (type)                   Output Shape         Param #     Connected to                     \n",
            "==================================================================================================\n",
            " Stack_Input (InputLayer)       [(None, 2)]          0           []                               \n",
            "                                                                                                  \n",
            " Buffer_Input (InputLayer)      [(None, 2)]          0           []                               \n",
            "                                                                                                  \n",
            " Stack_Embedding (Embedding)    (None, 2, 30)        192240      ['Stack_Input[0][0]']            \n",
            "                                                                                                  \n",
            " Buffer_Embedding (Embedding)   (None, 2, 30)        192240      ['Buffer_Input[0][0]']           \n",
            "                                                                                                  \n",
            " LSTM_Stack (LSTM)              (None, 30)           7320        ['Stack_Embedding[0][0]']        \n",
            "                                                                                                  \n",
            " LSTM_Buffer (LSTM)             (None, 30)           7320        ['Buffer_Embedding[0][0]']       \n",
            "                                                                                                  \n",
            " Concatenate (Concatenate)      (None, 60)           0           ['LSTM_Stack[0][0]',             \n",
            "                                                                  'LSTM_Buffer[0][0]']            \n",
            "                                                                                                  \n",
            " Transition_Output (Dense)      (None, 4)            244         ['Concatenate[0][0]']            \n",
            "                                                                                                  \n",
            " Relation_Output (Dense)        (None, 51)           3111        ['Concatenate[0][0]']            \n",
            "                                                                                                  \n",
            "==================================================================================================\n",
            "Total params: 402,475\n",
            "Trainable params: 402,475\n",
            "Non-trainable params: 0\n",
            "__________________________________________________________________________________________________\n"
          ]
        }
      ],
      "source": [
        "n=2 \n",
        "emb_dim=30\n",
        "\n",
        "model=Sequential()\n",
        "stack_input=tf.keras.layers.Input(shape=(n,),name='Stack_Input')\n",
        "buffer_input=tf.keras.layers.Input(shape=(n,),name='Buffer_Input')\n",
        "\n",
        "stack_emb=tf.keras.layers.Embedding(len(tokenizer.word_index)+1, emb_dim, mask_zero=True, name='Stack_Embedding')(stack_input)\n",
        "buffer_emb=tf.keras.layers.Embedding(len(tokenizer.word_index)+1, emb_dim, mask_zero=True, name='Buffer_Embedding')(buffer_input)\n",
        "\n",
        "x=tf.keras.layers.LSTM(emb_dim,return_sequences=False, name='LSTM_Stack')(stack_emb)\n",
        "y=tf.keras.layers.LSTM(emb_dim,return_sequences=False,name='LSTM_Buffer')(buffer_emb)\n",
        "concatenated_embeddings= tf.keras.layers.Concatenate(name='Concatenate')([x, y])\n",
        "\n",
        "relation_output = tf.keras.layers.Dense(len(encoderDEPREL.classes_), activation='softmax', name='Relation_Output')(concatenated_embeddings) # 50 relations (nmod:poss, case, advmod, etc.\n",
        "transition_output = tf.keras.layers.Dense(len(action_dic), activation='softmax', name='Transition_Output')(concatenated_embeddings) # 4 actions (LA, RA, SHIFT, REDUCE)\n",
        "\n",
        "my_parser=keras.Model(inputs = [stack_input, buffer_input], outputs = [transition_output, relation_output])\n",
        "\n",
        "my_parser.summary()"
      ]
    },
    {
      "cell_type": "code",
      "execution_count": 68,
      "metadata": {},
      "outputs": [
        {
          "data": {
            "image/png": "[encoded data removed]",
            "text/plain": [
              "<IPython.core.display.Image object>"
            ]
          },
          "execution_count": 68,
          "metadata": {},
          "output_type": "execute_result"
        }
      ],
      "source": [
        "tf.keras.utils.plot_model(my_parser, show_shapes=True, show_layer_names=True)"
      ]
    },
    {
      "cell_type": "code",
      "execution_count": 69,
      "metadata": {},
      "outputs": [],
      "source": [
        "my_parser.compile(loss='categorical_crossentropy', optimizer='adam', metrics=['accuracy'])"
      ]
    },
    {
      "cell_type": "code",
      "execution_count": 70,
      "metadata": {},
      "outputs": [
        {
          "name": "stdout",
          "output_type": "stream",
          "text": [
            "Epoch 1/10\n",
            "1438/1438 [==============================] - 17s 8ms/step - loss: 2.2966 - Transition_Output_loss: 0.6060 - Relation_Output_loss: 1.6906 - Transition_Output_accuracy: 0.7496 - Relation_Output_accuracy: 0.5747 - val_loss: 3.0431 - val_Transition_Output_loss: 1.1896 - val_Relation_Output_loss: 1.8535 - val_Transition_Output_accuracy: 0.6825 - val_Relation_Output_accuracy: 0.5659\n",
            "Epoch 2/10\n",
            "1438/1438 [==============================] - 9s 6ms/step - loss: 1.1848 - Transition_Output_loss: 0.2792 - Relation_Output_loss: 0.9056 - Transition_Output_accuracy: 0.9008 - Relation_Output_accuracy: 0.7560 - val_loss: 3.0993 - val_Transition_Output_loss: 1.2597 - val_Relation_Output_loss: 1.8395 - val_Transition_Output_accuracy: 0.6869 - val_Relation_Output_accuracy: 0.6123\n",
            "Epoch 3/10\n",
            "1438/1438 [==============================] - 9s 6ms/step - loss: 0.8487 - Transition_Output_loss: 0.2039 - Relation_Output_loss: 0.6448 - Transition_Output_accuracy: 0.9290 - Relation_Output_accuracy: 0.8223 - val_loss: 3.1507 - val_Transition_Output_loss: 1.2832 - val_Relation_Output_loss: 1.8675 - val_Transition_Output_accuracy: 0.7026 - val_Relation_Output_accuracy: 0.6343\n",
            "Epoch 4/10\n",
            "1438/1438 [==============================] - 9s 6ms/step - loss: 0.6815 - Transition_Output_loss: 0.1711 - Relation_Output_loss: 0.5105 - Transition_Output_accuracy: 0.9419 - Relation_Output_accuracy: 0.8629 - val_loss: 3.3822 - val_Transition_Output_loss: 1.3269 - val_Relation_Output_loss: 2.0554 - val_Transition_Output_accuracy: 0.7125 - val_Relation_Output_accuracy: 0.6324\n",
            "Epoch 5/10\n",
            "1438/1438 [==============================] - 8s 6ms/step - loss: 0.5718 - Transition_Output_loss: 0.1491 - Relation_Output_loss: 0.4227 - Transition_Output_accuracy: 0.9490 - Relation_Output_accuracy: 0.8867 - val_loss: 3.6285 - val_Transition_Output_loss: 1.4294 - val_Relation_Output_loss: 2.1991 - val_Transition_Output_accuracy: 0.7135 - val_Relation_Output_accuracy: 0.6293\n",
            "Epoch 6/10\n",
            "1438/1438 [==============================] - 8s 6ms/step - loss: 0.4952 - Transition_Output_loss: 0.1335 - Relation_Output_loss: 0.3617 - Transition_Output_accuracy: 0.9545 - Relation_Output_accuracy: 0.9017 - val_loss: 3.7065 - val_Transition_Output_loss: 1.4834 - val_Relation_Output_loss: 2.2231 - val_Transition_Output_accuracy: 0.7176 - val_Relation_Output_accuracy: 0.6363\n",
            "Epoch 7/10\n",
            "1438/1438 [==============================] - 8s 6ms/step - loss: 0.4356 - Transition_Output_loss: 0.1215 - Relation_Output_loss: 0.3141 - Transition_Output_accuracy: 0.9585 - Relation_Output_accuracy: 0.9141 - val_loss: 3.8044 - val_Transition_Output_loss: 1.5169 - val_Relation_Output_loss: 2.2874 - val_Transition_Output_accuracy: 0.7143 - val_Relation_Output_accuracy: 0.6473\n",
            "Epoch 8/10\n",
            "1438/1438 [==============================] - 8s 6ms/step - loss: 0.3858 - Transition_Output_loss: 0.1100 - Relation_Output_loss: 0.2758 - Transition_Output_accuracy: 0.9638 - Relation_Output_accuracy: 0.9252 - val_loss: 3.9764 - val_Transition_Output_loss: 1.5974 - val_Relation_Output_loss: 2.3790 - val_Transition_Output_accuracy: 0.7108 - val_Relation_Output_accuracy: 0.6425\n",
            "Epoch 9/10\n",
            "1438/1438 [==============================] - 8s 6ms/step - loss: 0.3388 - Transition_Output_loss: 0.0987 - Relation_Output_loss: 0.2401 - Transition_Output_accuracy: 0.9678 - Relation_Output_accuracy: 0.9360 - val_loss: 4.0058 - val_Transition_Output_loss: 1.6259 - val_Relation_Output_loss: 2.3799 - val_Transition_Output_accuracy: 0.7151 - val_Relation_Output_accuracy: 0.6501\n",
            "Epoch 10/10\n",
            "1438/1438 [==============================] - 8s 6ms/step - loss: 0.3010 - Transition_Output_loss: 0.0901 - Relation_Output_loss: 0.2108 - Transition_Output_accuracy: 0.9705 - Relation_Output_accuracy: 0.9436 - val_loss: 4.2421 - val_Transition_Output_loss: 1.7499 - val_Relation_Output_loss: 2.4923 - val_Transition_Output_accuracy: 0.7108 - val_Relation_Output_accuracy: 0.6465\n"
          ]
        },
        {
          "data": {
            "text/plain": [
              "<keras.callbacks.History at 0x1f3a861a2b0>"
            ]
          },
          "execution_count": 70,
          "metadata": {},
          "output_type": "execute_result"
        }
      ],
      "source": [
        "my_parser.fit(x=[words_stack2, words_buffer2],y=[actions_ids2, relations_ids2],validation_data=([val_words_stack2,val_words_buffer2],[val_actions_ids2, val_relations_ids2]),epochs=10)\n",
        "# my_parser.fit(x=[words_stack2, words_buffer2],y=[actions_ids2, relations_ids2],epochs=10)"
      ]
    },
    {
      "cell_type": "code",
      "execution_count": 71,
      "metadata": {},
      "outputs": [
        {
          "name": "stdout",
          "output_type": "stream",
          "text": [
            "1/1 [==============================] - 2s 2s/step\n"
          ]
        },
        {
          "data": {
            "text/plain": [
              "('LA', 'det')"
            ]
          },
          "execution_count": 71,
          "metadata": {},
          "output_type": "execute_result"
        }
      ],
      "source": [
        "x=my_parser.predict([words_stack2[8:9], words_buffer2[8:9]])\n",
        "# index of the maximun value for array x[0] and x[1] \n",
        "action_predicted=list(action_dic.keys())[list(action_dic.values()).index(np.argmax(x[0]))]\n",
        "relation_predicted=encoderDEPREL.inverse_transform([np.argmax(x[1])])[0]\n",
        "\n",
        "action_predicted,relation_predicted"
      ]
    }
  ],
  "metadata": {
    "accelerator": "GPU",
    "colab": {
      "provenance": []
    },
    "gpuClass": "standard",
    "kernelspec": {
      "display_name": "base",
      "language": "python",
      "name": "python3"
    },
    "language_info": {
      "codemirror_mode": {
        "name": "ipython",
        "version": 3
      },
      "file_extension": ".py",
      "mimetype": "text/x-python",
      "name": "python",
      "nbconvert_exporter": "python",
      "pygments_lexer": "ipython3",
      "version": "3.9.13"
    },
    "orig_nbformat": 4,
    "vscode": {
      "interpreter": {
        "hash": "63f42335261bf3433127417e13f4e6b230448940df141cf2b0c134989ac08ad0"
      }
    }
  },
  "nbformat": 4,
  "nbformat_minor": 0
}
