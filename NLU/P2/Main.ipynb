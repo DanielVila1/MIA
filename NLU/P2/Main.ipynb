{
 "cells": [
  {
   "cell_type": "code",
   "execution_count": 1,
   "metadata": {},
   "outputs": [],
   "source": [
    "import tensorflow as tf\n",
    "from tensorflow import keras\n",
    "from keras.preprocessing.text import Tokenizer"
   ]
  },
  {
   "cell_type": "code",
   "execution_count": 2,
   "metadata": {},
   "outputs": [],
   "source": [
    "import os\n",
    "import sys\n",
    "from data import ProcessData\n",
    "from model import Parser\n",
    "from LSTM_model import LSTM_Parser\n",
    "from oracle import *\n",
    "from decode import *\n",
    "from conll18_ud_eval import *"
   ]
  },
  {
   "cell_type": "code",
   "execution_count": 3,
   "metadata": {},
   "outputs": [],
   "source": [
    "# Download the data\n",
    "\n",
    "# Training\n",
    "en_training_path = keras.utils.get_file(\n",
    "    \"en_ewt-ud-train.conllu\",\n",
    "    \"https://github.com/UniversalDependencies/UD_English-EWT/raw/master/en_ewt-ud-train.conllu\")\n",
    "en_training_txt = open(en_training_path,encoding=\"utf8\")\n",
    "en_training_data=en_training_txt.read()\n",
    "\n",
    "en_training_lines = en_training_data.split(\"\\n\")\n",
    "\n",
    "# Validation\n",
    "en_validation_path = keras.utils.get_file(\n",
    "    \"en_ewt-ud-dev.conllu\",\n",
    "    \"https://github.com/UniversalDependencies/UD_English-EWT/raw/master/en_ewt-ud-dev.conllu\")\n",
    "en_validation_txt = open(en_validation_path,encoding=\"utf8\")\n",
    "en_validation_data = en_validation_txt.read()\n",
    "\n",
    "en_validation_lines = en_validation_data.split(\"\\n\")\n",
    "\n",
    "\n",
    "# Test\n",
    "en_test_path = keras.utils.get_file(\n",
    "    \"en_ewt-ud-test.conllu\",\n",
    "    \"https://github.com/UniversalDependencies/UD_English-EWT/raw/master/en_ewt-ud-test.conllu\")\n",
    "en_test_txt = open(en_test_path,encoding=\"utf8\")\n",
    "en_test_data = en_test_txt.read()\n",
    "\n",
    "en_test_lines = en_test_data.split(\"\\n\")"
   ]
  },
  {
   "cell_type": "code",
   "execution_count": 4,
   "metadata": {},
   "outputs": [],
   "source": [
    "# Call the ProcessData class\n",
    "training_data = ProcessData(en_training_lines)\n",
    "validation_data=ProcessData(en_validation_lines)\n",
    "test_data=ProcessData(en_test_lines)"
   ]
  },
  {
   "cell_type": "code",
   "execution_count": 5,
   "metadata": {},
   "outputs": [],
   "source": [
    "# We create and train the tokenizers for the words and the dependency relations\n",
    "tokenizer_inputs, _, tokenizer_relations_inputs = training_data.get_tokenizer_inputs()\n",
    "val_tokenizer_inputs, _, val_tokenizer_relations_inputs = validation_data.get_tokenizer_inputs()\n",
    "\n",
    "tokenizer = Tokenizer(filters='',lower=False, oov_token='UNK') \n",
    "tokenizer.fit_on_texts(tokenizer_inputs + ['EMPTY'])\n",
    "\n",
    "tokenizer_relations=Tokenizer(filters='',lower=False, oov_token='UNK')\n",
    "tokenizer_relations.fit_on_texts(tokenizer_relations_inputs + ['None'])\n",
    "\n",
    "# We create a dictionary with the different actions that the oracle can take.\n",
    "action_dic = dict()\n",
    "action_dic['LA']=0\n",
    "action_dic['RA']=1\n",
    "action_dic['SHIFT']=2\n",
    "action_dic['REDUCE']=3"
   ]
  },
  {
   "cell_type": "code",
   "execution_count": 6,
   "metadata": {},
   "outputs": [],
   "source": [
    "# We prepare the data to train and validate the model \n",
    "train_stack, train_buffer,train_transitions, train_relations=training_data.prepare_model_data(tokenizer,action_dic,tokenizer_relations)\n",
    "val_stack, val_buffer,val_transitions, val_relations=validation_data.prepare_model_data(tokenizer,action_dic,tokenizer_relations)"
   ]
  },
  {
   "cell_type": "code",
   "execution_count": 7,
   "metadata": {},
   "outputs": [],
   "source": [
    "# We call the class Parser to build, train and validate the neural model\n",
    "# We also have a LSTM_Parser class that uses LSTM layers instead of Flatten layers, to call it just change the name of the class in the next line to LSTM_Parser\n",
    "my_parser = Parser(n=2,emb_dim=30, tokenizer=tokenizer, tokenizer_relations=tokenizer_relations)"
   ]
  },
  {
   "cell_type": "code",
   "execution_count": 8,
   "metadata": {},
   "outputs": [
    {
     "name": "stdout",
     "output_type": "stream",
     "text": [
      "Model: \"model\"\n",
      "__________________________________________________________________________________________________\n",
      " Layer (type)                   Output Shape         Param #     Connected to                     \n",
      "==================================================================================================\n",
      " Stack_Input (InputLayer)       [(None, 2)]          0           []                               \n",
      "                                                                                                  \n",
      " Buffer_Input (InputLayer)      [(None, 2)]          0           []                               \n",
      "                                                                                                  \n",
      " Stack_Embedding (Embedding)    (None, 2, 30)        590310      ['Stack_Input[0][0]']            \n",
      "                                                                                                  \n",
      " Buffer_Embedding (Embedding)   (None, 2, 30)        590310      ['Buffer_Input[0][0]']           \n",
      "                                                                                                  \n",
      " flatten (Flatten)              (None, 60)           0           ['Stack_Embedding[0][0]']        \n",
      "                                                                                                  \n",
      " flatten_1 (Flatten)            (None, 60)           0           ['Buffer_Embedding[0][0]']       \n",
      "                                                                                                  \n",
      " Concatenate (Concatenate)      (None, 120)          0           ['flatten[0][0]',                \n",
      "                                                                  'flatten_1[0][0]']              \n",
      "                                                                                                  \n",
      " Transition_Output (Dense)      (None, 4)            484         ['Concatenate[0][0]']            \n",
      "                                                                                                  \n",
      " Relation_Output (Dense)        (None, 55)           6655        ['Concatenate[0][0]']            \n",
      "                                                                                                  \n",
      "==================================================================================================\n",
      "Total params: 1,187,759\n",
      "Trainable params: 1,187,759\n",
      "Non-trainable params: 0\n",
      "__________________________________________________________________________________________________\n"
     ]
    }
   ],
   "source": [
    "# We build the model and show the summary of the layers and parameters \n",
    "my_parser.build(summary=True)"
   ]
  },
  {
   "cell_type": "code",
   "execution_count": 9,
   "metadata": {},
   "outputs": [
    {
     "data": {
      "image/png": "[encoded data removed]",
      "text/plain": [
       "<IPython.core.display.Image object>"
      ]
     },
     "execution_count": 9,
     "metadata": {},
     "output_type": "execute_result"
    }
   ],
   "source": [
    "# Show the model architecture and the number of parameters of the model \n",
    "my_parser.show()"
   ]
  },
  {
   "cell_type": "code",
   "execution_count": 10,
   "metadata": {},
   "outputs": [],
   "source": [
    "my_parser.compile(loss='categorical_crossentropy', optimizer='adam', metrics=['accuracy'])"
   ]
  },
  {
   "cell_type": "code",
   "execution_count": 11,
   "metadata": {},
   "outputs": [
    {
     "name": "stdout",
     "output_type": "stream",
     "text": [
      "Epoch 1/10\n",
      "1438/1438 [==============================] - 20s 13ms/step - loss: 2.3251 - Transition_Output_loss: 0.5956 - Relation_Output_loss: 1.7295 - Transition_Output_accuracy: 0.7633 - Relation_Output_accuracy: 0.5946 - val_loss: 1.5155 - val_Transition_Output_loss: 0.4082 - val_Relation_Output_loss: 1.1072 - val_Transition_Output_accuracy: 0.8308 - val_Relation_Output_accuracy: 0.7145\n",
      "Epoch 2/10\n",
      "1438/1438 [==============================] - 19s 13ms/step - loss: 1.1011 - Transition_Output_loss: 0.2790 - Relation_Output_loss: 0.8221 - Transition_Output_accuracy: 0.9015 - Relation_Output_accuracy: 0.7926 - val_loss: 1.2871 - val_Transition_Output_loss: 0.3884 - val_Relation_Output_loss: 0.8988 - val_Transition_Output_accuracy: 0.8436 - val_Relation_Output_accuracy: 0.7623\n",
      "Epoch 3/10\n",
      "1438/1438 [==============================] - 19s 13ms/step - loss: 0.7580 - Transition_Output_loss: 0.1974 - Relation_Output_loss: 0.5606 - Transition_Output_accuracy: 0.9357 - Relation_Output_accuracy: 0.8620 - val_loss: 1.2147 - val_Transition_Output_loss: 0.3922 - val_Relation_Output_loss: 0.8225 - val_Transition_Output_accuracy: 0.8465 - val_Relation_Output_accuracy: 0.7773\n",
      "Epoch 4/10\n",
      "1438/1438 [==============================] - 19s 13ms/step - loss: 0.5546 - Transition_Output_loss: 0.1549 - Relation_Output_loss: 0.3997 - Transition_Output_accuracy: 0.9496 - Relation_Output_accuracy: 0.9037 - val_loss: 1.2031 - val_Transition_Output_loss: 0.4091 - val_Relation_Output_loss: 0.7940 - val_Transition_Output_accuracy: 0.8439 - val_Relation_Output_accuracy: 0.7798\n",
      "Epoch 5/10\n",
      "1438/1438 [==============================] - 19s 13ms/step - loss: 0.4201 - Transition_Output_loss: 0.1273 - Relation_Output_loss: 0.2928 - Transition_Output_accuracy: 0.9597 - Relation_Output_accuracy: 0.9290 - val_loss: 1.2324 - val_Transition_Output_loss: 0.4336 - val_Relation_Output_loss: 0.7988 - val_Transition_Output_accuracy: 0.8425 - val_Relation_Output_accuracy: 0.7775\n",
      "Epoch 6/10\n",
      "1438/1438 [==============================] - 19s 13ms/step - loss: 0.3305 - Transition_Output_loss: 0.1083 - Relation_Output_loss: 0.2222 - Transition_Output_accuracy: 0.9660 - Relation_Output_accuracy: 0.9463 - val_loss: 1.2607 - val_Transition_Output_loss: 0.4507 - val_Relation_Output_loss: 0.8099 - val_Transition_Output_accuracy: 0.8386 - val_Relation_Output_accuracy: 0.7786\n",
      "Epoch 7/10\n",
      "1438/1438 [==============================] - 23s 16ms/step - loss: 0.2677 - Transition_Output_loss: 0.0945 - Relation_Output_loss: 0.1731 - Transition_Output_accuracy: 0.9707 - Relation_Output_accuracy: 0.9572 - val_loss: 1.3056 - val_Transition_Output_loss: 0.4792 - val_Relation_Output_loss: 0.8264 - val_Transition_Output_accuracy: 0.8368 - val_Relation_Output_accuracy: 0.7796\n",
      "Epoch 8/10\n",
      "1438/1438 [==============================] - 30s 21ms/step - loss: 0.2232 - Transition_Output_loss: 0.0840 - Relation_Output_loss: 0.1392 - Transition_Output_accuracy: 0.9741 - Relation_Output_accuracy: 0.9657 - val_loss: 1.3560 - val_Transition_Output_loss: 0.5024 - val_Relation_Output_loss: 0.8536 - val_Transition_Output_accuracy: 0.8338 - val_Relation_Output_accuracy: 0.7791\n",
      "Epoch 9/10\n",
      "1438/1438 [==============================] - 29s 20ms/step - loss: 0.1895 - Transition_Output_loss: 0.0756 - Relation_Output_loss: 0.1139 - Transition_Output_accuracy: 0.9762 - Relation_Output_accuracy: 0.9717 - val_loss: 1.4099 - val_Transition_Output_loss: 0.5273 - val_Relation_Output_loss: 0.8826 - val_Transition_Output_accuracy: 0.8315 - val_Relation_Output_accuracy: 0.7721\n",
      "Epoch 10/10\n",
      "1438/1438 [==============================] - 30s 21ms/step - loss: 0.1639 - Transition_Output_loss: 0.0687 - Relation_Output_loss: 0.0952 - Transition_Output_accuracy: 0.9786 - Relation_Output_accuracy: 0.9768 - val_loss: 1.4704 - val_Transition_Output_loss: 0.5577 - val_Relation_Output_loss: 0.9127 - val_Transition_Output_accuracy: 0.8284 - val_Relation_Output_accuracy: 0.7716\n"
     ]
    }
   ],
   "source": [
    "my_parser.train(train_stack,train_buffer,train_transitions,train_relations,val_stack,val_buffer,val_transitions,val_relations, epochs=10)"
   ]
  },
  {
   "cell_type": "code",
   "execution_count": 12,
   "metadata": {},
   "outputs": [
    {
     "name": "stdout",
     "output_type": "stream",
     "text": [
      "Example of the first sentence of the test set: ['ROOT', 'What', 'if', 'Google', 'Morphed', 'Into', 'GoogleOS', '?']\n"
     ]
    }
   ],
   "source": [
    "# We prepare the data to test the model\n",
    "test=test_data.create_test_data()\n",
    "print('Example of the first sentence of the test set:',test[0])"
   ]
  },
  {
   "cell_type": "code",
   "execution_count": 13,
   "metadata": {},
   "outputs": [],
   "source": [
    "# We predict the dependency trees for the test set\n",
    "predicted_arcs=predict(test,my_parser, tokenizer, action_dic, tokenizer_relations)"
   ]
  },
  {
   "cell_type": "code",
   "execution_count": 15,
   "metadata": {},
   "outputs": [],
   "source": [
    "predicted_trees=create_trees_from_predicted_arcs(test, predicted_arcs)\n",
    "save_predicted_arcs(predicted_arcs)\n",
    "save_trees_conllu(predicted_trees)\n",
    "save_test_data(en_test_data)"
   ]
  },
  {
   "cell_type": "code",
   "execution_count": null,
   "metadata": {},
   "outputs": [],
   "source": [
    "# Execute the test\n",
    "gold_path = \"gold.conllu\"\n",
    "system_path = \"output.conllu\"\n",
    "\n",
    "os.system(f'python conll18_ud-eval.py -v {gold_path} {system_path}')"
   ]
  }
 ],
 "metadata": {
  "kernelspec": {
   "display_name": "base",
   "language": "python",
   "name": "python3"
  },
  "language_info": {
   "codemirror_mode": {
    "name": "ipython",
    "version": 3
   },
   "file_extension": ".py",
   "mimetype": "text/x-python",
   "name": "python",
   "nbconvert_exporter": "python",
   "pygments_lexer": "ipython3",
   "version": "3.9.13"
  },
  "orig_nbformat": 4,
  "vscode": {
   "interpreter": {
    "hash": "63f42335261bf3433127417e13f4e6b230448940df141cf2b0c134989ac08ad0"
   }
  }
 },
 "nbformat": 4,
 "nbformat_minor": 2
}
