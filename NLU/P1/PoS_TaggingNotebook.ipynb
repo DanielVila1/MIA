{
  "cells": [
    {
      "cell_type": "markdown",
      "metadata": {
        "id": "kJnb12zzd2qQ"
      },
      "source": [
        "**PoS-TAGGING NOTEBOOK**\n"
      ]
    },
    {
      "cell_type": "code",
      "execution_count": 1,
      "metadata": {
        "id": "HgftU2Lzcglf"
      },
      "outputs": [],
      "source": [
        "import csv\n",
        "import numpy as np\n",
        "\n",
        "import tensorflow as tf\n",
        "import tensorflow.keras as keras\n",
        "from keras.preprocessing.text import Tokenizer\n",
        "from keras.utils import plot_model\n",
        "\n",
        "from sklearn.preprocessing import LabelEncoder\n",
        "\n",
        "from keras.utils import plot_model\n",
        "\n",
        "from keras.layers import Dense, LSTM, InputLayer, Bidirectional, TimeDistributed, Embedding, Activation, Concatenate\n",
        "from keras.optimizers import Adam"
      ]
    },
    {
      "cell_type": "code",
      "execution_count": 2,
      "metadata": {
        "colab": {
          "base_uri": "https://localhost:8080/"
        },
        "id": "olEar-5Yc2Kz",
        "outputId": "dfccfbed-44cf-4891-ea59-b268d751bca0"
      },
      "outputs": [
        {
          "output_type": "stream",
          "name": "stdout",
          "text": [
            "Mounted at /content/drive/\n"
          ]
        }
      ],
      "source": [
        "from google.colab import drive\n",
        "drive.mount('/content/drive/')"
      ]
    },
    {
      "cell_type": "code",
      "execution_count": 3,
      "metadata": {
        "id": "b9GXcEWdc9Og"
      },
      "outputs": [],
      "source": [
        "# Import classes from file.py\n",
        "from drive.MyDrive.P1.data import ProcessData\n",
        "from drive.MyDrive.P1.model_word import wordTagger\n",
        "from drive.MyDrive.P1.model_char import charTagger\n"
      ]
    },
    {
      "cell_type": "markdown",
      "metadata": {
        "id": "_KWB8JxI_l_r"
      },
      "source": [
        "#**DATASETS**"
      ]
    },
    {
      "cell_type": "markdown",
      "source": [
        "The first step would be to load the data that we are going to use, in this case, we have chosen the English, Spanish and Galician datasets. \n",
        "In this notebook we will present the executions of the English models, however, if one wanted to execute the models of any of the other two languages, these would be analogous, with the only difference being the data used both in the training and in their evaluation or their prediction."
      ],
      "metadata": {
        "id": "4bNDN0uteSUN"
      }
    },
    {
      "cell_type": "markdown",
      "metadata": {
        "id": "bpXFZG-kACzv"
      },
      "source": [
        "## ENGLISH LANGUAGE"
      ]
    },
    {
      "cell_type": "code",
      "execution_count": 4,
      "metadata": {
        "colab": {
          "base_uri": "https://localhost:8080/"
        },
        "id": "UDCvnj8Dcglh",
        "outputId": "5ed7c43a-6e49-49a2-cbac-b11009be7511"
      },
      "outputs": [
        {
          "output_type": "stream",
          "name": "stdout",
          "text": [
            "Downloading data from https://github.com/UniversalDependencies/UD_English-EWT/raw/master/en_ewt-ud-train.conllu\n",
            "13790433/13790433 [==============================] - 0s 0us/step\n",
            "Downloading data from https://github.com/UniversalDependencies/UD_English-EWT/raw/master/en_ewt-ud-dev.conllu\n",
            "1749120/1749120 [==============================] - 0s 0us/step\n",
            "Downloading data from https://github.com/UniversalDependencies/UD_English-EWT/raw/master/en_ewt-ud-test.conllu\n",
            "1751622/1751622 [==============================] - 0s 0us/step\n"
          ]
        }
      ],
      "source": [
        "# Training\n",
        "en_training_path = keras.utils.get_file(\n",
        "    \"en_ewt-ud-train.conllu\",\n",
        "    \"https://github.com/UniversalDependencies/UD_English-EWT/raw/master/en_ewt-ud-train.conllu\")\n",
        "en_training_txt = open(en_training_path,encoding=\"utf8\")\n",
        "en_training_data=en_training_txt.read()\n",
        "\n",
        "en_training_lines = en_training_data.split(\"\\n\")\n",
        "\n",
        "# Validation\n",
        "en_validation_path = keras.utils.get_file(\n",
        "    \"en_ewt-ud-dev.conllu\",\n",
        "    \"https://github.com/UniversalDependencies/UD_English-EWT/raw/master/en_ewt-ud-dev.conllu\")\n",
        "en_validation_txt = open(en_validation_path,encoding=\"utf8\")\n",
        "en_validation_data = en_validation_txt.read()\n",
        "\n",
        "en_validation_lines = en_validation_data.split(\"\\n\")\n",
        "\n",
        "\n",
        "# Test\n",
        "en_test_path = keras.utils.get_file(\n",
        "    \"en_ewt-ud-test.conllu\",\n",
        "    \"https://github.com/UniversalDependencies/UD_English-EWT/raw/master/en_ewt-ud-test.conllu\")\n",
        "en_test_txt = open(en_test_path,encoding=\"utf8\")\n",
        "en_test_data = en_test_txt.read()\n",
        "\n",
        "en_test_lines = en_test_data.split(\"\\n\")"
      ]
    },
    {
      "cell_type": "markdown",
      "metadata": {
        "id": "jcR4JZQRCStY"
      },
      "source": [
        "##SPANISH LANGUAGE"
      ]
    },
    {
      "cell_type": "code",
      "execution_count": 5,
      "metadata": {
        "colab": {
          "base_uri": "https://localhost:8080/"
        },
        "id": "I7xfowDDDJN1",
        "outputId": "4eac00e0-825f-4370-842e-fe1cd59bfffa"
      },
      "outputs": [
        {
          "output_type": "stream",
          "name": "stdout",
          "text": [
            "Downloading data from https://raw.githubusercontent.com/UniversalDependencies/UD_Spanish-GSD/master/es_gsd-ud-train.conllu\n",
            "23132412/23132412 [==============================] - 0s 0us/step\n",
            "Downloading data from https://raw.githubusercontent.com/UniversalDependencies/UD_Spanish-GSD/master/es_gsd-ud-dev.conllu\n",
            "2238603/2238603 [==============================] - 0s 0us/step\n",
            "Downloading data from https://github.com/UniversalDependencies/UD_Spanish-GSD/raw/master/es_gsd-ud-test.conllu\n",
            "733073/733073 [==============================] - 0s 0us/step\n"
          ]
        }
      ],
      "source": [
        "# Training\n",
        "sp_training_path = keras.utils.get_file(\n",
        "    \"es_gsd-ud-train.conllu\",\n",
        "    \"https://raw.githubusercontent.com/UniversalDependencies/UD_Spanish-GSD/master/es_gsd-ud-train.conllu\")\n",
        "sp_training_txt = open(sp_training_path,encoding=\"utf8\")\n",
        "sp_training_data=sp_training_txt.read()\n",
        "\n",
        "sp_training_lines = sp_training_data.split(\"\\n\")\n",
        "\n",
        "# Validation\n",
        "sp_validation_path = keras.utils.get_file(\n",
        "    \"es_gsd-ud-dev.conllu\",\n",
        "    \"https://raw.githubusercontent.com/UniversalDependencies/UD_Spanish-GSD/master/es_gsd-ud-dev.conllu\")\n",
        "sp_validation_txt = open(sp_validation_path,encoding=\"utf8\")\n",
        "sp_validation_data = sp_validation_txt.read()\n",
        "\n",
        "sp_validation_lines = sp_validation_data.split(\"\\n\")\n",
        "\n",
        "\n",
        "# Test\n",
        "sp_test_path = keras.utils.get_file(\n",
        "    \"es_gsd-ud-test.conllu\",\n",
        "    \"https://github.com/UniversalDependencies/UD_Spanish-GSD/raw/master/es_gsd-ud-test.conllu\")\n",
        "sp_test_txt = open(sp_test_path,encoding=\"utf8\")\n",
        "sp_test_data = sp_test_txt.read()\n",
        "\n",
        "sp_test_lines = sp_test_data.split(\"\\n\")"
      ]
    },
    {
      "cell_type": "markdown",
      "metadata": {
        "id": "V36CbR22CX1k"
      },
      "source": [
        "##GALICIAN LANGUAGE"
      ]
    },
    {
      "cell_type": "code",
      "execution_count": 6,
      "metadata": {
        "colab": {
          "base_uri": "https://localhost:8080/"
        },
        "id": "WpcV7IK3Dhwf",
        "outputId": "afff304e-c557-4786-affc-3efe05530c13"
      },
      "outputs": [
        {
          "output_type": "stream",
          "name": "stdout",
          "text": [
            "Downloading data from https://github.com/UniversalDependencies/UD_Galician-CTG/blob/master/gl_ctg-ud-train.conllu?raw=true\n",
            "4704712/4704712 [==============================] - 0s 0us/step\n",
            "Downloading data from https://github.com/UniversalDependencies/UD_Galician-CTG/blob/master/gl_ctg-ud-dev.conllu?raw=true\n",
            "1761943/1761943 [==============================] - 0s 0us/step\n",
            "Downloading data from https://github.com/UniversalDependencies/UD_Galician-CTG/blob/master/gl_ctg-ud-test.conllu?raw=true\n",
            "1763043/1763043 [==============================] - 0s 0us/step\n"
          ]
        }
      ],
      "source": [
        "# Training\n",
        "ga_training_path = keras.utils.get_file(\n",
        "    \"gl_ctg-ud-train.conllu\",\n",
        "    \"https://github.com/UniversalDependencies/UD_Galician-CTG/blob/master/gl_ctg-ud-train.conllu?raw=true\")\n",
        "ga_training_txt = open(ga_training_path,encoding=\"utf8\")\n",
        "ga_training_data=ga_training_txt.read()\n",
        "\n",
        "ga_training_lines = ga_training_data.split(\"\\n\")\n",
        "\n",
        "# Validation\n",
        "ga_validation_path = keras.utils.get_file(\n",
        "    \"gl_ctg-ud-dev.conllu\",\n",
        "    \"https://github.com/UniversalDependencies/UD_Galician-CTG/blob/master/gl_ctg-ud-dev.conllu?raw=true\")\n",
        "ga_validation_txt = open(ga_validation_path,encoding=\"utf8\")\n",
        "ga_validation_data = ga_validation_txt.read()\n",
        "\n",
        "ga_validation_lines = ga_validation_data.split(\"\\n\")\n",
        "\n",
        "\n",
        "# Test\n",
        "ga_test_path = keras.utils.get_file(\n",
        "    \"gl_ctg-ud-test.conllu\",\n",
        "    \"https://github.com/UniversalDependencies/UD_Galician-CTG/blob/master/gl_ctg-ud-test.conllu?raw=true\")\n",
        "ga_test_txt = open(ga_test_path,encoding=\"utf8\")\n",
        "ga_test_data = ga_test_txt.read()\n",
        "\n",
        "ga_test_lines = ga_test_data.split(\"\\n\")"
      ]
    },
    {
      "cell_type": "markdown",
      "metadata": {
        "id": "shyytQDtG1-7"
      },
      "source": [
        "# **WORD-LEVEL MODELS**"
      ]
    },
    {
      "cell_type": "markdown",
      "metadata": {
        "id": "jOmGSBrvrPFZ"
      },
      "source": [
        "## ENGLISH WORD-MODELS"
      ]
    },
    {
      "cell_type": "markdown",
      "metadata": {
        "id": "hnLejr9MHTq4"
      },
      "source": [
        "### WORD-LEVEL ENGLISH DATA\n"
      ]
    },
    {
      "cell_type": "markdown",
      "source": [
        "We are going to preprocess the English language data. \n",
        "If we want to create and train the model for the other two languages, it would be analogous."
      ],
      "metadata": {
        "id": "lQAK7JnmfYQu"
      }
    },
    {
      "cell_type": "code",
      "execution_count": 7,
      "metadata": {
        "id": "1mgjvFJyHFDz"
      },
      "outputs": [],
      "source": [
        "traindata=ProcessData(en_training_lines)\n",
        "valdata=ProcessData(en_validation_lines)\n",
        "testdata=ProcessData(en_test_lines)\n",
        "\n",
        "tokenizer_word = Tokenizer(filters='',lower=False, oov_token='UNK') \n",
        "tokenizer_word.fit_on_texts(traindata.create_inputs())\n",
        "\n",
        "def flatten(l):\n",
        "  return [item for sublist in l for item in sublist] \n",
        "\n",
        "encoder = LabelEncoder()\n",
        "encoder = encoder.fit(flatten(traindata.create_targets()))\n",
        "\n",
        "#TRAIN DATA\n",
        "train_inputs=traindata.inputs_to_ids(tokenizer_word,128)\n",
        "train_targets=traindata.targets_to_ids(encoder,128)\n",
        "\n",
        "#VALIDATION DATA\n",
        "val_inputs=valdata.inputs_to_ids(tokenizer_word,128)\n",
        "val_targets=valdata.targets_to_ids(encoder,128)\n",
        "\n",
        "#TEST DATA\n",
        "test_inputs=testdata.inputs_to_ids(tokenizer_word,128)\n",
        "test_targets=testdata.targets_to_ids(encoder,128)"
      ]
    },
    {
      "cell_type": "markdown",
      "metadata": {
        "id": "d7xuSH2nIk3V"
      },
      "source": [
        "### WORD-LEVEL MODEL (emb_dim=100, lstm_neurons=256)"
      ]
    },
    {
      "cell_type": "code",
      "execution_count": 8,
      "metadata": {
        "colab": {
          "base_uri": "https://localhost:8080/"
        },
        "id": "Zd0XwIsrcglj",
        "outputId": "2ee9ba54-6e6b-4399-b6ba-716c7791fb57"
      },
      "outputs": [
        {
          "output_type": "stream",
          "name": "stdout",
          "text": [
            "Model: \"model\"\n",
            "_________________________________________________________________\n",
            " Layer (type)                Output Shape              Param #   \n",
            "=================================================================\n",
            " Input_Layer (InputLayer)    [(None, 128)]             0         \n",
            "                                                                 \n",
            " Embedding_Layer (Embedding)  (None, 128, 100)         1967500   \n",
            "                                                                 \n",
            " LSTM_Layer (LSTM)           (None, 128, 256)          365568    \n",
            "                                                                 \n",
            " TimeDistributed_Dense_Layer  (None, 128, 17)          4369      \n",
            "  (TimeDistributed)                                              \n",
            "                                                                 \n",
            "=================================================================\n",
            "Total params: 2,337,437\n",
            "Trainable params: 2,337,437\n",
            "Non-trainable params: 0\n",
            "_________________________________________________________________\n"
          ]
        }
      ],
      "source": [
        "# Word-level model (emb_dim=100, lstm_neurons=256)\n",
        "out_dim=len(np.unique(flatten(traindata.create_targets())))\n",
        "\n",
        "word_model=wordTagger(tokenizer_word, emb_dim=100, lstm_neurons=256, output_dim=out_dim)\n",
        "word_model.build().summary()"
      ]
    },
    {
      "cell_type": "code",
      "execution_count": 9,
      "metadata": {
        "colab": {
          "base_uri": "https://localhost:8080/",
          "height": 422
        },
        "id": "QohDb3F5cglk",
        "outputId": "ecc85ab4-3497-41b5-ff9d-fc6c80928480"
      },
      "outputs": [
        {
          "output_type": "execute_result",
          "data": {
            "image/png": "[encoded data removed]",
            "text/plain": [
              "<IPython.core.display.Image object>"
            ]
          },
          "metadata": {},
          "execution_count": 9
        }
      ],
      "source": [
        "word_model.show()"
      ]
    },
    {
      "cell_type": "code",
      "execution_count": 10,
      "metadata": {
        "colab": {
          "base_uri": "https://localhost:8080/"
        },
        "id": "Qgl-udB7cgll",
        "outputId": "de5a8f83-c0fa-4070-fb0c-55bbf13541d3"
      },
      "outputs": [
        {
          "output_type": "stream",
          "name": "stdout",
          "text": [
            "Epoch 1/10\n",
            "197/197 [==============================] - 13s 22ms/step - loss: 0.2020 - accuracy: 0.5338 - val_loss: 0.0667 - val_accuracy: 0.7981\n",
            "Epoch 2/10\n",
            "197/197 [==============================] - 3s 15ms/step - loss: 0.0544 - accuracy: 0.8731 - val_loss: 0.0422 - val_accuracy: 0.8720\n",
            "Epoch 3/10\n",
            "197/197 [==============================] - 3s 15ms/step - loss: 0.0298 - accuracy: 0.9331 - val_loss: 0.0379 - val_accuracy: 0.8816\n",
            "Epoch 4/10\n",
            "197/197 [==============================] - 3s 14ms/step - loss: 0.0214 - accuracy: 0.9485 - val_loss: 0.0375 - val_accuracy: 0.8844\n",
            "Epoch 5/10\n",
            "197/197 [==============================] - 3s 15ms/step - loss: 0.0172 - accuracy: 0.9564 - val_loss: 0.0382 - val_accuracy: 0.8851\n",
            "Epoch 6/10\n",
            "197/197 [==============================] - 3s 14ms/step - loss: 0.0145 - accuracy: 0.9626 - val_loss: 0.0390 - val_accuracy: 0.8856\n",
            "Epoch 7/10\n",
            "197/197 [==============================] - 3s 14ms/step - loss: 0.0124 - accuracy: 0.9682 - val_loss: 0.0409 - val_accuracy: 0.8850\n",
            "Epoch 8/10\n",
            "197/197 [==============================] - 3s 15ms/step - loss: 0.0107 - accuracy: 0.9730 - val_loss: 0.0426 - val_accuracy: 0.8832\n",
            "Epoch 9/10\n",
            "197/197 [==============================] - 3s 15ms/step - loss: 0.0092 - accuracy: 0.9769 - val_loss: 0.0449 - val_accuracy: 0.8813\n",
            "Epoch 10/10\n",
            "197/197 [==============================] - 3s 15ms/step - loss: 0.0081 - accuracy: 0.9796 - val_loss: 0.0477 - val_accuracy: 0.8764\n"
          ]
        },
        {
          "output_type": "execute_result",
          "data": {
            "text/plain": [
              "<keras.engine.functional.Functional at 0x7fe72ff00fd0>"
            ]
          },
          "metadata": {},
          "execution_count": 10
        }
      ],
      "source": [
        "# Train\n",
        "word_model.train(train_inputs,train_targets, val_inputs, val_targets, loss='categorical_crossentropy', opt='adam', metrics=['accuracy'], epochs=10)"
      ]
    },
    {
      "cell_type": "code",
      "execution_count": 11,
      "metadata": {
        "colab": {
          "base_uri": "https://localhost:8080/"
        },
        "id": "tMqvFNOTml6Q",
        "outputId": "479b4d8d-b4a1-4ee3-e9b9-50b40a626ba5"
      },
      "outputs": [
        {
          "output_type": "stream",
          "name": "stdout",
          "text": [
            "65/65 [==============================] - 3s 5ms/step - loss: 0.0469 - accuracy: 0.8739\n",
            "Test loss: 0.04691510275006294\n",
            "Test accuracy: 0.8738742470741272\n"
          ]
        },
        {
          "output_type": "execute_result",
          "data": {
            "text/plain": [
              "[0.04691510275006294, 0.8738742470741272]"
            ]
          },
          "metadata": {},
          "execution_count": 11
        }
      ],
      "source": [
        "# Evaluate\n",
        "word_model.evaluate(test_inputs, test_targets,loss='categorical_crossentropy', opt='adam', metrics=['accuracy'],show=True)"
      ]
    },
    {
      "cell_type": "code",
      "execution_count": 12,
      "metadata": {
        "colab": {
          "base_uri": "https://localhost:8080/"
        },
        "id": "1rhbK4xwcglm",
        "outputId": "a69f9c99-735c-4617-85d9-b627cdfbefc9"
      },
      "outputs": [
        {
          "output_type": "stream",
          "name": "stdout",
          "text": [
            "65/65 [==============================] - 1s 4ms/step\n",
            "['PRON', 'SCONJ', 'PROPN', 'VERB', 'ADP', 'PROPN', 'PUNCT']\n",
            "['PRON' 'SCONJ' 'PROPN' 'PROPN' 'ADP' 'PROPN' 'PUNCT']\n",
            "['PUNCT', 'ADP', 'PROPN', 'PROPN', 'ADP', 'PROPN', 'PROPN', 'PROPN', 'PUNCT']\n",
            "['PUNCT' 'ADP' 'PROPN' 'VERB' 'ADP' 'PROPN' 'PROPN' 'PROPN' 'PUNCT']\n"
          ]
        }
      ],
      "source": [
        "# Predict\n",
        "outputs=word_model.predict(test_inputs)\n",
        "predictions=testdata.decode(outputs,encoder)\n",
        "\n",
        "# We display some of the predictions and their corresponding targets\n",
        "print(testdata.create_targets()[0])\n",
        "print(predictions[0])\n",
        "\n",
        "print(testdata.create_targets()[2])\n",
        "print(predictions[2])"
      ]
    },
    {
      "cell_type": "markdown",
      "metadata": {
        "id": "km7zfNipGS0Y"
      },
      "source": [
        "### WORD-LEVEL MODEL (emb_dim=30, lstm_neurons=100)"
      ]
    },
    {
      "cell_type": "code",
      "execution_count": 13,
      "metadata": {
        "colab": {
          "base_uri": "https://localhost:8080/"
        },
        "id": "-CKg-4yUGbBB",
        "outputId": "5709f3ec-c350-442c-b6b5-ecb1f6e3ba9f"
      },
      "outputs": [
        {
          "output_type": "stream",
          "name": "stdout",
          "text": [
            "Model: \"model_5\"\n",
            "_________________________________________________________________\n",
            " Layer (type)                Output Shape              Param #   \n",
            "=================================================================\n",
            " Input_Layer (InputLayer)    [(None, 128)]             0         \n",
            "                                                                 \n",
            " Embedding_Layer (Embedding)  (None, 128, 30)          590250    \n",
            "                                                                 \n",
            " LSTM_Layer (LSTM)           (None, 128, 100)          52400     \n",
            "                                                                 \n",
            " TimeDistributed_Dense_Layer  (None, 128, 17)          1717      \n",
            "  (TimeDistributed)                                              \n",
            "                                                                 \n",
            "=================================================================\n",
            "Total params: 644,367\n",
            "Trainable params: 644,367\n",
            "Non-trainable params: 0\n",
            "_________________________________________________________________\n"
          ]
        }
      ],
      "source": [
        "#Word-level model (emb_dim=30, lstm_neurons=256)\n",
        "word_model2=wordTagger(tokenizer_word, emb_dim=30, lstm_neurons=100, output_dim=out_dim)\n",
        "word_model2.build().summary()"
      ]
    },
    {
      "cell_type": "code",
      "execution_count": 14,
      "metadata": {
        "colab": {
          "base_uri": "https://localhost:8080/"
        },
        "id": "w7G1aeFcG1z8",
        "outputId": "e55dc1dc-bf23-4b6d-f741-5fb6e2f388b3"
      },
      "outputs": [
        {
          "output_type": "stream",
          "name": "stdout",
          "text": [
            "Epoch 1/10\n",
            "197/197 [==============================] - 8s 22ms/step - loss: 0.2770 - accuracy: 0.3600 - val_loss: 0.1244 - val_accuracy: 0.6684\n",
            "Epoch 2/10\n",
            "197/197 [==============================] - 3s 14ms/step - loss: 0.1012 - accuracy: 0.7715 - val_loss: 0.0629 - val_accuracy: 0.8108\n",
            "Epoch 3/10\n",
            "197/197 [==============================] - 3s 14ms/step - loss: 0.0531 - accuracy: 0.8863 - val_loss: 0.0465 - val_accuracy: 0.8645\n",
            "Epoch 4/10\n",
            "197/197 [==============================] - 3s 14ms/step - loss: 0.0343 - accuracy: 0.9293 - val_loss: 0.0418 - val_accuracy: 0.8740\n",
            "Epoch 5/10\n",
            "197/197 [==============================] - 3s 14ms/step - loss: 0.0261 - accuracy: 0.9428 - val_loss: 0.0401 - val_accuracy: 0.8779\n",
            "Epoch 6/10\n",
            "197/197 [==============================] - 3s 14ms/step - loss: 0.0217 - accuracy: 0.9501 - val_loss: 0.0396 - val_accuracy: 0.8817\n",
            "Epoch 7/10\n",
            "197/197 [==============================] - 3s 14ms/step - loss: 0.0188 - accuracy: 0.9546 - val_loss: 0.0395 - val_accuracy: 0.8831\n",
            "Epoch 8/10\n",
            "197/197 [==============================] - 3s 14ms/step - loss: 0.0167 - accuracy: 0.9592 - val_loss: 0.0402 - val_accuracy: 0.8838\n",
            "Epoch 9/10\n",
            "197/197 [==============================] - 3s 14ms/step - loss: 0.0150 - accuracy: 0.9636 - val_loss: 0.0410 - val_accuracy: 0.8851\n",
            "Epoch 10/10\n",
            "197/197 [==============================] - 3s 14ms/step - loss: 0.0135 - accuracy: 0.9672 - val_loss: 0.0420 - val_accuracy: 0.8848\n"
          ]
        },
        {
          "output_type": "execute_result",
          "data": {
            "text/plain": [
              "<keras.engine.functional.Functional at 0x7fe72fe36590>"
            ]
          },
          "metadata": {},
          "execution_count": 14
        }
      ],
      "source": [
        "# Train\n",
        "word_model2.train(train_inputs,train_targets, val_inputs, val_targets, loss='categorical_crossentropy', opt='adam', metrics=['accuracy'], epochs=10)"
      ]
    },
    {
      "cell_type": "code",
      "execution_count": 15,
      "metadata": {
        "colab": {
          "base_uri": "https://localhost:8080/"
        },
        "id": "CGgyfCsUG8kP",
        "outputId": "ad241687-135e-42dc-c3c8-5829b008f70e"
      },
      "outputs": [
        {
          "output_type": "stream",
          "name": "stdout",
          "text": [
            "65/65 [==============================] - 3s 5ms/step - loss: 0.0410 - accuracy: 0.8845\n",
            "Test loss: 0.040971819311380386\n",
            "Test accuracy: 0.8845142126083374\n"
          ]
        },
        {
          "output_type": "execute_result",
          "data": {
            "text/plain": [
              "[0.040971819311380386, 0.8845142126083374]"
            ]
          },
          "metadata": {},
          "execution_count": 15
        }
      ],
      "source": [
        "# Evaluate\n",
        "word_model2.evaluate(test_inputs, test_targets,loss='categorical_crossentropy', opt='adam', metrics=['accuracy'],show=True)"
      ]
    },
    {
      "cell_type": "code",
      "execution_count": 16,
      "metadata": {
        "colab": {
          "base_uri": "https://localhost:8080/"
        },
        "id": "PtUeNE1rH8FE",
        "outputId": "aa2b99fc-4017-431d-feae-579f62f24a97"
      },
      "outputs": [
        {
          "output_type": "stream",
          "name": "stdout",
          "text": [
            "65/65 [==============================] - 1s 4ms/step\n",
            "['PROPN', 'VERB', 'DET', 'VERB', 'NOUN', 'PUNCT', 'ADP', 'PRON', 'PROPN', 'CCONJ', 'PROPN', 'VERB', 'ADP', 'ADP', 'NOUN', 'NUM', 'ADP', 'NUM', 'PUNCT']\n",
            "['PROPN' 'VERB' 'DET' 'VERB' 'NOUN' 'PUNCT' 'ADP' 'PRON' 'NOUN' 'CCONJ'\n",
            " 'NOUN' 'VERB' 'ADP' 'PART' 'NOUN' 'PRON' 'ADP' 'PROPN' 'PUNCT']\n"
          ]
        }
      ],
      "source": [
        "#Predict\n",
        "outputs2=word_model2.predict(test_inputs)\n",
        "predictions2=testdata.decode(outputs2,encoder)\n",
        "\n",
        "print(testdata.create_targets()[56])\n",
        "print(predictions2[56])"
      ]
    },
    {
      "cell_type": "markdown",
      "metadata": {
        "id": "pPgkLtpvk9ID"
      },
      "source": [
        "### WORD-LEVEL MODEL (emb_dim=30, lstm_neurons=12)"
      ]
    },
    {
      "cell_type": "code",
      "execution_count": 17,
      "metadata": {
        "colab": {
          "base_uri": "https://localhost:8080/"
        },
        "id": "be3tJ29Ok8co",
        "outputId": "20d52fba-bc6d-4c67-b78a-2db6abb29665"
      },
      "outputs": [
        {
          "output_type": "stream",
          "name": "stdout",
          "text": [
            "Model: \"model_9\"\n",
            "_________________________________________________________________\n",
            " Layer (type)                Output Shape              Param #   \n",
            "=================================================================\n",
            " Input_Layer (InputLayer)    [(None, 128)]             0         \n",
            "                                                                 \n",
            " Embedding_Layer (Embedding)  (None, 128, 30)          590250    \n",
            "                                                                 \n",
            " LSTM_Layer (LSTM)           (None, 128, 12)           2064      \n",
            "                                                                 \n",
            " TimeDistributed_Dense_Layer  (None, 128, 17)          221       \n",
            "  (TimeDistributed)                                              \n",
            "                                                                 \n",
            "=================================================================\n",
            "Total params: 592,535\n",
            "Trainable params: 592,535\n",
            "Non-trainable params: 0\n",
            "_________________________________________________________________\n"
          ]
        }
      ],
      "source": [
        "# Word-level model (emb_dim=30, lstm_neurons=12)\n",
        "word_model3=wordTagger(tokenizer_word, emb_dim=30, lstm_neurons=12, output_dim=out_dim)\n",
        "word_model3.build().summary()"
      ]
    },
    {
      "cell_type": "code",
      "execution_count": 18,
      "metadata": {
        "colab": {
          "base_uri": "https://localhost:8080/"
        },
        "id": "gN5rxKNDlPdR",
        "outputId": "8746a396-eef5-45ef-a681-3bde16d534a2"
      },
      "outputs": [
        {
          "output_type": "stream",
          "name": "stdout",
          "text": [
            "Epoch 1/10\n",
            "197/197 [==============================] - 8s 20ms/step - loss: 0.3208 - accuracy: 0.2071 - val_loss: 0.2118 - val_accuracy: 0.4183\n",
            "Epoch 2/10\n",
            "197/197 [==============================] - 2s 13ms/step - loss: 0.2159 - accuracy: 0.5693 - val_loss: 0.1330 - val_accuracy: 0.6779\n",
            "Epoch 3/10\n",
            "197/197 [==============================] - 2s 13ms/step - loss: 0.1333 - accuracy: 0.7409 - val_loss: 0.0893 - val_accuracy: 0.7828\n",
            "Epoch 4/10\n",
            "197/197 [==============================] - 3s 13ms/step - loss: 0.0892 - accuracy: 0.8445 - val_loss: 0.0677 - val_accuracy: 0.8393\n",
            "Epoch 5/10\n",
            "197/197 [==============================] - 3s 13ms/step - loss: 0.0644 - accuracy: 0.8975 - val_loss: 0.0565 - val_accuracy: 0.8601\n",
            "Epoch 6/10\n",
            "197/197 [==============================] - 3s 13ms/step - loss: 0.0498 - accuracy: 0.9216 - val_loss: 0.0503 - val_accuracy: 0.8682\n",
            "Epoch 7/10\n",
            "197/197 [==============================] - 3s 13ms/step - loss: 0.0408 - accuracy: 0.9298 - val_loss: 0.0469 - val_accuracy: 0.8710\n",
            "Epoch 8/10\n",
            "197/197 [==============================] - 2s 13ms/step - loss: 0.0351 - accuracy: 0.9351 - val_loss: 0.0448 - val_accuracy: 0.8734\n",
            "Epoch 9/10\n",
            "197/197 [==============================] - 2s 12ms/step - loss: 0.0312 - accuracy: 0.9392 - val_loss: 0.0435 - val_accuracy: 0.8751\n",
            "Epoch 10/10\n",
            "197/197 [==============================] - 2s 13ms/step - loss: 0.0283 - accuracy: 0.9426 - val_loss: 0.0426 - val_accuracy: 0.8763\n"
          ]
        },
        {
          "output_type": "execute_result",
          "data": {
            "text/plain": [
              "<keras.engine.functional.Functional at 0x7fe6b2edd650>"
            ]
          },
          "metadata": {},
          "execution_count": 18
        }
      ],
      "source": [
        "# Train\n",
        "word_model3.train(train_inputs,train_targets, val_inputs, val_targets, loss='categorical_crossentropy', opt='adam', metrics=['accuracy'], epochs=10)"
      ]
    },
    {
      "cell_type": "code",
      "execution_count": 19,
      "metadata": {
        "colab": {
          "base_uri": "https://localhost:8080/"
        },
        "id": "pTjR2khzl9tK",
        "outputId": "b42759c7-1004-4168-b8ab-468e93127414"
      },
      "outputs": [
        {
          "output_type": "stream",
          "name": "stdout",
          "text": [
            "65/65 [==============================] - 3s 5ms/step - loss: 0.0400 - accuracy: 0.8783\n",
            "Test loss: 0.03999181464314461\n",
            "Test accuracy: 0.8783374428749084\n"
          ]
        },
        {
          "output_type": "execute_result",
          "data": {
            "text/plain": [
              "[0.03999181464314461, 0.8783374428749084]"
            ]
          },
          "metadata": {},
          "execution_count": 19
        }
      ],
      "source": [
        "# Evaluate\n",
        "word_model3.evaluate(test_inputs, test_targets,loss='categorical_crossentropy', opt='adam', metrics=['accuracy'],show=True)"
      ]
    },
    {
      "cell_type": "code",
      "execution_count": 20,
      "metadata": {
        "colab": {
          "base_uri": "https://localhost:8080/"
        },
        "id": "zOKzTmvhJY9v",
        "outputId": "14be1036-b35e-4abf-dd42-0c4cd01497a2"
      },
      "outputs": [
        {
          "output_type": "stream",
          "name": "stdout",
          "text": [
            "65/65 [==============================] - 1s 3ms/step\n",
            "['ADJ', 'NOUN', 'VERB', 'ADJ', 'NOUN', 'ADP', 'DET', 'ADJ', 'NOUN', 'ADP', 'PROPN', 'PUNCT', 'NOUN', 'NUM', 'PUNCT', 'SCONJ', 'DET', 'NOUN', 'NOUN', 'VERB', 'ADP', 'DET', 'ADJ', 'NOUN', 'NOUN', 'ADP', 'PROPN', 'NOUN', 'AUX', 'VERB', 'ADP', 'PROPN', 'PUNCT']\n",
            "['NOUN' 'NOUN' 'NOUN' 'ADJ' 'NOUN' 'ADP' 'DET' 'ADJ' 'NOUN' 'ADP' 'NOUN'\n",
            " 'PUNCT' 'NOUN' 'NOUN' 'PUNCT' 'SCONJ' 'DET' 'NOUN' 'NOUN' 'VERB' 'ADP'\n",
            " 'DET' 'ADJ' 'NOUN' 'NOUN' 'ADP' 'PROPN' 'NOUN' 'AUX' 'VERB' 'ADP' 'PROPN'\n",
            " 'PUNCT']\n"
          ]
        }
      ],
      "source": [
        "#Predict\n",
        "outputs3=word_model3.predict(test_inputs)\n",
        "predictions3=testdata.decode(outputs3,encoder)\n",
        "\n",
        "print(testdata.create_targets()[40])\n",
        "print(predictions3[40])"
      ]
    },
    {
      "cell_type": "markdown",
      "metadata": {
        "id": "bvseSS_Zcglm"
      },
      "source": [
        "# **CHARACTER-LEVEL MODELS**"
      ]
    },
    {
      "cell_type": "markdown",
      "metadata": {
        "id": "Ciz12nE6roDL"
      },
      "source": [
        "## ENGLISH CHARACTER-MODELS\n"
      ]
    },
    {
      "cell_type": "markdown",
      "metadata": {
        "id": "TEY5VTGsJu_y"
      },
      "source": [
        "### CHARACTER-LEVEL ENGLISH DATA"
      ]
    },
    {
      "cell_type": "markdown",
      "source": [
        "For this model alternative, in addition to the word-level inputs already generated in the previous cells, the corresponding character-level inputs will be used."
      ],
      "metadata": {
        "id": "r7vhxAoifmv_"
      }
    },
    {
      "cell_type": "code",
      "execution_count": 47,
      "metadata": {
        "id": "BRwE4Iohcglm"
      },
      "outputs": [],
      "source": [
        "# Word-level inputs continue to be the ones used in previous models, \n",
        "# now we must also consider the character-level inputs.\n",
        "\n",
        "tokenizer_char= Tokenizer(filters='',lower=False, oov_token='UNK') \n",
        "tokenizer_char.fit_on_texts(flatten(traindata.create_char()))"
      ]
    },
    {
      "cell_type": "code",
      "execution_count": 48,
      "metadata": {
        "id": "KA0Hn6oncglm"
      },
      "outputs": [],
      "source": [
        "# CHARACTER LEVEL INPUTS\n",
        "train_char_inputs=traindata.char_inputs_adapted(tokenizer_char, 128, 15)\n",
        "val_char_inputs=valdata.char_inputs_adapted(tokenizer_char, 128, 15)\n",
        "test_char_inputs=testdata.char_inputs_adapted(tokenizer_char, 128, 15)"
      ]
    },
    {
      "cell_type": "markdown",
      "metadata": {
        "id": "_qVjLaGWKKul"
      },
      "source": [
        "### CHARACTER-LEVEL MODEL (word_emb_dim=30, char_emb_dim=30, lstm_neurons=100)"
      ]
    },
    {
      "cell_type": "code",
      "execution_count": 49,
      "metadata": {
        "colab": {
          "base_uri": "https://localhost:8080/"
        },
        "id": "8KzvNlkccglm",
        "outputId": "77ddf864-579a-4417-9a09-0a1c77647e65"
      },
      "outputs": [
        {
          "output_type": "stream",
          "name": "stdout",
          "text": [
            "Model: \"model_37\"\n",
            "__________________________________________________________________________________________________\n",
            " Layer (type)                   Output Shape         Param #     Connected to                     \n",
            "==================================================================================================\n",
            " Char_Input_Layer (InputLayer)  [(None, 128, 15)]    0           []                               \n",
            "                                                                                                  \n",
            " Word_Input_Layer (InputLayer)  [(None, 128)]        0           []                               \n",
            "                                                                                                  \n",
            " Char_Embedding_Layer (TimeDist  (None, 128, 15, 30)  3300       ['Char_Input_Layer[0][0]']       \n",
            " ributed)                                                                                         \n",
            "                                                                                                  \n",
            " Word_Embedding_Layer (Embeddin  (None, 128, 30)     590250      ['Word_Input_Layer[0][0]']       \n",
            " g)                                                                                               \n",
            "                                                                                                  \n",
            " Char_TimeDistributed_LSTM (Tim  (None, 128, 30)     7320        ['Char_Embedding_Layer[0][0]']   \n",
            " eDistributed)                                                                                    \n",
            "                                                                                                  \n",
            " Concatenate_Layer (Concatenate  (None, 128, 60)     0           ['Word_Embedding_Layer[0][0]',   \n",
            " )                                                                'Char_TimeDistributed_LSTM[0][0]\n",
            "                                                                 ']                               \n",
            "                                                                                                  \n",
            " LSTM_Layer (LSTM)              (None, 128, 100)     64400       ['Concatenate_Layer[0][0]']      \n",
            "                                                                                                  \n",
            " Dense_TimeDistributed_Layer (T  (None, 128, 17)     1717        ['LSTM_Layer[0][0]']             \n",
            " imeDistributed)                                                                                  \n",
            "                                                                                                  \n",
            "==================================================================================================\n",
            "Total params: 666,987\n",
            "Trainable params: 666,987\n",
            "Non-trainable params: 0\n",
            "__________________________________________________________________________________________________\n"
          ]
        }
      ],
      "source": [
        "# Character-level model (word_emb_dim=30, char_emb_dim=30, lstm_neurons=100)\n",
        "out_dim=len(np.unique(flatten(traindata.create_targets())))\n",
        "\n",
        "char_model=charTagger(tokenizer_word, tokenizer_char, 30, 30, 100, out_dim=out_dim)\n",
        "char_model.build().summary()"
      ]
    },
    {
      "cell_type": "code",
      "execution_count": 50,
      "metadata": {
        "colab": {
          "base_uri": "https://localhost:8080/",
          "height": 644
        },
        "id": "yFozrv9-cglo",
        "outputId": "d75dbc78-64fd-4ca5-8a29-60f85dfd77a5"
      },
      "outputs": [
        {
          "output_type": "execute_result",
          "data": {
            "image/png": "[encoded data removed]",
            "text/plain": [
              "<IPython.core.display.Image object>"
            ]
          },
          "metadata": {},
          "execution_count": 50
        }
      ],
      "source": [
        "char_model.show()"
      ]
    },
    {
      "cell_type": "code",
      "execution_count": 51,
      "metadata": {
        "id": "QmbIl9D_cglo",
        "colab": {
          "base_uri": "https://localhost:8080/"
        },
        "outputId": "fa9ad377-2697-4e08-e9e1-fa6c95c870cb"
      },
      "outputs": [
        {
          "output_type": "stream",
          "name": "stdout",
          "text": [
            "Epoch 1/10\n",
            "393/393 [==============================] - 146s 351ms/step - loss: 0.0972 - accuracy: 0.5642 - val_loss: 0.0640 - val_accuracy: 0.7916\n",
            "Epoch 2/10\n",
            "393/393 [==============================] - 134s 341ms/step - loss: 0.0252 - accuracy: 0.8931 - val_loss: 0.0393 - val_accuracy: 0.8751\n",
            "Epoch 3/10\n",
            "393/393 [==============================] - 135s 345ms/step - loss: 0.0134 - accuracy: 0.9422 - val_loss: 0.0361 - val_accuracy: 0.8833\n",
            "Epoch 4/10\n",
            "393/393 [==============================] - 133s 338ms/step - loss: 0.0100 - accuracy: 0.9539 - val_loss: 0.0358 - val_accuracy: 0.8833\n",
            "Epoch 5/10\n",
            "393/393 [==============================] - 133s 339ms/step - loss: 0.0082 - accuracy: 0.9604 - val_loss: 0.0375 - val_accuracy: 0.8823\n",
            "Epoch 6/10\n",
            "393/393 [==============================] - 132s 336ms/step - loss: 0.0070 - accuracy: 0.9653 - val_loss: 0.0394 - val_accuracy: 0.8786\n",
            "Epoch 7/10\n",
            "393/393 [==============================] - 132s 337ms/step - loss: 0.0061 - accuracy: 0.9695 - val_loss: 0.0397 - val_accuracy: 0.8798\n",
            "Epoch 8/10\n",
            "393/393 [==============================] - 133s 338ms/step - loss: 0.0052 - accuracy: 0.9744 - val_loss: 0.0401 - val_accuracy: 0.8832\n",
            "Epoch 9/10\n",
            "393/393 [==============================] - 132s 337ms/step - loss: 0.0045 - accuracy: 0.9781 - val_loss: 0.0428 - val_accuracy: 0.8770\n",
            "Epoch 10/10\n",
            "393/393 [==============================] - 132s 336ms/step - loss: 0.0038 - accuracy: 0.9812 - val_loss: 0.0449 - val_accuracy: 0.8811\n"
          ]
        },
        {
          "output_type": "execute_result",
          "data": {
            "text/plain": [
              "<keras.engine.functional.Functional at 0x7fe641eec050>"
            ]
          },
          "metadata": {},
          "execution_count": 51
        }
      ],
      "source": [
        "# Train\n",
        "char_model.train(train_inputs, train_char_inputs, train_targets, val_inputs, val_char_inputs, val_targets,loss='categorical_crossentropy', opt='adam', metrics=['accuracy'], epochs=10)"
      ]
    },
    {
      "cell_type": "code",
      "execution_count": 52,
      "metadata": {
        "id": "4uQBV9O72PBv",
        "colab": {
          "base_uri": "https://localhost:8080/"
        },
        "outputId": "ab6be39a-a82f-414a-c974-1effa2b1ed4a"
      },
      "outputs": [
        {
          "output_type": "stream",
          "name": "stdout",
          "text": [
            "65/65 [==============================] - 5s 10ms/step - loss: 0.0422 - accuracy: 0.8824\n",
            "Test loss: 0.04215995967388153\n",
            "Test accuracy: 0.8824021816253662\n"
          ]
        },
        {
          "output_type": "execute_result",
          "data": {
            "text/plain": [
              "[0.04215995967388153, 0.8824021816253662]"
            ]
          },
          "metadata": {},
          "execution_count": 52
        }
      ],
      "source": [
        "# Evaluate \n",
        "char_model.evaluate(test_inputs, test_char_inputs, test_targets, loss='categorical_crossentropy', opt='adam', metrics=['accuracy'],show=True)"
      ]
    },
    {
      "cell_type": "code",
      "execution_count": 53,
      "metadata": {
        "id": "VEpy7AtF2PBv",
        "colab": {
          "base_uri": "https://localhost:8080/"
        },
        "outputId": "a0ddb058-c825-4aab-9655-16043af79bd1"
      },
      "outputs": [
        {
          "output_type": "stream",
          "name": "stdout",
          "text": [
            "65/65 [==============================] - 3s 9ms/step\n",
            "['PRON', 'SCONJ', 'PROPN', 'VERB', 'ADP', 'PROPN', 'PUNCT']\n",
            "['PRON' 'SCONJ' 'PROPN' 'X' 'ADP' 'PROPN' 'PUNCT']\n"
          ]
        }
      ],
      "source": [
        "# Predict\n",
        "outputs_char=char_model.predict(test_inputs, test_char_inputs)\n",
        "predictions_char=testdata.decode(outputs_char,encoder)\n",
        "\n",
        "print(testdata.create_targets()[0])\n",
        "print(predictions_char[0])"
      ]
    },
    {
      "cell_type": "markdown",
      "metadata": {
        "id": "St8e-MRcGeCP"
      },
      "source": [
        "### CHARACTER-LEVEL MODEL (word_emb_dim=20, char_emb_dim=20, lstm_neurons=15)"
      ]
    },
    {
      "cell_type": "code",
      "execution_count": 54,
      "metadata": {
        "id": "oI7RSMaFI9FP",
        "colab": {
          "base_uri": "https://localhost:8080/"
        },
        "outputId": "f99ad230-40ac-44fb-bacf-491b27c863ad"
      },
      "outputs": [
        {
          "output_type": "stream",
          "name": "stdout",
          "text": [
            "Model: \"model_42\"\n",
            "__________________________________________________________________________________________________\n",
            " Layer (type)                   Output Shape         Param #     Connected to                     \n",
            "==================================================================================================\n",
            " Char_Input_Layer (InputLayer)  [(None, 128, 15)]    0           []                               \n",
            "                                                                                                  \n",
            " Word_Input_Layer (InputLayer)  [(None, 128)]        0           []                               \n",
            "                                                                                                  \n",
            " Char_Embedding_Layer (TimeDist  (None, 128, 15, 20)  2200       ['Char_Input_Layer[0][0]']       \n",
            " ributed)                                                                                         \n",
            "                                                                                                  \n",
            " Word_Embedding_Layer (Embeddin  (None, 128, 20)     393500      ['Word_Input_Layer[0][0]']       \n",
            " g)                                                                                               \n",
            "                                                                                                  \n",
            " Char_TimeDistributed_LSTM (Tim  (None, 128, 20)     3280        ['Char_Embedding_Layer[0][0]']   \n",
            " eDistributed)                                                                                    \n",
            "                                                                                                  \n",
            " Concatenate_Layer (Concatenate  (None, 128, 40)     0           ['Word_Embedding_Layer[0][0]',   \n",
            " )                                                                'Char_TimeDistributed_LSTM[0][0]\n",
            "                                                                 ']                               \n",
            "                                                                                                  \n",
            " LSTM_Layer (LSTM)              (None, 128, 15)      3360        ['Concatenate_Layer[0][0]']      \n",
            "                                                                                                  \n",
            " Dense_TimeDistributed_Layer (T  (None, 128, 17)     272         ['LSTM_Layer[0][0]']             \n",
            " imeDistributed)                                                                                  \n",
            "                                                                                                  \n",
            "==================================================================================================\n",
            "Total params: 402,612\n",
            "Trainable params: 402,612\n",
            "Non-trainable params: 0\n",
            "__________________________________________________________________________________________________\n"
          ]
        }
      ],
      "source": [
        "# Character-level model (word_emb_dim=20, char_emb_dim=20, lstm_neurons=15)\n",
        "char_model2=charTagger(tokenizer_word, tokenizer_char,20,20,15, out_dim=out_dim)\n",
        "char_model2.build().summary()"
      ]
    },
    {
      "cell_type": "code",
      "execution_count": 55,
      "metadata": {
        "id": "pT-1dcUOLJIG",
        "colab": {
          "base_uri": "https://localhost:8080/"
        },
        "outputId": "a5e5cbad-5875-462c-e9c2-66eb4af09ed3"
      },
      "outputs": [
        {
          "output_type": "stream",
          "name": "stdout",
          "text": [
            "Epoch 1/10\n",
            "393/393 [==============================] - 139s 337ms/step - loss: 0.1426 - accuracy: 0.3676 - val_loss: 0.1414 - val_accuracy: 0.5849\n",
            "Epoch 2/10\n",
            "393/393 [==============================] - 131s 334ms/step - loss: 0.0683 - accuracy: 0.7325 - val_loss: 0.0744 - val_accuracy: 0.8020\n",
            "Epoch 3/10\n",
            "393/393 [==============================] - 129s 329ms/step - loss: 0.0345 - accuracy: 0.8796 - val_loss: 0.0512 - val_accuracy: 0.8606\n",
            "Epoch 4/10\n",
            "393/393 [==============================] - 137s 348ms/step - loss: 0.0218 - accuracy: 0.9205 - val_loss: 0.0437 - val_accuracy: 0.8734\n",
            "Epoch 5/10\n",
            "393/393 [==============================] - 135s 344ms/step - loss: 0.0165 - accuracy: 0.9365 - val_loss: 0.0400 - val_accuracy: 0.8792\n",
            "Epoch 6/10\n",
            "393/393 [==============================] - 130s 331ms/step - loss: 0.0135 - accuracy: 0.9451 - val_loss: 0.0382 - val_accuracy: 0.8839\n",
            "Epoch 7/10\n",
            "393/393 [==============================] - 135s 343ms/step - loss: 0.0115 - accuracy: 0.9514 - val_loss: 0.0377 - val_accuracy: 0.8837\n",
            "Epoch 8/10\n",
            "393/393 [==============================] - 133s 338ms/step - loss: 0.0102 - accuracy: 0.9564 - val_loss: 0.0374 - val_accuracy: 0.8853\n",
            "Epoch 9/10\n",
            "393/393 [==============================] - 130s 331ms/step - loss: 0.0092 - accuracy: 0.9592 - val_loss: 0.0379 - val_accuracy: 0.8845\n",
            "Epoch 10/10\n",
            "393/393 [==============================] - 130s 330ms/step - loss: 0.0085 - accuracy: 0.9619 - val_loss: 0.0384 - val_accuracy: 0.8838\n"
          ]
        },
        {
          "output_type": "execute_result",
          "data": {
            "text/plain": [
              "<keras.engine.functional.Functional at 0x7fe643277b50>"
            ]
          },
          "metadata": {},
          "execution_count": 55
        }
      ],
      "source": [
        "# Train\n",
        "char_model2.train(train_inputs, train_char_inputs, train_targets, val_inputs, val_char_inputs, val_targets,loss='categorical_crossentropy', opt='adam', metrics=['accuracy'], epochs=10)"
      ]
    },
    {
      "cell_type": "code",
      "execution_count": 56,
      "metadata": {
        "id": "uPEoLQz4LRgc",
        "colab": {
          "base_uri": "https://localhost:8080/"
        },
        "outputId": "3fff254b-e036-465e-9c08-d6adfc0f2231"
      },
      "outputs": [
        {
          "output_type": "stream",
          "name": "stdout",
          "text": [
            "65/65 [==============================] - 6s 9ms/step - loss: 0.0359 - accuracy: 0.8876\n",
            "Test loss: 0.03594023361802101\n",
            "Test accuracy: 0.8875826597213745\n"
          ]
        },
        {
          "output_type": "execute_result",
          "data": {
            "text/plain": [
              "[0.03594023361802101, 0.8875826597213745]"
            ]
          },
          "metadata": {},
          "execution_count": 56
        }
      ],
      "source": [
        "#Evaluate\n",
        "char_model2.evaluate(test_inputs, test_char_inputs, test_targets, loss='categorical_crossentropy', opt='adam', metrics=['accuracy'],show=True)"
      ]
    },
    {
      "cell_type": "code",
      "execution_count": 57,
      "metadata": {
        "id": "Io7Dw30qLTaS",
        "colab": {
          "base_uri": "https://localhost:8080/"
        },
        "outputId": "eb1af0d5-3449-439e-9416-cabcf1f79b87"
      },
      "outputs": [
        {
          "output_type": "stream",
          "name": "stdout",
          "text": [
            "65/65 [==============================] - 3s 8ms/step\n"
          ]
        }
      ],
      "source": [
        "#Predict\n",
        "outputs_char2=char_model2.predict(test_inputs, test_char_inputs)\n",
        "predictions_char2=testdata.decode(outputs_char2,encoder)"
      ]
    },
    {
      "cell_type": "code",
      "execution_count": 58,
      "metadata": {
        "id": "DjDt3vZ-LWa8",
        "colab": {
          "base_uri": "https://localhost:8080/"
        },
        "outputId": "7810978a-bd32-450f-cc8a-cc05d46d0ab6"
      },
      "outputs": [
        {
          "output_type": "stream",
          "name": "stdout",
          "text": [
            "['PRON', 'SCONJ', 'PROPN', 'VERB', 'ADP', 'PROPN', 'PUNCT']\n",
            "['PRON' 'SCONJ' 'PROPN' 'PROPN' 'ADP' 'PROPN' 'PUNCT']\n"
          ]
        }
      ],
      "source": [
        "print(testdata.create_targets()[0])\n",
        "print(predictions_char2[0])"
      ]
    },
    {
      "cell_type": "markdown",
      "metadata": {
        "id": "tM0surWEK-Gr"
      },
      "source": [
        "### CHARACTER-LEVEL MODEL (word_emb_dim=100, char_emb_dim=50, lstm_neurons=15)"
      ]
    },
    {
      "cell_type": "code",
      "execution_count": 59,
      "metadata": {
        "id": "xcbYn3MVLHOA",
        "colab": {
          "base_uri": "https://localhost:8080/"
        },
        "outputId": "78429334-03b0-4bc5-f0c4-88fdcb09dd0a"
      },
      "outputs": [
        {
          "output_type": "stream",
          "name": "stdout",
          "text": [
            "Model: \"model_46\"\n",
            "__________________________________________________________________________________________________\n",
            " Layer (type)                   Output Shape         Param #     Connected to                     \n",
            "==================================================================================================\n",
            " Char_Input_Layer (InputLayer)  [(None, 128, 15)]    0           []                               \n",
            "                                                                                                  \n",
            " Word_Input_Layer (InputLayer)  [(None, 128)]        0           []                               \n",
            "                                                                                                  \n",
            " Char_Embedding_Layer (TimeDist  (None, 128, 15, 50)  5500       ['Char_Input_Layer[0][0]']       \n",
            " ributed)                                                                                         \n",
            "                                                                                                  \n",
            " Word_Embedding_Layer (Embeddin  (None, 128, 100)    1967500     ['Word_Input_Layer[0][0]']       \n",
            " g)                                                                                               \n",
            "                                                                                                  \n",
            " Char_TimeDistributed_LSTM (Tim  (None, 128, 50)     20200       ['Char_Embedding_Layer[0][0]']   \n",
            " eDistributed)                                                                                    \n",
            "                                                                                                  \n",
            " Concatenate_Layer (Concatenate  (None, 128, 150)    0           ['Word_Embedding_Layer[0][0]',   \n",
            " )                                                                'Char_TimeDistributed_LSTM[0][0]\n",
            "                                                                 ']                               \n",
            "                                                                                                  \n",
            " LSTM_Layer (LSTM)              (None, 128, 15)      9960        ['Concatenate_Layer[0][0]']      \n",
            "                                                                                                  \n",
            " Dense_TimeDistributed_Layer (T  (None, 128, 17)     272         ['LSTM_Layer[0][0]']             \n",
            " imeDistributed)                                                                                  \n",
            "                                                                                                  \n",
            "==================================================================================================\n",
            "Total params: 2,003,432\n",
            "Trainable params: 2,003,432\n",
            "Non-trainable params: 0\n",
            "__________________________________________________________________________________________________\n"
          ]
        }
      ],
      "source": [
        "# Character-level model (word_emb_dim=100, char_emb_dim=50, lstm_neurons=15)\n",
        "char_model3=charTagger(tokenizer_word, tokenizer_char,100,50,15, out_dim=out_dim)\n",
        "char_model3.build().summary()"
      ]
    },
    {
      "cell_type": "code",
      "execution_count": 60,
      "metadata": {
        "id": "az2XffaQLSfw",
        "colab": {
          "base_uri": "https://localhost:8080/"
        },
        "outputId": "ab6fbb2d-b3cf-46c3-91ad-961dc4947019"
      },
      "outputs": [
        {
          "output_type": "stream",
          "name": "stdout",
          "text": [
            "Epoch 1/10\n",
            "393/393 [==============================] - 142s 343ms/step - loss: 0.1105 - accuracy: 0.5572 - val_loss: 0.0827 - val_accuracy: 0.7983\n",
            "Epoch 2/10\n",
            "393/393 [==============================] - 132s 336ms/step - loss: 0.0349 - accuracy: 0.8942 - val_loss: 0.0477 - val_accuracy: 0.8688\n",
            "Epoch 3/10\n",
            "393/393 [==============================] - 132s 335ms/step - loss: 0.0187 - accuracy: 0.9324 - val_loss: 0.0417 - val_accuracy: 0.8726\n",
            "Epoch 4/10\n",
            "393/393 [==============================] - 131s 333ms/step - loss: 0.0141 - accuracy: 0.9455 - val_loss: 0.0401 - val_accuracy: 0.8705\n",
            "Epoch 5/10\n",
            "393/393 [==============================] - 132s 335ms/step - loss: 0.0119 - accuracy: 0.9504 - val_loss: 0.0388 - val_accuracy: 0.8776\n",
            "Epoch 6/10\n",
            "393/393 [==============================] - 131s 334ms/step - loss: 0.0105 - accuracy: 0.9540 - val_loss: 0.0384 - val_accuracy: 0.8800\n",
            "Epoch 7/10\n",
            "393/393 [==============================] - 131s 333ms/step - loss: 0.0095 - accuracy: 0.9571 - val_loss: 0.0408 - val_accuracy: 0.8740\n",
            "Epoch 8/10\n",
            "393/393 [==============================] - 131s 333ms/step - loss: 0.0087 - accuracy: 0.9599 - val_loss: 0.0413 - val_accuracy: 0.8755\n",
            "Epoch 9/10\n",
            "393/393 [==============================] - 130s 331ms/step - loss: 0.0080 - accuracy: 0.9631 - val_loss: 0.0401 - val_accuracy: 0.8796\n",
            "Epoch 10/10\n",
            "393/393 [==============================] - 131s 334ms/step - loss: 0.0074 - accuracy: 0.9653 - val_loss: 0.0414 - val_accuracy: 0.8770\n"
          ]
        },
        {
          "output_type": "execute_result",
          "data": {
            "text/plain": [
              "<keras.engine.functional.Functional at 0x7fe619fd8b50>"
            ]
          },
          "metadata": {},
          "execution_count": 60
        }
      ],
      "source": [
        "# Train\n",
        "char_model3.train(train_inputs, train_char_inputs, train_targets, val_inputs, val_char_inputs, val_targets,loss='categorical_crossentropy', opt='adam', metrics=['accuracy'], epochs=10)"
      ]
    },
    {
      "cell_type": "code",
      "execution_count": 61,
      "metadata": {
        "id": "vvEP3LsQLa2D",
        "colab": {
          "base_uri": "https://localhost:8080/"
        },
        "outputId": "6750b740-4b5e-47f7-a32b-cc5437351753"
      },
      "outputs": [
        {
          "output_type": "stream",
          "name": "stdout",
          "text": [
            "65/65 [==============================] - 5s 12ms/step - loss: 0.0386 - accuracy: 0.8794\n",
            "Test loss: 0.03862079977989197\n",
            "Test accuracy: 0.8793735504150391\n"
          ]
        },
        {
          "output_type": "execute_result",
          "data": {
            "text/plain": [
              "[0.03862079977989197, 0.8793735504150391]"
            ]
          },
          "metadata": {},
          "execution_count": 61
        }
      ],
      "source": [
        "#Evaluate\n",
        "char_model3.evaluate(test_inputs, test_char_inputs, test_targets, loss='categorical_crossentropy', opt='adam', metrics=['accuracy'],show=True)"
      ]
    },
    {
      "cell_type": "code",
      "execution_count": 62,
      "metadata": {
        "id": "MAj0NMsbLezx",
        "colab": {
          "base_uri": "https://localhost:8080/"
        },
        "outputId": "71a3e503-37d2-46c1-9b7c-aa11a5cd4697"
      },
      "outputs": [
        {
          "output_type": "stream",
          "name": "stdout",
          "text": [
            "65/65 [==============================] - 3s 10ms/step\n"
          ]
        }
      ],
      "source": [
        "#Predict\n",
        "outputs_char3=char_model3.predict(test_inputs, test_char_inputs)\n",
        "predictions_char3=testdata.decode(outputs_char3,encoder)"
      ]
    },
    {
      "cell_type": "code",
      "execution_count": 63,
      "metadata": {
        "id": "Lpjp8LiiLjqr",
        "colab": {
          "base_uri": "https://localhost:8080/"
        },
        "outputId": "889feda0-631b-42b6-c194-577f8d7dc606"
      },
      "outputs": [
        {
          "output_type": "stream",
          "name": "stdout",
          "text": [
            "['VERB', 'DET', 'NOUN', 'ADP', 'DET', 'PROPN', 'NOUN', 'PUNCT']\n",
            "['NOUN' 'DET' 'NOUN' 'PART' 'DET' 'PROPN' 'NUM' 'PUNCT']\n"
          ]
        }
      ],
      "source": [
        "print(testdata.create_targets()[16])\n",
        "print(predictions_char3[16])"
      ]
    }
  ],
  "metadata": {
    "accelerator": "GPU",
    "colab": {
      "provenance": []
    },
    "gpuClass": "standard",
    "kernelspec": {
      "display_name": "Python 3.9.12 ('base')",
      "language": "python",
      "name": "python3"
    },
    "language_info": {
      "codemirror_mode": {
        "name": "ipython",
        "version": 3
      },
      "file_extension": ".py",
      "mimetype": "text/x-python",
      "name": "python",
      "nbconvert_exporter": "python",
      "pygments_lexer": "ipython3",
      "version": "3.9.12"
    },
    "vscode": {
      "interpreter": {
        "hash": "fa83e29712bcaed18e4a7944a70b61d7ee12cd0725e81e9d8282844082c19a16"
      }
    }
  },
  "nbformat": 4,
  "nbformat_minor": 0
}